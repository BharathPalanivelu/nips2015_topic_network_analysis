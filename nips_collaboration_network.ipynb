{
 "cells": [
  {
   "cell_type": "markdown",
   "metadata": {
    "_uuid": "bf04033f0b722d0da92154981a5c7d0858ee33a3"
   },
   "source": [
    "<font size=5> __Scientific collaboration Network__: Kmeans and visualization </font>"
   ]
  },
  {
   "cell_type": "markdown",
   "metadata": {
    "_uuid": "9db9a0d23f3b2e367046a62dfcfe5e4a0331d6d4"
   },
   "source": [
    "It's known that different scientists have different styles of working, some enjoy mentoring many pupils while others prefer working with fewer. Moreover, even for a given scientist, their pattern of interaction within sceintific community might change during the course of their career. In this kernel, I try to see if I can classifying authors at NIPS'15 based on their collaboraion, number and type of publication.\n",
    "\n",
    "Here is the outline:\n",
    "    1. EDA\n",
    "    2. Network measures\n",
    "    3. KMeans clustering\n",
    "    4. KMeans visualization using PCA for dimensionality reduction\n",
    "    5. Network visualization, using plotly and networkx"
   ]
  },
  {
   "cell_type": "code",
   "execution_count": 1,
   "metadata": {
    "_uuid": "cb0183e426b1d8193f182e9f6bdd00c22d9c1830",
    "collapsed": true
   },
   "outputs": [],
   "source": [
    "import pandas as pd\n",
    "import pickle as pk\n",
    "import numpy as np\n",
    "from scipy import sparse as sp\n",
    "\n",
    "%matplotlib inline\n",
    "import matplotlib as mpl\n",
    "import matplotlib.pyplot as plt\n",
    "import seaborn as sns\n",
    "plt.style.use('seaborn-whitegrid')\n",
    "\n",
    "title_font = {'size':'18', 'color':'black', 'verticalalignment':'bottom',  'fontstyle':'bold'} \n",
    "axis_font = { 'size':'14'}"
   ]
  },
  {
   "cell_type": "code",
   "execution_count": 8,
   "metadata": {
    "_uuid": "c4c931b5fd9e1f7ec5b17bd05d89f802879b75db",
    "collapsed": false
   },
   "outputs": [],
   "source": [
    "#Read all the input files\n",
    "aut_df = pd.read_csv('./nips_data/Authors.csv')\n",
    "p_df = pd.read_csv('./nips_data/Papers.csv')\n",
    "ap_df = pd.read_csv('./nips_data/PaperAuthors.csv')"
   ]
  },
  {
   "cell_type": "code",
   "execution_count": 9,
   "metadata": {
    "_uuid": "bb9acd34e9ba33fc75f2a16103b4d55655fa650a",
    "collapsed": false
   },
   "outputs": [
    {
     "name": "stdout",
     "output_type": "stream",
     "text": [
      "Conference contain 403 paper from 1078 author.\n"
     ]
    }
   ],
   "source": [
    "print('Conference contain %s paper from %s author.'%(len(ap_df.PaperId.unique()), len(ap_df.AuthorId.unique())))"
   ]
  },
  {
   "cell_type": "markdown",
   "metadata": {
    "_uuid": "3f46846fc247dd5bb4405494db3885cab1e579ef"
   },
   "source": [
    "# Let's see what information we have about each paper?"
   ]
  },
  {
   "cell_type": "code",
   "execution_count": 10,
   "metadata": {
    "_uuid": "3c6a32331717b8cac2be5f46b50e272fd0ec5202",
    "collapsed": false
   },
   "outputs": [
    {
     "data": {
      "text/html": [
       "<div>\n",
       "<table border=\"1\" class=\"dataframe\">\n",
       "  <thead>\n",
       "    <tr style=\"text-align: right;\">\n",
       "      <th></th>\n",
       "      <th>Id</th>\n",
       "      <th>Title</th>\n",
       "      <th>EventType</th>\n",
       "      <th>PdfName</th>\n",
       "      <th>Abstract</th>\n",
       "      <th>PaperText</th>\n",
       "    </tr>\n",
       "  </thead>\n",
       "  <tbody>\n",
       "    <tr>\n",
       "      <th>0</th>\n",
       "      <td>5677</td>\n",
       "      <td>Double or Nothing: Multiplicative Incentive Me...</td>\n",
       "      <td>Poster</td>\n",
       "      <td>5677-double-or-nothing-multiplicative-incentiv...</td>\n",
       "      <td>Crowdsourcing has gained immense popularity in...</td>\n",
       "      <td>Double or Nothing: Multiplicative\\nIncentive M...</td>\n",
       "    </tr>\n",
       "    <tr>\n",
       "      <th>1</th>\n",
       "      <td>5941</td>\n",
       "      <td>Learning with Symmetric Label Noise: The Impor...</td>\n",
       "      <td>Spotlight</td>\n",
       "      <td>5941-learning-with-symmetric-label-noise-the-i...</td>\n",
       "      <td>Convex potential minimisation is the de facto ...</td>\n",
       "      <td>Learning with Symmetric Label Noise: The\\nImpo...</td>\n",
       "    </tr>\n",
       "  </tbody>\n",
       "</table>\n",
       "</div>"
      ],
      "text/plain": [
       "     Id                                              Title  EventType  \\\n",
       "0  5677  Double or Nothing: Multiplicative Incentive Me...     Poster   \n",
       "1  5941  Learning with Symmetric Label Noise: The Impor...  Spotlight   \n",
       "\n",
       "                                             PdfName  \\\n",
       "0  5677-double-or-nothing-multiplicative-incentiv...   \n",
       "1  5941-learning-with-symmetric-label-noise-the-i...   \n",
       "\n",
       "                                            Abstract  \\\n",
       "0  Crowdsourcing has gained immense popularity in...   \n",
       "1  Convex potential minimisation is the de facto ...   \n",
       "\n",
       "                                           PaperText  \n",
       "0  Double or Nothing: Multiplicative\\nIncentive M...  \n",
       "1  Learning with Symmetric Label Noise: The\\nImpo...  "
      ]
     },
     "execution_count": 10,
     "metadata": {},
     "output_type": "execute_result"
    }
   ],
   "source": [
    "p_df.head(2)"
   ]
  },
  {
   "cell_type": "markdown",
   "metadata": {
    "_uuid": "0688ba94698a3de62c28713ea80f814cfbe11f1a"
   },
   "source": [
    "The paper dataframe, includes information about different types of accepted papers at NIPS, what's the distribution:"
   ]
  },
  {
   "cell_type": "code",
   "execution_count": 11,
   "metadata": {
    "_uuid": "c9dcd7f52a2dc0c3368be5de1a2d74e97067dcd0",
    "collapsed": false
   },
   "outputs": [
    {
     "data": {
      "image/png": "[encoded data removed]",
      "text/plain": [
       "<matplotlib.figure.Figure at 0x113befd90>"
      ]
     },
     "metadata": {},
     "output_type": "display_data"
    }
   ],
   "source": [
    "plt.figure(figsize=(4,4))\n",
    "p_type= dict(p_df['EventType'].value_counts())\n",
    "labels = list(p_type.keys())\n",
    "sizes = list(p_type.values())\n",
    "\n",
    "plt.pie(sizes, explode=(0.1, 0, 0), labels=labels,\\\n",
    "    autopct='%1.1f%%', shadow=True, startangle=70)\n",
    " \n",
    "plt.axis('equal')\n",
    "plt.show()"
   ]
  },
  {
   "cell_type": "markdown",
   "metadata": {
    "_uuid": "81ad177c02f1eaf608a28e818f8727be9117c079"
   },
   "source": [
    "About 80% of the papers are in the form fo __Posters__."
   ]
  },
  {
   "cell_type": "markdown",
   "metadata": {
    "_uuid": "dfcd9d7632c84247dce1f2a5ce38ef75ed408b73"
   },
   "source": [
    " ## Number of publications per author"
   ]
  },
  {
   "cell_type": "code",
   "execution_count": 12,
   "metadata": {
    "_uuid": "7992d053b64b3164fad3aae2a9ad57e3d225b553",
    "collapsed": false
   },
   "outputs": [
    {
     "data": {
      "image/png": "[encoded data removed]",
      "text/plain": [
       "<matplotlib.figure.Figure at 0x10f411250>"
      ]
     },
     "metadata": {},
     "output_type": "display_data"
    }
   ],
   "source": [
    "plt.figure(figsize=(6,3))\n",
    "mpl.rcParams['axes.linewidth'] = 2 #set the value globally\n",
    "mpl.rcParams['axes.edgecolor'] = 'k'\n",
    "mpl.rcParams['axes.spines.top'] = False\n",
    "mpl.rcParams['axes.spines.right'] = False\n",
    "\n",
    "aut_pap_cnt = dict(ap_df['AuthorId'].value_counts())\n",
    "\n",
    "xmin = min(aut_pap_cnt.values())\n",
    "xmax = max(aut_pap_cnt.values())\n",
    "bins = (xmax-xmin)\n",
    "plt.xlim(xmin-1, xmax+1)\n",
    "\n",
    "ax = plt.hist(list(aut_pap_cnt.values()), bins=bins, log=1, width=0.95, color='r', edgecolor='none', alpha=0.8 );\n",
    "# [i.set_linewidth(0.1) for i in ax.spines.itervalues()]\n",
    "\n",
    "plt.xlabel('# Papers per author', **axis_font)\n",
    "plt.ylabel('# Authors ', **axis_font)\n",
    "\n",
    "plt.grid(0)\n",
    "plt.show()\n"
   ]
  },
  {
   "cell_type": "markdown",
   "metadata": {
    "_uuid": "38256094d125d53f158752404be2d39972ff63a4"
   },
   "source": [
    "To explore different patterns that scientist follow in this dataset, we will start by looking at the number and different kinds of publications per author. "
   ]
  },
  {
   "cell_type": "code",
   "execution_count": 13,
   "metadata": {
    "_uuid": "b841e97b08ecd6239ae7f55c1abcdf1bc88e6e8f",
    "collapsed": false
   },
   "outputs": [],
   "source": [
    "ptype_df = p_df[['Id', 'EventType']] \n",
    "ptype_df = ptype_df.join(pd.get_dummies(ptype_df['EventType']), how='outer')\n",
    "ap_df = ap_df.merge(ptype_df.rename(columns={'Id':'PaperId'}), on='PaperId').drop('Id', axis =1)"
   ]
  },
  {
   "cell_type": "code",
   "execution_count": 14,
   "metadata": {
    "_uuid": "e70236079e605dc5700907d5b39b2bdb86427341",
    "collapsed": false
   },
   "outputs": [],
   "source": [
    "nip_df = ap_df.copy()\n",
    "nip_df.drop('EventType', axis=1, inplace=True)"
   ]
  },
  {
   "cell_type": "code",
   "execution_count": 15,
   "metadata": {
    "_uuid": "a9807e205cce6bfcf2b504242e380e7a2f6ca390",
    "collapsed": false
   },
   "outputs": [],
   "source": [
    "nip_df = nip_df.groupby('AuthorId').sum().reset_index()\n",
    "nip_df['Total_Publications'] = nip_df['Oral']+nip_df['Poster']+nip_df['Spotlight']\n",
    "\n",
    "for i in 'Oral','Poster', 'Spotlight':\n",
    "    nip_df[i+'_ratio'] = nip_df[i]/nip_df['Total_Publications']"
   ]
  },
  {
   "cell_type": "code",
   "execution_count": 16,
   "metadata": {
    "_uuid": "d92adef0bcfedd5434c0a30a1a9be5c4faa4246b",
    "collapsed": false
   },
   "outputs": [
    {
     "data": {
      "text/html": [
       "<div>\n",
       "<table border=\"1\" class=\"dataframe\">\n",
       "  <thead>\n",
       "    <tr style=\"text-align: right;\">\n",
       "      <th></th>\n",
       "      <th>AuthorId</th>\n",
       "      <th>PaperId</th>\n",
       "      <th>Oral</th>\n",
       "      <th>Poster</th>\n",
       "      <th>Spotlight</th>\n",
       "      <th>Total_Publications</th>\n",
       "      <th>Oral_ratio</th>\n",
       "      <th>Poster_ratio</th>\n",
       "      <th>Spotlight_ratio</th>\n",
       "    </tr>\n",
       "  </thead>\n",
       "  <tbody>\n",
       "    <tr>\n",
       "      <th>0</th>\n",
       "      <td>178</td>\n",
       "      <td>23017</td>\n",
       "      <td>0.0</td>\n",
       "      <td>2.0</td>\n",
       "      <td>2.0</td>\n",
       "      <td>4.0</td>\n",
       "      <td>0.0</td>\n",
       "      <td>0.500000</td>\n",
       "      <td>0.500000</td>\n",
       "    </tr>\n",
       "    <tr>\n",
       "      <th>1</th>\n",
       "      <td>200</td>\n",
       "      <td>17494</td>\n",
       "      <td>0.0</td>\n",
       "      <td>2.0</td>\n",
       "      <td>1.0</td>\n",
       "      <td>3.0</td>\n",
       "      <td>0.0</td>\n",
       "      <td>0.666667</td>\n",
       "      <td>0.333333</td>\n",
       "    </tr>\n",
       "  </tbody>\n",
       "</table>\n",
       "</div>"
      ],
      "text/plain": [
       "   AuthorId  PaperId  Oral  Poster  Spotlight  Total_Publications  Oral_ratio  \\\n",
       "0       178    23017   0.0     2.0        2.0                 4.0         0.0   \n",
       "1       200    17494   0.0     2.0        1.0                 3.0         0.0   \n",
       "\n",
       "   Poster_ratio  Spotlight_ratio  \n",
       "0      0.500000         0.500000  \n",
       "1      0.666667         0.333333  "
      ]
     },
     "execution_count": 16,
     "metadata": {},
     "output_type": "execute_result"
    }
   ],
   "source": [
    "''' Now the dataframe looks like:'''\n",
    "nip_df.head(2)"
   ]
  },
  {
   "cell_type": "markdown",
   "metadata": {
    "_uuid": "b877e599181e34492ca5d61f0e1bb6db3fbcc400"
   },
   "source": [
    "# Network analysis"
   ]
  },
  {
   "cell_type": "markdown",
   "metadata": {
    "_uuid": "f5ecfc4d15a515b55ffcc1e02fc977e67dfa29a9"
   },
   "source": [
    "    1. To construct the author-author interaction network, we start by the bipartite graph of author-papers."
   ]
  },
  {
   "cell_type": "code",
   "execution_count": 17,
   "metadata": {
    "_uuid": "007bd47fadd02cce7485c3e4c4a069e8d51f0a3a",
    "collapsed": true
   },
   "outputs": [],
   "source": [
    "''' First need to map both author and paper ids to start\n",
    "    from zero so that we can store them in a numpy array. '''\n",
    "\n",
    "int_pid = dict(enumerate(list(ap_df.PaperId.unique())))\n",
    "int_aid = dict(enumerate(list(ap_df.AuthorId.unique())))\n",
    "\n",
    "pid_intid = {v:k for k,v in int_pid.items()}\n",
    "aid_intid = {v:k for k,v in int_aid.items()}"
   ]
  },
  {
   "cell_type": "code",
   "execution_count": 18,
   "metadata": {
    "_uuid": "f11ab67eb53998655c6740cfbd3fb81a7741ad8a",
    "collapsed": true
   },
   "outputs": [],
   "source": [
    "ap_tuples = list(zip(ap_df.AuthorId, ap_df.PaperId))\n",
    "ap_int_tups =  [(aid_intid[i[0]], pid_intid[i[1]]) for i in ap_tuples]\n",
    "''' AP: matrix of author-paper, AP[i, j]=1 indicates that author i has published paper j '''\n",
    "AP = sp.csc_matrix((np.ones(len(ap_int_tups)), zip(*ap_int_tups)))"
   ]
  },
  {
   "cell_type": "code",
   "execution_count": 19,
   "metadata": {
    "_uuid": "ebdce2a8e28eefe42a81ca0b4eee9dff18a83857",
    "collapsed": true
   },
   "outputs": [],
   "source": [
    "''' AA: the author-author matrix, \n",
    "    AA[i, j]=1 indicates that author i has published a paper with author j '''\n",
    "\n",
    "AA = AP.dot(AP.T)"
   ]
  },
  {
   "cell_type": "code",
   "execution_count": 20,
   "metadata": {
    "_uuid": "725e1740113e3e2844b59f564839aaa4c82ae4eb",
    "collapsed": false
   },
   "outputs": [
    {
     "name": "stdout",
     "output_type": "stream",
     "text": [
      "Only 0.0039% of potential author-author connections exists.\n"
     ]
    }
   ],
   "source": [
    "print(\"Only {:.4%} of potential author-author connections exists.\".format(0.01*len(AA.nonzero()[1])/float(AA.shape[0]**2)))"
   ]
  },
  {
   "cell_type": "markdown",
   "metadata": {
    "_uuid": "0d1c2b443202f9f99dc50dacfe4a85fa5b3a4af7"
   },
   "source": [
    "    2. Converting the numpy 2d array to network, using python's Networkx module as follow:"
   ]
  },
  {
   "cell_type": "code",
   "execution_count": 21,
   "metadata": {
    "_uuid": "d0daca86ce5bd3ac4ead02dc09dd747d4b45986a",
    "collapsed": true
   },
   "outputs": [],
   "source": [
    "import networkx as nx\n",
    "\n",
    "'Remove self-loops'\n",
    "AA = np.array(AA - np.diag(AA.diagonal()))\n",
    "\n",
    "'Weighted graph'\n",
    "G = nx.from_numpy_matrix(AA, parallel_edges=True)\n"
   ]
  },
  {
   "cell_type": "markdown",
   "metadata": {
    "_uuid": "fc43271192fd19dd75ee9f019cc8c356b67ffdbd"
   },
   "source": [
    "    3. Compute network centrality measures to add to authors dataframe ..."
   ]
  },
  {
   "cell_type": "code",
   "execution_count": 22,
   "metadata": {
    "_uuid": "47a71073ff14bc96a91c56e77660ea28eeb54438",
    "collapsed": true
   },
   "outputs": [],
   "source": [
    "'''number of co-authors per member '''\n",
    "node_deg = nx.degree(G) \n",
    "\n",
    "'''normalized number of co-authors ( with what fraction of NIPS authors he wrote a paper) '''\n",
    "deg_cent = nx.degree_centrality(G) \n",
    "\n",
    "'''fraction of the number of times the author appears on the path connecting two other authors '''\n",
    "bet_cent = nx.betweenness_centrality(G)"
   ]
  },
  {
   "cell_type": "code",
   "execution_count": 23,
   "metadata": {
    "_uuid": "4a775f0da4c6488fab342bd0af88d51a6b35a20c",
    "collapsed": true
   },
   "outputs": [],
   "source": [
    "nip_df['Degree'] = nip_df['AuthorId'].apply(lambda l: node_deg[aid_intid.get(l)])\n",
    "nip_df['Deg_Cent'] = nip_df['AuthorId'].apply(lambda l: deg_cent[aid_intid.get(l)])\n",
    "nip_df['Betweenness'] = nip_df['AuthorId'].apply(lambda l: bet_cent.get(aid_intid.get(l)))"
   ]
  },
  {
   "cell_type": "code",
   "execution_count": 24,
   "metadata": {
    "_uuid": "779ef48695fa6e978a0a752866144f7d31979f5f",
    "collapsed": true
   },
   "outputs": [],
   "source": [
    "# Rescaling the betweenness measure\n",
    "nip_df['Bet_Norm'] = nip_df['Betweenness'].apply(lambda l: np.arcsinh(l+1e-6))"
   ]
  },
  {
   "cell_type": "code",
   "execution_count": 25,
   "metadata": {
    "_uuid": "f23b8d33654e6874ed854cbd7cadc40402a1dffe",
    "collapsed": false
   },
   "outputs": [
    {
     "data": {
      "text/html": [
       "<div>\n",
       "<table border=\"1\" class=\"dataframe\">\n",
       "  <thead>\n",
       "    <tr style=\"text-align: right;\">\n",
       "      <th></th>\n",
       "      <th>AuthorId</th>\n",
       "      <th>PaperId</th>\n",
       "      <th>Oral</th>\n",
       "      <th>Poster</th>\n",
       "      <th>Spotlight</th>\n",
       "      <th>Total_Publications</th>\n",
       "      <th>Oral_ratio</th>\n",
       "      <th>Poster_ratio</th>\n",
       "      <th>Spotlight_ratio</th>\n",
       "      <th>Degree</th>\n",
       "      <th>Deg_Cent</th>\n",
       "      <th>Betweenness</th>\n",
       "      <th>Bet_Norm</th>\n",
       "    </tr>\n",
       "  </thead>\n",
       "  <tbody>\n",
       "    <tr>\n",
       "      <th>0</th>\n",
       "      <td>178</td>\n",
       "      <td>23017</td>\n",
       "      <td>0.0</td>\n",
       "      <td>2.0</td>\n",
       "      <td>2.0</td>\n",
       "      <td>4.0</td>\n",
       "      <td>0.0</td>\n",
       "      <td>0.500000</td>\n",
       "      <td>0.500000</td>\n",
       "      <td>13</td>\n",
       "      <td>0.012071</td>\n",
       "      <td>0.000104</td>\n",
       "      <td>0.000105</td>\n",
       "    </tr>\n",
       "    <tr>\n",
       "      <th>1</th>\n",
       "      <td>200</td>\n",
       "      <td>17494</td>\n",
       "      <td>0.0</td>\n",
       "      <td>2.0</td>\n",
       "      <td>1.0</td>\n",
       "      <td>3.0</td>\n",
       "      <td>0.0</td>\n",
       "      <td>0.666667</td>\n",
       "      <td>0.333333</td>\n",
       "      <td>6</td>\n",
       "      <td>0.005571</td>\n",
       "      <td>0.000290</td>\n",
       "      <td>0.000291</td>\n",
       "    </tr>\n",
       "  </tbody>\n",
       "</table>\n",
       "</div>"
      ],
      "text/plain": [
       "   AuthorId  PaperId  Oral  Poster  Spotlight  Total_Publications  Oral_ratio  \\\n",
       "0       178    23017   0.0     2.0        2.0                 4.0         0.0   \n",
       "1       200    17494   0.0     2.0        1.0                 3.0         0.0   \n",
       "\n",
       "   Poster_ratio  Spotlight_ratio  Degree  Deg_Cent  Betweenness  Bet_Norm  \n",
       "0      0.500000         0.500000      13  0.012071     0.000104  0.000105  \n",
       "1      0.666667         0.333333       6  0.005571     0.000290  0.000291  "
      ]
     },
     "execution_count": 25,
     "metadata": {},
     "output_type": "execute_result"
    }
   ],
   "source": [
    "nip_df.head(2)"
   ]
  },
  {
   "cell_type": "markdown",
   "metadata": {
    "_uuid": "72fac7a3deed14fa7dd3b1380370bb1e9070fe4d"
   },
   "source": [
    "# Study the correlation of citation and other features"
   ]
  },
  {
   "cell_type": "code",
   "execution_count": 26,
   "metadata": {
    "_uuid": "a9b15d027c72a79de306aea1bfc4b3b9c288814a",
    "collapsed": false
   },
   "outputs": [
    {
     "data": {
      "image/png": "[encoded data removed]",
      "text/plain": [
       "<matplotlib.figure.Figure at 0x11466bb50>"
      ]
     },
     "metadata": {},
     "output_type": "display_data"
    }
   ],
   "source": [
    "import seaborn as sns\n",
    "sns.set(style=\"white\", font_scale=1.2)\n",
    "\n",
    "cols = ['Oral_ratio', 'Poster_ratio', 'Total_Publications',\n",
    "       'Spotlight_ratio', 'Degree', 'Deg_Cent', 'Betweenness', 'Bet_Norm']\n",
    "corr_z = nip_df[cols].corr()\n",
    "\n",
    "# Generate a mask for the upper triangle\n",
    "mask = np.zeros_like(corr_z, dtype=np.bool)\n",
    "mask[np.triu_indices_from(mask, k=1)] = True\n",
    "\n",
    "f, ax = plt.subplots(figsize=(8, 8))\n",
    "\n",
    "cmap = sns.diverging_palette(240, 11, as_cmap=True)\n",
    "\n",
    "g = sns.heatmap(corr_z, mask=mask, cmap=cmap, vmax=1,\n",
    "            square=True, annot=True, fmt = '.2f',\n",
    "            linewidths=.5, cbar_kws={\"shrink\": .8}, ax=ax, )\n",
    "\n",
    "locs, labels = plt.yticks();\n",
    "g.set_yticklabels(labels, rotation=0, size='medium');\n",
    "locs, labels = plt.xticks();\n",
    "g.set_xticklabels(labels, rotation=90, size='medium');"
   ]
  },
  {
   "cell_type": "markdown",
   "metadata": {
    "_uuid": "d6b9288972bffcc4632ccae859d6908f56f1958d"
   },
   "source": [
    "What do we see?\n",
    "    1. Strong positive correlation between all the centrality measures and the total number of publications. This seems intuitve, since the more publications you have, there are more chance for collaboration ( thus higher degree) and also more likely to be the common co-author of two other scientists.\n",
    "    \n",
    "    2. Both **Spotlight** and **Oral** have a negative correlation with the number of **Posters**. The more poster one has (mostly presented by Junior students), its less likely that they have a spotlight/oral too. "
   ]
  },
  {
   "cell_type": "markdown",
   "metadata": {
    "_uuid": "81c4bafa13a70119a0f915e65e796bee1a980c61"
   },
   "source": [
    "# Classifying authors:\n",
    "    The above observation, of negative correlation between the number posters and spotlight/Oral, suggests different trends of behavior amongst scientists publishing at NIPS. Next we try to see if we can seperate authors into different classes."
   ]
  },
  {
   "cell_type": "code",
   "execution_count": 27,
   "metadata": {
    "_uuid": "bc1f9d2fe7c36900cc38a773e301b35f2897315c",
    "collapsed": true
   },
   "outputs": [],
   "source": [
    "from sklearn.preprocessing import StandardScaler\n",
    "\n",
    "nip_df['NonPos_ratio'] = nip_df['Oral_ratio']+nip_df['Spotlight_ratio']\n",
    "\n",
    "X = nip_df[['Oral','Poster', 'Spotlight', 'Total_Publications',\\\n",
    "            'Oral_ratio', 'Poster_ratio', 'Spotlight_ratio', 'NonPos_ratio',\\\n",
    "            'Degree', 'Deg_Cent', 'Betweenness', 'Bet_Norm']]\n",
    "\n",
    "stdsc = StandardScaler()\n",
    "X_std = stdsc.fit_transform(X)"
   ]
  },
  {
   "cell_type": "markdown",
   "metadata": {
    "_uuid": "debd696841589d4672563e76c2e2b3dafa797713"
   },
   "source": [
    "# K-means\n",
    "** Inertia vs. # of clusters**"
   ]
  },
  {
   "cell_type": "markdown",
   "metadata": {
    "_uuid": "31f9738842a9067743303cebe3727bf497a8cff1"
   },
   "source": [
    "\n",
    "Since we don't know apriori how many classes of athors we should expect (unsupervised classification), we need to find a way to get an estimate. Here I use Inertia vs. # of clusters"
   ]
  },
  {
   "cell_type": "code",
   "execution_count": 28,
   "metadata": {
    "_uuid": "664034c99ab3283de55ad1a8f28c951b82e58573",
    "collapsed": false
   },
   "outputs": [
    {
     "data": {
      "image/png": "[encoded data removed]",
      "text/plain": [
       "<matplotlib.figure.Figure at 0x114672150>"
      ]
     },
     "metadata": {},
     "output_type": "display_data"
    }
   ],
   "source": [
    "%matplotlib inline\n",
    "mpl.rcParams['axes.linewidth'] = 2 \n",
    "mpl.rcParams['axes.edgecolor'] = 'k'\n",
    "from sklearn.cluster import KMeans\n",
    "fig = plt.figure(figsize=(6,4))\n",
    "\n",
    "x1 = []\n",
    "y1 = []\n",
    "for n in range(2,11):\n",
    "    km = KMeans(n_clusters=n, random_state=7)\n",
    "    km.fit(X_std)\n",
    "    x1.append(n)\n",
    "    y1.append(km.inertia_)\n",
    "    \n",
    "ax = plt.plot(x1, y1, marker='o', markersize=10);\n",
    "\n",
    "plt.xlim([0,11])\n",
    "plt.xlabel('# clusters', **axis_font)\n",
    "plt.ylabel('# inertia', **axis_font)\n",
    "plt.show()"
   ]
  },
  {
   "cell_type": "code",
   "execution_count": 29,
   "metadata": {
    "_uuid": "7833edd21e28884976d351c4a1a11d93f4bf0ca4",
    "collapsed": true
   },
   "outputs": [],
   "source": [
    "''' Using the elbow method, we choose 4 clusters for our classifier. '''\n",
    "n_cluster = 4"
   ]
  },
  {
   "cell_type": "markdown",
   "metadata": {
    "_uuid": "13a53ed334f48cdbc4b8258b3edb8d7ff2077c6b"
   },
   "source": [
    "# Classification visualization:\n",
    " \n",
    "In order to visualize different classes, we need to reduce the dimension from 12 to either 2, 3. I use PCA to find the number of components that are sufficeint to explain the variation in the data. "
   ]
  },
  {
   "cell_type": "code",
   "execution_count": 30,
   "metadata": {
    "_uuid": "1db2ba7f630c34198d68519495b12f35d129b4c0",
    "collapsed": false
   },
   "outputs": [
    {
     "data": {
      "image/png": "[encoded data removed]",
      "text/plain": [
       "<matplotlib.figure.Figure at 0x1161bb510>"
      ]
     },
     "metadata": {},
     "output_type": "display_data"
    }
   ],
   "source": [
    "from sklearn.decomposition import PCA\n",
    "\n",
    "total_pca = PCA().fit(X_std)\n",
    "\n",
    "ax = plt.plot(total_pca.explained_variance_ratio_.cumsum(), '--o')\n",
    "\n",
    "plt.xlabel('Component', **axis_font)\n",
    "plt.ylabel('Variance', **axis_font)\n",
    "plt.ylim([0,1.1])\n",
    "plt.show()"
   ]
  },
  {
   "cell_type": "code",
   "execution_count": 31,
   "metadata": {
    "_uuid": "bfea83dd9a1c5981118a570c9cf116c59a2ac1bf",
    "collapsed": true
   },
   "outputs": [],
   "source": [
    "''' From the plot above 5 components seems to be enough to explain the variation.'''\n",
    "n_pca = 5"
   ]
  },
  {
   "cell_type": "code",
   "execution_count": 32,
   "metadata": {
    "_uuid": "4eb6efd48db465f21d05dac0f1144ad81f8ef65a",
    "collapsed": false
   },
   "outputs": [
    {
     "name": "stdout",
     "output_type": "stream",
     "text": [
      "(1078, 5)\n"
     ]
    }
   ],
   "source": [
    "# from sklearn.decomposition import PCA as sklearnPCA\n",
    "sklearn_pca = PCA(n_components=n_pca)\n",
    "X_pca = sklearn_pca.fit_transform(X_std)\n",
    "\n",
    "print(X_pca.shape)"
   ]
  },
  {
   "cell_type": "code",
   "execution_count": 33,
   "metadata": {
    "_uuid": "237322cec94a535f9670d5df367b4d680da5253c",
    "collapsed": false
   },
   "outputs": [
    {
     "name": "stdout",
     "output_type": "stream",
     "text": [
      "explained variance ratio (first 5 components): 0.989131678577\n"
     ]
    }
   ],
   "source": [
    "print('explained variance ratio (first %s components): %s'\n",
    "      %(n_pca, str(sklearn_pca.explained_variance_ratio_.cumsum()[n_pca-1])))"
   ]
  },
  {
   "cell_type": "code",
   "execution_count": 34,
   "metadata": {
    "_uuid": "002106b9bd849705c39992eb06dfdbdf415c6977",
    "collapsed": false
   },
   "outputs": [
    {
     "data": {
      "text/html": [
       "<div>\n",
       "<table border=\"1\" class=\"dataframe\">\n",
       "  <thead>\n",
       "    <tr style=\"text-align: right;\">\n",
       "      <th></th>\n",
       "      <th>Oral_ratio</th>\n",
       "      <th>Poster_ratio</th>\n",
       "      <th>Spotlight_ratio</th>\n",
       "      <th>NonPos_ratio</th>\n",
       "      <th>Total_Publications</th>\n",
       "      <th>Degree</th>\n",
       "      <th>Deg_Cent</th>\n",
       "      <th>Bet_Norm</th>\n",
       "    </tr>\n",
       "    <tr>\n",
       "      <th>Cluster</th>\n",
       "      <th></th>\n",
       "      <th></th>\n",
       "      <th></th>\n",
       "      <th></th>\n",
       "      <th></th>\n",
       "      <th></th>\n",
       "      <th></th>\n",
       "      <th></th>\n",
       "    </tr>\n",
       "  </thead>\n",
       "  <tbody>\n",
       "    <tr>\n",
       "      <th>0</th>\n",
       "      <td>0.000000</td>\n",
       "      <td>0.998770</td>\n",
       "      <td>0.001230</td>\n",
       "      <td>0.001230</td>\n",
       "      <td>1.113161</td>\n",
       "      <td>3.079951</td>\n",
       "      <td>0.002860</td>\n",
       "      <td>0.000003</td>\n",
       "    </tr>\n",
       "    <tr>\n",
       "      <th>1</th>\n",
       "      <td>0.000000</td>\n",
       "      <td>0.103578</td>\n",
       "      <td>0.896422</td>\n",
       "      <td>0.896422</td>\n",
       "      <td>1.220339</td>\n",
       "      <td>2.807910</td>\n",
       "      <td>0.002607</td>\n",
       "      <td>0.000006</td>\n",
       "    </tr>\n",
       "    <tr>\n",
       "      <th>2</th>\n",
       "      <td>0.051894</td>\n",
       "      <td>0.752597</td>\n",
       "      <td>0.195509</td>\n",
       "      <td>0.247403</td>\n",
       "      <td>3.363636</td>\n",
       "      <td>8.113636</td>\n",
       "      <td>0.007534</td>\n",
       "      <td>0.000251</td>\n",
       "    </tr>\n",
       "    <tr>\n",
       "      <th>3</th>\n",
       "      <td>0.909091</td>\n",
       "      <td>0.079545</td>\n",
       "      <td>0.011364</td>\n",
       "      <td>0.920455</td>\n",
       "      <td>1.181818</td>\n",
       "      <td>3.181818</td>\n",
       "      <td>0.002954</td>\n",
       "      <td>0.000005</td>\n",
       "    </tr>\n",
       "  </tbody>\n",
       "</table>\n",
       "</div>"
      ],
      "text/plain": [
       "         Oral_ratio  Poster_ratio  Spotlight_ratio  NonPos_ratio  \\\n",
       "Cluster                                                            \n",
       "0          0.000000      0.998770         0.001230      0.001230   \n",
       "1          0.000000      0.103578         0.896422      0.896422   \n",
       "2          0.051894      0.752597         0.195509      0.247403   \n",
       "3          0.909091      0.079545         0.011364      0.920455   \n",
       "\n",
       "         Total_Publications    Degree  Deg_Cent  Bet_Norm  \n",
       "Cluster                                                    \n",
       "0                  1.113161  3.079951  0.002860  0.000003  \n",
       "1                  1.220339  2.807910  0.002607  0.000006  \n",
       "2                  3.363636  8.113636  0.007534  0.000251  \n",
       "3                  1.181818  3.181818  0.002954  0.000005  "
      ]
     },
     "execution_count": 34,
     "metadata": {},
     "output_type": "execute_result"
    }
   ],
   "source": [
    "X2 = nip_df[['Oral_ratio', 'Poster_ratio', 'Spotlight_ratio', 'NonPos_ratio',\\\n",
    "            'Total_Publications', 'Degree','Deg_Cent', 'Bet_Norm']]\n",
    "\n",
    "km = KMeans(n_clusters=n_cluster, n_init=10, random_state=7)\n",
    "# km.fit(X2_std);\n",
    "km.fit(X_pca);\n",
    "\n",
    "X2.is_copy = False\n",
    "X2['Cluster'] = km.labels_\n",
    "X2['Cluster'] = X2['Cluster'].astype(np.int0)\n",
    "\n",
    "cls_means = X2.groupby('Cluster').mean()\n",
    "cls_means"
   ]
  },
  {
   "cell_type": "markdown",
   "metadata": {
    "_uuid": "afb81271ad14d8f143a6b4f0d9dc6029250ada21"
   },
   "source": [
    "## We observe 3 different patterns of behaviors:\n",
    "    \n",
    "    1. 'Junior students': First cluster includes authors who mostly present a poster, corresponding to PhD students. They're connected to other scientist(mentors and colleagues), explained by their degree>1, they are rarely the bridge that connects two not-connected scientists, demonstrated as the small betweenness centrality. \n",
    "    \n",
    "    2. 'Senior Grad': Authors in the 2nd cluster, has a high fraction of Spotlight yet they have published posters too. I'm speculating these to be the senior gradudate students in the field, they publish fewer number of papers and most of them are spotlight presentation.\n",
    "    \n",
    "    3. 'Junior Faculty': Authors in this cluser, are the most connected ones. They have a high fraction of posters yet they've published Spotlight and oral papers too. We associate these group to junior faculty, they produce a relatively hight impact research, while mainting a large connectivity to others (mentees and collaborators). They also have the highest betweenness centrality.\n",
    "    \n",
    "    4. 'Senior Faculty': This last group has only spotlight presentations and the smallest fraction for poster presentations. Suggesting to be, senior faculties who don't have very many junior (poster writing) collaborators."
   ]
  },
  {
   "cell_type": "markdown",
   "metadata": {
    "_uuid": "b459540cbb2f2304772e1fc7487a1f8c4333e5ad"
   },
   "source": [
    "** Classifying authors:**  \n",
    "The above observation, of negative correlation between the number posters and spotlight/Oral, suggests different trends of behavior amongst scientists publishing at NIPS. Next we try to see if we can seperate authors into different classes."
   ]
  },
  {
   "cell_type": "code",
   "execution_count": 35,
   "metadata": {
    "_uuid": "faf4a96bc651c51d347c370c0d9dca60abec9d7d",
    "collapsed": true
   },
   "outputs": [],
   "source": [
    "cls_name ={0: 'Junior students', 1: 'Senior Grad', 2: 'Junior Faculty', 3: 'Senior Faculty'}"
   ]
  },
  {
   "cell_type": "code",
   "execution_count": 36,
   "metadata": {
    "_uuid": "ed5562d2586398d9caa03356dcbbee666a00b7c0",
    "collapsed": true
   },
   "outputs": [],
   "source": [
    "X2['Cluster_Names'] = X2['Cluster'].apply(lambda l: cls_name[l])"
   ]
  },
  {
   "cell_type": "code",
   "execution_count": 37,
   "metadata": {
    "_uuid": "8fc0c069e416a957f1bf6ba65a4d808d2c67d16b",
    "collapsed": true
   },
   "outputs": [],
   "source": [
    "y = X2['Cluster']\n",
    "target_names = X2['Cluster_Names'].unique()"
   ]
  },
  {
   "cell_type": "markdown",
   "metadata": {
    "_uuid": "13ce77fa4c7f75e8e41bfb5fce2d9444cb0b4e8b"
   },
   "source": [
    "We can look at the distribution of different features per cluster."
   ]
  },
  {
   "cell_type": "code",
   "execution_count": 38,
   "metadata": {
    "_uuid": "61ad131a01c8144fbddb0e07725ed0932fbf08ca",
    "collapsed": false
   },
   "outputs": [
    {
     "data": {
      "image/png": "[encoded data removed]",
      "text/plain": [
       "<matplotlib.figure.Figure at 0x1177dcd50>"
      ]
     },
     "metadata": {},
     "output_type": "display_data"
    }
   ],
   "source": [
    "X.is_copy = False\n",
    "X['Cluster'] = X2['Cluster']\n",
    "X['Cluster_Names'] = X2['Cluster_Names']\n",
    "\n",
    "fig = plt.figure(figsize=(15,3))\n",
    "plt.subplot(131)\n",
    "vals = {}\n",
    "xmin, xmax = X['Poster'].min(), X['Poster'].max()\n",
    "bins = np.linspace(xmin, xmax, 5)\n",
    "\n",
    "for i in range(n_cluster):\n",
    "    vals[i] = X[X['Cluster']==i]['Poster'].tolist()\n",
    "    \n",
    "plt.hist([vals[i] for i in range(n_cluster)], bins, alpha = 0.6, log=1,\\\n",
    "     color=['g', 'b', 'r', 'grey'], label= [t for t in target_names])\n",
    "plt.xlabel('# Posters', **axis_font)\n",
    "plt.ylabel('# Scientists', **axis_font)\n",
    "plt.title('Distribution of posters per cluster')\n",
    "plt.grid(0)\n",
    "plt.subplot(132)\n",
    "\n",
    "vals = {}\n",
    "xmin, xmax = X['Spotlight'].min(), X['Spotlight'].max()\n",
    "bins = np.linspace(xmin, xmax, 5)\n",
    "\n",
    "for i in range(n_cluster):\n",
    "    vals[i] = X[X['Cluster']==i]['Spotlight'].tolist()\n",
    "    \n",
    "plt.hist([vals[i] for i in range(n_cluster)], bins, alpha = 0.6, log=1,\\\n",
    "     color=['g', 'b', 'r', 'grey'])#, label=['Cluster 0', 'Cluster 1', 'Cluster 2', 'Cluster 3'])\n",
    "\n",
    "plt.xlabel('# Spotlight', **axis_font)\n",
    "plt.ylabel('# Scientists', **axis_font)\n",
    "plt.title('Distribution of Spotlight per cluster')\n",
    "plt.grid(0)\n",
    "\n",
    "plt.subplot(133)\n",
    "\n",
    "vals = {}\n",
    "xmin, xmax = X['Oral'].min(), X['Oral'].max()\n",
    "bins = np.linspace(xmin, xmax, 7)\n",
    "\n",
    "for i in range(n_cluster):\n",
    "    vals[i] = X[X['Cluster']==i]['Oral'].tolist()\n",
    "    \n",
    "plt.hist([vals[i] for i in range(n_cluster)], bins, alpha = 0.6, log=1,\\\n",
    "     color=['g', 'b', 'r', 'grey'], label= [t for t in target_names])\n",
    "\n",
    "plt.xlabel('# Oral', **axis_font)\n",
    "plt.ylabel('# Scientists', **axis_font)\n",
    "plt.title('Distribution of Oral per cluster')\n",
    "\n",
    "\n",
    "plt.legend(loc='best');\n",
    "plt.grid(0)\n",
    "plt.show()\n"
   ]
  },
  {
   "cell_type": "code",
   "execution_count": 39,
   "metadata": {
    "_uuid": "5097a8ef67392b5718ace608fe740232b3f69315",
    "collapsed": false
   },
   "outputs": [
    {
     "data": {
      "image/png": "[encoded data removed]",
      "text/plain": [
       "<matplotlib.figure.Figure at 0x1177ab1d0>"
      ]
     },
     "metadata": {},
     "output_type": "display_data"
    }
   ],
   "source": [
    "fig = plt.figure(figsize=(6,4))\n",
    "\n",
    "vals = {}\n",
    "xmin, xmax = X['Degree'].min(), X['Degree'].max()\n",
    "bins = np.linspace(xmin, xmax, 7)\n",
    "colors=['g', 'b', 'r']\n",
    "\n",
    "for i in range(n_cluster):\n",
    "    vals[i] = X[X['Cluster']==i]['Degree'].tolist()\n",
    "\n",
    "plt.hist([vals[i] for i in range(n_cluster)], bins, alpha = 0.6, log=1,\\\n",
    "     color=['g', 'b', 'r', 'grey'], label= [t for t in target_names])\n",
    "plt.legend(loc='best');\n",
    "plt.xlabel('# Co-authors', **axis_font)\n",
    "plt.ylabel('# Scientists', **axis_font)\n",
    "plt.title('Distribution of Co-authors per cluster')\n",
    "\n",
    "\n",
    "plt.grid(0)"
   ]
  },
  {
   "cell_type": "markdown",
   "metadata": {
    "_uuid": "b8f188bc55361108ca86a3087c1fa9d54afe52f0"
   },
   "source": [
    "### PCA for dimensionality reduction and visualiztion:"
   ]
  },
  {
   "cell_type": "code",
   "execution_count": 40,
   "metadata": {
    "_uuid": "c04f940fde49938716d2df50cd6a5e0262a0c382",
    "collapsed": false
   },
   "outputs": [
    {
     "data": {
      "image/png": "[encoded data removed]",
      "text/plain": [
       "<matplotlib.figure.Figure at 0x1161bb750>"
      ]
     },
     "metadata": {},
     "output_type": "display_data"
    }
   ],
   "source": [
    "%matplotlib inline\n",
    "\n",
    "plt.figure()\n",
    "colors = ['navy', 'turquoise', 'darkorange', 'red']\n",
    "\n",
    "for color, i, target_name in zip(colors, range(n_cluster), target_names):\n",
    "    plt.scatter(X_pca[y == i, 1], X_pca[y == i, 0], color=color, alpha=.8, s=40,\n",
    "                label=target_name)\n",
    "plt.legend(loc=2, shadow=False, scatterpoints=1)\n",
    "plt.grid(0)\n",
    "plt.title('PCA 2D')\n",
    "plt.show()"
   ]
  },
  {
   "cell_type": "markdown",
   "metadata": {
    "_uuid": "1f28d5fff7d0348efad62b48ecf51300739ea52f"
   },
   "source": [
    "Using only 2 components,  fails to split datapoints. Next we try 3D."
   ]
  },
  {
   "cell_type": "code",
   "execution_count": 41,
   "metadata": {
    "_uuid": "a619c2039ea342807570640ba474db3d6e5f34a1",
    "collapsed": false
   },
   "outputs": [
    {
     "data": {
      "image/png": "[encoded data removed]",
      "text/plain": [
       "<matplotlib.figure.Figure at 0x116d6c3d0>"
      ]
     },
     "metadata": {},
     "output_type": "display_data"
    }
   ],
   "source": [
    "# %matplotlib notebook \n",
    "# %matplotlib notebook # enable to get the interactive graph\n",
    "# %matplotlib inline  # disable to get the interactive graph\n",
    "import matplotlib.pyplot as plt\n",
    "from mpl_toolkits.mplot3d import Axes3D\n",
    "\n",
    "colors = ['navy', 'turquoise', 'darkorange', 'red']\n",
    "\n",
    "fig = plt.figure(figsize=(8,6))\n",
    "\n",
    "ax = fig.add_subplot(111, projection='3d')\n",
    "for color, i, target_name in zip(colors, [0, 1, 2, 3], target_names):\n",
    "    ax.scatter(X_pca[y == i, 2], X_pca[y == i, 0], X_pca[y == i, 3], c=color, alpha=.8, lw=0,\n",
    "                label=target_name, s=100)\n",
    "    \n",
    "plt.legend(bbox_to_anchor=(1.05, 1), loc=2, borderaxespad=0.)\n",
    "\n",
    "plt.title('PCA plot of different clusters')\n",
    "plt.show()"
   ]
  },
  {
   "cell_type": "markdown",
   "metadata": {
    "_uuid": "9782c00f8291bd17a7ccc9eb0ed51ac61e845850"
   },
   "source": [
    "Using 3 of the principle components, we see a more clear seperatation of authors' classes."
   ]
  },
  {
   "cell_type": "markdown",
   "metadata": {
    "_uuid": "d3f2bf9fce9f432988d09898a55ab156d3e79428"
   },
   "source": [
    "### Network visualiztion:\n",
    "\n",
    "    Lastly we look at the network of co-authorship at NIPS'15, where each node represent one author who wrote a paper at NIPS 2015, and two nodes are connected, if their corresponding authors, have wrote a paper together.\n",
    "    \n",
    "        1. Color code authors by their classes.\n",
    "        2. Size of node, indicated the number of co-authorships.\n",
    "        3. Hovering over nodes, display author names."
   ]
  },
  {
   "cell_type": "code",
   "execution_count": 42,
   "metadata": {
    "_uuid": "23bf117383e86caa8648e124e6a65f61cd332a3c",
    "collapsed": false
   },
   "outputs": [
    {
     "name": "stdout",
     "output_type": "stream",
     "text": [
      "(1749, 1078, 0.003012904326075834)\n"
     ]
    }
   ],
   "source": [
    "print(G.number_of_edges(), G.number_of_nodes(), nx.density(G)) "
   ]
  },
  {
   "cell_type": "markdown",
   "metadata": {
    "_uuid": "771989a3b17cac4526a38f67b3e50985e9d4b5a2"
   },
   "source": [
    "Network is very sparse, since the larger fraction of authors only publish poseters, next we remove those. This allows the network to be visually more informative."
   ]
  },
  {
   "cell_type": "code",
   "execution_count": 43,
   "metadata": {
    "_uuid": "b9848a3ea56b3055300e884a3695bf3f94ba7722",
    "collapsed": false
   },
   "outputs": [
    {
     "name": "stdout",
     "output_type": "stream",
     "text": [
      "(331, 248)\n"
     ]
    }
   ],
   "source": [
    "''' choosing subnodes'''\n",
    "nip_sub = nip_df[(nip_df['Oral'] + nip_df['Spotlight'])>0 ]\n",
    "sub_authors =nip_sub['AuthorId'].unique().tolist()\n",
    "\n",
    "''' build network of subnodes'''\n",
    "K = G.subgraph([aid_intid[i] for i in sub_authors])\n",
    "print(K.number_of_edges(), K.number_of_nodes())"
   ]
  },
  {
   "cell_type": "code",
   "execution_count": 44,
   "metadata": {
    "_uuid": "6c46b4f172c17c15594638cd225451c66bdac3b2",
    "collapsed": true
   },
   "outputs": [],
   "source": [
    "nip_df['Cluster'] = X2['Cluster']\n",
    "author_cls = dict(zip(nip_df.AuthorId, nip_df.Cluster))"
   ]
  },
  {
   "cell_type": "code",
   "execution_count": 45,
   "metadata": {
    "_uuid": "bcd575acf10e1f8eba9c30bba596836fa802fce0",
    "collapsed": false
   },
   "outputs": [],
   "source": [
    "from networkx.drawing.nx_agraph import graphviz_layout\n",
    "pos = graphviz_layout(K)"
   ]
  },
  {
   "cell_type": "code",
   "execution_count": 51,
   "metadata": {
    "_uuid": "618c697167d78ad9111093d7aab614821fd053e0",
    "collapsed": true
   },
   "outputs": [],
   "source": [
    "labels=[]\n",
    "group=[]\n",
    "for node in K.nodes():\n",
    "    labels.append(int_aid[node])\n",
    "    group.append(author_cls[int_aid[node]])\n",
    "    \n",
    "''' Manually assign colors to each group'''\n",
    "grp_clrs = {0:'grey', 1:'g', 2:'r', 3:'b'}"
   ]
  },
  {
   "cell_type": "code",
   "execution_count": 52,
   "metadata": {
    "_uuid": "548051130375465b451f263273ec59d401f13ce0",
    "collapsed": true
   },
   "outputs": [],
   "source": [
    "''' Hovering over nodes, display author names \n",
    "    Mapping author IDs to names '''\n",
    "aid_name = dict(zip(aut_df.Id, aut_df.Name))"
   ]
  },
  {
   "cell_type": "code",
   "execution_count": 53,
   "metadata": {
    "_uuid": "eb1c355721ae230939cc162ebbb8ab0ec6eed42d",
    "collapsed": true
   },
   "outputs": [],
   "source": [
    "import plotly.plotly as py\n",
    "from plotly.graph_objs import *\n",
    "edge_trace = Scatter(\n",
    "    x=[],\n",
    "    y=[],\n",
    "    line=Line(width=1.5,color='#888'),\n",
    "    hoverinfo='none',\n",
    "    mode='lines')\n",
    "\n",
    "for edge in K.edges(data=True):\n",
    "    \n",
    "    x0, y0 = pos[edge[0]]\n",
    "    x1, y1 = pos[edge[1]]\n",
    "    edge_trace['x'] += [x0, x1, None]\n",
    "    edge_trace['y'] += [y0, y1, None]\n",
    "\n",
    "node_trace = Scatter(\n",
    "    x=[],\n",
    "    y=[],\n",
    "    text=[],\n",
    "    mode='markers',\n",
    "    hoverinfo='text',\n",
    "    marker=Marker(\n",
    "        showscale=True,\n",
    "        colorscale='Jet',\n",
    "        color=group,\n",
    "        size=[],\n",
    "        colorbar=dict(\n",
    "            title='Class',\n",
    "            tickvals = [i for i in range(4)],\n",
    "            ticktext = [cls_name[i] for i in range(4)],\n",
    "            ticks = 'outside'\n",
    "        ),\n",
    "        line=dict(width=1)))\n",
    "\n",
    "for node in K.nodes():\n",
    "    x, y = pos[node]#G.node[node]['pos']\n",
    "    node_trace['x'].append(x)\n",
    "    node_trace['y'].append(y)\n"
   ]
  },
  {
   "cell_type": "code",
   "execution_count": 54,
   "metadata": {
    "_uuid": "b079e808ff1ab0df569f1f569425b2c3e6c67da3",
    "collapsed": true
   },
   "outputs": [],
   "source": [
    "node_deg = K.degree()\n",
    "node_trace['marker']['size'] =[]\n",
    "node_trace['marker']['color'] =[]\n",
    "node_trace['text'] =[]\n",
    "for node in K.nodes():\n",
    "    node_trace['marker']['size'].append(4*(node_deg[node]))\n",
    "    name = aid_name.get(int_aid[node])\n",
    "    node_info = '# of connections: %s <br />AuthorID: %s'%(str(node_deg[node]), str(name))\n",
    "\n",
    "    node_trace['text'].append(node_info)\n",
    "    node_trace['marker']['color'].append(author_cls[int_aid[node]])"
   ]
  },
  {
   "cell_type": "code",
   "execution_count": 55,
   "metadata": {
    "_uuid": "ab05baf8a5ad40f7c6e084fb82e049bbae247f5b",
    "collapsed": false,
    "scrolled": false
   },
   "outputs": [
    {
     "data": {
      "text/html": [
       "<iframe id=\"igraph\" scrolling=\"no\" style=\"border:none;\" seamless=\"seamless\" src=\"https://plot.ly/~ykhorram/38.embed\" height=\"525px\" width=\"100%\"></iframe>"
      ],
      "text/plain": [
       "<plotly.tools.PlotlyDisplay object>"
      ]
     },
     "execution_count": 55,
     "metadata": {},
     "output_type": "execute_result"
    }
   ],
   "source": [
    "fig = Figure(data=Data([edge_trace, node_trace]),\n",
    "             layout=Layout(\n",
    "                title='<br>Collaboration Network',\n",
    "                titlefont=dict(size=16),\n",
    "                showlegend=False,\n",
    "                hovermode='closest',\n",
    "                margin=dict(b=10,l=15,r=5,t=40),\n",
    "                annotations=[ dict(\n",
    "                    text=labels,\n",
    "                    showarrow=False)],\n",
    "                xaxis=XAxis(showgrid=False, zeroline=False, showticklabels=False),\n",
    "                yaxis=YAxis(showgrid=False, zeroline=False, showticklabels=False)))\n",
    "\n",
    "py.iplot(fig, filename='collaboration_network_vis')"
   ]
  },
  {
   "cell_type": "markdown",
   "metadata": {},
   "source": [
    "# To see the final plot go to this link:\n",
    "http://nbviewer.jupyter.org/github/ykhorram/nips2015_topic_network_analysis/blob/master/nips_collaboration_network.ipynb\n",
    "    "
   ]
  },
  {
   "cell_type": "markdown",
   "metadata": {
    "_uuid": "d08eb6517b472602856caa1a8a14e2c44041910c",
    "collapsed": true
   },
   "source": [
    "## What's next:\n",
    "    I am interested in looking at the number of citations and the max citations recieved by each author. \n",
    "    \n",
    "Hope you've enjoyed this network presentation. Please let me know if you have any questions/suggestions.\n",
    "    "
   ]
  }
 ],
 "metadata": {
  "kernelspec": {
   "display_name": "Python 2",
   "language": "python",
   "name": "python2"
  },
  "language_info": {
   "codemirror_mode": {
    "name": "ipython",
    "version": 2
   },
   "file_extension": ".py",
   "mimetype": "text/x-python",
   "name": "python",
   "nbconvert_exporter": "python",
   "pygments_lexer": "ipython2",
   "version": "2.7.11"
  }
 },
 "nbformat": 4,
 "nbformat_minor": 1
}
