{
 "cells": [
  {
   "cell_type": "markdown",
   "metadata": {
    "_uuid": "a9f0d9e1da1d1c9ce96322ecedc81d7a7847f043"
   },
   "source": [
    "# NIPS: Neural Information Processing Systems\n",
    "\n",
    "Some main topics at NIPS according to [wikipedia](https://en.wikipedia.org/wiki/Conference_on_Neural_Information_Processing_Systems) :\n",
    "\n",
    "1. Machine learning, \n",
    "2. Statistics, \n",
    "3. Artificial intelligence, \n",
    "4. Computational neuroscience\n",
    "\n",
    "However, the topics are within the same domain which makes it more challenging to distinguish between them. Here in this Kernel I will try to extract some topics using Latent Dirichlet allocation __LDA__. "
   ]
  },
  {
   "cell_type": "code",
   "execution_count": 1,
   "metadata": {
    "_uuid": "49cf47103ed18adfb84e28e636784cf89dbb3144"
   },
   "outputs": [
    {
     "name": "stdout",
     "output_type": "stream",
     "text": [
      "Populating the interactive namespace from numpy and matplotlib\n"
     ]
    }
   ],
   "source": [
    "%pylab inline\n",
    "\n",
    "import pandas as pd\n",
    "import pickle as pk\n",
    "from scipy import sparse as sp"
   ]
  },
  {
   "cell_type": "code",
   "execution_count": 38,
   "metadata": {
    "_uuid": "eda4ba077f4beb7a55182bc37b147050f444827f"
   },
   "outputs": [],
   "source": [
    "p_cit = pk.load(open('./nips_data/paper_citations_dict.pkl', 'rb'))\n",
    "p_df = pd.read_csv('./nips_data/Papers.csv')\n",
    "\n",
    "p_df['Citations'] = p_df['Title'].apply(lambda l: p_cit.get(l))\n",
    "p_df['Citations'].fillna(0, inplace=True)\n",
    "p_df['Citations'] = p_df['Citations'].astype(int0)\n",
    "\n",
    "\n",
    "docs = array(p_df['PaperText'])"
   ]
  },
  {
   "cell_type": "markdown",
   "metadata": {
    "_uuid": "365398b9b4072a8c5bf3c8de0067122e70fff748"
   },
   "source": [
    "## Pre-process and vectorize the documents"
   ]
  },
  {
   "cell_type": "code",
   "execution_count": 3,
   "metadata": {
    "_uuid": "f10f622826eaa4e9bd97c1414aac5538ddabafd2",
    "collapsed": true
   },
   "outputs": [],
   "source": [
    "from nltk.stem.wordnet import WordNetLemmatizer\n",
    "from nltk.tokenize import RegexpTokenizer\n",
    "\n",
    "def docs_preprocessor(docs):\n",
    "    tokenizer = RegexpTokenizer(r'\\w+')\n",
    "    for idx in range(len(docs)):\n",
    "        docs[idx] = docs[idx].lower()  # Convert to lowercase.\n",
    "        docs[idx] = tokenizer.tokenize(docs[idx])  # Split into words.\n",
    "\n",
    "    # Remove numbers, but not words that contain numbers.\n",
    "    docs = [[token for token in doc if not token.isdigit()] for doc in docs]\n",
    "    \n",
    "    # Remove words that are only one character.\n",
    "    docs = [[token for token in doc if len(token) > 3] for doc in docs]\n",
    "    \n",
    "    # Lemmatize all words in documents.\n",
    "    lemmatizer = WordNetLemmatizer()\n",
    "    #docs = [[lemmatizer.lemmatize(token) for token in doc] for doc in docs] python3\n",
    "    docs = [[lemmatizer.lemmatize(token.decode('utf-8', errors='ignore')) for token in doc] for doc in docs]\n",
    "\n",
    "    return docs"
   ]
  },
  {
   "cell_type": "code",
   "execution_count": 4,
   "metadata": {
    "_uuid": "790063fc1a341eb17e0244c220de736d51196cfe"
   },
   "outputs": [],
   "source": [
    "docs = docs_preprocessor(docs)"
   ]
  },
  {
   "cell_type": "markdown",
   "metadata": {
    "_uuid": "f649c357b776963b7e626064fa6ced1a03a3219d"
   },
   "source": [
    "### **Compute bigrams/trigrams:**\n",
    "Sine topics are very similar what would make distinguish them are phrases rather than single/individual words."
   ]
  },
  {
   "cell_type": "code",
   "execution_count": 17,
   "metadata": {
    "collapsed": true
   },
   "outputs": [],
   "source": [
    "import warnings\n",
    "warnings.filterwarnings(\"ignore\", category=DeprecationWarning) "
   ]
  },
  {
   "cell_type": "code",
   "execution_count": 6,
   "metadata": {
    "_uuid": "d6ce91b0d51d55e3504cbb352f0548cffcdb0169"
   },
   "outputs": [
    {
     "name": "stderr",
     "output_type": "stream",
     "text": [
      "/Users/admin/anaconda/lib/python2.7/site-packages/gensim/models/phrases.py:316: UserWarning: For a faster implementation, use the gensim.models.phrases.Phraser class\n",
      "  warnings.warn(\"For a faster implementation, use the gensim.models.phrases.Phraser class\")\n"
     ]
    }
   ],
   "source": [
    "from gensim.models import Phrases\n",
    "# Add bigrams and trigrams to docs (only ones that appear 10 times or more).\n",
    "bigram = Phrases(docs, min_count=10)\n",
    "trigram = Phrases(bigram[docs])\n",
    "\n",
    "for idx in range(len(docs)):\n",
    "    for token in bigram[docs[idx]]:\n",
    "        if '_' in token:\n",
    "            # Token is a bigram, add to document.\n",
    "            docs[idx].append(token)\n",
    "    for token in trigram[docs[idx]]:\n",
    "        if '_' in token:\n",
    "            # Token is a bigram, add to document.\n",
    "            docs[idx].append(token)"
   ]
  },
  {
   "cell_type": "markdown",
   "metadata": {
    "_uuid": "c75a2e62b9a0e570a0a34b84af5912c22aa9ba28"
   },
   "source": [
    "### **Remove rare and common tokens:**"
   ]
  },
  {
   "cell_type": "code",
   "execution_count": 7,
   "metadata": {
    "_uuid": "73f7ba9fedcde10c4e70cf2456c7ef20c8e32d35"
   },
   "outputs": [
    {
     "name": "stdout",
     "output_type": "stream",
     "text": [
      "('Number of unique words in initital documents:', 41506)\n",
      "('Number of unique words after removing rare and common words:', 6068)\n"
     ]
    }
   ],
   "source": [
    "from gensim.corpora import Dictionary\n",
    "\n",
    "# Create a dictionary representation of the documents.\n",
    "dictionary = Dictionary(docs)\n",
    "print('Number of unique words in initital documents:', len(dictionary))\n",
    "\n",
    "# Filter out words that occur less than 10 documents, or more than 20% of the documents.\n",
    "dictionary.filter_extremes(no_below=10, no_above=0.2)\n",
    "print('Number of unique words after removing rare and common words:', len(dictionary))"
   ]
  },
  {
   "cell_type": "markdown",
   "metadata": {
    "_uuid": "f5e4e52fe4ff798ac96f8f23538770c5cc4d217a"
   },
   "source": [
    "Pruning the common and rare words, we end up with only about 6% of the words."
   ]
  },
  {
   "cell_type": "markdown",
   "metadata": {
    "_uuid": "78cd228789c6fa5d094886b58dce875f63625c33"
   },
   "source": [
    "** Vectorize data:**  \n",
    "The first step is to get a back-of-words representation of each doc."
   ]
  },
  {
   "cell_type": "code",
   "execution_count": 8,
   "metadata": {
    "_uuid": "27e71950ec4bca8f6b62ec6d6cd9f613a50019ea",
    "collapsed": true
   },
   "outputs": [],
   "source": [
    "corpus = [dictionary.doc2bow(doc) for doc in docs]"
   ]
  },
  {
   "cell_type": "code",
   "execution_count": 9,
   "metadata": {
    "_uuid": "80752c24b3b1bab16b48054a6ca6e7fb84d49372"
   },
   "outputs": [
    {
     "name": "stdout",
     "output_type": "stream",
     "text": [
      "Number of unique tokens: 6068\n",
      "Number of documents: 403\n"
     ]
    }
   ],
   "source": [
    "print('Number of unique tokens: %d' % len(dictionary))\n",
    "print('Number of documents: %d' % len(corpus))"
   ]
  },
  {
   "cell_type": "markdown",
   "metadata": {
    "_uuid": "bb7f095fc6b213d727b36798294d56a6ab950f5b"
   },
   "source": [
    "With the bag-of-words corpus, we can move on to learn our topic model from the documents."
   ]
  },
  {
   "cell_type": "markdown",
   "metadata": {
    "_uuid": "49a8f93233d2640b476e093390182e21102ae555"
   },
   "source": [
    "# Train LDA model..."
   ]
  },
  {
   "cell_type": "code",
   "execution_count": 10,
   "metadata": {
    "_uuid": "b11f495c4fcf6991c523d5a3b6669506f39533ee",
    "collapsed": true
   },
   "outputs": [],
   "source": [
    "from gensim.models import LdaModel"
   ]
  },
  {
   "cell_type": "code",
   "execution_count": 11,
   "metadata": {
    "_uuid": "084c1198f0e528c52edc746436d797c855de8c51"
   },
   "outputs": [
    {
     "name": "stdout",
     "output_type": "stream",
     "text": [
      "CPU times: user 3min 16s, sys: 1.25 s, total: 3min 17s\n",
      "Wall time: 3min 21s\n"
     ]
    }
   ],
   "source": [
    "# Set training parameters.\n",
    "num_topics = 4\n",
    "chunksize = 500 # size of the doc looked at every pass\n",
    "passes = 20 # number of passes through documents\n",
    "iterations = 400\n",
    "eval_every = 1  # Don't evaluate model perplexity, takes too much time.\n",
    "\n",
    "# Make a index to word dictionary.\n",
    "temp = dictionary[0]  # This is only to \"load\" the dictionary.\n",
    "id2word = dictionary.id2token\n",
    "\n",
    "%time model = LdaModel(corpus=corpus, id2word=id2word, chunksize=chunksize, \\\n",
    "                       alpha='auto', eta='auto', \\\n",
    "                       iterations=iterations, num_topics=num_topics, \\\n",
    "                       passes=passes, eval_every=eval_every)"
   ]
  },
  {
   "cell_type": "code",
   "execution_count": null,
   "metadata": {
    "collapsed": true
   },
   "outputs": [],
   "source": [
    "# model.save('lda.model')\n",
    "# later on, load trained model from file\n",
    "model =  models.LdaModel.load('lda.model')"
   ]
  },
  {
   "cell_type": "markdown",
   "metadata": {
    "_uuid": "f5f7c3e213b2fdffa3c767ebd5a1eb7631e76b13"
   },
   "source": [
    " # How to choose the number of topics? \n",
    "So __LDA__ is an unsupervised technique, meaning that we don't know prior to running the model how many topics exits in our corpus. Topic coherence, is one of the main methods used to determine this. You can read about it [here.](http://svn.aksw.org/papers/2015/WSDM_Topic_Evaluation/public.pdf)\n",
    "\n",
    "However, I used the LDA visualization tool **pyLDAvis**, tried a few number of topics and compared the resuls. Four seemed to be the optimal number of topics that would seperate  topics the most. "
   ]
  },
  {
   "cell_type": "code",
   "execution_count": 12,
   "metadata": {
    "_uuid": "7e100266faefe67e6ce1131fa464c78630293984",
    "collapsed": true
   },
   "outputs": [],
   "source": [
    "import pyLDAvis.gensim\n",
    "pyLDAvis.enable_notebook()"
   ]
  },
  {
   "cell_type": "code",
   "execution_count": 13,
   "metadata": {
    "_uuid": "f195b367d556a559c4db98446e9c9148758a95f6"
   },
   "outputs": [
    {
     "name": "stderr",
     "output_type": "stream",
     "text": [
      "/Users/admin/anaconda/lib/python2.7/site-packages/pyLDAvis/_prepare.py:387: DeprecationWarning: \n",
      ".ix is deprecated. Please use\n",
      ".loc for label based indexing or\n",
      ".iloc for positional indexing\n",
      "\n",
      "See the documentation here:\n",
      "http://pandas.pydata.org/pandas-docs/stable/indexing.html#deprecate_ix\n",
      "  topic_term_dists = topic_term_dists.ix[topic_order]\n"
     ]
    },
    {
     "data": {
      "text/html": [
       "\n",
       "<link rel=\"stylesheet\" type=\"text/css\" href=\"https://cdn.rawgit.com/bmabey/pyLDAvis/files/ldavis.v1.0.0.css\">\n",
       "\n",
       "\n",
       "<div id=\"ldavis_el3901448418435367850239296\"></div>\n",
       "<script type=\"text/javascript\">\n",
       "\n",
       "var ldavis_el3901448418435367850239296_data = {\"plot.opts\": {\"xlab\": \"PC1\", \"ylab\": \"PC2\"}, \"topic.order\": [2, 3, 1, 4], \"token.table\": {\"Topic\": [1, 2, 3, 4, 1, 2, 3, 4, 1, 2, 3, 4, 1, 2, 3, 4, 1, 2, 3, 4, 1, 2, 3, 4, 1, 2, 3, 4, 1, 2, 3, 4, 1, 3, 4, 4, 1, 2, 3, 4, 1, 2, 3, 4, 1, 2, 3, 4, 1, 2, 3, 4, 1, 2, 3, 4, 1, 2, 3, 4, 2, 1, 3, 3, 1, 3, 1, 2, 3, 4, 2, 2, 1, 3, 3, 4, 1, 2, 3, 4, 1, 3, 1, 3, 4, 1, 2, 3, 4, 1, 2, 3, 4, 2, 1, 2, 3, 4, 1, 2, 3, 4, 1, 2, 3, 4, 1, 2, 3, 4, 1, 2, 3, 4, 1, 2, 3, 4, 1, 2, 3, 4, 1, 2, 3, 4, 1, 2, 3, 4, 1, 2, 3, 4, 3, 4, 1, 3, 4, 1, 2, 3, 4, 1, 2, 3, 4, 1, 2, 3, 4, 1, 2, 3, 4, 1, 2, 3, 4, 1, 2, 3, 4, 1, 2, 3, 4, 1, 2, 3, 4, 2, 1, 2, 3, 4, 1, 2, 3, 4, 1, 1, 2, 3, 4, 1, 2, 3, 4, 1, 2, 3, 4, 1, 2, 3, 4, 1, 2, 3, 4, 1, 2, 3, 4, 1, 2, 3, 4, 1, 2, 3, 4, 1, 2, 3, 4, 1, 2, 3, 4, 1, 2, 3, 4, 1, 2, 3, 4, 2, 3, 1, 2, 3, 4, 1, 2, 3, 4, 1, 2, 3, 4, 3, 4, 1, 2, 3, 4, 3, 1, 2, 3, 4, 1, 2, 3, 4, 1, 2, 3, 4, 1, 2, 3, 4, 1, 2, 3, 4, 1, 2, 3, 4, 1, 2, 3, 4, 1, 2, 3, 4, 1, 2, 3, 4, 1, 2, 3, 4, 1, 2, 3, 4, 1, 2, 3, 4, 1, 2, 3, 4, 1, 2, 3, 4, 1, 2, 3, 4, 1, 2, 3, 4, 4, 1, 2, 3, 4, 1, 3, 4, 1, 2, 3, 4, 1, 2, 3, 4, 4, 1, 2, 3, 4, 1, 4, 1, 2, 3, 4, 1, 2, 3, 4, 1, 2, 3, 4, 1, 2, 3, 4, 1, 2, 3, 4, 1, 2, 3, 4, 1, 2, 3, 4, 1, 2, 3, 4, 1, 2, 3, 4, 2, 1, 2, 3, 4, 4, 2, 3, 4, 4, 2, 4, 1, 2, 3, 4, 1, 2, 3, 4, 1, 2, 3, 4, 1, 2, 3, 4, 1, 2, 3, 4, 1, 2, 3, 4, 1, 1, 4, 1, 2, 3, 4, 1, 3, 1, 2, 3, 4, 1, 2, 3, 4, 1, 2, 3, 4, 1, 2, 3, 4, 1, 2, 3, 4, 1, 2, 3, 4, 1, 2, 3, 4, 1, 1, 2, 3, 4, 3, 1, 2, 3, 4, 3, 3, 1, 2, 3, 4, 1, 2, 3, 4, 1, 2, 3, 4, 3, 3, 1, 2, 3, 4, 1, 2, 3, 4, 1, 2, 3, 4, 1, 2, 3, 4, 4, 3, 1, 2, 3, 1, 2, 3, 4, 1, 2, 3, 4, 1, 2, 3, 4, 1, 2, 3, 4, 1, 2, 3, 4, 1, 2, 3, 4, 1, 2, 3, 4, 1, 2, 3, 4, 1, 2, 3, 4, 2, 1, 2, 3, 4, 1, 2, 3, 4, 1, 2, 4, 1, 2, 3, 1, 2, 3, 4, 1, 2, 3, 4, 1, 2, 3, 4, 1, 2, 3, 4, 1, 2, 3, 4, 1, 2, 3, 4, 2, 3, 4, 1, 2, 3, 4, 1, 2, 3, 4, 1, 2, 3, 4, 1, 2, 3, 4, 1, 2, 3, 4, 4, 1, 2, 3, 4, 1, 2, 3, 4, 1, 2, 3, 4, 2, 3, 4, 1, 2, 3, 4, 1, 2, 3, 4, 1, 2, 3, 4, 3, 1, 2, 3, 4, 1, 2, 3, 4, 1, 2, 3, 4, 1, 2, 3, 4, 1, 2, 3, 4, 1, 2, 3, 4, 1, 2, 3, 4, 1, 2, 3, 4, 4, 1, 2, 3, 4, 1, 2, 3, 4, 1, 2, 3, 4, 1, 2, 3, 4, 1, 2, 3, 4, 3, 4, 1, 2, 3, 4, 2, 4, 2, 1, 2, 3, 4, 1, 2, 3, 4, 2, 4, 3, 4, 1, 2, 3, 4, 1, 2, 3, 4, 1, 2, 3, 4, 3, 4, 1, 2, 3, 4, 1, 2, 3, 4, 1, 2, 3, 4, 1, 2, 3, 4, 1, 2, 3, 4, 1, 2, 1, 2, 3, 4, 1, 2, 3, 4, 1, 2, 3, 4, 1, 2, 3, 4, 3, 3, 1, 2, 1, 2, 3, 4, 1, 2, 3, 4, 1, 2, 3, 4, 1, 2, 3, 4, 1, 1, 2, 3, 4, 1, 1, 2, 3, 4, 4, 4, 1, 2, 3, 4, 1, 2, 3, 4, 1, 2, 3, 4, 1, 2, 3, 4, 2, 1, 2, 3, 4, 4, 1, 2, 3, 4, 1, 2, 3, 4, 1, 3, 1, 2, 3, 4, 1, 2, 3, 4, 1, 2, 3, 1, 2, 3, 4, 2, 1, 2, 3, 4, 1, 2, 3, 4, 2, 2, 1, 3, 1, 4, 1, 2, 3, 4, 1, 2, 3, 4, 1, 2, 3, 4, 2, 4, 4, 1, 2, 3, 4, 3, 4, 3, 1, 1, 2, 3, 4, 4, 4], \"Freq\": [0.14734957806974633, 0.05273563846706711, 0.023265722853117843, 0.7755240951039281, 0.06962788072774953, 0.35446921097763395, 0.5506932384831099, 0.025319229355545283, 0.07583736034876265, 0.02979324870844247, 0.22751208104628795, 0.6662853802069861, 0.004759616247075343, 0.9900001793916714, 0.004759616247075343, 0.004759616247075343, 0.9283198770424355, 0.00932984801047674, 0.00466492400523837, 0.055979088062860435, 0.011432309789301393, 0.011432309789301393, 0.9545978674066664, 0.022864619578602786, 0.04645162026147783, 0.017419357598054186, 0.9232259526968719, 0.017419357598054186, 0.0130579080802125, 0.08705272053475001, 0.8748798413742376, 0.021763180133687502, 0.016457114475951034, 0.938055525129209, 0.03291422895190207, 0.9678962917573688, 0.01785704229382255, 0.005952347431274182, 0.9642802838664176, 0.013392781720366911, 0.034762909829019896, 0.008690727457254974, 0.9472892928407922, 0.008690727457254974, 0.0037596011848429383, 0.0037596011848429383, 0.9850155104288498, 0.0037596011848429383, 0.0878966726011562, 0.009766296955684022, 0.8984993199229301, 0.009766296955684022, 0.0571750382375522, 0.8606347861021015, 0.06018425077637073, 0.021064487771729756, 0.04034831823834466, 0.8905450239748928, 0.014410113656551662, 0.05475843189489632, 0.9876944163196261, 0.011646341995653044, 0.9782927276348556, 0.9776293531878619, 0.02865094436080942, 0.9741321082675203, 0.9491017572573598, 0.005787205836935121, 0.011574411673870242, 0.034723235021610725, 0.9754921908039161, 0.9751685867452796, 0.015340678225489752, 0.9818034064313441, 0.9620791921143103, 0.9834205222883681, 0.006208892322047826, 0.9685872022394607, 0.015522230805119563, 0.009313338483071738, 0.011645595345873793, 0.9782300090533986, 0.021933442455893185, 0.9650714680593002, 0.021933442455893185, 0.9177343350672732, 0.00876816243694847, 0.04676353299705851, 0.02630448731084541, 0.8714220271564864, 0.02234415454247401, 0.08192856665573804, 0.026068180299553014, 0.9731058010259095, 0.02380161397064499, 0.005950403492661248, 0.09520645588257996, 0.8687589099285421, 0.3390847266175615, 0.03244329174427286, 0.5274651302939846, 0.10151610642562797, 0.8994437317650628, 0.026197390245584352, 0.008732463415194784, 0.06549347561396088, 0.007578277118241433, 0.04243835186215202, 0.09397063626619377, 0.8563453143612819, 0.005058518289816059, 0.005058518289816059, 0.11128740237595329, 0.8801821824279943, 0.006018034657165586, 0.07221641588598704, 0.0451352599287419, 0.8756240426175927, 0.009513578358776809, 0.030919129666024628, 0.17837959422706515, 0.7801134254196983, 0.1300784731267, 0.0475896852902561, 0.7043273422957902, 0.11738789038263171, 0.3740683828883339, 0.5784849341321445, 0.027811775679430027, 0.01946824297560102, 0.7092852123356913, 0.10096586652465357, 0.13630391980828233, 0.053007079925443124, 0.9655794773334802, 0.9809438960428075, 0.012730786786282809, 0.9420782221849279, 0.038192360358848425, 0.03373299612510034, 0.05782799335731487, 0.09637998892885812, 0.8144109064488512, 0.948369696330159, 0.01264492928440212, 0.01264492928440212, 0.01264492928440212, 0.3574579660378758, 0.3420834298642037, 0.23189925395288713, 0.06662299008591233, 0.008176174281369096, 0.04088087140684548, 0.07767365567300641, 0.8748506481064932, 0.0294148800023286, 0.18956256001500651, 0.2304165600182407, 0.5507119200435966, 0.008971895250815423, 0.24224117177201643, 0.09869084775896966, 0.6459764580587105, 0.02633863778550345, 0.16973788795102224, 0.14632576547501916, 0.6526129140185855, 0.026705590954131227, 0.94359754704597, 0.02225465912844269, 0.008901863651377075, 0.9637150937433018, 0.007525697511030651, 0.9557635839008927, 0.030102790044122606, 0.007525697511030651, 0.1435090374354704, 0.5442160900150306, 0.08014141051591203, 0.2311054628830952, 0.9391772068566698, 0.0074869760790884175, 0.06239146732573681, 0.07736541948391365, 0.8535152730160795, 0.7790952374149929, 0.12795359738567402, 0.0796155717066416, 0.014217066376186001, 0.15197742767001415, 0.05599168387842626, 0.5039251549058363, 0.28635746897823716, 0.2990689023363398, 0.018204194055255467, 0.6345461927831905, 0.049411383864264836, 0.014082732777713804, 0.08449639666628282, 0.051636686851617285, 0.8543524551813041, 0.008212369760649154, 0.02463710928194746, 0.041061848803245767, 0.9362101527140034, 0.0063762104998847805, 0.10839557849804127, 0.8735408384842149, 0.0063762104998847805, 0.8362784944363697, 0.03294430432628123, 0.0785594949319014, 0.053217722373223524, 0.9715688936370781, 0.005616005165532244, 0.005616005165532244, 0.01684801549659673, 0.02464223822025519, 0.032856317627006915, 0.9281909729629454, 0.016428158813503457, 0.12578586880477102, 0.6118736329994794, 0.17695300187789822, 0.08527855512187867, 0.03209711547925579, 0.016048557739627895, 0.26961577002574866, 0.6804588481602228, 0.9882578533483632, 0.9678310642799757, 0.06321071264645804, 0.24080271484364968, 0.009030101806636864, 0.6862877373044016, 0.012384809270627503, 0.9660151231089453, 0.012384809270627503, 0.012384809270627503, 0.00865975003982202, 0.05542240025486093, 0.0432987501991101, 0.8919542541016681, 0.0186764907115304, 0.9711775169995808, 0.017028511878211038, 0.01135234125214069, 0.8741302764148332, 0.09649490064319588, 0.9486116324721678, 0.036790605124072395, 0.9275691958554009, 0.022297336438831753, 0.013378401863299052, 0.10280297766770292, 0.006853531844513528, 0.8841056079422451, 0.006853531844513528, 0.04582757878906985, 0.8198044650044719, 0.02927873089301685, 0.10438504057510356, 0.08738965805757691, 0.8762584632259739, 0.021256943851843034, 0.014171295901228688, 0.17708686641225213, 0.7903321260250512, 0.022955704905291942, 0.009838159245125119, 0.01764512144173257, 0.9528365578535588, 0.011028200901082856, 0.01764512144173257, 0.2633750314347425, 0.09333192861522428, 0.5689412086818466, 0.07415413506415079, 0.28502745261871903, 0.2998867037031072, 0.012157569069044888, 0.40255062028615296, 0.8059322388650192, 0.08483497251210728, 0.054789253080735956, 0.053021857820067055, 0.9372042574608052, 0.004868593545250936, 0.03651445158938202, 0.019474374181003742, 0.18003744573633748, 0.20521750807708397, 0.08435320884150077, 0.5312993153897512, 0.008078776096905216, 0.5655143267833651, 0.022216634266489343, 0.4039388048452608, 0.051220207093820656, 0.8963536241418615, 0.018292931104935947, 0.03292727598888471, 0.009204047041238311, 0.49333692141037355, 0.04786104461443922, 0.4509983050206773, 0.00419792974205349, 0.9529300514461423, 0.00839585948410698, 0.03358343793642792, 0.06346260509032087, 0.01866547208538849, 0.6644908062398303, 0.25385042036128347, 0.9860538950827243, 0.08981893275637236, 0.004727312250335387, 0.004727312250335387, 0.9029166398140589, 0.9679971433165212, 0.013260234839952345, 0.013260234839952345, 0.012612105485003806, 0.012612105485003806, 0.050448421940015226, 0.9459079113752854, 0.08044279600258906, 0.2220221169671458, 0.032177118401035626, 0.669284062741541, 0.9865046695805363, 0.8113467884183571, 0.0317193188887835, 0.10684402152011285, 0.0500831350875529, 0.026964061880460542, 0.9707062276965795, 0.03641158733411122, 0.012137195778037072, 0.012137195778037072, 0.9467012706868917, 0.8682907050323095, 0.047361311183580515, 0.047361311183580515, 0.03473162820129238, 0.0066596185717317695, 0.9856235486163019, 0.0066596185717317695, 0.0066596185717317695, 0.05860107821917313, 0.9060628247733692, 0.009015550495257405, 0.027046651485772216, 0.005492268288560031, 0.9886082919408056, 0.005492268288560031, 0.005492268288560031, 0.06483956036560236, 0.09725934054840353, 0.7651068123141078, 0.07132351640216258, 0.6666486981008004, 0.10841691630013017, 0.20530011810024648, 0.020760686100024926, 0.9622070712797621, 0.009479872623445932, 0.004739936311722966, 0.02369968155861483, 0.8210831407274585, 0.06158123555455939, 0.04926498844364751, 0.06773935911001533, 0.9905745816806836, 0.9633620569822018, 0.01660969063762417, 0.008304845318812084, 0.008304845318812084, 0.9848177315506236, 0.002166874761867565, 0.002166874761867565, 0.9967623904590799, 0.9869844812567794, 0.010529787374895398, 0.9898000132401675, 0.005166022727616036, 0.005166022727616036, 0.015498068182848108, 0.9763782955194309, 0.051881991696516604, 0.0489996588244879, 0.7292302166232612, 0.1671753065776646, 0.06411012835855404, 0.903952809855612, 0.006411012835855404, 0.02884955776134932, 0.02545270371834357, 0.007272201062383877, 0.9562944397034798, 0.010908301593575816, 0.6211560124309919, 0.33418193468787366, 0.03478473669613555, 0.00993849619889587, 0.9615412862819257, 0.002720060215790455, 0.03264072258948546, 0.002720060215790455, 0.9743860646714837, 0.9647328526631501, 0.014187247833281619, 0.048867653206348935, 0.9312002805432047, 0.010859478490299763, 0.008144608867724822, 0.9610437318663845, 0.03844174927465538, 0.014952638804214474, 0.9300541336221403, 0.005981055521685789, 0.05083897193432921, 0.12475176004125176, 0.10969551313972137, 0.5097615022375287, 0.25595619732601654, 0.19864735317503054, 0.12815958269356809, 0.009611968702017607, 0.663225840439215, 0.020881363928684876, 0.15661022946513656, 0.4802713703597521, 0.3419323343322148, 0.012726571274791128, 0.9735827025215213, 0.006363285637395564, 0.006363285637395564, 0.05557023990218167, 0.906672335246122, 0.01169899787414351, 0.026322745216822898, 0.9175224732068302, 0.00945899456914258, 0.0472949728457129, 0.02364748642285645, 0.9751545255872137, 0.046714725009846, 0.003336766072131857, 0.9376312662690518, 0.013347064288527428, 0.9819783401745096, 0.05157179121291324, 0.024269078217841526, 0.9191913375007478, 0.006067269554460381, 0.974372334098279, 0.9673342279713752, 0.07529159320689185, 0.01673146515708708, 0.8784019207470717, 0.03346293031417416, 0.015801928453955536, 0.007900964226977768, 0.9718185999182655, 0.007900964226977768, 0.010423606173436977, 0.8505662637524573, 0.012508327408124372, 0.12716799531593112, 0.9689776916088988, 0.9740538822348334, 0.8962056016709264, 0.021401924816022124, 0.061530533846063606, 0.018726684214019358, 0.007988372040613617, 0.003994186020306809, 0.003994186020306809, 0.982569760995475, 0.04856572243099291, 0.11691747992646441, 0.8166236290248438, 0.017987304604071448, 0.034371611646263074, 0.9022548057144056, 0.030075160190480187, 0.034371611646263074, 0.989825536232232, 0.9616502177311923, 0.03396269920614183, 0.016981349603070916, 0.9509555777719713, 0.9631012405427769, 0.014816942162196568, 0.007408471081098284, 0.014816942162196568, 0.025017078964529312, 0.09324547614051834, 0.01591995934106411, 0.8665006441350607, 0.011384625996355504, 0.005692312998177752, 0.9762316791874844, 0.005692312998177752, 0.010595171158837019, 0.9588629898747503, 0.005297585579418509, 0.026487927897092547, 0.11065188943805447, 0.8764794400224841, 0.0058237836546344455, 0.00873567548195167, 0.28041241516147725, 0.5578885746668134, 0.1189183540737155, 0.04257570701404629, 0.818638998406754, 0.12703018940794458, 0.025876520064581306, 0.030581341894505176, 0.009106526752498465, 0.009106526752498465, 0.06374568726748925, 0.9288657287548434, 0.13122658305036966, 0.6877245000602706, 0.16524828976713216, 0.01701085335838125, 0.9839874604555863, 0.008575228353791918, 0.9690008039784869, 0.008575228353791918, 0.012862842530687878, 0.009230098495327565, 0.9783904405047218, 0.004615049247663782, 0.004615049247663782, 0.011751610311909069, 0.9753836558884528, 0.011751610311909069, 0.977339132529824, 0.008573150285349333, 0.008573150285349333, 0.018269098030432248, 0.9439033982389995, 0.018269098030432248, 0.018269098030432248, 0.058543349367547404, 0.046834679494037926, 0.8859560204288841, 0.007805779915672988, 0.08253901527214197, 0.7798513856747207, 0.0483849399871177, 0.08823136115297935, 0.7415838324172185, 0.01659024233595567, 0.22230924730180598, 0.019908290803146805, 0.15590080063776673, 0.1744604197613104, 0.6607224407981543, 0.011135771474126196, 0.0070611086141454124, 0.18005826966070804, 0.008826385767681766, 0.8032011048590407, 0.012262597952777204, 0.012262597952777204, 0.9810078362221764, 0.1813100677255727, 0.03719180876422004, 0.11002576759415095, 0.6710022164544699, 0.959018356527044, 0.014103211125397705, 0.014103211125397705, 0.014103211125397705, 0.8870345336885128, 0.06934997263382918, 0.029030221102533147, 0.014515110551266574, 0.9214683875831846, 0.03601830830944044, 0.02101067984717359, 0.02101067984717359, 0.937275686810055, 0.005706396875555891, 0.02710538515889048, 0.0313851828155574, 0.9535347990419155, 0.9406247240674229, 0.026525209138560733, 0.008161602811864841, 0.024484808435594523, 0.9443220736086565, 0.016862894171583154, 0.016862894171583154, 0.03372578834316631, 0.005348996248908663, 0.18008287371325832, 0.005348996248908663, 0.8094814323348444, 0.014777568269143348, 0.014777568269143348, 0.9753195057634609, 0.005703407949857218, 0.11977156694700157, 0.005703407949857218, 0.8688191443615828, 0.022323250210241334, 0.0025757596396432307, 0.971061384145498, 0.004292932732738718, 0.02104787131984582, 0.002104787131984582, 0.9724116549768768, 0.004209574263969164, 0.9893365420912302, 0.2463861612089825, 0.6125747677764611, 0.040687622951942067, 0.10171905737985516, 0.8406512249900406, 0.055847459002834866, 0.07348349868794062, 0.032332739422693865, 0.9686950649683977, 0.01258045538919997, 0.01258045538919997, 0.01258045538919997, 0.13368124187879912, 0.4158971969562639, 0.43260735219111385, 0.01856683914983321, 0.2343972087019821, 0.6959422278986686, 0.06282811779640757, 0.007249398207277797, 0.012055520992072827, 0.04822208396829131, 0.012055520992072827, 0.9403306373816805, 0.336254609621925, 0.009948361231417898, 0.6386847910570291, 0.015917377970268636, 0.6756059189271797, 0.1793009338978715, 0.03442577930839132, 0.11044937528108884, 0.9694298152905173, 0.8546190098387542, 0.011113381142246477, 0.10557712085134154, 0.028894790969840843, 0.5923414288195643, 0.18875128431296997, 0.1641982717194129, 0.055244278335503404, 0.042882572394613405, 0.9246554672588515, 0.013400803873316689, 0.018761125422643365, 0.025644654187155277, 0.027975986385987573, 0.006993996596496893, 0.939526876129416, 0.11184460269317836, 0.045566319615739335, 0.037281534231059454, 0.8036241823139483, 0.006540109877846211, 0.9940967014326241, 0.15708028896318185, 0.0695641279694091, 0.29172053664590913, 0.4824608875297728, 0.970755727468771, 0.017650104135795836, 0.9694194024075925, 0.005831463904348174, 0.01749439171304452, 0.005831463904348174, 0.970938740073971, 0.018390790648480336, 0.006130263549493445, 0.006130263549493445, 0.9685816408199643, 0.9517360157306941, 0.026437111548074835, 0.02693288788509727, 0.9695839638635017, 0.9322563796106899, 0.03585601460041115, 0.01629818845473234, 0.01629818845473234, 0.9247030871166045, 0.02802130567020014, 0.02451864246142512, 0.021015979252650103, 0.9454663279123134, 0.03465059840516332, 0.014850256459355707, 0.004950085486451903, 0.016927462574084434, 0.9817928292968973, 0.9432088782396124, 0.01387071879764136, 0.00693535939882068, 0.0346767969941034, 0.045950882391229304, 0.27840828742921286, 0.04865387547306632, 0.6243914019043512, 0.9654875759466263, 0.00622895210288146, 0.00622895210288146, 0.02491580841152584, 0.012845856775245303, 0.07279318839305672, 0.06422928387622652, 0.8521084994246051, 0.011568871531820376, 0.983354080204732, 0.005784435765910188, 0.005784435765910188, 0.01727283511818784, 0.9672787666185191, 0.005215710919536817, 0.01564713275861045, 0.005215710919536817, 0.9753379419533847, 0.37561700914288537, 0.5547574288879538, 0.025041133942859024, 0.04237730359560758, 0.2315664854564269, 0.13965607628042243, 0.5669797968649628, 0.0620693672357433, 0.00555258533709903, 0.9661498486552311, 0.016657756011297088, 0.01110517067419806, 0.9822408542432486, 0.9652817047462899, 0.006401780381412051, 0.9922759591188679, 0.09640281069451198, 0.012306741790788764, 0.7445578783427201, 0.14562977785766704, 0.9676355632889423, 0.0034252586311113, 0.00856314657777825, 0.020551551786667798, 0.9872578521136747, 0.002591227958303608, 0.002591227958303608, 0.007773683874910824, 0.9440973923092035, 0.007738503215649209, 0.015477006431298419, 0.038692516078246045, 0.9367572225245905, 0.7630793372118865, 0.06733052975398998, 0.14962339945331107, 0.01994978659377481, 0.9486773089484137, 0.2739565870216694, 0.02858677429791333, 0.48597516306452665, 0.20963634485136445, 0.9888695581302375, 0.9692713126448477, 0.5486819615554119, 0.04209067102342886, 0.00901942950502047, 0.39986137472257416, 0.06695557603371613, 0.014879016896381362, 0.014879016896381362, 0.9001805222310724, 0.08964737897406422, 0.08964737897406422, 0.5220641481430798, 0.30058238832480355, 0.04610439224586328, 0.6245049495121481, 0.27243504508919214, 0.05658266321083221, 0.9830937557235161, 0.0025100899605064774, 0.9914855344000585, 0.0025100899605064774, 0.0025100899605064774, 0.9628318048868721, 0.06626024156868444, 0.867229632296017, 0.035078951418715296, 0.03118129014996915, 0.19549988607364238, 0.7065924453804503, 0.06702853236810596, 0.030721410668715234, 0.941319666117236, 0.029416239566163627, 0.00723240215153044, 0.05785921721224352, 0.904050268941305, 0.02892960860612176, 0.011297731326287986, 0.9546582970713348, 0.022595462652575973, 0.011297731326287986, 0.9468508670338897, 0.028692450516178473, 0.028692450516178473, 0.004654343142288964, 0.9169055990309258, 0.004654343142288964, 0.07446949027662342, 0.9807432388179287, 0.030905130645876255, 0.9220030642686415, 0.009013996438380575, 0.03991912708425683, 0.006866308473407165, 0.9475505693301888, 0.006866308473407165, 0.04119785084044299, 0.9914802044688579, 0.9820836282884253, 0.9493337330101682, 0.026370381472504673, 0.9481751443098597, 0.04515119734808856, 0.7924747671242195, 0.06303776556669928, 0.07054226146749681, 0.07204316064765631, 0.9561405277048043, 0.014486977692497035, 0.014486977692497035, 0.014486977692497035, 0.01001952044300283, 0.01001952044300283, 0.04007808177201132, 0.9418349216422659, 0.032124491984087754, 0.9476725135305888, 0.9817338629599945, 0.8727489434553466, 0.0709301261465476, 0.024671348224886123, 0.030839185281107656, 0.01543588536443171, 0.9724607779591977, 0.9838376416569882, 0.982869419549167, 0.007354937928457358, 0.022064813785372072, 0.926722178985627, 0.040452158606515465, 0.964241253790878, 0.9801512665492147], \"Term\": [\"active_learning\", \"active_learning\", \"active_learning\", \"active_learning\", \"agent\", \"agent\", \"agent\", \"agent\", \"answer\", \"answer\", \"answer\", \"answer\", \"approximate_posterior\", \"approximate_posterior\", \"approximate_posterior\", \"approximate_posterior\", \"approximation_guarantee\", \"approximation_guarantee\", \"approximation_guarantee\", \"approximation_guarantee\", \"arm\", \"arm\", \"arm\", \"arm\", \"armed\", \"armed\", \"armed\", \"armed\", \"asynchronous\", \"asynchronous\", \"asynchronous\", \"asynchronous\", \"auer\", \"auer\", \"auer\", \"bahdanau\", \"bandit\", \"bandit\", \"bandit\", \"bandit\", \"bandit_feedback\", \"bandit_feedback\", \"bandit_feedback\", \"bandit_feedback\", \"bandit_problem\", \"bandit_problem\", \"bandit_problem\", \"bandit_problem\", \"bandit_setting\", \"bandit_setting\", \"bandit_setting\", \"bandit_setting\", \"bayesian_inference\", \"bayesian_inference\", \"bayesian_inference\", \"bayesian_inference\", \"bayesian_network\", \"bayesian_network\", \"bayesian_network\", \"bayesian_network\", \"bayesian_nonparametric\", \"bianchi\", \"bianchi\", \"bianchi_lugosi\", \"bianchi_regret\", \"bianchi_regret\", \"bipartite_graph\", \"bipartite_graph\", \"bipartite_graph\", \"bipartite_graph\", \"black_variational\", \"blei_jordan\", \"bubeck\", \"bubeck\", \"bubeck_cesa\", \"caption\", \"causal\", \"causal\", \"causal\", \"causal\", \"cesa\", \"cesa\", \"cesa_bianchi\", \"cesa_bianchi\", \"cesa_bianchi\", \"completion\", \"completion\", \"completion\", \"completion\", \"compressed_sensing\", \"compressed_sensing\", \"compressed_sensing\", \"compressed_sensing\", \"conjugacy\", \"conv\", \"conv\", \"conv\", \"conv\", \"convergence_rate\", \"convergence_rate\", \"convergence_rate\", \"convergence_rate\", \"convex_relaxation\", \"convex_relaxation\", \"convex_relaxation\", \"convex_relaxation\", \"convolutional\", \"convolutional\", \"convolutional\", \"convolutional\", \"convolutional_layer\", \"convolutional_layer\", \"convolutional_layer\", \"convolutional_layer\", \"convolutional_network\", \"convolutional_network\", \"convolutional_network\", \"convolutional_network\", \"convolutional_neural\", \"convolutional_neural\", \"convolutional_neural\", \"convolutional_neural\", \"coordinate_descent\", \"coordinate_descent\", \"coordinate_descent\", \"coordinate_descent\", \"covariance_matrix\", \"covariance_matrix\", \"covariance_matrix\", \"covariance_matrix\", \"cover\", \"cover\", \"cover\", \"cover\", \"crammer\", \"crfs\", \"crowdsourcing\", \"crowdsourcing\", \"crowdsourcing\", \"cvpr\", \"cvpr\", \"cvpr\", \"cvpr\", \"dantzig_selector\", \"dantzig_selector\", \"dantzig_selector\", \"dantzig_selector\", \"data_set\", \"data_set\", \"data_set\", \"data_set\", \"deep_convolutional\", \"deep_convolutional\", \"deep_convolutional\", \"deep_convolutional\", \"deep_learning\", \"deep_learning\", \"deep_learning\", \"deep_learning\", \"deep_network\", \"deep_network\", \"deep_network\", \"deep_network\", \"deep_neural\", \"deep_neural\", \"deep_neural\", \"deep_neural\", \"dirichlet\", \"dirichlet\", \"dirichlet\", \"dirichlet\", \"dirichlet_distribution\", \"dirichlet_process\", \"dirichlet_process\", \"dirichlet_process\", \"dirichlet_process\", \"document\", \"document\", \"document\", \"document\", \"donoho\", \"during_training\", \"during_training\", \"during_training\", \"during_training\", \"eigenvalue\", \"eigenvalue\", \"eigenvalue\", \"eigenvalue\", \"embedding\", \"embedding\", \"embedding\", \"embedding\", \"empirical_risk\", \"empirical_risk\", \"empirical_risk\", \"empirical_risk\", \"encoder\", \"encoder\", \"encoder\", \"encoder\", \"encoder_decoder\", \"encoder_decoder\", \"encoder_decoder\", \"encoder_decoder\", \"equilibrium\", \"equilibrium\", \"equilibrium\", \"equilibrium\", \"estimation_error\", \"estimation_error\", \"estimation_error\", \"estimation_error\", \"exact_recovery\", \"exact_recovery\", \"exact_recovery\", \"exact_recovery\", \"expected_reward\", \"expected_reward\", \"expected_reward\", \"expected_reward\", \"exponential_family\", \"exponential_family\", \"exponential_family\", \"exponential_family\", \"feature_map\", \"feature_map\", \"feature_map\", \"feature_map\", \"firing\", \"fischer_finite\", \"frame\", \"frame\", \"frame\", \"frame\", \"full_posterior\", \"full_posterior\", \"full_posterior\", \"full_posterior\", \"fully_connected\", \"fully_connected\", \"fully_connected\", \"fully_connected\", \"fully_convolutional\", \"fully_convolutional\", \"game\", \"game\", \"game\", \"game\", \"game_cambridge\", \"gaussian_process\", \"gaussian_process\", \"gaussian_process\", \"gaussian_process\", \"generalization_bound\", \"generalization_bound\", \"generalization_bound\", \"generalization_bound\", \"generative_model\", \"generative_model\", \"generative_model\", \"generative_model\", \"gibbs\", \"gibbs\", \"gibbs\", \"gibbs\", \"gibbs_sampler\", \"gibbs_sampler\", \"gibbs_sampler\", \"gibbs_sampler\", \"gibbs_sampling\", \"gibbs_sampling\", \"gibbs_sampling\", \"gibbs_sampling\", \"gradient_descent\", \"gradient_descent\", \"gradient_descent\", \"gradient_descent\", \"graphical_model\", \"graphical_model\", \"graphical_model\", \"graphical_model\", \"greedy\", \"greedy\", \"greedy\", \"greedy\", \"greedy_algorithm\", \"greedy_algorithm\", \"greedy_algorithm\", \"greedy_algorithm\", \"ground_truth\", \"ground_truth\", \"ground_truth\", \"ground_truth\", \"hidden_layer\", \"hidden_layer\", \"hidden_layer\", \"hidden_layer\", \"hidden_markov\", \"hidden_markov\", \"hidden_markov\", \"hidden_markov\", \"hidden_unit\", \"hidden_unit\", \"hidden_unit\", \"hidden_unit\", \"hidden_variable\", \"hidden_variable\", \"hidden_variable\", \"hidden_variable\", \"hinge_loss\", \"hinge_loss\", \"hinge_loss\", \"hinge_loss\", \"image_caption\", \"image_segmentation\", \"image_segmentation\", \"image_segmentation\", \"image_segmentation\", \"incoherence\", \"incoherence\", \"incoherence\", \"input_image\", \"input_image\", \"input_image\", \"input_image\", \"input_output\", \"input_output\", \"input_output\", \"input_output\", \"input_sequence\", \"item\", \"item\", \"item\", \"item\", \"language_model\", \"language_model\", \"language_modeling\", \"language_modeling\", \"language_modeling\", \"language_modeling\", \"lasso\", \"lasso\", \"lasso\", \"lasso\", \"latent_dirichlet\", \"latent_dirichlet\", \"latent_dirichlet\", \"latent_dirichlet\", \"latent_space\", \"latent_space\", \"latent_space\", \"latent_space\", \"latent_state\", \"latent_state\", \"latent_state\", \"latent_state\", \"learner\", \"learner\", \"learner\", \"learner\", \"least_square\", \"least_square\", \"least_square\", \"least_square\", \"lifted\", \"lifted\", \"lifted\", \"lifted\", \"line_search\", \"line_search\", \"line_search\", \"line_search\", \"linear_dynamical\", \"linear_measurement\", \"linear_measurement\", \"linear_measurement\", \"linear_measurement\", \"long_short_term_memory\", \"lstm\", \"lstm\", \"lstm\", \"lstm_lstm\", \"lstms\", \"lstms\", \"machine_translation\", \"machine_translation\", \"machine_translation\", \"machine_translation\", \"margin\", \"margin\", \"margin\", \"margin\", \"marginal_likelihood\", \"marginal_likelihood\", \"marginal_likelihood\", \"marginal_likelihood\", \"market\", \"market\", \"market\", \"market\", \"markov_chain\", \"markov_chain\", \"markov_chain\", \"markov_chain\", \"matrix_completion\", \"matrix_completion\", \"matrix_completion\", \"matrix_completion\", \"matrix_completion_convex_optimization\", \"maximizing_submodular\", \"maximizing_submodular\", \"mcmc\", \"mcmc\", \"mcmc\", \"mcmc\", \"mcsherry\", \"mcsherry\", \"mean_field\", \"mean_field\", \"mean_field\", \"mean_field\", \"mechanism\", \"mechanism\", \"mechanism\", \"mechanism\", \"message\", \"message\", \"message\", \"message\", \"mini_batch\", \"mini_batch\", \"mini_batch\", \"mini_batch\", \"mixture_gaussians\", \"mixture_gaussians\", \"mixture_gaussians\", \"mixture_gaussians\", \"mixture_model\", \"mixture_model\", \"mixture_model\", \"mixture_model\", \"monotone\", \"monotone\", \"monotone\", \"monotone\", \"montanari\", \"multi_armed\", \"multi_armed\", \"multi_armed\", \"multi_armed\", \"multi_armed_bandit_problem\", \"multi_label\", \"multi_label\", \"multi_label\", \"multi_label\", \"multiarmed\", \"multiarmed_bandit\", \"multiclass\", \"multiclass\", \"multiclass\", \"multiclass\", \"multilabel\", \"multilabel\", \"multilabel\", \"multilabel\", \"neuron\", \"neuron\", \"neuron\", \"neuron\", \"nicolo_cesa\", \"nonstochastic\", \"nuclear_norm\", \"nuclear_norm\", \"nuclear_norm\", \"nuclear_norm\", \"object_detection\", \"object_detection\", \"object_detection\", \"object_detection\", \"online_learning\", \"online_learning\", \"online_learning\", \"online_learning\", \"parent\", \"parent\", \"parent\", \"parent\", \"parsing\", \"pay\", \"payoff\", \"payoff\", \"payoff\", \"phase_transition\", \"phase_transition\", \"phase_transition\", \"phase_transition\", \"pixel\", \"pixel\", \"pixel\", \"pixel\", \"player\", \"player\", \"player\", \"player\", \"point_process\", \"point_process\", \"point_process\", \"point_process\", \"poisson\", \"poisson\", \"poisson\", \"poisson\", \"policy\", \"policy\", \"policy\", \"policy\", \"polynomial_time\", \"polynomial_time\", \"polynomial_time\", \"polynomial_time\", \"pooling_layer\", \"pooling_layer\", \"pooling_layer\", \"pooling_layer\", \"population\", \"population\", \"population\", \"population\", \"posterior_approximation\", \"posterior_distribution\", \"posterior_distribution\", \"posterior_distribution\", \"posterior_distribution\", \"posterior_mean\", \"posterior_mean\", \"posterior_mean\", \"posterior_mean\", \"posterior_predictive\", \"posterior_predictive\", \"posterior_predictive\", \"power_iteration\", \"power_iteration\", \"power_iteration\", \"predictive_distribution\", \"predictive_distribution\", \"predictive_distribution\", \"predictive_distribution\", \"price\", \"price\", \"price\", \"price\", \"probabilistic_model\", \"probabilistic_model\", \"probabilistic_model\", \"probabilistic_model\", \"probability_least\", \"probability_least\", \"probability_least\", \"probability_least\", \"probability_measure\", \"probability_measure\", \"probability_measure\", \"probability_measure\", \"proposal\", \"proposal\", \"proposal\", \"proposal\", \"pyramid\", \"pyramid\", \"pyramid\", \"query\", \"query\", \"query\", \"query\", \"random_graph\", \"random_graph\", \"random_graph\", \"random_graph\", \"random_walk\", \"random_walk\", \"random_walk\", \"random_walk\", \"rank_approximation\", \"rank_approximation\", \"rank_approximation\", \"rank_approximation\", \"rank_matrix\", \"rank_matrix\", \"rank_matrix\", \"rank_matrix\", \"recognition_iclr\", \"recovery\", \"recovery\", \"recovery\", \"recovery\", \"recovery_guarantee\", \"recovery_guarantee\", \"recovery_guarantee\", \"recovery_guarantee\", \"recurrent\", \"recurrent\", \"recurrent\", \"recurrent\", \"recurrent_convolutional\", \"recurrent_convolutional\", \"recurrent_convolutional\", \"recurrent_neural\", \"recurrent_neural\", \"recurrent_neural\", \"recurrent_neural\", \"regret\", \"regret\", \"regret\", \"regret\", \"regret_bound\", \"regret_bound\", \"regret_bound\", \"regret_bound\", \"regret_minimization\", \"reinforcement_learning\", \"reinforcement_learning\", \"reinforcement_learning\", \"reinforcement_learning\", \"relative_error\", \"relative_error\", \"relative_error\", \"relative_error\", \"restricted_strong\", \"restricted_strong\", \"restricted_strong\", \"restricted_strong\", \"reward\", \"reward\", \"reward\", \"reward\", \"reward_function\", \"reward_function\", \"reward_function\", \"reward_function\", \"rnns\", \"rnns\", \"rnns\", \"rnns\", \"round\", \"round\", \"round\", \"round\", \"running_time\", \"running_time\", \"running_time\", \"running_time\", \"salakhutdinov_zemel\", \"sample_complexity\", \"sample_complexity\", \"sample_complexity\", \"sample_complexity\", \"sample_size\", \"sample_size\", \"sample_size\", \"sample_size\", \"sampler\", \"sampler\", \"sampler\", \"sampler\", \"segmentation\", \"segmentation\", \"segmentation\", \"segmentation\", \"semantic\", \"semantic\", \"semantic\", \"semantic\", \"semantic_segmentation\", \"semantic_segmentation\", \"semi_supervised\", \"semi_supervised\", \"semi_supervised\", \"semi_supervised\", \"sensory\", \"sensory\", \"sensory_input\", \"sentence\", \"sentence\", \"sentence\", \"sentence\", \"sequence_sequence\", \"sequence_sequence\", \"sequence_sequence\", \"sequence_sequence\", \"shakir_mohamed\", \"shakir_mohamed\", \"simonyan_zisserman\", \"simonyan_zisserman\", \"singular\", \"singular\", \"singular\", \"singular\", \"singular_value\", \"singular_value\", \"singular_value\", \"singular_value\", \"singular_vector\", \"singular_vector\", \"singular_vector\", \"singular_vector\", \"softmax_layer\", \"softmax_layer\", \"sparse_recovery\", \"sparse_recovery\", \"sparse_recovery\", \"sparse_recovery\", \"spatial\", \"spatial\", \"spatial\", \"spatial\", \"spectral_clustering\", \"spectral_clustering\", \"spectral_clustering\", \"spectral_clustering\", \"speech_recognition\", \"speech_recognition\", \"speech_recognition\", \"speech_recognition\", \"spike\", \"spike\", \"spike\", \"spike\", \"squared_exponential\", \"squared_exponential\", \"stack\", \"stack\", \"stack\", \"stack\", \"state_space\", \"state_space\", \"state_space\", \"state_space\", \"step_size\", \"step_size\", \"step_size\", \"step_size\", \"stimulus\", \"stimulus\", \"stimulus\", \"stimulus\", \"stochastic_bandit\", \"stochastic_nonstochastic\", \"stochastic_variational\", \"stochastic_variational\", \"strongly_convex\", \"strongly_convex\", \"strongly_convex\", \"strongly_convex\", \"submodular\", \"submodular\", \"submodular\", \"submodular\", \"submodular_function\", \"submodular_function\", \"submodular_function\", \"submodular_function\", \"submodular_maximization\", \"submodular_maximization\", \"submodular_maximization\", \"submodular_maximization\", \"submodular_optimization\", \"subspace\", \"subspace\", \"subspace\", \"subspace\", \"succeeds\", \"support_vector\", \"support_vector\", \"support_vector\", \"support_vector\", \"tell_neural\", \"tell_neural_image_caption\", \"tensor\", \"tensor\", \"tensor\", \"tensor\", \"term_memory\", \"term_memory\", \"term_memory\", \"term_memory\", \"test_error\", \"test_error\", \"test_error\", \"test_error\", \"time_series\", \"time_series\", \"time_series\", \"time_series\", \"titsias\", \"topic_model\", \"topic_model\", \"topic_model\", \"topic_model\", \"toshev\", \"trajectory\", \"trajectory\", \"trajectory\", \"trajectory\", \"trial\", \"trial\", \"trial\", \"trial\", \"tropp\", \"tropp\", \"true_label\", \"true_label\", \"true_label\", \"true_label\", \"true_posterior\", \"true_posterior\", \"true_posterior\", \"true_posterior\", \"valiant\", \"valiant\", \"valiant\", \"variational_bayes\", \"variational_bayes\", \"variational_bayes\", \"variational_bayes\", \"variational_distribution\", \"variational_inference\", \"variational_inference\", \"variational_inference\", \"variational_inference\", \"variational_lower\", \"variational_lower\", \"variational_lower\", \"variational_lower\", \"variational_parameter\", \"variational_posterior\", \"vershynin\", \"vershynin\", \"vershynin_introduction\", \"vershynin_introduction\", \"vertex\", \"vertex\", \"vertex\", \"vertex\", \"vertex_edge\", \"vertex_edge\", \"vertex_edge\", \"vertex_edge\", \"very_deep\", \"very_deep\", \"very_deep\", \"very_deep\", \"visual_attention\", \"visual_attention\", \"visual_semantic\", \"walk\", \"walk\", \"walk\", \"walk\", \"weakly_supervised\", \"weakly_supervised\", \"weighted_majority\", \"wolsey\", \"worker\", \"worker\", \"worker\", \"worker\", \"yuille\", \"zitnick\"]}, \"mdsDat\": {\"y\": [-0.024717299927258116, -0.11404963594057094, 0.07276816910798264, 0.06599876675984644], \"cluster\": [1, 1, 1, 1], \"Freq\": [30.044359026534995, 27.44124887640817, 21.399668669172716, 21.11472342788412], \"topics\": [1, 2, 3, 4], \"x\": [-0.10597830969270267, 0.05079462111675912, -0.06920034997675188, 0.12438403855269553]}, \"R\": 30, \"lambda.step\": 0.01, \"tinfo\": {\"Category\": [\"Default\", \"Default\", \"Default\", \"Default\", \"Default\", \"Default\", \"Default\", \"Default\", \"Default\", \"Default\", \"Default\", \"Default\", \"Default\", \"Default\", \"Default\", \"Default\", \"Default\", \"Default\", \"Default\", \"Default\", \"Default\", \"Default\", \"Default\", \"Default\", \"Default\", \"Default\", \"Default\", \"Default\", \"Default\", \"Default\", \"Topic1\", \"Topic1\", \"Topic1\", \"Topic1\", \"Topic1\", \"Topic1\", \"Topic1\", \"Topic1\", \"Topic1\", \"Topic1\", \"Topic1\", \"Topic1\", \"Topic1\", \"Topic1\", \"Topic1\", \"Topic1\", \"Topic1\", \"Topic1\", \"Topic1\", \"Topic1\", \"Topic1\", \"Topic1\", \"Topic1\", \"Topic1\", \"Topic1\", \"Topic1\", \"Topic1\", \"Topic1\", \"Topic1\", \"Topic1\", \"Topic1\", \"Topic1\", \"Topic1\", \"Topic1\", \"Topic1\", \"Topic1\", \"Topic1\", \"Topic1\", \"Topic1\", \"Topic1\", \"Topic1\", \"Topic1\", \"Topic1\", \"Topic1\", \"Topic1\", \"Topic1\", \"Topic1\", \"Topic1\", \"Topic1\", \"Topic1\", \"Topic1\", \"Topic1\", \"Topic1\", \"Topic1\", \"Topic1\", \"Topic1\", \"Topic1\", \"Topic1\", \"Topic1\", \"Topic1\", \"Topic1\", \"Topic1\", \"Topic1\", \"Topic1\", \"Topic2\", \"Topic2\", \"Topic2\", \"Topic2\", \"Topic2\", \"Topic2\", \"Topic2\", \"Topic2\", \"Topic2\", \"Topic2\", \"Topic2\", \"Topic2\", \"Topic2\", \"Topic2\", \"Topic2\", \"Topic2\", \"Topic2\", \"Topic2\", \"Topic2\", \"Topic2\", \"Topic2\", \"Topic2\", \"Topic2\", \"Topic2\", \"Topic2\", \"Topic2\", \"Topic2\", \"Topic2\", \"Topic2\", \"Topic2\", \"Topic2\", \"Topic2\", \"Topic2\", \"Topic2\", \"Topic2\", \"Topic2\", \"Topic2\", \"Topic2\", \"Topic2\", \"Topic2\", \"Topic2\", \"Topic2\", \"Topic2\", \"Topic2\", \"Topic2\", \"Topic2\", \"Topic2\", \"Topic2\", \"Topic2\", \"Topic2\", \"Topic2\", \"Topic2\", \"Topic2\", \"Topic2\", \"Topic2\", \"Topic2\", \"Topic2\", \"Topic2\", \"Topic2\", \"Topic2\", \"Topic2\", \"Topic2\", \"Topic2\", \"Topic2\", \"Topic2\", \"Topic2\", \"Topic2\", \"Topic2\", \"Topic2\", \"Topic2\", \"Topic3\", \"Topic3\", \"Topic3\", \"Topic3\", \"Topic3\", \"Topic3\", \"Topic3\", \"Topic3\", \"Topic3\", \"Topic3\", \"Topic3\", \"Topic3\", \"Topic3\", \"Topic3\", \"Topic3\", \"Topic3\", \"Topic3\", \"Topic3\", \"Topic3\", \"Topic3\", \"Topic3\", \"Topic3\", \"Topic3\", \"Topic3\", \"Topic3\", \"Topic3\", \"Topic3\", \"Topic3\", \"Topic3\", \"Topic3\", \"Topic3\", \"Topic3\", \"Topic3\", \"Topic3\", \"Topic3\", \"Topic3\", \"Topic3\", \"Topic3\", \"Topic3\", \"Topic3\", \"Topic3\", \"Topic3\", \"Topic3\", \"Topic3\", \"Topic3\", \"Topic3\", \"Topic3\", \"Topic3\", \"Topic3\", \"Topic3\", \"Topic3\", \"Topic3\", \"Topic3\", \"Topic3\", \"Topic3\", \"Topic3\", \"Topic3\", \"Topic3\", \"Topic3\", \"Topic3\", \"Topic3\", \"Topic3\", \"Topic3\", \"Topic3\", \"Topic3\", \"Topic4\", \"Topic4\", \"Topic4\", \"Topic4\", \"Topic4\", \"Topic4\", \"Topic4\", \"Topic4\", \"Topic4\", \"Topic4\", \"Topic4\", \"Topic4\", \"Topic4\", \"Topic4\", \"Topic4\", \"Topic4\", \"Topic4\", \"Topic4\", \"Topic4\", \"Topic4\", \"Topic4\", \"Topic4\", \"Topic4\", \"Topic4\", \"Topic4\", \"Topic4\", \"Topic4\", \"Topic4\", \"Topic4\", \"Topic4\", \"Topic4\", \"Topic4\", \"Topic4\", \"Topic4\", \"Topic4\", \"Topic4\", \"Topic4\", \"Topic4\", \"Topic4\", \"Topic4\", \"Topic4\", \"Topic4\", \"Topic4\", \"Topic4\", \"Topic4\", \"Topic4\", \"Topic4\", \"Topic4\", \"Topic4\", \"Topic4\", \"Topic4\", \"Topic4\", \"Topic4\", \"Topic4\", \"Topic4\", \"Topic4\", \"Topic4\", \"Topic4\", \"Topic4\", \"Topic4\", \"Topic4\", \"Topic4\", \"Topic4\", \"Topic4\", \"Topic4\", \"Topic4\", \"Topic4\", \"Topic4\", \"Topic4\", \"Topic4\", \"Topic4\", \"Topic4\", \"Topic4\"], \"Term\": [\"regret\", \"bandit\", \"gaussian_process\", \"matrix_completion\", \"variational_inference\", \"lstm\", \"convolutional\", \"regret_bound\", \"fully_connected\", \"recurrent_neural\", \"rank_matrix\", \"recurrent\", \"submodular\", \"game\", \"proposal\", \"sample_complexity\", \"active_learning\", \"segmentation\", \"online_learning\", \"posterior_distribution\", \"player\", \"generative_model\", \"topic_model\", \"sentence\", \"pixel\", \"gibbs_sampling\", \"singular_value\", \"random_walk\", \"recovery\", \"submodular_function\", \"submodular_function\", \"power_iteration\", \"incoherence\", \"exact_recovery\", \"restricted_strong\", \"maximizing_submodular\", \"submodular\", \"spectral_clustering\", \"linear_measurement\", \"phase_transition\", \"montanari\", \"succeeds\", \"matrix_completion\", \"lifted\", \"random_graph\", \"vertex_edge\", \"mcsherry\", \"submodular_optimization\", \"valiant\", \"vershynin\", \"wolsey\", \"dantzig_selector\", \"vershynin_introduction\", \"recovery_guarantee\", \"tropp\", \"bipartite_graph\", \"sparse_recovery\", \"matrix_completion_convex_optimization\", \"singular_vector\", \"donoho\", \"recovery\", \"rank_matrix\", \"greedy_algorithm\", \"submodular_maximization\", \"singular_value\", \"singular\", \"rank_approximation\", \"approximation_guarantee\", \"completion\", \"monotone\", \"random_walk\", \"nuclear_norm\", \"sample_complexity\", \"convex_relaxation\", \"walk\", \"lasso\", \"item\", \"compressed_sensing\", \"line_search\", \"vertex\", \"greedy\", \"estimation_error\", \"polynomial_time\", \"relative_error\", \"probability_least\", \"running_time\", \"markov_chain\", \"subspace\", \"eigenvalue\", \"sample_size\", \"cover\", \"tensor\", \"least_square\", \"convergence_rate\", \"topic_model\", \"linear_dynamical\", \"stochastic_variational\", \"approximate_posterior\", \"bayesian_nonparametric\", \"firing\", \"latent_state\", \"variational_parameter\", \"black_variational\", \"variational_distribution\", \"latent_dirichlet\", \"posterior_mean\", \"spike\", \"blei_jordan\", \"posterior_predictive\", \"sensory\", \"sensory_input\", \"mixture_gaussians\", \"variational_posterior\", \"posterior_approximation\", \"titsias\", \"stimulus\", \"posterior_distribution\", \"causal\", \"full_posterior\", \"conjugacy\", \"dirichlet_distribution\", \"shakir_mohamed\", \"squared_exponential\", \"point_process\", \"gibbs_sampling\", \"true_posterior\", \"hidden_variable\", \"dirichlet_process\", \"gaussian_process\", \"variational_inference\", \"variational_lower\", \"mcmc\", \"dirichlet\", \"mean_field\", \"predictive_distribution\", \"sampler\", \"mixture_model\", \"marginal_likelihood\", \"trajectory\", \"bayesian_network\", \"gibbs\", \"generative_model\", \"neuron\", \"poisson\", \"hidden_markov\", \"bayesian_inference\", \"parent\", \"variational_bayes\", \"latent_space\", \"probabilistic_model\", \"covariance_matrix\", \"gibbs_sampler\", \"reward_function\", \"policy\", \"population\", \"time_series\", \"exponential_family\", \"trial\", \"document\", \"state_space\", \"reinforcement_learning\", \"hidden_layer\", \"hidden_unit\", \"markov_chain\", \"bandit_problem\", \"weighted_majority\", \"regret_minimization\", \"bianchi\", \"cesa\", \"player\", \"nicolo_cesa\", \"bubeck_cesa\", \"bubeck\", \"multiarmed_bandit\", \"regret_bound\", \"multilabel\", \"regret\", \"multi_armed_bandit_problem\", \"stochastic_bandit\", \"fischer_finite\", \"bianchi_regret\", \"stochastic_nonstochastic\", \"game_cambridge\", \"bandit\", \"multiarmed\", \"bianchi_lugosi\", \"nonstochastic\", \"cesa_bianchi\", \"payoff\", \"market\", \"arm\", \"crammer\", \"pay\", \"bandit_feedback\", \"multi_armed\", \"crowdsourcing\", \"worker\", \"multi_label\", \"armed\", \"expected_reward\", \"auer\", \"game\", \"price\", \"true_label\", \"asynchronous\", \"online_learning\", \"generalization_bound\", \"equilibrium\", \"bandit_setting\", \"multiclass\", \"strongly_convex\", \"learner\", \"margin\", \"round\", \"coordinate_descent\", \"step_size\", \"gradient_descent\", \"convergence_rate\", \"empirical_risk\", \"embedding\", \"agent\", \"hinge_loss\", \"mechanism\", \"probability_measure\", \"reward\", \"support_vector\", \"test_error\", \"mini_batch\", \"data_set\", \"lstm\", \"semantic_segmentation\", \"lstm_lstm\", \"image_caption\", \"parsing\", \"caption\", \"lstms\", \"object_detection\", \"input_sequence\", \"visual_semantic\", \"softmax_layer\", \"tell_neural\", \"fully_convolutional\", \"weakly_supervised\", \"machine_translation\", \"recurrent_convolutional\", \"pyramid\", \"salakhutdinov_zemel\", \"long_short_term_memory\", \"stack\", \"zitnick\", \"recognition_iclr\", \"sentence\", \"sequence_sequence\", \"crfs\", \"language_model\", \"bahdanau\", \"tell_neural_image_caption\", \"toshev\", \"simonyan_zisserman\", \"segmentation\", \"yuille\", \"very_deep\", \"language_modeling\", \"fully_connected\", \"encoder_decoder\", \"visual_attention\", \"rnns\", \"pooling_layer\", \"input_image\", \"recurrent_neural\", \"convolutional\", \"image_segmentation\", \"pixel\", \"convolutional_network\", \"during_training\", \"deep_convolutional\", \"convolutional_layer\", \"recurrent\", \"proposal\", \"active_learning\", \"speech_recognition\", \"encoder\", \"convolutional_neural\", \"conv\", \"term_memory\", \"query\", \"semantic\", \"cvpr\", \"frame\", \"ground_truth\", \"answer\", \"deep_learning\", \"deep_neural\", \"spatial\", \"feature_map\", \"deep_network\", \"graphical_model\", \"tensor\", \"hidden_unit\", \"input_output\", \"message\", \"semi_supervised\"], \"loglift\": [30.0, 29.0, 28.0, 27.0, 26.0, 25.0, 24.0, 23.0, 22.0, 21.0, 20.0, 19.0, 18.0, 17.0, 16.0, 15.0, 14.0, 13.0, 12.0, 11.0, 10.0, 9.0, 8.0, 7.0, 6.0, 5.0, 4.0, 3.0, 2.0, 1.0, 1.1899, 1.1802, 1.1762, 1.174, 1.1714, 1.1704, 1.1693, 1.1683, 1.1671, 1.1667, 1.1654, 1.1646, 1.1628, 1.1624, 1.1623, 1.1589, 1.1584, 1.1583, 1.1545, 1.1544, 1.1543, 1.1537, 1.1521, 1.1519, 1.1505, 1.1476, 1.1473, 1.147, 1.1461, 1.1455, 1.1415, 1.1371, 1.1386, 1.1453, 1.125, 1.1311, 1.1222, 1.127, 1.1157, 1.1162, 1.0825, 1.0936, 1.0457, 1.0965, 1.0675, 1.0618, 0.9933, 1.0636, 1.0064, 0.9705, 0.9875, 1.0225, 1.002, 1.0284, 0.9029, 0.8106, 0.7271, 0.9318, 0.9538, 0.6794, 0.8606, 0.6035, 0.7975, 0.1213, 1.2849, 1.2846, 1.2838, 1.2832, 1.2818, 1.2809, 1.2798, 1.2789, 1.2773, 1.277, 1.2763, 1.2736, 1.2736, 1.2728, 1.2725, 1.2696, 1.2691, 1.2673, 1.2655, 1.2626, 1.262, 1.2615, 1.2614, 1.2597, 1.2589, 1.2586, 1.2548, 1.2534, 1.2521, 1.251, 1.2454, 1.247, 1.2434, 1.2484, 1.2174, 1.2115, 1.2428, 1.2206, 1.2333, 1.22, 1.2385, 1.2138, 1.1964, 1.1908, 1.1503, 1.1769, 1.1599, 1.0951, 1.1311, 1.1605, 1.1854, 1.1429, 1.191, 1.2046, 1.1949, 1.0447, 0.746, 1.0568, 0.9314, 0.7097, 0.9186, 0.8222, 0.8009, 0.9475, 0.6846, 0.7046, 0.8047, 0.7233, 0.5861, 0.1953, 1.5283, 1.525, 1.5246, 1.5228, 1.5226, 1.5192, 1.5191, 1.5187, 1.517, 1.5161, 1.514, 1.5128, 1.5122, 1.5119, 1.5111, 1.5086, 1.5085, 1.5083, 1.5053, 1.505, 1.504, 1.5039, 1.503, 1.4991, 1.4975, 1.4965, 1.4943, 1.4928, 1.4928, 1.4901, 1.4768, 1.4843, 1.4655, 1.4581, 1.4591, 1.4684, 1.4831, 1.4082, 1.4222, 1.4396, 1.4084, 1.3401, 1.4215, 1.4102, 1.4294, 1.4098, 1.2465, 1.2759, 1.2262, 1.0939, 1.1907, 0.9735, 0.9779, 0.9016, 1.0855, 0.8575, 0.9447, 1.1329, 0.8666, 1.1262, 0.7029, 0.8214, 0.8911, 0.8085, 0.0828, 1.5519, 1.5463, 1.5454, 1.5449, 1.5434, 1.5429, 1.5399, 1.5389, 1.5381, 1.5359, 1.5339, 1.5335, 1.5333, 1.5329, 1.5308, 1.5302, 1.53, 1.5299, 1.5298, 1.5287, 1.5263, 1.5253, 1.5243, 1.524, 1.5239, 1.5195, 1.5189, 1.5185, 1.5175, 1.5168, 1.4922, 1.5139, 1.499, 1.4972, 1.4418, 1.4862, 1.5028, 1.4916, 1.4804, 1.493, 1.4151, 1.3994, 1.4529, 1.4112, 1.4214, 1.3966, 1.4196, 1.428, 1.3433, 1.3371, 1.3012, 1.3946, 1.3976, 1.3067, 1.4174, 1.4528, 1.1568, 1.3362, 1.3503, 1.1809, 0.923, 1.1472, 0.9586, 1.1301, 1.0856, 1.1715, 1.1197, 0.6462, 0.6373, 0.7575, 1.1517, 1.1456, 0.8268], \"Freq\": [1164.0, 672.0, 896.0, 735.0, 776.0, 461.0, 659.0, 475.0, 577.0, 526.0, 700.0, 560.0, 583.0, 528.0, 566.0, 899.0, 644.0, 428.0, 555.0, 466.0, 351.0, 785.0, 398.0, 342.0, 439.0, 453.0, 570.0, 620.0, 490.0, 385.0, 381.0732804845486, 114.0703581605749, 73.45860255838313, 173.06412574337517, 77.05825834731516, 68.25833120524916, 564.8279331749635, 155.13839799253955, 116.22841832444395, 130.23175721429803, 32.60701567445033, 19.282420213822117, 706.6698436060154, 202.6784945017746, 68.10973634887624, 66.08226182753695, 24.891268934680692, 17.363452275640842, 33.22000166253979, 36.13978604660589, 12.603747938959263, 75.31744770230188, 21.060244374883634, 56.37654139834902, 32.27333471726759, 163.55918493519243, 136.45225839816644, 11.65024316676277, 190.94204657043605, 20.114670883414128, 461.1195624186575, 656.617671034274, 385.37335721797194, 122.03901952125709, 528.4243703674803, 285.63255710384624, 307.4469463641337, 198.77233021238683, 313.7107695590699, 193.9620898946264, 549.94541405047, 335.2147862107364, 769.2364767058258, 206.0041032071729, 283.32105811222306, 275.1593045282873, 485.95074170510674, 233.71060664424186, 400.41959759434883, 528.3367486179143, 456.3678319648743, 329.58793946375584, 347.85247237249274, 285.8479879337233, 446.74097718694526, 471.11599277457543, 500.4107651756644, 305.9081707952527, 274.2632429308881, 386.22718337366376, 281.4429794808066, 365.43696611500246, 289.1294874421938, 324.0948550650801, 395.13542865234547, 107.10060797368607, 154.7561534956953, 208.03664347100366, 106.10771790390308, 107.95390755756931, 179.66112963161083, 52.7010917086601, 42.37920119696053, 73.2423406227667, 147.65258774941316, 212.49583286651904, 169.52876800626802, 44.21464935139631, 83.35369640203778, 55.34172262413159, 42.29453959004934, 153.13966754144556, 20.800585941683487, 22.671367489052013, 22.678266460041517, 174.49668294817187, 451.8915075106433, 311.5351213102677, 78.02556900790316, 19.855122558566336, 17.976337012722233, 36.351366853994975, 55.56476895659018, 180.97474356778488, 432.2417010811875, 169.0476113979117, 226.66054916930662, 127.0689160284641, 831.5415281966525, 715.7259064173757, 138.49126701113772, 342.58194270489395, 211.62555444618025, 310.8064186005178, 155.4863932631819, 344.6547631672278, 310.3836845089841, 281.6251437444994, 444.8491926197796, 308.8991630898525, 370.59522170332497, 644.4451367880633, 407.9421209558299, 300.75945795091064, 245.4112732443395, 285.9495660516251, 210.14896825630328, 196.65147157851666, 201.09049899839036, 274.0533459925963, 416.1099268286265, 240.76140308305492, 288.21670635488374, 380.08320641531424, 282.9645080114908, 297.9700362827843, 286.71693161610256, 253.4309911427989, 291.9761601233348, 288.19832158757026, 271.460716562482, 280.04961106573387, 267.88788648708163, 268.5332494979533, 262.42999272590924, 61.971369406166914, 67.56409575074824, 84.24448140290691, 84.23610023575172, 343.4963862307373, 41.36489458826817, 26.40874402585489, 63.58976716757181, 41.31130680573843, 462.0704444097392, 122.94723442426059, 1130.7436118133498, 37.55629154883969, 21.72030767769161, 30.984194705083098, 33.7605796360195, 30.055026089842162, 25.410522543442305, 647.6953213578001, 20.753807123702696, 21.667237279134643, 20.73816264008258, 43.68689667403729, 56.33595412344268, 262.8405729329657, 166.8247359866565, 19.7225022348912, 18.812885352985965, 109.2692634997429, 280.8292354600991, 74.16370897879003, 251.94141362509308, 303.16489033668495, 158.55111877668426, 113.12504725436428, 57.30115515046351, 462.426422960028, 227.33250847582607, 124.8376105304938, 201.0569488453333, 454.39960206582185, 129.3725945108606, 137.499821991906, 91.50777869006565, 104.75137488603059, 362.87879856057526, 236.43970500449612, 253.04009008510675, 321.14163527412256, 221.86979876627555, 474.60832071481144, 445.0242040304919, 503.7148909560976, 243.65129593442373, 315.3233059106594, 260.86090242247985, 177.97348484043897, 236.67598859859228, 177.78472613991102, 232.76844982610058, 204.25521111877484, 197.85419233942554, 184.01689829718663, 181.4523936036308, 459.9576057398887, 151.54421590101433, 88.2895846908743, 77.28876017086996, 81.8672381118408, 76.34008195479751, 93.52571433089145, 246.3160715938682, 48.82805794136285, 46.95731299450841, 57.83050781290769, 27.707681741858508, 52.384054939171875, 63.35526290070786, 188.90927804886314, 65.99960694729982, 79.52309565918452, 33.19162388618232, 39.59751836220074, 186.7081197271375, 26.760945427679026, 20.356765026187144, 332.51835535050554, 158.1110835845751, 27.665230899603525, 35.78408748850508, 24.90770979592373, 13.923443192280068, 13.001706637004409, 35.73019559999196, 402.75655451662686, 23.882747721608812, 94.34715082086218, 77.74955106061499, 515.4810744472887, 113.65311777139961, 59.07747281783137, 77.83767790533312, 101.89330192231267, 74.50539928872838, 457.22253803712846, 564.5675865383853, 190.97504202203743, 380.7334286357038, 290.71032679407085, 341.9296825097651, 213.60160414420758, 174.0706169547973, 453.76947378573414, 455.46248271757963, 500.1188654694031, 198.8953316070295, 181.96364229763662, 327.9515346032981, 146.42273650369268, 121.33344369122715, 433.2710441510137, 193.91921607537444, 169.0665696832351, 228.4946761468949, 422.0820084697969, 245.51050525929287, 336.9933647169462, 223.37153572046356, 231.31722807182362, 212.2717425415726, 216.31264146031154, 298.2919598752088, 265.6540701602082, 244.65439988988243, 207.58422178263416, 207.2158915089811, 215.1039614325236], \"Total\": [1164.0, 672.0, 896.0, 735.0, 776.0, 461.0, 659.0, 475.0, 577.0, 526.0, 700.0, 560.0, 583.0, 528.0, 566.0, 899.0, 644.0, 428.0, 555.0, 466.0, 351.0, 785.0, 398.0, 342.0, 439.0, 453.0, 570.0, 620.0, 490.0, 385.0, 385.9174167967326, 116.64323693344105, 75.41344569457065, 178.06251428282428, 79.48837852550845, 70.48583430354387, 583.8975141421992, 160.54064688303006, 120.41163460742685, 134.98061733025662, 33.84079049433547, 20.027884951797834, 735.2778399498764, 210.97329884512735, 70.90583776336968, 69.02751016990321, 26.013384376847267, 18.147711692240236, 34.852373429594024, 37.92133234942617, 13.226578975224378, 79.0830836225813, 22.147806896251318, 59.301801329286064, 33.99482784843314, 172.79495980906663, 144.18863428621228, 12.315447064655862, 202.0167131935281, 21.29523571695054, 490.0998115449877, 700.9677187253715, 410.7962559230063, 129.22395612342027, 570.9940924350126, 306.78256138020055, 333.16389811830186, 214.36576434623007, 342.14694601895076, 211.4389627122169, 620.0435035070863, 373.79815454780777, 899.8161650360336, 229.0304470694869, 324.262781550396, 316.7142045932268, 599.0040349422108, 268.52660675053056, 487.16138495501235, 666.2672704596494, 565.804391498443, 394.6053882712978, 425.0958000746143, 340.21243471498934, 602.763949886809, 697.1519739612684, 804.9507531017389, 401.0067958569714, 351.689994806182, 651.6511951042025, 396.17349285298224, 665.2305444219315, 433.5116843748817, 955.5133999456871, 398.39209579493456, 108.01811592869234, 156.20654574523664, 210.1009720299348, 107.3206431549751, 109.28321959100055, 182.07413539555643, 53.455429327903154, 43.05518834075672, 74.4333451515664, 150.1587499687628, 216.68241146206995, 172.87770846957426, 45.120403382613354, 85.09472093255178, 56.65688951783118, 43.32490137466951, 157.15151841105958, 21.383107706009504, 23.374281608579643, 23.395530554532876, 180.0962865565708, 466.4598812964814, 322.1186479427231, 80.7440775346985, 20.55274974099912, 18.677719293659354, 37.8256148816235, 57.89437536788771, 188.76523748574633, 453.38310798355616, 177.0266916638675, 238.21265753505264, 132.87804865054284, 896.9681223973082, 776.5700871807309, 145.63866506623538, 368.3418134280576, 224.67205501295334, 334.3891379621051, 164.21171942931545, 373.1119451688911, 341.9096270493888, 311.9631875971974, 513.1282228235777, 346.97852627461504, 423.3910604802052, 785.5531745566757, 479.68044041627, 343.4193504781795, 273.32962505122316, 332.3128516514209, 232.7502149835843, 214.8530887020524, 221.838921655654, 351.34899422271025, 719.1198516242987, 304.93509255672217, 413.82745356549015, 681.1395989368425, 411.5019894960824, 477.17796349379165, 469.05109898769604, 358.0564746397441, 536.5515745628456, 519.1458194211372, 442.3949765082268, 495.1245030212316, 543.2392921937196, 804.9507531017389, 265.98565933843224, 63.01852803230729, 68.73293071361098, 85.8638704215664, 85.8693755278312, 351.3510238527377, 42.31263563139751, 27.024802337592586, 65.18616617213317, 42.384523171460906, 475.1074276366895, 126.56683048703212, 1164.7049491060163, 38.69739122071362, 22.397765176393055, 32.03038334284368, 34.90286349401674, 31.07901025419834, 26.35430469564002, 672.003784420182, 21.552336068156322, 22.503415970748236, 21.55938227135687, 45.59247833580793, 58.88813453432226, 275.0198987683636, 174.94277506997264, 20.712950585105116, 19.757703632435533, 115.0651662842338, 299.6913713406049, 78.54974062384595, 271.9261562033991, 329.63757124153, 172.22219494105295, 121.74218807503001, 60.763993679530586, 528.5253382308773, 256.2203932991066, 138.2666476570846, 229.74583536440232, 555.9476653181538, 145.91017050581476, 156.83296528840606, 102.39295451875402, 119.53525774476745, 487.5376522883437, 308.4536645101943, 346.94119118037895, 502.5953404475815, 315.1943516439102, 837.7723556049924, 782.1546290011225, 955.5133999456871, 384.52677326734675, 625.0928276419561, 473.9480744650636, 267.8742855860607, 464.9233003271545, 269.40208022142485, 538.594637423238, 419.7745389159185, 379.26373742434237, 383.1167364029485, 780.5113510057782, 461.4941378236967, 152.90262987589438, 89.16046976538573, 78.08903791566092, 82.84288190031221, 77.28128331423467, 94.96867927116466, 250.3639026614955, 49.67031734460507, 47.87448184612049, 59.075599524938696, 28.31516024514156, 53.54324939548868, 64.78410381980808, 193.57251269033225, 67.6701323104745, 81.54878793637056, 34.04062829459254, 40.61665292827218, 191.7284173580704, 27.546768464686053, 20.974588468187452, 342.9670547233808, 163.12512372859268, 28.543936215877228, 37.08640057396724, 25.82921353547966, 14.443840251289645, 13.501838985810647, 37.12932695024244, 428.9392993846494, 24.890036498277695, 99.8051758752939, 82.39135450130543, 577.3838710132981, 121.76753228911532, 62.25779386614616, 82.94954657352058, 109.81135038401334, 79.2889023318931, 526.0013006916512, 659.7805704366045, 211.53669295466008, 439.69961543457765, 332.3344104737963, 400.69581741808736, 244.6131810763091, 197.68634661521855, 560.8528891027133, 566.4832845067501, 644.7252937163673, 233.53833477119025, 213.02683558318722, 420.45167960484355, 168.0558303707169, 134.4174829512028, 645.3033825848484, 241.4063741105925, 207.51195577292285, 332.2221680596211, 794.2792090564408, 369.2111628257225, 611.935183776886, 341.70332092700403, 369.9602513671165, 311.5544761791118, 334.37751067449665, 740.279569779738, 665.2305444219315, 543.2392921937196, 310.77984906436336, 312.110878947232, 445.63197879275197], \"logprob\": [30.0, 29.0, 28.0, 27.0, 26.0, 25.0, 24.0, 23.0, 22.0, 21.0, 20.0, 19.0, 18.0, 17.0, 16.0, 15.0, 14.0, 13.0, 12.0, 11.0, 10.0, 9.0, 8.0, 7.0, 6.0, 5.0, 4.0, 3.0, 2.0, 1.0, -5.8541, -7.0602, -7.5003, -6.6434, -7.4525, -7.5738, -5.4605, -6.7527, -7.0415, -6.9277, -8.3125, -8.8379, -5.2365, -6.4854, -7.5759, -7.6062, -8.5825, -8.9427, -8.2939, -8.2097, -9.2631, -7.4753, -8.7497, -7.765, -8.3228, -6.6999, -6.8811, -9.3417, -6.5451, -8.7956, -5.6634, -5.31, -5.8428, -6.9927, -5.5272, -6.1423, -6.0688, -6.5049, -6.0486, -6.5294, -5.4872, -5.9823, -5.1517, -6.4692, -6.1505, -6.1797, -5.6109, -6.343, -5.8045, -5.5273, -5.6738, -5.9992, -5.9453, -6.1416, -5.6951, -5.6419, -5.5816, -6.0738, -6.183, -5.8406, -6.1571, -5.896, -6.1302, -6.016, -5.7272, -7.0327, -6.6646, -6.3687, -7.042, -7.0247, -6.5154, -7.7418, -7.9598, -7.4127, -6.7116, -6.3475, -6.5734, -7.9174, -7.2833, -7.6929, -7.9618, -6.6751, -8.6714, -8.5853, -8.585, -6.5445, -5.593, -5.9649, -7.3494, -8.718, -8.8174, -8.1132, -7.6889, -6.5081, -5.6374, -6.5762, -6.283, -6.8617, -4.9831, -5.1331, -6.7756, -5.8699, -6.3516, -5.9673, -6.6599, -5.8639, -5.9686, -6.0658, -5.6087, -5.9734, -5.7913, -5.238, -5.6953, -6.0001, -6.2035, -6.0506, -6.3586, -6.425, -6.4027, -6.0931, -5.6755, -6.2226, -6.0427, -5.766, -6.0611, -6.0094, -6.0479, -6.1713, -6.0298, -6.0428, -6.1026, -6.0715, -6.1159, -6.1135, -5.8878, -7.3311, -7.2447, -7.024, -7.0241, -5.6186, -7.7353, -8.1841, -7.3053, -7.7366, -5.322, -6.646, -4.4271, -7.8319, -8.3795, -8.0243, -7.9385, -8.0547, -8.2226, -4.9843, -8.425, -8.382, -8.4258, -7.6807, -7.4264, -5.8862, -6.3408, -8.476, -8.5232, -6.7639, -5.82, -7.1515, -5.9286, -5.7435, -6.3917, -6.7293, -7.4094, -5.3213, -6.0313, -6.6307, -6.1542, -5.3388, -6.5951, -6.5341, -6.9413, -6.8062, -5.5637, -5.9921, -5.9242, -5.6859, -6.0557, -5.2953, -5.3596, -5.2357, -5.962, -5.7042, -5.8938, -6.2761, -5.9911, -6.2772, -6.0077, -6.1384, -6.1702, -6.2427, -6.2568, -5.3132, -6.4235, -6.9637, -7.0968, -7.0393, -7.1092, -6.9061, -5.9377, -7.556, -7.5951, -7.3868, -8.1226, -7.4857, -7.2956, -6.2031, -7.2547, -7.0683, -7.9421, -7.7656, -6.2148, -8.1574, -8.4309, -5.6377, -6.3811, -8.1242, -7.8668, -8.2292, -8.8108, -8.8793, -7.8684, -5.446, -8.2712, -6.8974, -7.0909, -5.1992, -6.7112, -7.3655, -7.0897, -6.8204, -7.1335, -5.3192, -5.1083, -6.1922, -5.5023, -5.772, -5.6097, -6.0802, -6.2849, -5.3268, -5.323, -5.2295, -6.1516, -6.2405, -5.6515, -6.4579, -6.6458, -5.373, -6.1769, -6.3141, -6.0128, -5.3991, -5.941, -5.6243, -6.0355, -6.0006, -6.0865, -6.0676, -5.7463, -5.8622, -5.9445, -6.1088, -6.1106, -6.0732]}};\n",
       "\n",
       "function LDAvis_load_lib(url, callback){\n",
       "  var s = document.createElement('script');\n",
       "  s.src = url;\n",
       "  s.async = true;\n",
       "  s.onreadystatechange = s.onload = callback;\n",
       "  s.onerror = function(){console.warn(\"failed to load library \" + url);};\n",
       "  document.getElementsByTagName(\"head\")[0].appendChild(s);\n",
       "}\n",
       "\n",
       "if(typeof(LDAvis) !== \"undefined\"){\n",
       "   // already loaded: just create the visualization\n",
       "   !function(LDAvis){\n",
       "       new LDAvis(\"#\" + \"ldavis_el3901448418435367850239296\", ldavis_el3901448418435367850239296_data);\n",
       "   }(LDAvis);\n",
       "}else if(typeof define === \"function\" && define.amd){\n",
       "   // require.js is available: use it to load d3/LDAvis\n",
       "   require.config({paths: {d3: \"https://cdnjs.cloudflare.com/ajax/libs/d3/3.5.5/d3.min\"}});\n",
       "   require([\"d3\"], function(d3){\n",
       "      window.d3 = d3;\n",
       "      LDAvis_load_lib(\"https://cdn.rawgit.com/bmabey/pyLDAvis/files/ldavis.v1.0.0.js\", function(){\n",
       "        new LDAvis(\"#\" + \"ldavis_el3901448418435367850239296\", ldavis_el3901448418435367850239296_data);\n",
       "      });\n",
       "    });\n",
       "}else{\n",
       "    // require.js not available: dynamically load d3 & LDAvis\n",
       "    LDAvis_load_lib(\"https://cdnjs.cloudflare.com/ajax/libs/d3/3.5.5/d3.min.js\", function(){\n",
       "         LDAvis_load_lib(\"https://cdn.rawgit.com/bmabey/pyLDAvis/files/ldavis.v1.0.0.js\", function(){\n",
       "                 new LDAvis(\"#\" + \"ldavis_el3901448418435367850239296\", ldavis_el3901448418435367850239296_data);\n",
       "            })\n",
       "         });\n",
       "}\n",
       "</script>"
      ],
      "text/plain": [
       "PreparedData(topic_coordinates=            Freq  cluster  topics         x         y\n",
       "topic                                                \n",
       "1      30.044359        1       1 -0.105978 -0.024717\n",
       "2      27.441249        1       2  0.050795 -0.114050\n",
       "0      21.399669        1       3 -0.069200  0.072768\n",
       "3      21.114723        1       4  0.124384  0.065999, topic_info=     Category         Freq                    Term        Total  loglift  \\\n",
       "term                                                                       \n",
       "1936  Default  1164.000000                  regret  1164.000000  30.0000   \n",
       "5563  Default   672.000000                  bandit   672.000000  29.0000   \n",
       "2620  Default   896.000000        gaussian_process   896.000000  28.0000   \n",
       "3402  Default   735.000000       matrix_completion   735.000000  27.0000   \n",
       "3193  Default   776.000000   variational_inference   776.000000  26.0000   \n",
       "3242  Default   461.000000                    lstm   461.000000  25.0000   \n",
       "4232  Default   659.000000           convolutional   659.000000  24.0000   \n",
       "316   Default   475.000000            regret_bound   475.000000  23.0000   \n",
       "1746  Default   577.000000         fully_connected   577.000000  22.0000   \n",
       "5477  Default   526.000000        recurrent_neural   526.000000  21.0000   \n",
       "1739  Default   700.000000             rank_matrix   700.000000  20.0000   \n",
       "1796  Default   560.000000               recurrent   560.000000  19.0000   \n",
       "5037  Default   583.000000              submodular   583.000000  18.0000   \n",
       "2596  Default   528.000000                    game   528.000000  17.0000   \n",
       "4429  Default   566.000000                proposal   566.000000  16.0000   \n",
       "3137  Default   899.000000       sample_complexity   899.000000  15.0000   \n",
       "1227  Default   644.000000         active_learning   644.000000  14.0000   \n",
       "5351  Default   428.000000            segmentation   428.000000  13.0000   \n",
       "3628  Default   555.000000         online_learning   555.000000  12.0000   \n",
       "2090  Default   466.000000  posterior_distribution   466.000000  11.0000   \n",
       "1590  Default   351.000000                  player   351.000000  10.0000   \n",
       "2217  Default   785.000000        generative_model   785.000000   9.0000   \n",
       "2355  Default   398.000000             topic_model   398.000000   8.0000   \n",
       "3331  Default   342.000000                sentence   342.000000   7.0000   \n",
       "2762  Default   439.000000                   pixel   439.000000   6.0000   \n",
       "1019  Default   453.000000          gibbs_sampling   453.000000   5.0000   \n",
       "3785  Default   570.000000          singular_value   570.000000   4.0000   \n",
       "4213  Default   620.000000             random_walk   620.000000   3.0000   \n",
       "1601  Default   490.000000                recovery   490.000000   2.0000   \n",
       "5223  Default   385.000000     submodular_function   385.000000   1.0000   \n",
       "...       ...          ...                     ...          ...      ...   \n",
       "2762   Topic4   380.733429                   pixel   439.699615   1.4112   \n",
       "4793   Topic4   290.710327   convolutional_network   332.334410   1.4214   \n",
       "2247   Topic4   341.929683         during_training   400.695817   1.3966   \n",
       "1625   Topic4   213.601604      deep_convolutional   244.613181   1.4196   \n",
       "5491   Topic4   174.070617     convolutional_layer   197.686347   1.4280   \n",
       "1796   Topic4   453.769474               recurrent   560.852889   1.3433   \n",
       "4429   Topic4   455.462483                proposal   566.483285   1.3371   \n",
       "1227   Topic4   500.118865         active_learning   644.725294   1.3012   \n",
       "5359   Topic4   198.895332      speech_recognition   233.538335   1.3946   \n",
       "1884   Topic4   181.963642                 encoder   213.026836   1.3976   \n",
       "4620   Topic4   327.951535    convolutional_neural   420.451680   1.3067   \n",
       "1784   Topic4   146.422737                    conv   168.055830   1.4174   \n",
       "5859   Topic4   121.333444             term_memory   134.417483   1.4528   \n",
       "4165   Topic4   433.271044                   query   645.303383   1.1568   \n",
       "2273   Topic4   193.919216                semantic   241.406374   1.3362   \n",
       "3700   Topic4   169.066570                    cvpr   207.511956   1.3503   \n",
       "1374   Topic4   228.494676                   frame   332.222168   1.1809   \n",
       "5385   Topic4   422.082008            ground_truth   794.279209   0.9230   \n",
       "3132   Topic4   245.510505                  answer   369.211163   1.1472   \n",
       "5479   Topic4   336.993365           deep_learning   611.935184   0.9586   \n",
       "1793   Topic4   223.371536             deep_neural   341.703321   1.1301   \n",
       "762    Topic4   231.317228                 spatial   369.960251   1.0856   \n",
       "4166   Topic4   212.271743             feature_map   311.554476   1.1715   \n",
       "631    Topic4   216.312641            deep_network   334.377511   1.1197   \n",
       "1639   Topic4   298.291960         graphical_model   740.279570   0.6462   \n",
       "4792   Topic4   265.654070                  tensor   665.230544   0.6373   \n",
       "2463   Topic4   244.654400             hidden_unit   543.239292   0.7575   \n",
       "5058   Topic4   207.584222            input_output   310.779849   1.1517   \n",
       "2070   Topic4   207.215892                 message   312.110879   1.1456   \n",
       "4996   Topic4   215.103961         semi_supervised   445.631979   0.8268   \n",
       "\n",
       "      logprob  \n",
       "term           \n",
       "1936  30.0000  \n",
       "5563  29.0000  \n",
       "2620  28.0000  \n",
       "3402  27.0000  \n",
       "3193  26.0000  \n",
       "3242  25.0000  \n",
       "4232  24.0000  \n",
       "316   23.0000  \n",
       "1746  22.0000  \n",
       "5477  21.0000  \n",
       "1739  20.0000  \n",
       "1796  19.0000  \n",
       "5037  18.0000  \n",
       "2596  17.0000  \n",
       "4429  16.0000  \n",
       "3137  15.0000  \n",
       "1227  14.0000  \n",
       "5351  13.0000  \n",
       "3628  12.0000  \n",
       "2090  11.0000  \n",
       "1590  10.0000  \n",
       "2217   9.0000  \n",
       "2355   8.0000  \n",
       "3331   7.0000  \n",
       "2762   6.0000  \n",
       "1019   5.0000  \n",
       "3785   4.0000  \n",
       "4213   3.0000  \n",
       "1601   2.0000  \n",
       "5223   1.0000  \n",
       "...       ...  \n",
       "2762  -5.5023  \n",
       "4793  -5.7720  \n",
       "2247  -5.6097  \n",
       "1625  -6.0802  \n",
       "5491  -6.2849  \n",
       "1796  -5.3268  \n",
       "4429  -5.3230  \n",
       "1227  -5.2295  \n",
       "5359  -6.1516  \n",
       "1884  -6.2405  \n",
       "4620  -5.6515  \n",
       "1784  -6.4579  \n",
       "5859  -6.6458  \n",
       "4165  -5.3730  \n",
       "2273  -6.1769  \n",
       "3700  -6.3141  \n",
       "1374  -6.0128  \n",
       "5385  -5.3991  \n",
       "3132  -5.9410  \n",
       "5479  -5.6243  \n",
       "1793  -6.0355  \n",
       "762   -6.0006  \n",
       "4166  -6.0865  \n",
       "631   -6.0676  \n",
       "1639  -5.7463  \n",
       "4792  -5.8622  \n",
       "2463  -5.9445  \n",
       "5058  -6.1088  \n",
       "2070  -6.1106  \n",
       "4996  -6.0732  \n",
       "\n",
       "[302 rows x 6 columns], token_table=      Topic      Freq                     Term\n",
       "term                                          \n",
       "1227      1  0.147350          active_learning\n",
       "1227      2  0.052736          active_learning\n",
       "1227      3  0.023266          active_learning\n",
       "1227      4  0.775524          active_learning\n",
       "3491      1  0.069628                    agent\n",
       "3491      2  0.354469                    agent\n",
       "3491      3  0.550693                    agent\n",
       "3491      4  0.025319                    agent\n",
       "3132      1  0.075837                   answer\n",
       "3132      2  0.029793                   answer\n",
       "3132      3  0.227512                   answer\n",
       "3132      4  0.666285                   answer\n",
       "162       1  0.004760    approximate_posterior\n",
       "162       2  0.990000    approximate_posterior\n",
       "162       3  0.004760    approximate_posterior\n",
       "162       4  0.004760    approximate_posterior\n",
       "2363      1  0.928320  approximation_guarantee\n",
       "2363      2  0.009330  approximation_guarantee\n",
       "2363      3  0.004665  approximation_guarantee\n",
       "2363      4  0.055979  approximation_guarantee\n",
       "5545      1  0.011432                      arm\n",
       "5545      2  0.011432                      arm\n",
       "5545      3  0.954598                      arm\n",
       "5545      4  0.022865                      arm\n",
       "3851      1  0.046452                    armed\n",
       "3851      2  0.017419                    armed\n",
       "3851      3  0.923226                    armed\n",
       "3851      4  0.017419                    armed\n",
       "5287      1  0.013058             asynchronous\n",
       "5287      2  0.087053             asynchronous\n",
       "...     ...       ...                      ...\n",
       "3728      4  0.045151   vershynin_introduction\n",
       "4505      1  0.792475                   vertex\n",
       "4505      2  0.063038                   vertex\n",
       "4505      3  0.070542                   vertex\n",
       "4505      4  0.072043                   vertex\n",
       "5184      1  0.956141              vertex_edge\n",
       "5184      2  0.014487              vertex_edge\n",
       "5184      3  0.014487              vertex_edge\n",
       "5184      4  0.014487              vertex_edge\n",
       "2384      1  0.010020                very_deep\n",
       "2384      2  0.010020                very_deep\n",
       "2384      3  0.040078                very_deep\n",
       "2384      4  0.941835                very_deep\n",
       "4151      2  0.032124         visual_attention\n",
       "4151      4  0.947673         visual_attention\n",
       "1673      4  0.981734          visual_semantic\n",
       "5938      1  0.872749                     walk\n",
       "5938      2  0.070930                     walk\n",
       "5938      3  0.024671                     walk\n",
       "5938      4  0.030839                     walk\n",
       "4173      3  0.015436        weakly_supervised\n",
       "4173      4  0.972461        weakly_supervised\n",
       "3710      3  0.983838        weighted_majority\n",
       "4824      1  0.982869                   wolsey\n",
       "250       1  0.007355                   worker\n",
       "250       2  0.022065                   worker\n",
       "250       3  0.926722                   worker\n",
       "250       4  0.040452                   worker\n",
       "2914      4  0.964241                   yuille\n",
       "1844      4  0.980151                  zitnick\n",
       "\n",
       "[869 rows x 3 columns], R=30, lambda_step=0.01, plot_opts={'xlab': 'PC1', 'ylab': 'PC2'}, topic_order=[2, 3, 1, 4])"
      ]
     },
     "execution_count": 13,
     "metadata": {},
     "output_type": "execute_result"
    }
   ],
   "source": [
    "pyLDAvis.gensim.prepare(model, corpus, dictionary)"
   ]
  },
  {
   "cell_type": "markdown",
   "metadata": {
    "_uuid": "132463131ee73972307d5a3560da8db816f519e2"
   },
   "source": [
    "**How to evaluate our model?**  \n",
    "So again since there is no ground through here, we have to be creative in defining ways to evaluate. I do this in two steps:\n",
    "\n",
    "1. divide each document in two parts and see if the topics assign to them are simialr. => the more similar the better\n",
    "2. compare randomly chosen docs with each other. => the less similar the better"
   ]
  },
  {
   "cell_type": "code",
   "execution_count": 18,
   "metadata": {
    "_uuid": "71d492523a3cbcfd89141a9d13b66ac5a1f1f2e0",
    "collapsed": true
   },
   "outputs": [],
   "source": [
    "from sklearn.metrics.pairwise import cosine_similarity\n",
    "\n",
    "p_df['tokenz'] = docs\n",
    "\n",
    "docs1 = p_df['tokenz'].apply(lambda l: l[:int0(len(l)/2)])\n",
    "docs2 = p_df['tokenz'].apply(lambda l: l[int0(len(l)/2):])"
   ]
  },
  {
   "cell_type": "markdown",
   "metadata": {
    "_uuid": "60006b777f680005368652ec6a395d873b80b246"
   },
   "source": [
    "Transform the data "
   ]
  },
  {
   "cell_type": "code",
   "execution_count": 15,
   "metadata": {
    "_uuid": "1e989bc95613b95e5d9c40c0f91f31b93b6c5aab",
    "collapsed": true
   },
   "outputs": [],
   "source": [
    "corpus1 = [dictionary.doc2bow(doc) for doc in docs1]\n",
    "corpus2 = [dictionary.doc2bow(doc) for doc in docs2]\n",
    "\n",
    "# Using the corpus LDA model tranformation\n",
    "lda_corpus1 = model[corpus1]\n",
    "lda_corpus2 = model[corpus2]"
   ]
  },
  {
   "cell_type": "code",
   "execution_count": 19,
   "metadata": {
    "_uuid": "b6b1e78f3e435f12cbe76055a9af803e4cace4f2",
    "collapsed": true
   },
   "outputs": [],
   "source": [
    "from collections import OrderedDict\n",
    "def get_doc_topic_dist(model, corpus, kwords=False):\n",
    "    \n",
    "    '''\n",
    "    LDA transformation, for each doc only returns topics with non-zero weight\n",
    "    This function makes a matrix transformation of docs in the topic space.\n",
    "    '''\n",
    "    top_dist =[]\n",
    "    keys = []\n",
    "\n",
    "    for d in corpus:\n",
    "        tmp = {i:0 for i in range(num_topics)}\n",
    "        tmp.update(dict(model[d]))\n",
    "        vals = list(OrderedDict(tmp).values())\n",
    "        top_dist += [array(vals)]\n",
    "        if kwords:\n",
    "            keys += [array(vals).argmax()]\n",
    "\n",
    "    return array(top_dist), keys"
   ]
  },
  {
   "cell_type": "code",
   "execution_count": 20,
   "metadata": {
    "_uuid": "36f95ae8a010e1dfd3f441be37b179973c742b1a"
   },
   "outputs": [
    {
     "name": "stdout",
     "output_type": "stream",
     "text": [
      "Intra similarity: cosine similarity for corresponding parts of a doc(higher is better):\n",
      "0.920623968514\n",
      "Inter similarity: cosine similarity between random parts (lower is better):\n",
      "0.527282404847\n"
     ]
    }
   ],
   "source": [
    "top_dist1, _ = get_doc_topic_dist(model, lda_corpus1)\n",
    "top_dist2, _ = get_doc_topic_dist(model, lda_corpus2)\n",
    "\n",
    "print(\"Intra similarity: cosine similarity for corresponding parts of a doc(higher is better):\")\n",
    "print(mean([cosine_similarity(c1.reshape(1, -1), c2.reshape(1, -1))[0][0] for c1,c2 in zip(top_dist1, top_dist2)]))\n",
    "\n",
    "random_pairs = np.random.randint(0, len(p_df['PaperText']), size=(400, 2))\n",
    "\n",
    "print(\"Inter similarity: cosine similarity between random parts (lower is better):\")\n",
    "print(np.mean([cosine_similarity(top_dist1[i[0]].reshape(1, -1), top_dist2[i[1]].reshape(1, -1)) for i in random_pairs]))"
   ]
  },
  {
   "cell_type": "markdown",
   "metadata": {
    "_uuid": "d69f784d5b4a966efb9c7169938b312e53f25d6c"
   },
   "source": [
    "## Let's look at the terms that appear more in each topic. "
   ]
  },
  {
   "cell_type": "code",
   "execution_count": 21,
   "metadata": {
    "_uuid": "5d5c2efcf69d5a7a8b4c15d747c3fac732fa1fd7",
    "collapsed": true
   },
   "outputs": [],
   "source": [
    "def explore_topic(lda_model, topic_number, topn, output=True):\n",
    "    \"\"\"\n",
    "    accept a ldamodel, atopic number and topn vocabs of interest\n",
    "    prints a formatted list of the topn terms\n",
    "    \"\"\"\n",
    "    terms = []\n",
    "    for term, frequency in lda_model.show_topic(topic_number, topn=topn):\n",
    "        terms += [term]\n",
    "        if output:\n",
    "            print(u'{:20} {:.3f}'.format(term, round(frequency, 3)))\n",
    "    \n",
    "    return terms"
   ]
  },
  {
   "cell_type": "code",
   "execution_count": 22,
   "metadata": {
    "_uuid": "e61600b519fa785ac652a70782a23b229b28be51"
   },
   "outputs": [
    {
     "name": "stdout",
     "output_type": "stream",
     "text": [
      "term                 frequency\n",
      "\n",
      "Topic 0 |---------------------\n",
      "\n",
      "regret               0.012\n",
      "bandit               0.007\n",
      "convergence_rate     0.005\n",
      "step_size            0.005\n",
      "game                 0.005\n",
      "regret_bound         0.005\n",
      "online_learning      0.005\n",
      "gradient_descent     0.005\n",
      "strongly_convex      0.004\n",
      "player               0.004\n",
      "\n",
      "Topic 1 |---------------------\n",
      "\n",
      "sample_complexity    0.006\n",
      "matrix_completion    0.005\n",
      "rank_matrix          0.005\n",
      "submodular           0.004\n",
      "random_walk          0.004\n",
      "singular_value       0.004\n",
      "vertex               0.004\n",
      "markov_chain         0.004\n",
      "item                 0.004\n",
      "running_time         0.004\n",
      "\n",
      "Topic 2 |---------------------\n",
      "\n",
      "gaussian_process     0.007\n",
      "variational_inference 0.006\n",
      "generative_model     0.005\n",
      "posterior_distribution 0.004\n",
      "trajectory           0.004\n",
      "gibbs_sampling       0.004\n",
      "covariance_matrix    0.003\n",
      "neuron               0.003\n",
      "topic_model          0.003\n",
      "policy               0.003\n",
      "\n",
      "Topic 3 |---------------------\n",
      "\n",
      "convolutional        0.006\n",
      "fully_connected      0.006\n",
      "active_learning      0.005\n",
      "lstm                 0.005\n",
      "recurrent_neural     0.005\n",
      "proposal             0.005\n",
      "recurrent            0.005\n",
      "query                0.005\n",
      "ground_truth         0.005\n",
      "segmentation         0.004\n",
      "\n"
     ]
    }
   ],
   "source": [
    "topic_summaries = []\n",
    "print(u'{:20} {}'.format(u'term', u'frequency') + u'\\n')\n",
    "for i in range(num_topics):\n",
    "    print('Topic '+str(i)+' |---------------------\\n')\n",
    "    tmp = explore_topic(model,topic_number=i, topn=10, output=True )\n",
    "#     print tmp[:5]\n",
    "    topic_summaries += [tmp[:5]]\n",
    "    print"
   ]
  },
  {
   "cell_type": "markdown",
   "metadata": {
    "_uuid": "33ecddaa5755866ad6e9f8f7c5072859d09c27b4"
   },
   "source": [
    "From above, it's possible to inspect each topic and assign a human-interpretable label to it. Here I labeled them as follows:"
   ]
  },
  {
   "cell_type": "code",
   "execution_count": 23,
   "metadata": {
    "_uuid": "a52935b629c3b73bfb9c76536bbc00826fbb8dbe",
    "collapsed": true
   },
   "outputs": [],
   "source": [
    "top_labels = {2: 'Statistics', 1:'Numerical Analysis', 0:'Online Learning', 3:'Deep Learning'}"
   ]
  },
  {
   "cell_type": "code",
   "execution_count": 24,
   "metadata": {
    "_uuid": "8a88e101807551ee914967e17d542204378db86a",
    "collapsed": true
   },
   "outputs": [],
   "source": [
    "import re\n",
    "import nltk\n",
    "\n",
    "from nltk.corpus import stopwords\n",
    "\n",
    "stops = set(stopwords.words('english'))\n",
    "\n",
    "def paper_to_wordlist( paper, remove_stopwords=True ):\n",
    "    '''\n",
    "        Function converts text to a sequence of words,\n",
    "        Returns a list of words.\n",
    "    '''\n",
    "    lemmatizer = WordNetLemmatizer()\n",
    "    # 1. Remove non-letters\n",
    "    paper_text = re.sub(\"[^a-zA-Z]\",\" \", paper)\n",
    "    # 2. Convert words to lower case and split them\n",
    "    words = paper_text.lower().split()\n",
    "    # 3. Remove stop words\n",
    "    words = [w for w in words if not w in stops]\n",
    "    # 4. Remove short words\n",
    "    words = [t for t in words if len(t) > 2]\n",
    "    # 5. lemmatizing\n",
    "    words = [nltk.stem.WordNetLemmatizer().lemmatize(t) for t in words]\n",
    "\n",
    "    return(words)"
   ]
  },
  {
   "cell_type": "code",
   "execution_count": 25,
   "metadata": {
    "_uuid": "3830dfd544633111cfa445aaf44260b2f0a03b32",
    "collapsed": true
   },
   "outputs": [],
   "source": [
    "from sklearn.feature_extraction.text import TfidfVectorizer\n",
    "\n",
    "tvectorizer = TfidfVectorizer(input='content', analyzer = 'word', lowercase=True, stop_words='english',\\\n",
    "                                  tokenizer=paper_to_wordlist, ngram_range=(1, 3), min_df=40, max_df=0.20,\\\n",
    "                                  norm='l2', use_idf=True, smooth_idf=True, sublinear_tf=True)\n",
    "\n",
    "dtm = tvectorizer.fit_transform(p_df['PaperText']).toarray()"
   ]
  },
  {
   "cell_type": "code",
   "execution_count": 26,
   "metadata": {
    "_uuid": "917fb65ed246a61182d9606c6b8cd786abaef53b",
    "collapsed": true
   },
   "outputs": [],
   "source": [
    "top_dist =[]\n",
    "for d in corpus:\n",
    "    tmp = {i:0 for i in range(num_topics)}\n",
    "    tmp.update(dict(model[d]))\n",
    "    vals = list(OrderedDict(tmp).values())\n",
    "    top_dist += [array(vals)]"
   ]
  },
  {
   "cell_type": "code",
   "execution_count": 27,
   "metadata": {
    "_uuid": "7422b187c28d1f2b6da57536a866a25fe9255e24",
    "collapsed": true
   },
   "outputs": [],
   "source": [
    "top_dist, lda_keys= get_doc_topic_dist(model, corpus, True)\n",
    "features = tvectorizer.get_feature_names()"
   ]
  },
  {
   "cell_type": "code",
   "execution_count": 39,
   "metadata": {
    "_uuid": "389811cde90d4989b10b4fd18d641f9e1896b746"
   },
   "outputs": [],
   "source": [
    "top_ws = []\n",
    "for n in range(len(dtm)):\n",
    "    inds = int0(argsort(dtm[n])[::-1][:4])\n",
    "    tmp = [features[i] for i in inds]\n",
    "    \n",
    "    top_ws += [' '.join(tmp)]\n",
    "    \n",
    "p_df['Text_Rep'] = pd.DataFrame(top_ws)\n",
    "p_df['clusters'] = pd.DataFrame(lda_keys)\n",
    "p_df['clusters'].fillna(10, inplace=True)\n",
    "\n",
    "cluster_colors = {0: 'blue', 1: 'green', 2: 'yellow', 3: 'red', 4: 'skyblue', 5:'salmon', 6:'orange', 7:'maroon', 8:'crimson', 9:'black', 10:'gray'}\n",
    "\n",
    "p_df['colors'] = p_df['clusters'].apply(lambda l: cluster_colors[l])\n",
    "p_df['marker_size'] =  p_df['Citations'].apply(lambda l: 4*log(l+1))\n"
   ]
  },
  {
   "cell_type": "code",
   "execution_count": 29,
   "metadata": {
    "_uuid": "d16af6cfc14d9b8d7d3ac9851e2d4d3ceefe0cc1",
    "collapsed": true
   },
   "outputs": [],
   "source": [
    "from sklearn.manifold import TSNE\n",
    "tsne = TSNE(n_components=2)\n",
    "X_tsne = tsne.fit_transform(top_dist)"
   ]
  },
  {
   "cell_type": "code",
   "execution_count": 41,
   "metadata": {
    "_uuid": "6e23799bea222f5acb56add0c481c1b0c82fed8b",
    "collapsed": true
   },
   "outputs": [],
   "source": [
    "p_df['X_tsne'] =X_tsne[:, 0]\n",
    "p_df['Y_tsne'] =X_tsne[:, 1]"
   ]
  },
  {
   "cell_type": "code",
   "execution_count": 242,
   "metadata": {
    "_uuid": "1f1d4ff6071ed132a4a6a68e86987e65f8bd5956"
   },
   "outputs": [
    {
     "data": {
      "text/html": [
       "\n",
       "    <div class=\"bk-root\">\n",
       "        <a href=\"http://bokeh.pydata.org\" target=\"_blank\" class=\"bk-logo bk-logo-small bk-logo-notebook\"></a>\n",
       "        <span id=\"137fbd94-e3b1-48c1-9cd0-1e12d81b75f6\">Loading BokehJS ...</span>\n",
       "    </div>"
      ]
     },
     "metadata": {},
     "output_type": "display_data"
    },
    {
     "data": {
      "application/javascript": [
       "\n",
       "(function(global) {\n",
       "  function now() {\n",
       "    return new Date();\n",
       "  }\n",
       "\n",
       "  var force = true;\n",
       "\n",
       "  if (typeof (window._bokeh_onload_callbacks) === \"undefined\" || force === true) {\n",
       "    window._bokeh_onload_callbacks = [];\n",
       "    window._bokeh_is_loading = undefined;\n",
       "  }\n",
       "\n",
       "\n",
       "  \n",
       "  if (typeof (window._bokeh_timeout) === \"undefined\" || force === true) {\n",
       "    window._bokeh_timeout = Date.now() + 5000;\n",
       "    window._bokeh_failed_load = false;\n",
       "  }\n",
       "\n",
       "  var NB_LOAD_WARNING = {'data': {'text/html':\n",
       "     \"<div style='background-color: #fdd'>\\n\"+\n",
       "     \"<p>\\n\"+\n",
       "     \"BokehJS does not appear to have successfully loaded. If loading BokehJS from CDN, this \\n\"+\n",
       "     \"may be due to a slow or bad network connection. Possible fixes:\\n\"+\n",
       "     \"</p>\\n\"+\n",
       "     \"<ul>\\n\"+\n",
       "     \"<li>re-rerun `output_notebook()` to attempt to load from CDN again, or</li>\\n\"+\n",
       "     \"<li>use INLINE resources instead, as so:</li>\\n\"+\n",
       "     \"</ul>\\n\"+\n",
       "     \"<code>\\n\"+\n",
       "     \"from bokeh.resources import INLINE\\n\"+\n",
       "     \"output_notebook(resources=INLINE)\\n\"+\n",
       "     \"</code>\\n\"+\n",
       "     \"</div>\"}};\n",
       "\n",
       "  function display_loaded() {\n",
       "    if (window.Bokeh !== undefined) {\n",
       "      var el = document.getElementById(\"137fbd94-e3b1-48c1-9cd0-1e12d81b75f6\");\n",
       "      el.textContent = \"BokehJS \" + Bokeh.version + \" successfully loaded.\";\n",
       "    } else if (Date.now() < window._bokeh_timeout) {\n",
       "      setTimeout(display_loaded, 100)\n",
       "    }\n",
       "  }\n",
       "\n",
       "  function run_callbacks() {\n",
       "    window._bokeh_onload_callbacks.forEach(function(callback) { callback() });\n",
       "    delete window._bokeh_onload_callbacks\n",
       "    console.info(\"Bokeh: all callbacks have finished\");\n",
       "  }\n",
       "\n",
       "  function load_libs(js_urls, callback) {\n",
       "    window._bokeh_onload_callbacks.push(callback);\n",
       "    if (window._bokeh_is_loading > 0) {\n",
       "      console.log(\"Bokeh: BokehJS is being loaded, scheduling callback at\", now());\n",
       "      return null;\n",
       "    }\n",
       "    if (js_urls == null || js_urls.length === 0) {\n",
       "      run_callbacks();\n",
       "      return null;\n",
       "    }\n",
       "    console.log(\"Bokeh: BokehJS not loaded, scheduling load and callback at\", now());\n",
       "    window._bokeh_is_loading = js_urls.length;\n",
       "    for (var i = 0; i < js_urls.length; i++) {\n",
       "      var url = js_urls[i];\n",
       "      var s = document.createElement('script');\n",
       "      s.src = url;\n",
       "      s.async = false;\n",
       "      s.onreadystatechange = s.onload = function() {\n",
       "        window._bokeh_is_loading--;\n",
       "        if (window._bokeh_is_loading === 0) {\n",
       "          console.log(\"Bokeh: all BokehJS libraries loaded\");\n",
       "          run_callbacks()\n",
       "        }\n",
       "      };\n",
       "      s.onerror = function() {\n",
       "        console.warn(\"failed to load library \" + url);\n",
       "      };\n",
       "      console.log(\"Bokeh: injecting script tag for BokehJS library: \", url);\n",
       "      document.getElementsByTagName(\"head\")[0].appendChild(s);\n",
       "    }\n",
       "  };var element = document.getElementById(\"137fbd94-e3b1-48c1-9cd0-1e12d81b75f6\");\n",
       "  if (element == null) {\n",
       "    console.log(\"Bokeh: ERROR: autoload.js configured with elementid '137fbd94-e3b1-48c1-9cd0-1e12d81b75f6' but no matching script tag was found. \")\n",
       "    return false;\n",
       "  }\n",
       "\n",
       "  var js_urls = [\"https://cdn.pydata.org/bokeh/release/bokeh-0.12.5.min.js\", \"https://cdn.pydata.org/bokeh/release/bokeh-widgets-0.12.5.min.js\"];\n",
       "\n",
       "  var inline_js = [\n",
       "    function(Bokeh) {\n",
       "      Bokeh.set_log_level(\"info\");\n",
       "    },\n",
       "    \n",
       "    function(Bokeh) {\n",
       "      \n",
       "    },\n",
       "    \n",
       "    function(Bokeh) {\n",
       "      \n",
       "      document.getElementById(\"137fbd94-e3b1-48c1-9cd0-1e12d81b75f6\").textContent = \"BokehJS is loading...\";\n",
       "    },\n",
       "    function(Bokeh) {\n",
       "      console.log(\"Bokeh: injecting CSS: https://cdn.pydata.org/bokeh/release/bokeh-0.12.5.min.css\");\n",
       "      Bokeh.embed.inject_css(\"https://cdn.pydata.org/bokeh/release/bokeh-0.12.5.min.css\");\n",
       "      console.log(\"Bokeh: injecting CSS: https://cdn.pydata.org/bokeh/release/bokeh-widgets-0.12.5.min.css\");\n",
       "      Bokeh.embed.inject_css(\"https://cdn.pydata.org/bokeh/release/bokeh-widgets-0.12.5.min.css\");\n",
       "    }\n",
       "  ];\n",
       "\n",
       "  function run_inline_js() {\n",
       "    \n",
       "    if ((window.Bokeh !== undefined) || (force === true)) {\n",
       "      for (var i = 0; i < inline_js.length; i++) {\n",
       "        inline_js[i](window.Bokeh);\n",
       "      }if (force === true) {\n",
       "        display_loaded();\n",
       "      }} else if (Date.now() < window._bokeh_timeout) {\n",
       "      setTimeout(run_inline_js, 100);\n",
       "    } else if (!window._bokeh_failed_load) {\n",
       "      console.log(\"Bokeh: BokehJS failed to load within specified timeout.\");\n",
       "      window._bokeh_failed_load = true;\n",
       "    } else if (force !== true) {\n",
       "      var cell = $(document.getElementById(\"137fbd94-e3b1-48c1-9cd0-1e12d81b75f6\")).parents('.cell').data().cell;\n",
       "      cell.output_area.append_execute_result(NB_LOAD_WARNING)\n",
       "    }\n",
       "\n",
       "  }\n",
       "\n",
       "  if (window._bokeh_is_loading === 0) {\n",
       "    console.log(\"Bokeh: BokehJS loaded, going straight to plotting\");\n",
       "    run_inline_js();\n",
       "  } else {\n",
       "    load_libs(js_urls, function() {\n",
       "      console.log(\"Bokeh: BokehJS plotting callback run at\", now());\n",
       "      run_inline_js();\n",
       "    });\n",
       "  }\n",
       "}(this));"
      ]
     },
     "metadata": {},
     "output_type": "display_data"
    }
   ],
   "source": [
    "from bokeh.plotting import figure, show, output_notebook, save#, output_file\n",
    "from bokeh.models import HoverTool, value, LabelSet, Legend, ColumnDataSource\n",
    "output_notebook()"
   ]
  },
  {
   "cell_type": "code",
   "execution_count": 240,
   "metadata": {
    "_uuid": "27ddd00b2085860a52118d995cf7c461885cefb4"
   },
   "outputs": [],
   "source": [
    "source = ColumnDataSource(dict(\n",
    "    x=p_df['X_tsne'],\n",
    "    y=p_df['Y_tsne'],\n",
    "    color=p_df['colors'],\n",
    "    label=p_df['clusters'].apply(lambda l: top_labels[l]),\n",
    "    msize= p_df['marker_size'],\n",
    "    title= p_df[u'Title'],\n",
    "    content = p_df['Text_Rep']\n",
    "))"
   ]
  },
  {
   "cell_type": "code",
   "execution_count": 244,
   "metadata": {
    "_uuid": "ecb9b9f46894e857788141b271be186fb8ffcb2e"
   },
   "outputs": [
    {
     "data": {
      "text/html": [
       "\n",
       "\n",
       "    <div class=\"bk-root\">\n",
       "        <div class=\"bk-plotdiv\" id=\"ddef4fc6-fa11-4892-92ff-4358bf86e834\"></div>\n",
       "    </div>\n",
       "<script type=\"text/javascript\">\n",
       "  \n",
       "  (function(global) {\n",
       "    function now() {\n",
       "      return new Date();\n",
       "    }\n",
       "  \n",
       "    var force = false;\n",
       "  \n",
       "    if (typeof (window._bokeh_onload_callbacks) === \"undefined\" || force === true) {\n",
       "      window._bokeh_onload_callbacks = [];\n",
       "      window._bokeh_is_loading = undefined;\n",
       "    }\n",
       "  \n",
       "  \n",
       "    \n",
       "    if (typeof (window._bokeh_timeout) === \"undefined\" || force === true) {\n",
       "      window._bokeh_timeout = Date.now() + 0;\n",
       "      window._bokeh_failed_load = false;\n",
       "    }\n",
       "  \n",
       "    var NB_LOAD_WARNING = {'data': {'text/html':\n",
       "       \"<div style='background-color: #fdd'>\\n\"+\n",
       "       \"<p>\\n\"+\n",
       "       \"BokehJS does not appear to have successfully loaded. If loading BokehJS from CDN, this \\n\"+\n",
       "       \"may be due to a slow or bad network connection. Possible fixes:\\n\"+\n",
       "       \"</p>\\n\"+\n",
       "       \"<ul>\\n\"+\n",
       "       \"<li>re-rerun `output_notebook()` to attempt to load from CDN again, or</li>\\n\"+\n",
       "       \"<li>use INLINE resources instead, as so:</li>\\n\"+\n",
       "       \"</ul>\\n\"+\n",
       "       \"<code>\\n\"+\n",
       "       \"from bokeh.resources import INLINE\\n\"+\n",
       "       \"output_notebook(resources=INLINE)\\n\"+\n",
       "       \"</code>\\n\"+\n",
       "       \"</div>\"}};\n",
       "  \n",
       "    function display_loaded() {\n",
       "      if (window.Bokeh !== undefined) {\n",
       "        var el = document.getElementById(\"ddef4fc6-fa11-4892-92ff-4358bf86e834\");\n",
       "        el.textContent = \"BokehJS \" + Bokeh.version + \" successfully loaded.\";\n",
       "      } else if (Date.now() < window._bokeh_timeout) {\n",
       "        setTimeout(display_loaded, 100)\n",
       "      }\n",
       "    }\n",
       "  \n",
       "    function run_callbacks() {\n",
       "      window._bokeh_onload_callbacks.forEach(function(callback) { callback() });\n",
       "      delete window._bokeh_onload_callbacks\n",
       "      console.info(\"Bokeh: all callbacks have finished\");\n",
       "    }\n",
       "  \n",
       "    function load_libs(js_urls, callback) {\n",
       "      window._bokeh_onload_callbacks.push(callback);\n",
       "      if (window._bokeh_is_loading > 0) {\n",
       "        console.log(\"Bokeh: BokehJS is being loaded, scheduling callback at\", now());\n",
       "        return null;\n",
       "      }\n",
       "      if (js_urls == null || js_urls.length === 0) {\n",
       "        run_callbacks();\n",
       "        return null;\n",
       "      }\n",
       "      console.log(\"Bokeh: BokehJS not loaded, scheduling load and callback at\", now());\n",
       "      window._bokeh_is_loading = js_urls.length;\n",
       "      for (var i = 0; i < js_urls.length; i++) {\n",
       "        var url = js_urls[i];\n",
       "        var s = document.createElement('script');\n",
       "        s.src = url;\n",
       "        s.async = false;\n",
       "        s.onreadystatechange = s.onload = function() {\n",
       "          window._bokeh_is_loading--;\n",
       "          if (window._bokeh_is_loading === 0) {\n",
       "            console.log(\"Bokeh: all BokehJS libraries loaded\");\n",
       "            run_callbacks()\n",
       "          }\n",
       "        };\n",
       "        s.onerror = function() {\n",
       "          console.warn(\"failed to load library \" + url);\n",
       "        };\n",
       "        console.log(\"Bokeh: injecting script tag for BokehJS library: \", url);\n",
       "        document.getElementsByTagName(\"head\")[0].appendChild(s);\n",
       "      }\n",
       "    };var element = document.getElementById(\"ddef4fc6-fa11-4892-92ff-4358bf86e834\");\n",
       "    if (element == null) {\n",
       "      console.log(\"Bokeh: ERROR: autoload.js configured with elementid 'ddef4fc6-fa11-4892-92ff-4358bf86e834' but no matching script tag was found. \")\n",
       "      return false;\n",
       "    }\n",
       "  \n",
       "    var js_urls = [];\n",
       "  \n",
       "    var inline_js = [\n",
       "      function(Bokeh) {\n",
       "        (function() {\n",
       "          var fn = function() {\n",
       "            var docs_json = {\"2a45d7e2-805e-45b3-8aa9-2635e1f2146e\":{\"roots\":{\"references\":[{\"attributes\":{\"fill_alpha\":{\"value\":0.8},\"fill_color\":{\"field\":\"color\"},\"line_alpha\":{\"value\":0.8},\"line_color\":{\"field\":\"color\"},\"size\":{\"field\":\"msize\",\"units\":\"screen\"},\"x\":{\"field\":\"x\"},\"y\":{\"field\":\"y\"}},\"id\":\"f68f98a2-ac07-4d37-ad9e-760b71c459b0\",\"type\":\"Circle\"},{\"attributes\":{\"plot\":{\"id\":\"34a786d5-f52b-4c7a-bd10-91c33ae9d2b9\",\"subtype\":\"Figure\",\"type\":\"Plot\"}},\"id\":\"5836fc51-2add-46d3-80b6-5cf7417fd680\",\"type\":\"ResetTool\"},{\"attributes\":{},\"id\":\"ee643cd0-3444-4dde-b13e-69aebd53bb4a\",\"type\":\"ToolEvents\"},{\"attributes\":{\"plot\":{\"id\":\"34a786d5-f52b-4c7a-bd10-91c33ae9d2b9\",\"subtype\":\"Figure\",\"type\":\"Plot\"}},\"id\":\"77fee727-2e99-4321-b9e9-37d1e879b3c4\",\"type\":\"PanTool\"},{\"attributes\":{\"data_source\":{\"id\":\"fa23c55a-baba-4066-a49e-afbe0895a3d1\",\"type\":\"ColumnDataSource\"},\"glyph\":{\"id\":\"f68f98a2-ac07-4d37-ad9e-760b71c459b0\",\"type\":\"Circle\"},\"hover_glyph\":null,\"muted_glyph\":null,\"nonselection_glyph\":{\"id\":\"d3b1789a-8b20-4b01-8237-ed9ce3b759d6\",\"type\":\"Circle\"},\"selection_glyph\":null},\"id\":\"3f161068-f390-4bb9-bf10-612b2df5e49a\",\"type\":\"GlyphRenderer\"},{\"attributes\":{\"label\":{\"field\":\"label\"},\"renderers\":[{\"id\":\"3f161068-f390-4bb9-bf10-612b2df5e49a\",\"type\":\"GlyphRenderer\"}]},\"id\":\"5d0a2eba-68f7-4909-9730-57aa95ad9014\",\"type\":\"LegendItem\"},{\"attributes\":{\"fill_alpha\":{\"value\":0.1},\"fill_color\":{\"value\":\"#1f77b4\"},\"line_alpha\":{\"value\":0.1},\"line_color\":{\"value\":\"#1f77b4\"},\"size\":{\"field\":\"msize\",\"units\":\"screen\"},\"x\":{\"field\":\"x\"},\"y\":{\"field\":\"y\"}},\"id\":\"d3b1789a-8b20-4b01-8237-ed9ce3b759d6\",\"type\":\"Circle\"},{\"attributes\":{\"active_drag\":\"auto\",\"active_scroll\":\"auto\",\"active_tap\":\"auto\",\"tools\":[{\"id\":\"77fee727-2e99-4321-b9e9-37d1e879b3c4\",\"type\":\"PanTool\"},{\"id\":\"1c8b258a-7536-4ebb-acb4-7e695c88ed78\",\"type\":\"WheelZoomTool\"},{\"id\":\"9fa8a644-4a46-4602-b790-1595f59d5b48\",\"type\":\"BoxZoomTool\"},{\"id\":\"5836fc51-2add-46d3-80b6-5cf7417fd680\",\"type\":\"ResetTool\"},{\"id\":\"58bee35b-73bf-480f-8d2f-9fd7c9f94aec\",\"type\":\"HoverTool\"},{\"id\":\"bf9c4765-3759-4262-b6f3-ba9bc311e2f2\",\"type\":\"SaveTool\"}]},\"id\":\"29e84f3c-af6a-4188-bbc8-1bf1bfa9e619\",\"type\":\"Toolbar\"},{\"attributes\":{\"overlay\":{\"id\":\"808adbda-8ce3-4f17-977d-9f7bd0a8d075\",\"type\":\"BoxAnnotation\"},\"plot\":{\"id\":\"34a786d5-f52b-4c7a-bd10-91c33ae9d2b9\",\"subtype\":\"Figure\",\"type\":\"Plot\"}},\"id\":\"9fa8a644-4a46-4602-b790-1595f59d5b48\",\"type\":\"BoxZoomTool\"},{\"attributes\":{\"callback\":null},\"id\":\"be3ddb35-7049-41b8-8ab3-76bd4aef11a6\",\"type\":\"DataRange1d\"},{\"attributes\":{\"items\":[{\"id\":\"5d0a2eba-68f7-4909-9730-57aa95ad9014\",\"type\":\"LegendItem\"}],\"location\":\"top_left\",\"plot\":{\"id\":\"34a786d5-f52b-4c7a-bd10-91c33ae9d2b9\",\"subtype\":\"Figure\",\"type\":\"Plot\"}},\"id\":\"672a3b46-7e77-4e74-bd12-2a1b4d20af71\",\"type\":\"Legend\"},{\"attributes\":{\"callback\":null,\"column_names\":[\"content\",\"y\",\"title\",\"color\",\"x\",\"label\",\"msize\"],\"data\":{\"color\":[\"blue\",\"blue\",\"green\",\"yellow\",\"yellow\",\"green\",\"blue\",\"red\",\"red\",\"green\",\"red\",\"blue\",\"green\",\"green\",\"yellow\",\"green\",\"yellow\",\"yellow\",\"red\",\"green\",\"green\",\"red\",\"red\",\"blue\",\"green\",\"blue\",\"red\",\"yellow\",\"blue\",\"red\",\"green\",\"yellow\",\"red\",\"red\",\"blue\",\"yellow\",\"blue\",\"yellow\",\"green\",\"blue\",\"red\",\"yellow\",\"blue\",\"green\",\"yellow\",\"green\",\"green\",\"red\",\"blue\",\"red\",\"yellow\",\"yellow\",\"yellow\",\"yellow\",\"yellow\",\"red\",\"red\",\"yellow\",\"green\",\"red\",\"blue\",\"green\",\"green\",\"yellow\",\"red\",\"green\",\"blue\",\"green\",\"red\",\"green\",\"yellow\",\"yellow\",\"red\",\"green\",\"blue\",\"green\",\"blue\",\"green\",\"red\",\"blue\",\"green\",\"blue\",\"green\",\"yellow\",\"green\",\"green\",\"green\",\"blue\",\"yellow\",\"red\",\"green\",\"yellow\",\"yellow\",\"red\",\"green\",\"red\",\"blue\",\"green\",\"red\",\"blue\",\"red\",\"yellow\",\"red\",\"red\",\"red\",\"green\",\"yellow\",\"blue\",\"red\",\"yellow\",\"green\",\"green\",\"blue\",\"green\",\"blue\",\"blue\",\"yellow\",\"green\",\"green\",\"green\",\"green\",\"green\",\"red\",\"red\",\"red\",\"green\",\"red\",\"blue\",\"yellow\",\"yellow\",\"red\",\"green\",\"green\",\"yellow\",\"yellow\",\"green\",\"red\",\"red\",\"green\",\"red\",\"green\",\"blue\",\"green\",\"green\",\"blue\",\"blue\",\"green\",\"green\",\"blue\",\"blue\",\"blue\",\"blue\",\"green\",\"red\",\"yellow\",\"green\",\"yellow\",\"yellow\",\"green\",\"red\",\"yellow\",\"blue\",\"green\",\"green\",\"blue\",\"red\",\"red\",\"yellow\",\"yellow\",\"green\",\"blue\",\"blue\",\"green\",\"blue\",\"green\",\"green\",\"blue\",\"yellow\",\"green\",\"blue\",\"blue\",\"green\",\"yellow\",\"blue\",\"yellow\",\"red\",\"yellow\",\"red\",\"green\",\"blue\",\"yellow\",\"blue\",\"yellow\",\"yellow\",\"blue\",\"yellow\",\"green\",\"yellow\",\"blue\",\"blue\",\"blue\",\"green\",\"red\",\"yellow\",\"green\",\"yellow\",\"yellow\",\"green\",\"red\",\"yellow\",\"green\",\"green\",\"yellow\",\"red\",\"green\",\"green\",\"yellow\",\"yellow\",\"blue\",\"blue\",\"red\",\"yellow\",\"green\",\"red\",\"green\",\"blue\",\"yellow\",\"blue\",\"green\",\"yellow\",\"yellow\",\"green\",\"yellow\",\"green\",\"blue\",\"yellow\",\"yellow\",\"green\",\"green\",\"yellow\",\"green\",\"blue\",\"red\",\"blue\",\"green\",\"blue\",\"red\",\"green\",\"red\",\"blue\",\"yellow\",\"yellow\",\"yellow\",\"green\",\"red\",\"blue\",\"yellow\",\"yellow\",\"green\",\"blue\",\"green\",\"blue\",\"blue\",\"red\",\"yellow\",\"yellow\",\"yellow\",\"yellow\",\"blue\",\"green\",\"red\",\"red\",\"blue\",\"yellow\",\"yellow\",\"yellow\",\"yellow\",\"red\",\"yellow\",\"green\",\"blue\",\"red\",\"green\",\"blue\",\"green\",\"blue\",\"red\",\"green\",\"green\",\"green\",\"yellow\",\"yellow\",\"blue\",\"red\",\"green\",\"blue\",\"yellow\",\"red\",\"green\",\"yellow\",\"green\",\"blue\",\"blue\",\"yellow\",\"blue\",\"yellow\",\"red\",\"green\",\"red\",\"yellow\",\"blue\",\"green\",\"red\",\"green\",\"blue\",\"yellow\",\"red\",\"green\",\"green\",\"green\",\"green\",\"green\",\"yellow\",\"blue\",\"blue\",\"yellow\",\"red\",\"green\",\"red\",\"yellow\",\"blue\",\"red\",\"yellow\",\"green\",\"green\",\"blue\",\"yellow\",\"green\",\"blue\",\"blue\",\"red\",\"red\",\"yellow\",\"green\",\"yellow\",\"red\",\"yellow\",\"green\",\"green\",\"yellow\",\"blue\",\"green\",\"green\",\"yellow\",\"green\",\"yellow\",\"yellow\",\"blue\",\"green\",\"yellow\",\"green\",\"red\",\"green\",\"green\",\"red\",\"yellow\",\"yellow\",\"blue\",\"yellow\",\"blue\",\"yellow\",\"yellow\",\"green\",\"blue\",\"blue\",\"yellow\",\"yellow\",\"blue\",\"green\",\"green\",\"yellow\",\"green\",\"yellow\",\"red\",\"blue\",\"red\",\"yellow\",\"yellow\",\"blue\",\"green\",\"yellow\",\"yellow\",\"red\",\"blue\",\"yellow\",\"red\",\"blue\",\"green\",\"yellow\",\"yellow\",\"yellow\",\"green\",\"yellow\"],\"content\":[\"mechanism answer confidence multiplicative\",\"robustness learner svm equivalence\",\"stability vol training example parametric\",\"dirichlet mixture model concentration hyperparameters\",\"covariance matrix article maintaining letter\",\"covariance matrix rate convergence tail oracle\",\"leaf logarithmic pure left right\",\"segmentation closest plane vertex\",\"retrieval post recurrent query\",\"vertex round item permutation\",\"proposal box shared convolutional\",\"manifold embeddings embedding euclidean\",\"svd descent algorithm retrieval jain\",\"real valued utility cover feedback\",\"physical video physic mass\",\"item sample complexity pseudo price\",\"neuron trial population stationary\",\"manifold digit locally low dimensional\",\"color pixel fold end end\",\"ranking item stationary pairwise\",\"sgd step size gaussian process mnist\",\"recurrent list hidden unit hidden layer\",\"grid ground truth convolutional social\",\"regret learner expert reward\",\"law eigenvalue polynomial time orthogonal\",\"sampler boundary step size biased\",\"video resolution convolution recurrent\",\"moment concave hybrid mode\",\"embedding embeddings parametric auxiliary\",\"convolutional convolutional neural network convolutional neural spatial\",\"averaging auxiliary communication propagation\",\"identification dirichlet mixture model central\",\"svm white category ball\",\"soft subgradient accelerated relaxation\",\"regret retrieval confidence existence\",\"smoothing manifold principal green\",\"svm biased ranking conjugate\",\"trajectory policy reinforcement learning reinforcement\",\"orthogonal factorization svd pca\",\"regret greedy reward maximal\",\"segmentation extra semantic feature vector\",\"neuron posterior distribution stationary inherent\",\"accelerated gradient method critical convergence rate\",\"pca principal component sketch principal\",\"functional nonparametric expansion theoretic\",\"round singular value singular reconstruction\",\"non convex kdd supplement cpu\",\"proposal box overlap plane\",\"regret budget reward boundary\",\"fully connected hidden unit number parameter convolutional\",\"mcmc partitioning sampler smoothing\",\"shared segment brain functional\",\"cell biological root mark\",\"backward greedy reward trajectory\",\"moment mixture model gaussians kakade\",\"width away strongly convex oracle\",\"recurrent neural network recurrent neural interaction recurrent\",\"moment document dirichlet component analysis\",\"sensing retrieval low rank rank matrix\",\"marginals solver vertex iterates\",\"mixing stationary sup exp exp\",\"svd embedding embeddings pairwise\",\"alternating oracle completion rank matrix\",\"variational inference automatic mixture model dirichlet\",\"speech mechanism content recurrent\",\"regression model closed form thresholding exponential family\",\"learner pas online learning regret\",\"item ranking pairwise marginals\",\"diverse energy segmentation ordered\",\"vertex width cover polynomial time\",\"ordering undirected directed vol\",\"boltzmann hidden unit expansion epoch\",\"article convolutional corpus language processing\",\"discriminative brain proposed method labeled\",\"partitioning regret smoothness cell\",\"vertex community recovery regime\",\"momentum communication imagenet moving\",\"greedy item vertex disjoint\",\"oracle query weak false\",\"globally margin classification problem time complexity\",\"recovery thresholding solver dense\",\"embeddings embedding learner ensemble\",\"truncated retrieval kxk flow\",\"trajectory population gaussian process cause\",\"subspace inner product counterpart segmentation\",\"pca vol disjoint extracted\",\"leverage bach running time low rank\",\"regret policy round strongly convex\",\"neuron diag filter moment\",\"flow cell convolutional digit\",\"logistic regression solver regularization parameter radius\",\"boltzmann calculation probabilistic model normalization\",\"stat digit gaussian process modelling\",\"precision false segment figure left\",\"budget greedy cover allocation\",\"missing mcmc recurrent neural network recurrent neural\",\"mini accelerated strongly convex maxi\",\"mixing strongly convex markov chain mcmc\",\"hessian recurrent neural network recurrent neural recurrent\",\"predictor fold minimax proper\",\"resolution translation convolutional convolutional neural network\",\"manifold mixture model euclidean convexity\",\"embeddings embedding convolution error rate\",\"grid cpu depth recursive\",\"labeling recurrent convolutional pixel\",\"leaf assignment store conditioning\",\"mcmc markov chain flow exponential family\",\"resource regret allocation confidence\",\"shape learner unsupervised solver\",\"neuron recurrent balance feedback\",\"sketch gibbs moment latent variable model\",\"subspace gibbs utility sampler\",\"margin ranking document learner\",\"characterization embedding embeddings geometric\",\"sgd ranking computational cost estimation error\",\"vertex sample complexity reward round\",\"brain dot trial neuron\",\"bayes discriminative naive logistic regression\",\"round closest counterpart assigned\",\"walk list semantic item\",\"rate convergence precision frobenius estimation error\",\"fisher linear model query convergence rate\",\"pose recurrent face manifold\",\"softmax cpu hidden layer backpropagation\",\"neuron backpropagation vol ensemble\",\"zhu formed flow fold\",\"fully connected neuron bit imagenet\",\"compact characteristic vol rate convergence\",\"population dirichlet held variational inference\",\"integration integral posterior distribution model selection\",\"recurrent neural network recurrent neural recurrent model trained\",\"completion width estimation error sample complexity\",\"sun regularizer definite unconstrained\",\"proposal segmentation sampler dirichlet\",\"mcmc concave moment bayes\",\"hessian convergence rate second order step size\",\"nearest neighbor query sensitive\",\"video manifold temporal locally\",\"walk mixing ball box\",\"manifold pose query embedding\",\"hessian completion vol retrieval\",\"round regret feedback online learning\",\"leaf solver depth iii\",\"vertex perfect auxiliary vol\",\"item regret factorization cumulative\",\"journal optimization unconstrained stanford hessian\",\"permutation proc formula ordering\",\"greedy event strength confidence\",\"robustness transform transformed face\",\"regret reward treatment outcome\",\"ensemble game predictor leaf\",\"regret feedback minimax learner\",\"differential vertex nonparametric maximal\",\"proposal box greedy bounding\",\"hessian backpropagation variational inference auto\",\"singular singular value frobenius svd\",\"proposed method embeddings document embedding\",\"gaussian process error rate variational inference gaussians\",\"markov chain walk max max trajectory\",\"proposal wainwright pairwise confidence\",\"exponential family mcmc gibbs formula\",\"item regret reward combinatorial\",\"mixing markov chain confidence stationary\",\"policy formula trajectory sensitive\",\"concave stability strongly convex minimizer\",\"resolution model trained conditioning boltzmann\",\"segmentation semantic activation pixel\",\"hessian sgd non convex mnist\",\"environment shift strength covariance matrix\",\"perturbation policy budget robustness\",\"epoch linear regression fraction kxk\",\"environment hyper learner posterior distribution\",\"bit link compressed sensing\",\"invariant integration vol sample complexity\",\"estimation error mixed regularizer linear regression\",\"history stochastic optimization policy recursive\",\"locally convex function sgd lipschitz\",\"filtering coding population neuron\",\"pca relaxation moment principal component\",\"majority margin discriminative error rate\",\"stopping epoch inf iterates\",\"walk vertex geometric kxk\",\"gaussian process mcmc sampler gibbs\",\"leverage model selection statistical learning regularization parameter\",\"inference algorithm markov chain state space trajectory\",\"regularization parameter option grid support vector\",\"environment neuron spatial reward\",\"query document reader corpus\",\"projected relaxation population subgradient\",\"policy filter belief claim\",\"vertex directed mixed undirected\",\"leaf depth greedy augmented\",\"manifold video gaussian process missing\",\"reward expert trajectory segment\",\"round communication strongly convex convex function\",\"discriminative gibbs document dirichlet\",\"greedy decay bit zhou\",\"self normalization linear model characterization\",\"regret game learner round\",\"ranking proc social dot\",\"non linear proc closer link\",\"rank matrix pca low rank completion\",\"recurrent translation strength scalar\",\"margin discriminative missing subgradient\",\"positive definite transform compact definite\",\"projected coding reconstruction hidden unit\",\"identification ordering list independence\",\"completion rank matrix low rank lipschitz\",\"retrieval style embedding margin\",\"sampler gibbs mcmc mixture model\",\"item greedy partitioning vertex\",\"item rank matrix ranking low rank\",\"spatial frequency stationary width\",\"pixel neighborhood recurrent ensemble\",\"compressed low rank missing pca\",\"mixing gibbs sampler state space\",\"event link evolution social\",\"linear regression filtering moment history\",\"regret game history calculate\",\"characteristic analytic embeddings frequency\",\"proposal segmentation box pixel\",\"spectrum gaussian process frequency brain\",\"bit differential communication symposium\",\"spatial digit grid transformed\",\"critical radius inf tight\",\"svm margin vol structural\",\"neuron vol population trial\",\"digit semantic segmentation ground truth\",\"bit kxk sensing compressed\",\"fisher sgd conditioning normalization\",\"population ball mcmc manifold\",\"iterates scaled adapt hybrid\",\"document proportion variational inference dirichlet\",\"completion multiplication factorization rank matrix\",\"regret reward combinatorial feedback\",\"environment reward internal reinforcement learning\",\"smoothing walk compressed event\",\"regret min max oracle competitive\",\"policy budget leaf reward\",\"sampler hybrid mass biased\",\"query ensemble runtime coding\",\"smoothness svm locally ball\",\"pixel segmentation spatial theoretic\",\"regret perturbation penalty learner\",\"width sample complexity estimation error recovery\",\"embeddings vertex embedding mnist\",\"feature vector convolutional depth convolutional neural\",\"partitioning round segmentation greedy\",\"query answer supplement compact\",\"mixed support vector convergence rate grow\",\"formula vol dirichlet distinguish\",\"neuron principal thresholding eigenvalue\",\"step size mcmc invariant backward\",\"exponential family random field neighborhood undirected\",\"answer embedding translation content\",\"sgd epoch step size neighborhood\",\"integral policy trial trajectory\",\"approximating propagation gaussians moment\",\"concave relaxation cover tight\",\"pca subspace mini component analysis\",\"differential query data analysis overfitting\",\"price utility belief budget\",\"augmented iterates solver projected\",\"depth transform deep network mnist\",\"model selection gaussian process hyperparameters frequency\",\"sampler gibbs mixing state space\",\"manifold trajectory shift mcmc\",\"reward confidence trial dot\",\"sgd regularizer geometry invariant\",\"article sign predictor non zero\",\"softmax embedding answer recurrent\",\"frequency filter spatial conjugate\",\"regret learner base online learning\",\"hidden layer temporal recurrent belief\",\"cell electrical identification completion\",\"vol trial internal recovers\",\"spectrum physical resolution energy\",\"configuration software detect researcher\",\"cause independence identified directed\",\"latent variable model variable model rate convergence low dimensional\",\"price regret round game\",\"face neuron pose light\",\"low rank mode recovery rank matrix\",\"minimax regret round game\",\"differential running time sample size synthetic data\",\"sample complexity uci lipschitz nearest\",\"recurrent resolution proposal reinforcement learning\",\"error bound regularization parameter random field frobenius\",\"mixing markov chain sample size vol\",\"missing frobenius alternating ground truth\",\"proposal recurrent recurrent neural network recurrent neural\",\"variational inference gibbs mnist integration\",\"epoch iterate step size sgd\",\"query web embedding answer\",\"frequency recovery resolution minimal\",\"sgd precision non convex bit\",\"dot discriminative run time page ieee\",\"softmax mechanism input output combinatorial\",\"recovery store kxk subspace\",\"gibbs factorization corpus non negative\",\"vertex solver hessian minimizer\",\"game item precision ranking\",\"shared agarwal convergence rate mainly\",\"trajectory locally non linear reconstruction\",\"query epoch hyper parameter regret\",\"soft state space plan reinforcement learning\",\"corpus web ensemble google\",\"oracle recovery low rank covariance matrix\",\"convolutional filter hidden unit mnist\",\"dirichlet corpus document mcmc\",\"regret depth optimization method iii\",\"reward policy reinforcement learning reinforcement\",\"relaxation semantic relaxed translation\",\"vertex assignment singular running time\",\"accelerated trajectory interpretation differential\",\"gaussian process learner ranking covariance matrix\",\"game recurrent encoding video\",\"recovery gaussian noise recovering fourth\",\"round utility cover greedy\",\"community overlapping walk vertex\",\"state space reward base reinforcement learning\",\"width sign ball sup\",\"sampler mcmc stationary supplement\",\"regret self averaging perturbation\",\"vertex game flow labeled\",\"policy trajectory environment reward\",\"answer color vol embeddings\",\"auto ensemble hyperparameters configuration\",\"boltzmann euclidean sgd mnist\",\"modelling speech recurrent recurrent neural network\",\"regret game utility item\",\"segmentation pixel brain fully connected\",\"momentum boundary trajectory tuned\",\"neighbor link dense regime\",\"differential width vertex mechanism\",\"price outcome subspace belief\",\"hidden unit width hidden layer dirichlet\",\"hessian convergence rate eigenvalue sgd\",\"game regret price correlated\",\"universal hilbert space hilbert treatment\",\"recurrent document labeled error rate\",\"diag multiplication false sharing\",\"width gibbs mixing polynomial time\",\"subspace mode singular gaussian noise\",\"policy robustness environment trajectory\",\"regularizer backward propagation mnist\",\"trajectory policy feedback physical\",\"unconstrained diverse cardinality document\",\"universal vol accelerated gradient method\",\"ordering correctly examine greedy\",\"regret learner exploration game\",\"singular low rank pas singular value\",\"time step polynomial time sample complexity social\",\"directed undirected vol vertex\",\"oracle query concave convex function\",\"library gibbs document boundary\",\"gibbs embeddings dirichlet scalability\",\"overfitting feedback self policy\",\"formula equivalence assignment cell\",\"policy trajectory primary directed\",\"bayes strictly characterization link\",\"exp exp uai supplement log exp\",\"marginals twice feature vector stanford\",\"eigenvalue recovery grow community\",\"thought semantic translation corpus\",\"loop directed stopping compressed\",\"principal pca principal component color\",\"utility population averaging bayes\",\"regret gaussian process mcmc greedy\",\"mixing regret reward stationary\",\"brain logistic regression hidden layer reconstruction\",\"gaussian process random field spatial event\",\"tail detect post random field\",\"expert regret sup oracle\",\"strongly convex accelerated convergence rate rate convergence\",\"realization variational inference pseudo gaussian process\",\"conjugate variational inference diag geometry\",\"oracle smoothing enjoys sec\",\"regularizer precise non linear sign\",\"walk vertex neighborhood neighbor\",\"sgd mcmc hyper parameter precision\",\"completion sample complexity item recovery\",\"gibbs correlated auxiliary dirichlet\",\"query game utility stanford\",\"event confidence marginals margin\",\"segmentation pixel labeling neuron\",\"item event temporal history\",\"white gaussian process filter convolution\",\"price mechanism query exponential family\",\"formula proc canonical equality\",\"reinforcement learning reinforcement backpropagation surrogate\",\"surrogate policy reward considerably\",\"supervised learning mnist cost function unsupervised\",\"margin assignment embedding arg max\",\"variational inference factorization gaussians augmented\",\"recursive boundary segmentation dense\",\"augmented strongly convex solver regularizer\",\"sample complexity vol concave independence\",\"vol soft structural functional\",\"proposal belief exponential family propagation\",\"energy population modelling summary\",\"logistic regression radius ball confidence\",\"variational inference epoch activation trick\"],\"label\":[\"Online Learning\",\"Online Learning\",\"Numerical Analysis\",\"Statistics\",\"Statistics\",\"Numerical Analysis\",\"Online Learning\",\"Deep Learning\",\"Deep Learning\",\"Numerical Analysis\",\"Deep Learning\",\"Online Learning\",\"Numerical Analysis\",\"Numerical Analysis\",\"Statistics\",\"Numerical Analysis\",\"Statistics\",\"Statistics\",\"Deep Learning\",\"Numerical Analysis\",\"Numerical Analysis\",\"Deep Learning\",\"Deep Learning\",\"Online Learning\",\"Numerical Analysis\",\"Online Learning\",\"Deep Learning\",\"Statistics\",\"Online Learning\",\"Deep Learning\",\"Numerical Analysis\",\"Statistics\",\"Deep Learning\",\"Deep Learning\",\"Online Learning\",\"Statistics\",\"Online Learning\",\"Statistics\",\"Numerical Analysis\",\"Online Learning\",\"Deep Learning\",\"Statistics\",\"Online Learning\",\"Numerical Analysis\",\"Statistics\",\"Numerical Analysis\",\"Numerical Analysis\",\"Deep Learning\",\"Online Learning\",\"Deep Learning\",\"Statistics\",\"Statistics\",\"Statistics\",\"Statistics\",\"Statistics\",\"Deep Learning\",\"Deep Learning\",\"Statistics\",\"Numerical Analysis\",\"Deep Learning\",\"Online Learning\",\"Numerical Analysis\",\"Numerical Analysis\",\"Statistics\",\"Deep Learning\",\"Numerical Analysis\",\"Online Learning\",\"Numerical Analysis\",\"Deep Learning\",\"Numerical Analysis\",\"Statistics\",\"Statistics\",\"Deep Learning\",\"Numerical Analysis\",\"Online Learning\",\"Numerical Analysis\",\"Online Learning\",\"Numerical Analysis\",\"Deep Learning\",\"Online Learning\",\"Numerical Analysis\",\"Online Learning\",\"Numerical Analysis\",\"Statistics\",\"Numerical Analysis\",\"Numerical Analysis\",\"Numerical Analysis\",\"Online Learning\",\"Statistics\",\"Deep Learning\",\"Numerical Analysis\",\"Statistics\",\"Statistics\",\"Deep Learning\",\"Numerical Analysis\",\"Deep Learning\",\"Online Learning\",\"Numerical Analysis\",\"Deep Learning\",\"Online Learning\",\"Deep Learning\",\"Statistics\",\"Deep Learning\",\"Deep Learning\",\"Deep Learning\",\"Numerical Analysis\",\"Statistics\",\"Online Learning\",\"Deep Learning\",\"Statistics\",\"Numerical Analysis\",\"Numerical Analysis\",\"Online Learning\",\"Numerical Analysis\",\"Online Learning\",\"Online Learning\",\"Statistics\",\"Numerical Analysis\",\"Numerical Analysis\",\"Numerical Analysis\",\"Numerical Analysis\",\"Numerical Analysis\",\"Deep Learning\",\"Deep Learning\",\"Deep Learning\",\"Numerical Analysis\",\"Deep Learning\",\"Online Learning\",\"Statistics\",\"Statistics\",\"Deep Learning\",\"Numerical Analysis\",\"Numerical Analysis\",\"Statistics\",\"Statistics\",\"Numerical Analysis\",\"Deep Learning\",\"Deep Learning\",\"Numerical Analysis\",\"Deep Learning\",\"Numerical Analysis\",\"Online Learning\",\"Numerical Analysis\",\"Numerical Analysis\",\"Online Learning\",\"Online Learning\",\"Numerical Analysis\",\"Numerical Analysis\",\"Online Learning\",\"Online Learning\",\"Online Learning\",\"Online Learning\",\"Numerical Analysis\",\"Deep Learning\",\"Statistics\",\"Numerical Analysis\",\"Statistics\",\"Statistics\",\"Numerical Analysis\",\"Deep Learning\",\"Statistics\",\"Online Learning\",\"Numerical Analysis\",\"Numerical Analysis\",\"Online Learning\",\"Deep Learning\",\"Deep Learning\",\"Statistics\",\"Statistics\",\"Numerical Analysis\",\"Online Learning\",\"Online Learning\",\"Numerical Analysis\",\"Online Learning\",\"Numerical Analysis\",\"Numerical Analysis\",\"Online Learning\",\"Statistics\",\"Numerical Analysis\",\"Online Learning\",\"Online Learning\",\"Numerical Analysis\",\"Statistics\",\"Online Learning\",\"Statistics\",\"Deep Learning\",\"Statistics\",\"Deep Learning\",\"Numerical Analysis\",\"Online Learning\",\"Statistics\",\"Online Learning\",\"Statistics\",\"Statistics\",\"Online Learning\",\"Statistics\",\"Numerical Analysis\",\"Statistics\",\"Online Learning\",\"Online Learning\",\"Online Learning\",\"Numerical Analysis\",\"Deep Learning\",\"Statistics\",\"Numerical Analysis\",\"Statistics\",\"Statistics\",\"Numerical Analysis\",\"Deep Learning\",\"Statistics\",\"Numerical Analysis\",\"Numerical Analysis\",\"Statistics\",\"Deep Learning\",\"Numerical Analysis\",\"Numerical Analysis\",\"Statistics\",\"Statistics\",\"Online Learning\",\"Online Learning\",\"Deep Learning\",\"Statistics\",\"Numerical Analysis\",\"Deep Learning\",\"Numerical Analysis\",\"Online Learning\",\"Statistics\",\"Online Learning\",\"Numerical Analysis\",\"Statistics\",\"Statistics\",\"Numerical Analysis\",\"Statistics\",\"Numerical Analysis\",\"Online Learning\",\"Statistics\",\"Statistics\",\"Numerical Analysis\",\"Numerical Analysis\",\"Statistics\",\"Numerical Analysis\",\"Online Learning\",\"Deep Learning\",\"Online Learning\",\"Numerical Analysis\",\"Online Learning\",\"Deep Learning\",\"Numerical Analysis\",\"Deep Learning\",\"Online Learning\",\"Statistics\",\"Statistics\",\"Statistics\",\"Numerical Analysis\",\"Deep Learning\",\"Online Learning\",\"Statistics\",\"Statistics\",\"Numerical Analysis\",\"Online Learning\",\"Numerical Analysis\",\"Online Learning\",\"Online Learning\",\"Deep Learning\",\"Statistics\",\"Statistics\",\"Statistics\",\"Statistics\",\"Online Learning\",\"Numerical Analysis\",\"Deep Learning\",\"Deep Learning\",\"Online Learning\",\"Statistics\",\"Statistics\",\"Statistics\",\"Statistics\",\"Deep Learning\",\"Statistics\",\"Numerical Analysis\",\"Online Learning\",\"Deep Learning\",\"Numerical Analysis\",\"Online Learning\",\"Numerical Analysis\",\"Online Learning\",\"Deep Learning\",\"Numerical Analysis\",\"Numerical Analysis\",\"Numerical Analysis\",\"Statistics\",\"Statistics\",\"Online Learning\",\"Deep Learning\",\"Numerical Analysis\",\"Online Learning\",\"Statistics\",\"Deep Learning\",\"Numerical Analysis\",\"Statistics\",\"Numerical Analysis\",\"Online Learning\",\"Online Learning\",\"Statistics\",\"Online Learning\",\"Statistics\",\"Deep Learning\",\"Numerical Analysis\",\"Deep Learning\",\"Statistics\",\"Online Learning\",\"Numerical Analysis\",\"Deep Learning\",\"Numerical Analysis\",\"Online Learning\",\"Statistics\",\"Deep Learning\",\"Numerical Analysis\",\"Numerical Analysis\",\"Numerical Analysis\",\"Numerical Analysis\",\"Numerical Analysis\",\"Statistics\",\"Online Learning\",\"Online Learning\",\"Statistics\",\"Deep Learning\",\"Numerical Analysis\",\"Deep Learning\",\"Statistics\",\"Online Learning\",\"Deep Learning\",\"Statistics\",\"Numerical Analysis\",\"Numerical Analysis\",\"Online Learning\",\"Statistics\",\"Numerical Analysis\",\"Online Learning\",\"Online Learning\",\"Deep Learning\",\"Deep Learning\",\"Statistics\",\"Numerical Analysis\",\"Statistics\",\"Deep Learning\",\"Statistics\",\"Numerical Analysis\",\"Numerical Analysis\",\"Statistics\",\"Online Learning\",\"Numerical Analysis\",\"Numerical Analysis\",\"Statistics\",\"Numerical Analysis\",\"Statistics\",\"Statistics\",\"Online Learning\",\"Numerical Analysis\",\"Statistics\",\"Numerical Analysis\",\"Deep Learning\",\"Numerical Analysis\",\"Numerical Analysis\",\"Deep Learning\",\"Statistics\",\"Statistics\",\"Online Learning\",\"Statistics\",\"Online Learning\",\"Statistics\",\"Statistics\",\"Numerical Analysis\",\"Online Learning\",\"Online Learning\",\"Statistics\",\"Statistics\",\"Online Learning\",\"Numerical Analysis\",\"Numerical Analysis\",\"Statistics\",\"Numerical Analysis\",\"Statistics\",\"Deep Learning\",\"Online Learning\",\"Deep Learning\",\"Statistics\",\"Statistics\",\"Online Learning\",\"Numerical Analysis\",\"Statistics\",\"Statistics\",\"Deep Learning\",\"Online Learning\",\"Statistics\",\"Deep Learning\",\"Online Learning\",\"Numerical Analysis\",\"Statistics\",\"Statistics\",\"Statistics\",\"Numerical Analysis\",\"Statistics\"],\"msize\":{\"__ndarray__\":\"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\",\"dtype\":\"float64\",\"shape\":[403]},\"title\":[\"Double or Nothing: Multiplicative Incentive Mechanisms for Crowdsourcing\",\"Learning with Symmetric Label Noise: The Importance of Being Unhinged\",\"Algorithmic Stability and Uniform Generalization\",\"Adaptive Low-Complexity Sequential Inference for Dirichlet Process Mixture Models\",\"Covariance-Controlled Adaptive Langevin Thermostat for Large-Scale Bayesian Sampling\",\"Robust Portfolio Optimization\",\"Logarithmic Time Online Multiclass prediction\",\"Planar Ultrametrics for Image Segmentation\",\"Expressing an Image Stream with a Sequence of Natural Sentences\",\"Parallel Correlation Clustering on Big Graphs\",\"Faster R-CNN: Towards Real-Time Object Detection with Region Proposal Networks\",\"Space-Time Local Embeddings\",\"A Convergent Gradient Descent Algorithm for Rank Minimization and Semidefinite Programming from Random Linear Measurements\",\"Smooth Interactive Submodular Set Cover\",\"Galileo: Perceiving Physical Object Properties by Integrating a Physics Engine with Deep Learning\",\"On the Pseudo-Dimension of Nearly Optimal Auctions\",\"Unlocking neural population non-stationarities using hierarchical dynamics models\",\"Bayesian Manifold Learning: The Locally Linear Latent Variable Model (LL-LVM)\",\"Color Constancy by Learning to Predict Chromaticity from Luminance\",\"Fast and Accurate Inference of Plackett\\u2013Luce Models\",\"Probabilistic Line Searches for Stochastic Optimization\",\"Inferring Algorithmic Patterns with Stack-Augmented Recurrent Nets\",\"Where are they looking?\",\"The Pareto Regret Frontier for Bandits\",\"On the Limitation of Spectral Methods: From the Gaussian Hidden Clique Problem to Rank-One Perturbations of Gaussian Tensors\",\"Measuring Sample Quality with Stein's Method\",\"Bidirectional Recurrent Convolutional Networks for Multi-Frame Super-Resolution\",\"Bounding errors of Expectation-Propagation\",\"A fast, universal algorithm to learn parametric nonlinear embeddings\",\"Texture Synthesis Using Convolutional Neural Networks\",\"Extending Gossip Algorithms to Distributed Estimation of U-statistics\",\"Streaming, Distributed Variational Inference for Bayesian Nonparametrics\",\"Learning visual biases from human imagination\",\"Smooth and Strong: MAP Inference with Linear Convergence\",\"Copeland Dueling Bandits\",\"Optimal Ridge Detection using Coverage Risk\",\"Top-k Multiclass SVM\",\"Policy Evaluation Using the \\u03a9-Return\",\"Orthogonal NMF through Subspace Exploration\",\"Stochastic Online Greedy Learning with Semi-bandit Feedbacks\",\"Deeply Learning the Messages in Message Passing Inference\",\"Synaptic Sampling: A Bayesian Approach to Neural Network Plasticity and Rewiring\",\"Accelerated Proximal Gradient Methods for Nonconvex Programming\",\"Approximating Sparse PCA from Incomplete Data\",\"Nonparametric von Mises Estimators for Entropies, Divergences and Mutual Informations\",\"Column Selection via Adaptive Sampling\",\"HONOR: Hybrid Optimization for NOn-convex Regularized problems\",\"3D Object Proposals for Accurate Object Class Detection\",\"Algorithms with Logarithmic or Sublinear Regret for  Constrained Contextual Bandits\",\"Tensorizing Neural Networks\",\"Parallelizing MCMC with Random Partition Trees\",\"A Reduced-Dimension fMRI Shared Response Model\",\"Spectral Learning of Large Structured HMMs for Comparative Epigenomics\",\"Individual Planning in Infinite-Horizon Multiagent Settings: Inference, Structure and Scalability\",\"Estimating Mixture Models via Mixtures of Polynomials\",\"On the Global Linear Convergence of Frank-Wolfe Optimization Variants\",\"Deep Knowledge Tracing\",\"Rethinking LDA: Moment Matching for Discrete ICA\",\"Efficient Compressive Phase Retrieval with Constrained Sensing Vectors\",\"Barrier Frank-Wolfe for Marginal Inference\",\"Learning Theory and Algorithms for Forecasting Non-stationary Time Series\",\"Compressive spectral embedding: sidestepping the SVD\",\"A Nonconvex Optimization Framework for Low Rank Matrix Estimation\",\"Automatic Variational Inference in Stan\",\"Attention-Based Models for Speech Recognition\",\"Closed-form Estimators for High-dimensional Generalized Linear Models\",\"Online F-Measure Optimization\",\"Online Rank Elicitation for Plackett-Luce: A Dueling Bandits Approach\",\"M-Best-Diverse Labelings for Submodular Energies and Beyond\",\"Tractable Bayesian Network Structure Learning with Bounded Vertex Cover Number\",\"Learning Large-Scale Poisson DAG Models based on OverDispersion Scoring\",\"Training Restricted Boltzmann Machine via the \\ufffcThouless-Anderson-Palmer free energy\",\"Character-level Convolutional Networks for Text Classification\",\"Robust Feature-Sample Linear Discriminant Analysis for Brain Disorders Diagnosis\",\"Black-box optimization of noisy functions with unknown smoothness\",\"Recovering Communities in the General Stochastic Block Model Without Knowing the Parameters\",\"Deep learning with Elastic Averaging SGD\",\"Monotone k-Submodular Function Maximization with Size Constraints\",\"Active Learning from Weak and Strong Labelers\",\"On the Optimality of Classifier Chain for Multi-label Classification\",\"Robust Regression via Hard Thresholding\",\"Sparse Local Embeddings for Extreme Multi-label Classification\",\"Solving Random Quadratic Systems of Equations Is Nearly as Easy as Solving Linear Systems\",\"A Framework for Individualizing Predictions of Disease Trajectories by Exploiting Multi-Resolution Structure\",\"Subspace Clustering with Irrelevant Features via Robust Dantzig Selector\",\"Sparse PCA via Bipartite Matchings\",\"Fast Randomized Kernel Ridge Regression with Statistical Guarantees\",\"Online Learning for Adversaries with Memory: Price of Past Mistakes\",\"Convolutional spike-triggered covariance analysis for neural subunit models\",\"Convolutional LSTM Network: A Machine Learning Approach for Precipitation Nowcasting\",\"GAP Safe screening rules for sparse multi-task and multi-class models\",\"Empirical Localization of Homogeneous Divergences on Discrete Sample Spaces\",\"Statistical Model Criticism using Kernel Two Sample Tests\",\"Precision-Recall-Gain Curves: PR Analysis Done Right\",\"A Generalization of Submodular Cover via the Diminishing Return Property on the Integer Lattice\",\"Bidirectional Recurrent Neural Networks as Generative Models\",\"Quartz: Randomized Dual Coordinate Ascent with Arbitrary Sampling\",\"Maximum Likelihood Learning With Arbitrary Treewidth via Fast-Mixing Parameter Sets\",\"Hessian-free Optimization for Learning Deep Multidimensional Recurrent Neural Networks\",\"Large-scale probabilistic predictors with and without guarantees of validity\",\"Shepard Convolutional Neural Networks\",\"Matrix Manifold Optimization for Gaussian Mixtures\",\"Semi-supervised Convolutional Neural Networks for Text Categorization via Region Embedding\",\"Parallel Recursive Best-First AND/OR Search for Exact MAP Inference in Graphical Models\",\"Convolutional Neural Networks with Intra-Layer Recurrent Connections for Scene Labeling\",\"Bounding the Cost of Search-Based Lifted Inference\",\"Gradient-free Hamiltonian Monte Carlo with Efficient Kernel Exponential Families\",\"Linear Multi-Resource Allocation with Semi-Bandit Feedback\",\"Unsupervised Learning by Program Synthesis\",\"Enforcing balance allows local supervised learning in spiking recurrent networks\",\"Fast and Guaranteed Tensor Decomposition via Sketching\",\"Differentially private subspace clustering\",\"Predtron: A Family of Online Algorithms for General Prediction Problems\",\"Weighted Theta Functions and Embeddings with Applications to Max-Cut, Clustering and Summarization\",\"SGD Algorithms based on Incomplete U-statistics: Large-Scale Minimization of Empirical Risk\",\"On Top-k Selection in Multi-Armed Bandits and Hidden Bipartite Graphs\",\"The Brain Uses Reliability of Stimulus Information when Making Perceptual Decisions\",\"Fast Classification Rates for High-dimensional Gaussian Generative Models\",\"Fast Distributed k-Center Clustering with Outliers on Massive Data\",\"Human Memory Search as Initial-Visit Emitting Random Walk\",\"Non-convex Statistical Optimization for Sparse Tensor Graphical Model\",\"Convergence Rates of Active Learning for Maximum Likelihood Estimation\",\"Weakly-supervised Disentangling with Recurrent Transformations for 3D View Synthesis\",\"Efficient Exact Gradient Update for training Deep Networks with Very Large Sparse Targets\",\"Backpropagation for Energy-Efficient Neuromorphic Computing\",\"Alternating Minimization for Regression Problems with Vector-valued Outputs\",\"Learning both Weights and Connections for Efficient Neural Network\",\"Optimal Rates for Random Fourier Features\",\"The Population Posterior and Bayesian Modeling on Streams\",\"Frank-Wolfe Bayesian Quadrature: Probabilistic Integration with Theoretical Guarantees\",\"Scheduled Sampling for Sequence Prediction with Recurrent Neural Networks\",\"Unified View of Matrix Completion under General Structural Constraints\",\"Efficient Output Kernel Learning for Multiple Tasks\",\"Scalable Adaptation of State Complexity for Nonparametric Hidden Markov Models\",\"Variational Consensus Monte Carlo\",\"Newton-Stein Method: A Second Order Method for GLMs via Stein's Lemma\",\"Practical and Optimal LSH for Angular Distance\",\"Learning to Linearize Under Uncertainty\",\"Finite-Time Analysis of Projected Langevin Monte Carlo\",\"Deep Visual Analogy-Making\",\"Matrix Completion from Fewer Entries: Spectral Detectability and Rank Estimation\",\"Online Learning with Adversarial Delays\",\"Multi-Layer Feature Reduction for Tree Structured Group Lasso via Hierarchical Projection\",\"Minimum Weight Perfect Matching via Blossom Belief Propagation\",\"Efficient Thompson Sampling for Online \\ufffcMatrix-Factorization Recommendation\",\"Improved Iteration Complexity Bounds of Cyclic Block Coordinate Descent for Convex Problems\",\"Lifted Symmetry Detection and Breaking for MAP Inference\",\"Evaluating the statistical significance of biclusters\",\"Discriminative Robust Transformation Learning\",\"Bandits with Unobserved Confounders: A Causal Approach\",\"Scalable Semi-Supervised Aggregation of Classifiers\",\"Online Learning with Gaussian Payoffs and Side Observations\",\"Private Graphon Estimation for Sparse Graphs\",\"SubmodBoxes: Near-Optimal Search for a Set of Diverse Object Proposals\",\"Fast Second Order Stochastic Backpropagation for Variational Inference\",\"Randomized Block Krylov Methods for Stronger and Faster Approximate Singular Value Decomposition\",\"Cross-Domain Matching for Bag-of-Words Data via Kernel Embeddings of Latent Distributions\",\"Scalable Inference for Gaussian Process Models with Black-Box Likelihoods\",\"Fast Bidirectional Probability Estimation in Markov Models\",\"Probabilistic Variational Bounds for Graphical Models\",\"Linear Response Methods for Accurate Covariance Estimates from Mean Field Variational Bayes\",\"Combinatorial Cascading Bandits\",\"Mixing Time Estimation in Reversible Markov Chains from a Single Sample Path\",\"Policy Gradient for Coherent Risk Measures\",\"Fast Rates for Exp-concave Empirical Risk Minimization\",\"Deep Generative Image Models using a \\ufffcLaplacian Pyramid of Adversarial Networks\",\"Decoupled Deep Neural Network for Semi-supervised Semantic Segmentation\",\"Equilibrated adaptive learning rates for non-convex optimization\",\"BACKSHIFT: Learning causal cyclic graphs from unknown shift interventions\",\"Risk-Sensitive and Robust Decision-Making: a CVaR Optimization Approach\",\"Asynchronous stochastic convex optimization: the noise is in the noise and SGD don't care\",\"Lifelong Learning with Non-i.i.d. Tasks\",\"Optimal Linear Estimation under Unknown Nonlinear Transform\",\"Learning with Group Invariant Features: A Kernel Perspective.\",\"Regularized EM Algorithms: A Unified Framework and Statistical Guarantees\",\"Adaptive Stochastic Optimization: From Sets to Paths\",\"Beyond Convexity: Stochastic Quasi-Convex Optimization\",\"A Tractable Approximation to Optimal Point Process Filtering: Application to Neural Encoding\",\"Sum-of-Squares Lower Bounds for Sparse PCA\",\"Max-Margin Majority Voting for Learning from Crowds\",\"Learning with Incremental Iterative Regularization\",\"Halting in Random Walk Kernels\",\"MCMC for Variationally Sparse Gaussian Processes\",\"Less is More: Nystr\\u00f6m Computational Regularization\",\"Infinite Factorial Dynamical Model\",\"Regularization Path of Cross-Validation Error Lower Bounds\",\"Attractor Network Dynamics Enable Preplay and Rapid Path Planning in Maze\\u2013like Environments\",\"Teaching Machines to Read and Comprehend\",\"Principal Differences Analysis: Interpretable Characterization of Differences between Distributions\",\"When are Kalman-Filter Restless Bandits Indexable?\",\"Segregated Graphs and Marginals of Chain Graph Models\",\"Efficient Non-greedy Optimization of Decision Trees\",\"Probabilistic Curve Learning: Coulomb Repulsion and the Electrostatic Gaussian Process\",\"Inverse Reinforcement Learning with Locally Consistent Reward Functions\",\"Communication Complexity of Distributed Convex Learning and Optimization\",\"End-to-end Learning of LDA by Mirror-Descent Back Propagation over a Deep Architecture\",\"Subset Selection by Pareto Optimization\",\"On the Accuracy of Self-Normalized Log-Linear Models\",\"Regret Lower Bound and Optimal Algorithm in Finite Stochastic Partial Monitoring\",\"Is Approval Voting Optimal Given Approval Votes?\",\"Regressive Virtual Metric Learning\",\"Analysis of Robust PCA via Local Incoherence\",\"Learning to Transduce with Unbounded Memory\",\"Max-Margin Deep Generative Models\",\"Spherical Random Features for Polynomial Kernels\",\"Rectified Factor Networks\",\"Learning Bayesian Networks with Thousands of Variables\",\"Matrix Completion Under Monotonic Single Index Models\",\"Visalogy: Answering Visual Analogy Questions\",\"Tree-Guided MCMC Inference for Normalized Random Measure Mixture Models\",\"Streaming Min-max Hypergraph Partitioning\",\"Collaboratively Learning Preferences from Ordinal Data\",\"Biologically Inspired Dynamic Textures for Probing Motion Perception\",\"Generative Image Modeling Using Spatial LSTMs\",\"Robust PCA with compressed data\",\"Sampling from Probabilistic Submodular Models\",\"COEVOLVE: A Joint Point Process Model for Information Diffusion and Network Co-evolution\",\"Supervised Learning for Dynamical System Learning\",\"Regret-Based Pruning in Extensive-Form Games\",\"Fast Two-Sample Testing with Analytic Representations of Probability Measures\",\"Learning to Segment Object Candidates\",\"GP Kernels for Cross-Spectrum Analysis\",\"Secure Multi-party Differential Privacy\",\"Spatial Transformer Networks\",\"Anytime Influence Bounds and the Explosive Behavior of Continuous-Time Diffusion Networks\",\"Multi-class SVMs: From Tighter Data-Dependent Generalization Bounds to Novel Algorithms\",\"High-dimensional neural spike train analysis with generalized count linear dynamical systems\",\"Learning with a Wasserstein Loss\",\"b-bit Marginal Regression\",\"Natural Neural Networks\",\"Optimization Monte Carlo: Efficient and Embarrassingly Parallel Likelihood-Free Inference\",\"Adaptive Primal-Dual Splitting Methods for Statistical Learning and Image Processing\",\"On some provably correct cases of variational inference for topic models\",\"Collaborative Filtering with Graph Information: Consistency and Scalable Methods\",\"Combinatorial Bandits Revisited\",\"Variational Information Maximisation for Intrinsically Motivated Reinforcement Learning\",\"A Structural Smoothing Framework For Robust Graph Comparison\",\"Competitive Distribution Estimation: Why is Good-Turing Good\",\"Efficient Learning by Directed Acyclic Graph For Resource Constrained Prediction\",\"A hybrid sampler for Poisson-Kingman mixture models\",\"An Active Learning Framework using Sparse-Graph Codes for Sparse Polynomials and Graph Sketching\",\"Local Smoothness in Variance Reduced Optimization\",\"Saliency, Scale and Information: Towards a Unifying Theory\",\"Fighting Bandits with a New Kind of Smoothness\",\"Beyond Sub-Gaussian Measurements: High-Dimensional Structured Estimation with Sub-Exponential Designs\",\"Spectral Norm Regularization of Orthonormal Representations for Graph Transduction\",\"Convolutional Networks on Graphs for Learning Molecular Fingerprints\",\"Mixed Robust/Average Submodular Partitioning: Fast Algorithms, Guarantees, and Applications\",\"Tractable Learning for Complex Probability Queries\",\"StopWasting My Gradients: Practical SVRG\",\"Mind the Gap: A Generative Approach to Interpretable Feature Selection and Extraction\",\"A Normative Theory of Adaptive Dimensionality Reduction in Neural Networks\",\"On the Convergence of Stochastic Gradient MCMC Algorithms with High-Order Integrators\",\"Learning structured densities via infinite dimensional exponential families\",\"Are You Talking to a Machine? Dataset and Methods for Multilingual Image Question\",\"Variance Reduced Stochastic Gradient Descent with Neighbors\",\"Sample Efficient Path Integral Control under Uncertainty\",\"Stochastic Expectation Propagation\",\"Exactness of Approximate MAP Inference in Continuous MRFs\",\"Scale Up Nonlinear Component Analysis with Doubly Stochastic Gradients\",\"Generalization in Adaptive Data Analysis and Holdout Reuse\",\"Market Scoring Rules Act As Opinion Pools For Risk-Averse Agents\",\"Sparse Linear Programming via Primal and Dual Augmented Coordinate Descent\",\"Training Very Deep Networks\",\"Bayesian Active Model Selection with an Application to Automated Audiometry\",\"Particle Gibbs for Infinite Hidden Markov Models\",\"Learning spatiotemporal trajectories from manifold-valued longitudinal data\",\"A Bayesian Framework for Modeling Confidence in Perceptual Decision Making\",\"Path-SGD: Path-Normalized Optimization in Deep Neural Networks\",\"On the consistency theory of high dimensional variable screening\",\"End-To-End Memory Networks\",\"Spectral Representations for Convolutional Neural Networks\",\"Online Gradient Boosting\",\"Deep Temporal Sigmoid Belief Networks for Sequence Modeling\",\"Recognizing retinal ganglion cells in the dark\",\"A Theory of Decision Making Under Dynamic Context\",\"A Gaussian Process Model of Quasar Spectral Energy Distributions\",\"Hidden Technical Debt in Machine Learning Systems\",\"Local Causal Discovery of Direct Causes and Effects\",\"High Dimensional EM Algorithm: Statistical Optimization and Asymptotic Normality\",\"Revenue Optimization against Strategic Buyers\",\"Deep Convolutional Inverse Graphics Network\",\"Sparse and Low-Rank Tensor Decomposition\",\"Minimax Time Series Prediction\",\"Differentially Private Learning of Structured Discrete Distributions\",\"Sample Complexity of Learning Mahalanobis Distance Metrics\",\"Learning Wake-Sleep Recurrent Attention Models\",\"Robust Gaussian Graphical Modeling with the Trimmed Graphical Lasso\",\"Testing Closeness With Unequal Sized Samples\",\"Estimating Jaccard Index with Missing Observations: A Matrix Calibration Approach\",\"Neural Adaptive Sequential Monte Carlo\",\"Local Expectation Gradients for Black Box Variational Inference\",\"On Variance Reduction in Stochastic Gradient Descent and its Asynchronous Variants\",\"NEXT: A System for Real-World Development, Evaluation, and Application of Active Learning\",\"Super-Resolution Off the Grid\",\"Taming the Wild: A Unified Analysis of Hogwild-Style Algorithms\",\"The Return of the Gating Network: Combining Generative Models and Discriminative Training in Natural Image Priors\",\"Pointer Networks\",\"Associative Memory via a Sparse Recovery Model\",\"Robust Spectral Inference for Joint Stochastic Matrix Factorization\",\"Fast, Provable Algorithms for Isotonic Regression in all L_p-norms\",\"Adversarial Prediction Games for Multivariate Losses\",\"Asynchronous Parallel Stochastic Gradient for Nonconvex Optimization\",\"Embed to Control: A Locally Linear Latent Dynamics Model for Control from Raw Images\",\"Efficient and Parsimonious Agnostic Active Learning\",\"Softstar: Heuristic-Guided Probabilistic Inference\",\"Grammar as a Foreign Language\",\"Regularization-Free Estimation in Trace Regression with Symmetric Positive Semidefinite Matrices\",\"Winner-Take-All Autoencoders\",\"Deep Poisson Factor Modeling\",\"Bayesian Optimization with Exponential Convergence\",\"Sample Complexity of Episodic Fixed-Horizon Reinforcement Learning\",\"Learning with Relaxed Supervision\",\"Subsampled Power Iteration: a Unified Algorithm for Block Models and Planted CSP's\",\"Accelerated Mirror Descent in Continuous and Discrete Time\",\"The Human Kernel\",\"Action-Conditional Video Prediction using Deep Networks in Atari Games\",\"A Pseudo-Euclidean Iteration for Optimal Recovery in Noisy ICA\",\"Distributed Submodular Cover: Succinctly Summarizing Massive Data\",\"Community Detection via Measure Space Embedding\",\"Basis refinement strategies for linear value function approximation in MDPs\",\"Structured Estimation with Atomic Norms: General Bounds and Applications\",\"A Complete Recipe for Stochastic Gradient MCMC\",\"Bandit Smooth Convex Optimization: Improving the Bias-Variance Tradeoff\",\"Online Prediction at the Limit of Zero Temperature\",\"Learning Continuous Control Policies by Stochastic Value Gradients\",\"Exploring Models and Data for Image Question Answering\",\"Efficient and Robust Automated Machine Learning\",\"Preconditioned Spectral Descent for Deep Learning\",\"A Recurrent Latent Variable Model for Sequential Data\",\"Fast Convergence of Regularized Learning in Games\",\"Parallel Multi-Dimensional LSTM, With Application to Fast Biomedical Volumetric Image Segmentation\",\"Reflection, Refraction, and Hamiltonian Monte Carlo\",\"The Consistency of Common Neighbors for Link Prediction in Stochastic Blockmodels\",\"Nearly Optimal Private LASSO\",\"Convergence Analysis of Prediction Markets via Randomized Subspace Descent\",\"The Poisson Gamma Belief Network\",\"Convergence rates of sub-sampled Newton methods\",\"No-Regret Learning in Bayesian Games\",\"Statistical Topological Data Analysis - A Kernel Perspective\",\"Semi-supervised Sequence Learning\",\"Structured Transforms for Small-Footprint Deep Learning\",\"Rapidly Mixing Gibbs Sampling for a Class of Factor Graphs Using Hierarchy Width\",\"Interpolating Convex and Non-Convex Tensor Decompositions via the Subspace Norm\",\"Sample Complexity Bounds for Iterative Stochastic Policy Optimization\",\"BinaryConnect: Training Deep Neural Networks with binary weights during propagations\",\"Interactive Control of Diverse Complex Characters with Neural Networks\",\"Submodular Hamming Metrics\",\"A Universal Primal-Dual Convex Optimization Framework\",\"Learning From Small Samples: An Analysis of Simple Decision Heuristics\",\"Explore no more: Improved high-probability regret bounds for non-stochastic bandits\",\"Fast and Memory Optimal Low-Rank Matrix Approximation\",\"Learnability of Influence in Networks\",\"Learning Causal Graphs with Small Interventions\",\"Information-theoretic lower bounds for convex optimization with erroneous oracles\",\"Fixed-Length Poisson MRF: Adding Dependencies to the Multinomial\",\"Large-Scale Bayesian Multi-Label Learning via Topic-Based Label Embeddings\",\"The Self-Normalized Estimator for Counterfactual Learning\",\"Fast Lifted MAP Inference via Partitioning\",\"Data Generation as Sequential Decision Making\",\"On Elicitation Complexity\",\"Decomposition Bounds for Marginal MAP\",\"Discrete R\\u00e9nyi Classifiers\",\"A class of network models recoverable by spectral clustering\",\"Skip-Thought Vectors\",\"Rate-Agnostic (Causal) Structure Learning\",\"Principal Geodesic Analysis for Probability Measures under the Optimal Transport Metric\",\"Consistent Multilabel Classification\",\"Parallel Predictive Entropy Search for Batch Global Optimization of Expensive Objective Functions\",\"Cornering Stationary and Restless Mixing Bandits with Remix-UCB\",\"Semi-Supervised Factored Logistic Regression for High-Dimensional Neuroimaging Data\",\"Gaussian Process Random Fields\",\"M-Statistic for Kernel Change-Point Detection\",\"Adaptive Online Learning\",\"A Universal Catalyst for First-Order Optimization\",\"Inference for determinantal point processes without spectral knowledge\",\"Kullback-Leibler Proximal Variational Inference\",\"Semi-Proximal Mirror-Prox for Nonsmooth Composite Minimization\",\"LASSO with Non-linear Measurements is Equivalent to One With Linear Measurements\",\"From random walks to distances on unweighted graphs\",\"Bayesian dark knowledge\",\"Matrix Completion with Noisy Side Information\",\"Dependent Multinomial Models Made Easy: Stick-Breaking with the Polya-gamma Augmentation\",\"On-the-Job Learning with Bayesian Decision Theory\",\"Calibrated Structured Prediction\",\"Learning Structured Output Representation using Deep Conditional Generative Models\",\"Time-Sensitive Recommendation From Recurrent User Activities\",\"Learning Stationary Time Series using Gaussian Processes with Nonparametric Kernels\",\"A Market Framework for Eliciting Private Data\",\"Lifted Inference Rules With Constraints\",\"Gradient Estimation Using Stochastic Computation Graphs\",\"Model-Based Relative Entropy Stochastic Search\",\"Semi-supervised Learning with Ladder Networks\",\"Embedding Inference for Structured Multilabel Prediction\",\"Copula variational inference\",\"Recursive Training of 2D-3D Convolutional Networks for Neuronal Boundary Prediction\",\"A Dual Augmented Block Minimization Framework for Learning with Limited Memory\",\"Optimal Testing for Properties of Distributions\",\"Efficient Learning of Continuous-Time Hidden Markov Models for Disease Progression\",\"Expectation Particle Belief Propagation\",\"Latent Bayesian melding for integrating individual and population models\",\"Distributionally Robust Logistic Regression\",\"Variational Dropout and the Local Reparameterization Trick\"],\"x\":{\"__ndarray__\":\"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\",\"dtype\":\"float64\",\"shape\":[403]},\"y\":{\"__ndarray__\":\"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\",\"dtype\":\"float64\",\"shape\":[403]}}},\"id\":\"fa23c55a-baba-4066-a49e-afbe0895a3d1\",\"type\":\"ColumnDataSource\"},{\"attributes\":{\"plot\":{\"id\":\"34a786d5-f52b-4c7a-bd10-91c33ae9d2b9\",\"subtype\":\"Figure\",\"type\":\"Plot\"}},\"id\":\"1c8b258a-7536-4ebb-acb4-7e695c88ed78\",\"type\":\"WheelZoomTool\"},{\"attributes\":{\"callback\":null,\"plot\":{\"id\":\"34a786d5-f52b-4c7a-bd10-91c33ae9d2b9\",\"subtype\":\"Figure\",\"type\":\"Plot\"},\"tooltips\":[[\"content\",\"Title: @title, KeyWords: @content - Topic: @label \"]]},\"id\":\"58bee35b-73bf-480f-8d2f-9fd7c9f94aec\",\"type\":\"HoverTool\"},{\"attributes\":{\"plot\":{\"id\":\"34a786d5-f52b-4c7a-bd10-91c33ae9d2b9\",\"subtype\":\"Figure\",\"type\":\"Plot\"}},\"id\":\"bf9c4765-3759-4262-b6f3-ba9bc311e2f2\",\"type\":\"SaveTool\"},{\"attributes\":{\"bottom_units\":\"screen\",\"fill_alpha\":{\"value\":0.5},\"fill_color\":{\"value\":\"lightgrey\"},\"left_units\":\"screen\",\"level\":\"overlay\",\"line_alpha\":{\"value\":1.0},\"line_color\":{\"value\":\"black\"},\"line_dash\":[4,4],\"line_width\":{\"value\":2},\"plot\":null,\"render_mode\":\"css\",\"right_units\":\"screen\",\"top_units\":\"screen\"},\"id\":\"808adbda-8ce3-4f17-977d-9f7bd0a8d075\",\"type\":\"BoxAnnotation\"},{\"attributes\":{\"min_border\":1,\"plot_width\":1000,\"renderers\":[{\"id\":\"808adbda-8ce3-4f17-977d-9f7bd0a8d075\",\"type\":\"BoxAnnotation\"},{\"id\":\"672a3b46-7e77-4e74-bd12-2a1b4d20af71\",\"type\":\"Legend\"},{\"id\":\"3f161068-f390-4bb9-bf10-612b2df5e49a\",\"type\":\"GlyphRenderer\"}],\"title\":{\"id\":\"67a3d0e0-a4d6-4e2a-96c3-cc28d49e0038\",\"type\":\"Title\"},\"tool_events\":{\"id\":\"ee643cd0-3444-4dde-b13e-69aebd53bb4a\",\"type\":\"ToolEvents\"},\"toolbar\":{\"id\":\"29e84f3c-af6a-4188-bbc8-1bf1bfa9e619\",\"type\":\"Toolbar\"},\"x_range\":{\"id\":\"6c983a40-4d34-4b32-85a9-f0ae65b761c2\",\"type\":\"DataRange1d\"},\"y_range\":{\"id\":\"be3ddb35-7049-41b8-8ab3-76bd4aef11a6\",\"type\":\"DataRange1d\"}},\"id\":\"34a786d5-f52b-4c7a-bd10-91c33ae9d2b9\",\"subtype\":\"Figure\",\"type\":\"Plot\"},{\"attributes\":{\"plot\":null,\"text\":\"T-SNE visualization of topics\"},\"id\":\"67a3d0e0-a4d6-4e2a-96c3-cc28d49e0038\",\"type\":\"Title\"},{\"attributes\":{\"callback\":null},\"id\":\"6c983a40-4d34-4b32-85a9-f0ae65b761c2\",\"type\":\"DataRange1d\"}],\"root_ids\":[\"34a786d5-f52b-4c7a-bd10-91c33ae9d2b9\"]},\"title\":\"Bokeh Application\",\"version\":\"0.12.5\"}};\n",
       "            var render_items = [{\"docid\":\"2a45d7e2-805e-45b3-8aa9-2635e1f2146e\",\"elementid\":\"ddef4fc6-fa11-4892-92ff-4358bf86e834\",\"modelid\":\"34a786d5-f52b-4c7a-bd10-91c33ae9d2b9\"}];\n",
       "            \n",
       "            Bokeh.embed.embed_items(docs_json, render_items);\n",
       "          };\n",
       "          if (document.readyState != \"loading\") fn();\n",
       "          else document.addEventListener(\"DOMContentLoaded\", fn);\n",
       "        })();\n",
       "      },\n",
       "      function(Bokeh) {\n",
       "      }\n",
       "    ];\n",
       "  \n",
       "    function run_inline_js() {\n",
       "      \n",
       "      if ((window.Bokeh !== undefined) || (force === true)) {\n",
       "        for (var i = 0; i < inline_js.length; i++) {\n",
       "          inline_js[i](window.Bokeh);\n",
       "        }if (force === true) {\n",
       "          display_loaded();\n",
       "        }} else if (Date.now() < window._bokeh_timeout) {\n",
       "        setTimeout(run_inline_js, 100);\n",
       "      } else if (!window._bokeh_failed_load) {\n",
       "        console.log(\"Bokeh: BokehJS failed to load within specified timeout.\");\n",
       "        window._bokeh_failed_load = true;\n",
       "      } else if (force !== true) {\n",
       "        var cell = $(document.getElementById(\"ddef4fc6-fa11-4892-92ff-4358bf86e834\")).parents('.cell').data().cell;\n",
       "        cell.output_area.append_execute_result(NB_LOAD_WARNING)\n",
       "      }\n",
       "  \n",
       "    }\n",
       "  \n",
       "    if (window._bokeh_is_loading === 0) {\n",
       "      console.log(\"Bokeh: BokehJS loaded, going straight to plotting\");\n",
       "      run_inline_js();\n",
       "    } else {\n",
       "      load_libs(js_urls, function() {\n",
       "        console.log(\"Bokeh: BokehJS plotting callback run at\", now());\n",
       "        run_inline_js();\n",
       "      });\n",
       "    }\n",
       "  }(this));\n",
       "</script>"
      ]
     },
     "metadata": {},
     "output_type": "display_data"
    },
    {
     "data": {
      "text/plain": [
       "'/Users/admin/Desktop/Learning_ML/test_codes/Kaggles/NIPS2015/T-SNE-visualization-of-topics.html'"
      ]
     },
     "execution_count": 244,
     "metadata": {},
     "output_type": "execute_result"
    }
   ],
   "source": [
    "title = 'T-SNE visualization of topics'\n",
    "\n",
    "plot_lda = figure(plot_width=1000, plot_height=600,\n",
    "                     title=title, tools=\"pan,wheel_zoom,box_zoom,reset,hover,previewsave\",\n",
    "                     x_axis_type=None, y_axis_type=None, min_border=1)\n",
    "\n",
    "plot_lda.scatter(x='x', y='y', legend='label', source=source,\n",
    "                 color='color', alpha=0.8, size='msize')\n",
    "\n",
    "# hover tools\n",
    "hover = plot_lda.select(dict(type=HoverTool))\n",
    "hover.tooltips = {\"content\": \"Title: @title, KeyWords: @content - Topic: @label \"}\n",
    "plot_lda.legend.location = \"top_left\"\n",
    "\n",
    "show(plot_lda)\n",
    "\n",
    "#save the plot\n",
    "save(plot_lda, '{}.html'.format('-'.join(title.split())))"
   ]
  },
  {
   "cell_type": "markdown",
   "metadata": {},
   "source": [
    "Looking at the figure above, it's obious that Deep learning paper have recieved more citation than other. Next I plot the distribution of citation per topic."
   ]
  },
  {
   "cell_type": "code",
   "execution_count": 147,
   "metadata": {},
   "outputs": [
    {
     "name": "stdout",
     "output_type": "stream",
     "text": [
      "Populating the interactive namespace from numpy and matplotlib\n"
     ]
    }
   ],
   "source": [
    "%pylab inline"
   ]
  },
  {
   "cell_type": "markdown",
   "metadata": {},
   "source": [
    "### There are 3 kinds of publications: "
   ]
  },
  {
   "cell_type": "code",
   "execution_count": 168,
   "metadata": {},
   "outputs": [
    {
     "data": {
      "text/plain": [
       "['Poster', 'Spotlight', 'Oral']"
      ]
     },
     "execution_count": 168,
     "metadata": {},
     "output_type": "execute_result"
    }
   ],
   "source": [
    "p_df['EventType'].unique().tolist()"
   ]
  },
  {
   "cell_type": "markdown",
   "metadata": {},
   "source": [
    "### Poster don't recieve citations so we divide the papers into posters and non-posters "
   ]
  },
  {
   "cell_type": "code",
   "execution_count": null,
   "metadata": {
    "collapsed": true
   },
   "outputs": [],
   "source": [
    "filter = p_df['EventType']=='Poster'"
   ]
  },
  {
   "cell_type": "markdown",
   "metadata": {},
   "source": [
    "What's less obvious from the visualization is the number of papers per topic. Next we'll look at that.\n"
   ]
  },
  {
   "cell_type": "code",
   "execution_count": 238,
   "metadata": {},
   "outputs": [
    {
     "data": {
      "image/png": "[encoded data removed]",
      "text/plain": [
       "<matplotlib.figure.Figure at 0x13d1a5210>"
      ]
     },
     "metadata": {},
     "output_type": "display_data"
    }
   ],
   "source": [
    "pap_cnts = {i:len(p_df[(p_df['clusters']==i) & (~filter)]) for i in range(4)}\n",
    "pos_cnts = {i:len(p_df[(p_df['clusters']==i) & (filter)]) for i in range(4)}\n",
    "\n",
    "fig = figure(figsize=(6,5))\n",
    "\n",
    "npap_ls = [pap_cnts[k] for k in range(4)]\n",
    "npos_ls = [pos_cnts[k] for k in range(4)]\n",
    "cols = [cluster_colors[i] for i in range(4)]\n",
    "\n",
    "bar(range(4), npap_ls, align='center', width=0.5, color=cols , alpha=1.0, label='# Papers')\n",
    "bar(range(4), npos_ls, align='center', width=0.5, color=cols, alpha=0.5, label='# Posters')\n",
    "\n",
    "xticks(range(4), [top_labels[k] for k in range(4)], rotation=30, ha= 'right', fontsize=12)\n",
    "\n",
    "title('Paper/Poster counts per topic', fontsize=15)\n",
    "xlabel('Topics', fontsize=15); ylabel('Paper/Poster Counts', fontsize=15);\n",
    "\n",
    "legend(loc='upper right', fontsize=15); show();"
   ]
  },
  {
   "cell_type": "code",
   "execution_count": 163,
   "metadata": {},
   "outputs": [
    {
     "data": {
      "image/png": "[encoded data removed]",
      "text/plain": [
       "<matplotlib.figure.Figure at 0x13c2c1290>"
      ]
     },
     "metadata": {},
     "output_type": "display_data"
    }
   ],
   "source": [
    "fig = figure(figsize=(6,4))\n",
    "bins = np.linspace(1, p_df['Citations'].max(), 5)\n",
    "\n",
    "vals = {i:p_df[(p_df['clusters']==i) & (~filter)]['Citations'].tolist() for i in range(4)}\n",
    "    \n",
    "hist([vals[i] for i in range(4)], bins,\\\n",
    "     color=[cluster_colors[i] for i in range(4)], alpha = 0.7,\\\n",
    "     label=[top_labels[i] for i in range(4)])\n",
    "title('Citation distribution per topic ', fontsize=15)\n",
    "xlabel('Citations', fontsize=15); ylabel('Paper Count', fontsize=15);\n",
    "legend(loc='best');"
   ]
  },
  {
   "cell_type": "markdown",
   "metadata": {},
   "source": [
    "The most cited papers belong to the __Deep learning__, which confirms our observation from the t-sne visualization."
   ]
  },
  {
   "cell_type": "code",
   "execution_count": null,
   "metadata": {
    "collapsed": true
   },
   "outputs": [],
   "source": []
  }
 ],
 "metadata": {
  "kernelspec": {
   "display_name": "Python 2",
   "language": "python",
   "name": "python2"
  },
  "language_info": {
   "codemirror_mode": {
    "name": "ipython",
    "version": 2
   },
   "file_extension": ".py",
   "mimetype": "text/x-python",
   "name": "python",
   "nbconvert_exporter": "python",
   "pygments_lexer": "ipython2",
   "version": "2.7.13"
  }
 },
 "nbformat": 4,
 "nbformat_minor": 1
}
