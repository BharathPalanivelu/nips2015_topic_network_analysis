{
 "cells": [
  {
   "cell_type": "markdown",
   "metadata": {
    "_uuid": "a9f0d9e1da1d1c9ce96322ecedc81d7a7847f043"
   },
   "source": [
    "\n",
    "# Topic modeling and Citations at NIPS 2015\n",
    "\n",
    "Some main topics at NIPS according to [wikipedia](https://en.wikipedia.org/wiki/Conference_on_Neural_Information_Processing_Systems) : 1. Machine learning, 2. Statistics, 3. Artificial intelligence, 4. Computational neuroscience, etc. However, the topics are within the same domain which makes it more challenging to distinguish between them. Here in this Kernel I will try to extract some topics using Latent Dirichlet allocation __LDA__. This tutorial features an end-to-end natural language processing pipeline, starting with raw data and running through preparing, modeling, visualizing the paper. We'll touch on the following points\n",
    "\n",
    "    1. Topic modeling with LDA\n",
    "    2. Visualizing topic models with pyLDAvis\n",
    "    3. Visualizing LDA results with t-SNE and bokeh\n",
    "    4. Citation analysis\n",
    "    \n",
    "Note: Two major visualizations of this notebook are __interactive graphs__, which do not get loaded on the Github. To see them, go to this link: \n",
    "http://nbviewer.jupyter.org/github/ykhorram/nips2015_topic_network_analysis/blob/master/NIP15_topics_citations.ipynb\n",
    "\n",
    "This notebook started off from Kaggles NIPS 2016 Papers dataset: https://www.kaggle.com/benhamner/nips-2015-papers \n",
    "I then parsed the web for the number of citation recieved by each paper published in NIPS 2015, using this package: https://github.com/ckreibich/scholar.py"
   ]
  },
  {
   "cell_type": "code",
   "execution_count": 6,
   "metadata": {
    "_uuid": "49cf47103ed18adfb84e28e636784cf89dbb3144",
    "collapsed": false
   },
   "outputs": [
    {
     "name": "stdout",
     "output_type": "stream",
     "text": [
      "Populating the interactive namespace from numpy and matplotlib\n"
     ]
    }
   ],
   "source": [
    "%pylab inline\n",
    "\n",
    "import pandas as pd\n",
    "import pickle as pk\n",
    "from scipy import sparse as sp"
   ]
  },
  {
   "cell_type": "code",
   "execution_count": 7,
   "metadata": {
    "_uuid": "eda4ba077f4beb7a55182bc37b147050f444827f",
    "collapsed": true
   },
   "outputs": [],
   "source": [
    "p_cit = pk.load(open('./nips_data/paper_citations_dict.pkl', 'rb'))\n",
    "p_df = pd.read_csv('./nips_data/Papers.csv')\n",
    "\n",
    "p_df['Citations'] = p_df['Title'].apply(lambda l: p_cit.get(l))\n",
    "p_df['Citations'].fillna(0, inplace=True)\n",
    "p_df['Citations'] = p_df['Citations'].astype(int0)\n",
    "\n",
    "\n",
    "docs = array(p_df['PaperText'])"
   ]
  },
  {
   "cell_type": "markdown",
   "metadata": {
    "_uuid": "365398b9b4072a8c5bf3c8de0067122e70fff748"
   },
   "source": [
    "## Pre-process and vectorize the documents"
   ]
  },
  {
   "cell_type": "code",
   "execution_count": 8,
   "metadata": {
    "_uuid": "f10f622826eaa4e9bd97c1414aac5538ddabafd2",
    "collapsed": true
   },
   "outputs": [],
   "source": [
    "from nltk.stem.wordnet import WordNetLemmatizer\n",
    "from nltk.tokenize import RegexpTokenizer\n",
    "\n",
    "def docs_preprocessor(docs):\n",
    "    tokenizer = RegexpTokenizer(r'\\w+')\n",
    "    for idx in range(len(docs)):\n",
    "        docs[idx] = docs[idx].lower()  # Convert to lowercase.\n",
    "        docs[idx] = tokenizer.tokenize(docs[idx])  # Split into words.\n",
    "\n",
    "    # Remove numbers, but not words that contain numbers.\n",
    "    docs = [[token for token in doc if not token.isdigit()] for doc in docs]\n",
    "    \n",
    "    # Remove words that are only one character.\n",
    "    docs = [[token for token in doc if len(token) > 3] for doc in docs]\n",
    "    \n",
    "    # Lemmatize all words in documents.\n",
    "    lemmatizer = WordNetLemmatizer()\n",
    "    #docs = [[lemmatizer.lemmatize(token) for token in doc] for doc in docs] python3\n",
    "    docs = [[lemmatizer.lemmatize(token.decode('utf-8', errors='ignore')) for token in doc] for doc in docs]\n",
    "\n",
    "    return docs"
   ]
  },
  {
   "cell_type": "code",
   "execution_count": 9,
   "metadata": {
    "_uuid": "790063fc1a341eb17e0244c220de736d51196cfe",
    "collapsed": true
   },
   "outputs": [],
   "source": [
    "docs = docs_preprocessor(docs)"
   ]
  },
  {
   "cell_type": "markdown",
   "metadata": {
    "_uuid": "f649c357b776963b7e626064fa6ced1a03a3219d"
   },
   "source": [
    "### **Compute bigrams/trigrams:**\n",
    "Sine topics are very similar what would make distinguish them are phrases rather than single/individual words."
   ]
  },
  {
   "cell_type": "code",
   "execution_count": 10,
   "metadata": {
    "collapsed": true
   },
   "outputs": [],
   "source": [
    "import warnings\n",
    "warnings.filterwarnings(\"ignore\") "
   ]
  },
  {
   "cell_type": "code",
   "execution_count": 11,
   "metadata": {
    "_uuid": "d6ce91b0d51d55e3504cbb352f0548cffcdb0169",
    "collapsed": true
   },
   "outputs": [],
   "source": [
    "from gensim.models import Phrases\n",
    "# Add bigrams and trigrams to docs (only ones that appear 10 times or more).\n",
    "bigram = Phrases(docs, min_count=10)\n",
    "trigram = Phrases(bigram[docs])\n",
    "\n",
    "for idx in range(len(docs)):\n",
    "    for token in bigram[docs[idx]]:\n",
    "        if '_' in token:\n",
    "            # Token is a bigram, add to document.\n",
    "            docs[idx].append(token)\n",
    "    for token in trigram[docs[idx]]:\n",
    "        if '_' in token:\n",
    "            # Token is a bigram, add to document.\n",
    "            docs[idx].append(token)"
   ]
  },
  {
   "cell_type": "markdown",
   "metadata": {
    "_uuid": "c75a2e62b9a0e570a0a34b84af5912c22aa9ba28"
   },
   "source": [
    "### **Remove rare and common tokens:**"
   ]
  },
  {
   "cell_type": "code",
   "execution_count": 12,
   "metadata": {
    "_uuid": "73f7ba9fedcde10c4e70cf2456c7ef20c8e32d35",
    "collapsed": false
   },
   "outputs": [
    {
     "name": "stdout",
     "output_type": "stream",
     "text": [
      "('Number of unique words in initital documents:', 41506)\n",
      "('Number of unique words after removing rare and common words:', 6068)\n"
     ]
    }
   ],
   "source": [
    "from gensim.corpora import Dictionary\n",
    "\n",
    "# Create a dictionary representation of the documents.\n",
    "dictionary = Dictionary(docs)\n",
    "print('Number of unique words in initital documents:', len(dictionary))\n",
    "\n",
    "# Filter out words that occur less than 10 documents, or more than 20% of the documents.\n",
    "dictionary.filter_extremes(no_below=10, no_above=0.2)\n",
    "print('Number of unique words after removing rare and common words:', len(dictionary))"
   ]
  },
  {
   "cell_type": "markdown",
   "metadata": {
    "_uuid": "f5e4e52fe4ff798ac96f8f23538770c5cc4d217a"
   },
   "source": [
    "Pruning the common and rare words, we end up with only about 6% of the words."
   ]
  },
  {
   "cell_type": "markdown",
   "metadata": {
    "_uuid": "78cd228789c6fa5d094886b58dce875f63625c33"
   },
   "source": [
    "** Vectorize data:**  \n",
    "The first step is to get a back-of-words representation of each doc."
   ]
  },
  {
   "cell_type": "code",
   "execution_count": 13,
   "metadata": {
    "_uuid": "27e71950ec4bca8f6b62ec6d6cd9f613a50019ea",
    "collapsed": true
   },
   "outputs": [],
   "source": [
    "corpus = [dictionary.doc2bow(doc) for doc in docs]"
   ]
  },
  {
   "cell_type": "code",
   "execution_count": 14,
   "metadata": {
    "_uuid": "80752c24b3b1bab16b48054a6ca6e7fb84d49372",
    "collapsed": false
   },
   "outputs": [
    {
     "name": "stdout",
     "output_type": "stream",
     "text": [
      "Number of unique tokens: 6068\n",
      "Number of documents: 403\n"
     ]
    }
   ],
   "source": [
    "print('Number of unique tokens: %d' % len(dictionary))\n",
    "print('Number of documents: %d' % len(corpus))"
   ]
  },
  {
   "cell_type": "markdown",
   "metadata": {
    "_uuid": "bb7f095fc6b213d727b36798294d56a6ab950f5b"
   },
   "source": [
    "With the bag-of-words corpus, we can move on to learn our topic model from the documents."
   ]
  },
  {
   "cell_type": "markdown",
   "metadata": {
    "_uuid": "49a8f93233d2640b476e093390182e21102ae555"
   },
   "source": [
    "# Train LDA model..."
   ]
  },
  {
   "cell_type": "code",
   "execution_count": 16,
   "metadata": {
    "_uuid": "b11f495c4fcf6991c523d5a3b6669506f39533ee",
    "collapsed": true
   },
   "outputs": [],
   "source": [
    "from gensim.models import LdaModel"
   ]
  },
  {
   "cell_type": "code",
   "execution_count": null,
   "metadata": {
    "collapsed": true
   },
   "outputs": [],
   "source": [
    "# Set training parameters.\n",
    "num_topics = 4\n",
    "chunksize = 500 # size of the doc looked at every pass\n",
    "passes = 20 # number of passes through documents\n",
    "iterations = 400\n",
    "eval_every = 1  # Don't evaluate model perplexity, takes too much time.\n",
    "\n",
    "# Make a index to word dictionary.\n",
    "temp = dictionary[0]  # This is only to \"load\" the dictionary.\n",
    "id2word = dictionary.id2token\n",
    "\n",
    "%time model = LdaModel(corpus=corpus, id2word=id2word, chunksize=chunksize, \\\n",
    "                       alpha='auto', eta='auto', \\\n",
    "                       iterations=iterations, num_topics=num_topics, \\\n",
    "                       passes=passes, eval_every=eval_every)"
   ]
  },
  {
   "cell_type": "code",
   "execution_count": 21,
   "metadata": {
    "collapsed": true
   },
   "outputs": [],
   "source": [
    "# model.save('lda.model')\n",
    "# later on, load trained model from file\n",
    "model =  LdaModel.load('lda.model')"
   ]
  },
  {
   "cell_type": "markdown",
   "metadata": {
    "_uuid": "f5f7c3e213b2fdffa3c767ebd5a1eb7631e76b13"
   },
   "source": [
    " # How to choose the number of topics? \n",
    "So __LDA__ is an unsupervised technique, meaning that we don't know prior to running the model how many topics exits in our corpus. Topic coherence, is one of the main methods used to determine this. You can read about it [here.](http://svn.aksw.org/papers/2015/WSDM_Topic_Evaluation/public.pdf)\n",
    "\n",
    "However, I used the LDA visualization tool **pyLDAvis**, tried a few number of topics and compared the resuls. Four seemed to be the optimal number of topics that would seperate  topics the most. "
   ]
  },
  {
   "cell_type": "code",
   "execution_count": 23,
   "metadata": {
    "_uuid": "7e100266faefe67e6ce1131fa464c78630293984",
    "collapsed": true
   },
   "outputs": [],
   "source": [
    "import pyLDAvis.gensim\n",
    "pyLDAvis.enable_notebook()"
   ]
  },
  {
   "cell_type": "code",
   "execution_count": 24,
   "metadata": {
    "_uuid": "f195b367d556a559c4db98446e9c9148758a95f6",
    "collapsed": false
   },
   "outputs": [
    {
     "name": "stderr",
     "output_type": "stream",
     "text": [
      "/usr/local/lib/python2.7/site-packages/pyLDAvis/_prepare.py:387: DeprecationWarning: \n",
      ".ix is deprecated. Please use\n",
      ".loc for label based indexing or\n",
      ".iloc for positional indexing\n",
      "\n",
      "See the documentation here:\n",
      "http://pandas.pydata.org/pandas-docs/stable/indexing.html#ix-indexer-is-deprecated\n",
      "  topic_term_dists = topic_term_dists.ix[topic_order]\n"
     ]
    },
    {
     "data": {
      "text/html": [
       "\n",
       "<link rel=\"stylesheet\" type=\"text/css\" href=\"https://cdn.rawgit.com/bmabey/pyLDAvis/files/ldavis.v1.0.0.css\">\n",
       "\n",
       "\n",
       "<div id=\"ldavis_el716446866277926541779174\"></div>\n",
       "<script type=\"text/javascript\">\n",
       "\n",
       "var ldavis_el716446866277926541779174_data = {\"plot.opts\": {\"xlab\": \"PC1\", \"ylab\": \"PC2\"}, \"topic.order\": [3, 2, 4, 1], \"token.table\": {\"Topic\": [1, 2, 3, 4, 1, 2, 3, 4, 3, 2, 1, 2, 3, 4, 1, 2, 3, 4, 1, 2, 3, 4, 3, 2, 3, 1, 2, 1, 2, 3, 4, 3, 1, 3, 4, 1, 3, 4, 1, 2, 3, 4, 1, 2, 3, 3, 4, 3, 3, 1, 2, 3, 4, 3, 4, 1, 2, 3, 4, 3, 3, 1, 2, 3, 4, 3, 4, 1, 4, 1, 2, 3, 4, 1, 2, 3, 4, 1, 2, 3, 4, 1, 2, 3, 4, 1, 2, 3, 4, 2, 2, 1, 2, 3, 4, 1, 2, 3, 4, 2, 2, 4, 1, 2, 3, 4, 1, 2, 3, 4, 1, 2, 3, 4, 1, 2, 3, 4, 1, 2, 3, 4, 1, 2, 3, 4, 1, 2, 3, 4, 1, 3, 4, 1, 2, 3, 4, 1, 2, 3, 4, 1, 2, 3, 4, 1, 2, 3, 4, 1, 2, 3, 4, 2, 3, 2, 1, 2, 3, 4, 1, 2, 3, 4, 1, 2, 3, 4, 1, 2, 3, 4, 1, 3, 1, 2, 3, 4, 1, 2, 3, 4, 3, 4, 1, 2, 3, 4, 1, 2, 3, 4, 1, 2, 3, 4, 1, 2, 3, 4, 1, 2, 3, 4, 1, 2, 3, 4, 1, 2, 3, 4, 1, 2, 3, 4, 2, 1, 2, 3, 4, 1, 2, 3, 4, 1, 2, 3, 4, 3, 1, 2, 3, 4, 1, 2, 3, 4, 4, 1, 2, 3, 4, 2, 1, 2, 3, 4, 3, 1, 2, 3, 4, 1, 2, 3, 4, 1, 2, 3, 4, 1, 2, 3, 4, 3, 3, 1, 2, 3, 4, 1, 2, 3, 4, 1, 2, 3, 4, 1, 2, 3, 4, 2, 1, 2, 3, 4, 1, 2, 3, 4, 1, 2, 3, 4, 1, 2, 3, 4, 1, 2, 3, 4, 1, 2, 3, 4, 1, 1, 2, 3, 4, 1, 2, 1, 2, 1, 2, 4, 1, 2, 4, 2, 1, 2, 3, 4, 1, 2, 3, 4, 1, 2, 3, 4, 1, 2, 3, 4, 1, 2, 3, 4, 1, 2, 3, 4, 1, 2, 3, 4, 1, 2, 3, 4, 1, 2, 3, 4, 1, 2, 3, 4, 2, 2, 1, 2, 3, 4, 1, 2, 3, 4, 1, 2, 3, 4, 1, 2, 3, 4, 2, 4, 1, 2, 3, 4, 1, 2, 3, 4, 3, 4, 1, 2, 3, 4, 1, 3, 1, 2, 3, 4, 1, 2, 3, 4, 1, 2, 3, 4, 1, 2, 3, 4, 1, 2, 3, 4, 1, 2, 3, 4, 1, 2, 3, 4, 1, 4, 1, 2, 3, 4, 3, 1, 2, 3, 4, 3, 3, 1, 2, 3, 4, 1, 2, 3, 4, 1, 2, 3, 4, 1, 3, 4, 3, 1, 2, 3, 4, 1, 2, 3, 4, 1, 2, 3, 4, 1, 2, 3, 4, 1, 2, 3, 4, 1, 2, 3, 4, 2, 2, 1, 3, 1, 2, 3, 4, 1, 2, 3, 4, 1, 2, 3, 4, 2, 1, 2, 3, 4, 1, 2, 3, 4, 2, 3, 4, 2, 3, 4, 1, 2, 3, 4, 1, 2, 3, 4, 1, 2, 3, 4, 1, 2, 3, 4, 1, 2, 3, 4, 1, 2, 3, 4, 1, 4, 1, 2, 3, 4, 1, 2, 3, 4, 1, 2, 3, 4, 1, 2, 3, 4, 1, 2, 3, 4, 1, 2, 3, 4, 1, 3, 4, 1, 2, 3, 4, 1, 2, 3, 4, 2, 1, 2, 3, 4, 1, 2, 3, 4, 1, 2, 3, 4, 1, 2, 3, 4, 3, 1, 2, 3, 4, 1, 2, 3, 4, 1, 2, 3, 4, 1, 2, 3, 4, 2, 1, 2, 3, 4, 1, 2, 3, 4, 1, 2, 2, 2, 1, 2, 3, 4, 1, 2, 3, 4, 1, 2, 3, 4, 1, 2, 3, 4, 1, 2, 3, 4, 1, 2, 3, 4, 2, 4, 1, 2, 3, 4, 1, 2, 1, 2, 3, 4, 1, 2, 3, 4, 1, 2, 3, 4, 1, 2, 3, 4, 1, 2, 3, 4, 1, 2, 3, 4, 2, 1, 2, 3, 4, 1, 2, 3, 4, 1, 2, 3, 4, 1, 2, 3, 4, 1, 2, 3, 4, 1, 2, 3, 4, 1, 2, 3, 4, 1, 2, 3, 4, 1, 2, 3, 4, 1, 2, 3, 4, 1, 2, 3, 4, 1, 2, 3, 4, 3, 3, 3, 1, 2, 3, 4, 1, 2, 3, 4, 1, 2, 3, 4, 1, 2, 3, 4, 1, 2, 3, 4, 3, 4, 3, 4, 3, 4, 1, 4, 1, 2, 3, 4, 1, 2, 3, 4, 1, 2, 3, 4, 1, 2, 3, 4, 1, 3, 1, 2, 3, 4, 1, 2, 3, 4, 1, 2, 3, 4, 1, 2, 3, 4, 1, 2, 3, 4, 1, 2, 3, 4, 1, 3, 1, 2, 3, 4, 1, 2, 3, 4, 1, 2, 3, 4, 2, 2, 3, 4, 1, 2, 3, 4, 1, 2, 3, 4, 1, 2, 3, 4, 1, 2, 3, 4, 3, 4, 1, 2, 3, 4], \"Freq\": [0.006265208928577575, 0.06891729821435331, 0.8771292500008604, 0.04385646250004302, 0.024797681135552644, 0.004649565212916121, 0.023247826064580604, 0.9469614483639166, 0.9945300411854671, 0.9845346851481074, 0.016952535204791754, 0.9747707742755258, 0.008476267602395877, 0.0042381338011979386, 0.005706628000983238, 0.02282651200393295, 0.9644201321661672, 0.005706628000983238, 0.02329150513582631, 0.005822876283956577, 0.9549517105688786, 0.01746862885186973, 0.983246512594081, 0.0328578360009383, 0.9528772440272107, 0.00868031757877917, 0.9895562039808253, 0.0029750105563195435, 0.0029750105563195435, 0.9877035046980884, 0.005950021112639087, 0.9874923591887413, 0.0037469393929116263, 0.9929389391215809, 0.0037469393929116263, 0.009812248928544055, 0.9517881460687734, 0.03924899571417622, 0.04615187679735103, 0.09691894127443716, 0.8307337823523185, 0.027691126078410618, 0.9131921668268872, 0.018263843336537744, 0.05479153000961323, 0.9470935467753127, 0.034649763906413875, 0.977719377717405, 0.9737037430536437, 0.00989096470105743, 0.04945482350528715, 0.00989096470105743, 0.9198597171983409, 0.005956660219252031, 0.9947622566150892, 0.007794732221304399, 0.007794732221304399, 0.9119836698926147, 0.0701525899917396, 0.9809553816773822, 0.993937990606985, 0.8739674343215481, 0.027029920649120045, 0.0961063845302046, 0.006006649033137788, 0.9471906047039033, 0.034653314806240364, 0.05837441981644003, 0.9339907170630405, 0.5286794176288362, 0.07218132270209203, 0.3121354495225601, 0.08583724861870404, 0.044481730672984575, 0.03261993582685536, 0.01186179484612922, 0.9103927544404177, 0.10983573344067389, 0.015149756336644674, 0.015149756336644674, 0.8597486721045853, 0.08990117524863349, 0.06585783768213849, 0.6815763518849888, 0.1630765504510096, 0.03964325061339141, 0.017619222494840627, 0.0925009180979133, 0.8501274853760603, 0.980688050902584, 0.9909847571545981, 0.032646080916541365, 0.9100095055485905, 0.02448456068740602, 0.02856532080197369, 0.0015487239732974742, 0.992732066883681, 0.0015487239732974742, 0.0030974479465949484, 0.9929086007397356, 0.9937023835553328, 0.005122177234821303, 0.0030762898087195595, 0.9936416082164177, 0.0030762898087195595, 0.0030762898087195595, 0.002437256693384881, 0.9870889608208768, 0.002437256693384881, 0.009749026773539523, 0.044326847868267974, 0.13931295044312791, 0.6680689214431815, 0.1456453572814519, 0.7251194632480893, 0.040890195295944884, 0.0926844426708084, 0.14175267702594227, 0.0515642760747053, 0.046407848467234766, 0.13664533159796904, 0.7631512859056384, 0.024664710372908943, 0.03699706555936341, 0.012332355186454471, 0.9372589941705398, 0.012564981970946656, 0.03769494591283997, 0.03769494591283997, 0.9172436838791059, 0.011920676450544301, 0.9536541160435441, 0.035762029351632904, 0.013734547628367845, 0.05493819051347138, 0.013734547628367845, 0.9064801434722778, 0.28564089654159897, 0.20402921181542782, 0.2894664442631382, 0.22188176784927774, 0.8506772795476978, 0.0071787112198117954, 0.11127002390708284, 0.03230420048915308, 0.8803479163251495, 0.020237883133911484, 0.09107047410260168, 0.010118941566955742, 0.007567523845018924, 0.003783761922509462, 0.9043190994797614, 0.07945900037269871, 0.9873357301422672, 0.00690444566533054, 0.9930708034226557, 0.004165277082479965, 0.9871706685477517, 0.004165277082479965, 0.004165277082479965, 0.010241645877327461, 0.9695424763869998, 0.008534704897772884, 0.010241645877327461, 0.003096409269632482, 0.9846581477431293, 0.012385637078529929, 0.003096409269632482, 0.006058185407733575, 0.9147859965677698, 0.05149457596573539, 0.030290927038667877, 0.9097533983762567, 0.03955449558157637, 0.9274108037874685, 0.01701671199610034, 0.03403342399220068, 0.02552506799415051, 0.8992825674543111, 0.0074940213954525926, 0.014988042790905185, 0.07494021395452592, 0.031103693090669016, 0.9642144858107394, 0.09188473004337011, 0.6661642928144333, 0.026799712929316283, 0.21631196864376714, 0.9213243583265354, 0.012284324777687138, 0.024568649555374276, 0.036852974333061415, 0.00503009173279609, 0.9708077044296454, 0.02012036693118436, 0.00503009173279609, 0.0025492642381363013, 0.9840159959206123, 0.012746321190681507, 0.0025492642381363013, 0.9184740281648943, 0.024823622382834983, 0.049647244765669965, 0.024823622382834983, 0.05652547268936903, 0.7714064508196244, 0.006650055610514003, 0.16625139026285007, 0.052018519102323635, 0.04681666719209127, 0.772475008669506, 0.1274453718006929, 0.009611081137759115, 0.9803302760514297, 0.004805540568879558, 0.009611081137759115, 0.9948138675127068, 0.3237712119156411, 0.030353551117091353, 0.10117850372363785, 0.5463639201076443, 0.15214548908177386, 0.05832243748134665, 0.18764610320085442, 0.6009746818730067, 0.09691747793770393, 0.005701028113982584, 0.005701028113982584, 0.8950614138952657, 0.9909915470445738, 0.49557240013603304, 0.04850283065161175, 0.30156107752958605, 0.15183494812678458, 0.06255648467662885, 0.9284699304636492, 0.003292446561927834, 0.003292446561927834, 0.8981120761443518, 0.130110328844927, 0.6877260238946141, 0.1380762673456368, 0.04248500533711902, 0.9899545620497071, 0.9746657178364371, 0.0088605974348767, 0.0088605974348767, 0.0088605974348767, 0.9699746930846141, 0.06662277421313294, 0.8691243726895069, 0.02119815543145139, 0.045424618781681546, 0.10689111397648811, 0.013361389247061014, 0.8551289118119049, 0.02004208387059152, 0.03149818155658038, 0.9466953456727769, 0.017498989753655766, 0.003499797950731153, 0.016709434033758692, 0.09654339663949467, 0.3601811336165763, 0.5272754739541632, 0.9858725649039656, 0.9155857968236448, 0.21572689033912248, 0.01752096571282213, 0.7347854995814781, 0.032851810711541495, 0.2062900615157185, 0.6543065141326777, 0.07973174156742494, 0.0607479935751809, 0.18469309606986836, 0.2101680058726088, 0.08067054770867813, 0.5222356509561795, 0.044941750294195906, 0.2876272018828538, 0.4712463530848542, 0.19645965128605639, 0.9916532905549162, 0.49780982326841505, 0.05502108572966692, 0.23056454972431853, 0.217464291217255, 0.08698313551335363, 0.030177822525041052, 0.33905671189899067, 0.543200805450739, 0.004940784707498115, 0.004940784707498115, 0.22233531183741517, 0.7658216296622078, 0.13337207175396434, 0.5385211953839315, 0.17363533869855738, 0.1547619323182794, 0.0020876741028373873, 0.9937328729505964, 0.004175348205674775, 0.0020876741028373873, 0.0038080750228329974, 0.9748672058452473, 0.017136337602748488, 0.0019040375114164987, 0.9866820471078838, 0.006330972610024453, 0.006330972610024453, 0.12661945220048904, 0.86734324757335, 0.9268864077839203, 0.05149368932132891, 0.9210126724681522, 0.0526292955696087, 0.9673639081201991, 0.014882521663387679, 0.014882521663387679, 0.9574515214181769, 0.02279646479567088, 0.02279646479567088, 0.9833596880019968, 0.9140168483593356, 0.007431031287474274, 0.04458618772484564, 0.03715515643737137, 0.8878060279290666, 0.08127801664139342, 0.025008620505044127, 0.006252155126261032, 0.08370988524680306, 0.010250190030220784, 0.02562547507555196, 0.8798079775939506, 0.860159454504427, 0.009522060381967826, 0.05713236229180696, 0.07300246292842, 0.05808514670367434, 0.10648943562340295, 0.7325182389852264, 0.10326248302875438, 0.9780828199753238, 0.004725037777658568, 0.004725037777658568, 0.014175113332975706, 0.02109888285007434, 0.02320877113508177, 0.9473398399683378, 0.008439553140029735, 0.024296167960347444, 0.044542974593970316, 0.8949088532061309, 0.040493613267245744, 0.06239477952344585, 0.03403351610369774, 0.005672252683949623, 0.8962159240640404, 0.0021656125964408623, 0.9961817943627967, 0.0021656125964408623, 0.0021656125964408623, 0.9851023717541809, 0.9927612405829095, 0.015415143215352508, 0.9557388793518554, 0.010276762143568338, 0.020553524287136676, 0.053504024639648706, 0.07553509360891582, 0.7679401183573108, 0.10071345814522109, 0.02171571078954657, 0.010857855394773285, 0.018096425657955474, 0.9482527044768668, 0.7787516680247338, 0.02820675333002973, 0.1594294753436463, 0.03311227564829577, 0.05545954904508494, 0.887352784721359, 0.002776096195531808, 0.002776096195531808, 0.002776096195531808, 0.9924543899026214, 0.045020871316971606, 0.028649645383527385, 0.15143383988435902, 0.7776332318386004, 0.04335213983403374, 0.9537470763487423, 0.568717158358968, 0.06554706231933868, 0.14458910805736475, 0.2217032990212926, 0.9531212993572217, 0.03864005267664412, 0.032430477389115545, 0.3243047738911554, 0.62207552082758, 0.020637576520346253, 0.18926242535708243, 0.2709893817612771, 0.055918443855501626, 0.48390961028799484, 0.10622833300386658, 0.049989803766525454, 0.1530937740349842, 0.6904841645251328, 0.018845832817096772, 0.6649886722604147, 0.3096101105665898, 0.005384523662027649, 0.7046039492598243, 0.06482356333190382, 0.20856276898090798, 0.022547326376314375, 0.293887157782074, 0.07282159661856702, 0.5461619746392526, 0.08842622446540281, 0.7372827016935792, 0.022192455903820112, 0.08137233831400707, 0.16027884819425636, 0.03003732242976947, 0.9611943177526231, 0.003344325352674349, 0.003344325352674349, 0.9798873283335842, 0.013377301410697396, 0.9827220225640726, 0.006173480198672486, 0.8272463466221132, 0.033954141092698675, 0.1358165643707947, 0.9771117156355753, 0.9908074227176927, 0.8756914343148916, 0.013005318331409282, 0.09103722831986497, 0.021675530552348804, 0.042304025682798736, 0.9076136419218639, 0.015383282066472269, 0.03461238464956261, 0.7510405303777739, 0.23124681180569057, 0.006139295888646652, 0.012278591777293305, 0.9519550821316808, 0.9675852424436073, 0.029320764922533552, 0.9760183780278106, 0.05459439179064149, 0.008189158768596223, 0.03002691548485282, 0.9089966233141809, 0.003964512275515977, 0.9435539215728026, 0.01585804910206391, 0.0356806104796438, 0.007020023740226234, 0.9828033236316728, 0.007020023740226234, 0.007020023740226234, 0.044834965178183535, 0.055595356820947586, 0.8626247300282512, 0.035867972142546826, 0.9749345405152939, 0.0045557688809125885, 0.0045557688809125885, 0.013667306642737765, 0.8604941663592792, 0.04156976649078643, 0.0665116263852583, 0.03325581319262915, 0.9894282626869636, 0.9952328440102713, 0.029285921681074252, 0.9664354154754503, 0.011514874595990866, 0.9465226917904492, 0.0069089247575945196, 0.036847598707170776, 0.7079750466781544, 0.03679703984813692, 0.2355010550280763, 0.0191344607210312, 0.12196876576009305, 0.011957722133342457, 0.03587316640002737, 0.8298659160539665, 0.9954126208951939, 0.6299148681669549, 0.026147409622024543, 0.1473763087786838, 0.197294090784367, 0.34951878388035995, 0.1583114491693395, 0.4625983904298882, 0.02878389984897082, 0.0435539067001221, 0.0435539067001221, 0.9146320407025641, 0.02221349288047351, 0.02221349288047351, 0.9329667009798874, 0.023316957909487648, 0.08160935268320677, 0.8549551233478804, 0.038861596515812745, 0.0036167557040959193, 0.03255080133686328, 0.9331229716567472, 0.028934045632767354, 0.9808229925053562, 0.0035796459580487456, 0.007159291916097491, 0.010738937874146237, 0.8842883503527448, 0.003844731958055412, 0.015378927832221648, 0.09611829895138531, 0.2580255009016731, 0.011578067348151996, 0.2662955490074959, 0.46477670354724443, 0.8252298685275709, 0.058165981922648165, 0.07270747740331021, 0.043624486441986125, 0.03091387583948461, 0.958330151024023, 0.0975411502627857, 0.6588305763363597, 0.20192729352646865, 0.041069958005383454, 0.016544772332342916, 0.04963431699702875, 0.8603281612818316, 0.07279699826230883, 0.11840641488829966, 0.16850143657181105, 0.07286548608510748, 0.6406090651649033, 0.9416225504632605, 0.008048055986865475, 0.0321922239474619, 0.017705723171104044, 0.027470860888197557, 0.048837086023462324, 0.018313907258798372, 0.9065384093105194, 0.03334463945363344, 0.03189487252086677, 0.005799067731066685, 0.9278508369706696, 0.07209631339448562, 0.018024078348621405, 0.9192279957796916, 0.1732430812028774, 0.014436923433573116, 0.008249670533470352, 0.8022804593799917, 0.026965328743462323, 0.9653587690159512, 0.0035953771657949766, 0.005393065748692465, 0.9830579878532697, 0.042368601370961836, 0.9509397196593657, 0.004707622374551315, 0.004707622374551315, 0.009588652673320545, 0.9818780337480237, 0.005753191603992327, 0.0038354610693282177, 0.0034197664482520434, 0.0025648248361890323, 0.9831828538724624, 0.01111424095681914, 0.0021023593905211218, 0.0021023593905211218, 0.9944159917164905, 0.0021023593905211218, 0.9865004377713285, 0.6482699904449236, 0.04559697180499463, 0.12093109913498575, 0.18437036425497827, 0.6183251778748644, 0.1782762374164755, 0.19632952728143505, 0.009026644932479773, 0.904100202828097, 0.043746784007811144, 0.01458226133593705, 0.0291645226718741, 0.13025071713867054, 0.0710458457120021, 0.050324140712668164, 0.751901867118689, 0.9864083678622995, 0.4834497862552767, 0.013066210439331802, 0.4853163877466098, 0.018666014913331145, 0.7631365631446025, 0.0024073708616548974, 0.23110760271887015, 0.0024073708616548974, 0.9352632013596633, 0.046763160067983166, 0.9847856403643818, 0.9908926252288696, 0.011960238315345956, 0.015946984420461274, 0.5900384235570671, 0.38073425303851294, 0.303413042975873, 0.13453219830062293, 0.06154132475454028, 0.4994865660310362, 0.24219568242832185, 0.008928873084915091, 0.08035985776423582, 0.6685493722330175, 0.6327302499520778, 0.0368580728127424, 0.20118364743621892, 0.1290032548445984, 0.6688995690107674, 0.04906985255291344, 0.05940034782721101, 0.22468827221597207, 0.01850850497929821, 0.8166877822115335, 0.011567815612061381, 0.1550087292016225, 0.9861521668629424, 0.006530809052072466, 0.01634518326255737, 0.7285281682739857, 0.01634518326255737, 0.2405076965776299, 0.9589719311694169, 0.034248997541764886, 0.017432194015788955, 0.9529599395297962, 0.008716097007894478, 0.020337559685087114, 0.010770839163011602, 0.010770839163011602, 0.0753958741410812, 0.9047504896929744, 0.9599200054751547, 0.012466493577599411, 0.012466493577599411, 0.012466493577599411, 0.05955120938623, 0.04300920677894389, 0.009925201564371667, 0.8899597402719928, 0.0356916239956139, 0.05532201719320155, 0.0071383247991227815, 0.9029980870890318, 0.04017844266133796, 0.025111526663336225, 0.01004461066533449, 0.924104181210773, 0.9866990983601643, 0.021342865389063454, 0.007114288463021152, 0.007114288463021152, 0.9675432309708766, 0.18339082471583498, 0.7554607107697083, 0.04105764732444067, 0.019160235418072314, 0.09417922506125764, 0.006278615004083843, 0.012557230008167686, 0.8852847155758218, 0.052010457105371326, 0.9275198183791219, 0.008668409517561888, 0.008668409517561888, 0.922378582029197, 0.044721385795355006, 0.005590173224419376, 0.02795086612209688, 0.9643379781967298, 0.012523869846710778, 0.012523869846710778, 0.025047739693421556, 0.02089798633348232, 0.9717563645069279, 0.00522449658337058, 0.00522449658337058, 0.7808072011418674, 0.05482665577025219, 0.07373239913930467, 0.09074756817145191, 0.9244064344426186, 0.012408140059632464, 0.03412238516398928, 0.027918315134173047, 0.05158361600609057, 0.014738176001740162, 0.05158361600609057, 0.8842905601044098, 0.07603474615536054, 0.13275908058872476, 0.7277611417727367, 0.06396573882911284, 0.9348291886373676, 0.03760807080725042, 0.01611774463167875, 0.010745163087785834, 0.9806137517214558, 0.9648784593685408, 0.9246614598646863, 0.05202116229391422, 0.21241974603348307, 0.585238075806535, 0.15172839002391647, 0.018702353162888805, 0.014026764872166603, 0.9397932464351624, 0.023377941453611006, 0.014458665991235452, 0.014458665991235452, 0.9274201471521025, 0.04337599797370636, 0.0034975208301108378, 0.0017487604150554189, 0.008743802075277094, 0.9845521136762009, 0.0026418947423837566, 0.0026418947423837566, 0.005283789484767513, 0.9907105283939088, 0.015889529400036854, 0.9772060581022666, 0.05585022328533318, 0.949453795850664, 0.02276020394387102, 0.9786887695864538, 0.07202882846061524, 0.9003603557576906, 0.855926466071205, 0.08238864379295022, 0.03204002814170286, 0.027462881264316737, 0.8409170832348153, 0.10994322289642461, 0.005942876913320249, 0.04457157684990187, 0.9241446471795292, 0.02384889412076204, 0.00596222353019051, 0.04769778824152408, 0.02474783564459923, 0.9701151572682899, 0.004949567128919846, 0.004949567128919846, 0.0730351065897742, 0.9220682206958992, 0.2306700983569288, 0.23274820735113538, 0.5091367035806087, 0.029093525918891923, 0.2922123461567015, 0.32304882489685594, 0.32892243989498055, 0.05433093873265304, 0.037611629291966195, 0.8750972415264135, 0.047641397103157186, 0.040119071244763944, 0.8954593181817184, 0.06149076863050427, 0.03651014387436191, 0.005764759559109775, 0.9485901339786581, 0.004582561033713324, 0.027495366202279943, 0.013747683101139972, 0.7778412793003807, 0.04122833635867742, 0.08795378423184516, 0.09345089574633549, 0.012872287612854529, 0.9782938585769442, 0.09721463496228276, 0.019442926992456554, 0.10110322036077407, 0.7816056650967534, 0.09558958452835194, 0.14589989217485294, 0.7219529147272896, 0.036474973043713235, 0.21107936064966337, 0.015295605844178505, 0.04894593870137121, 0.7234821564296433, 0.9962254066108919, 0.988449033146342, 0.009413800315679448, 0.009413800315679448, 0.029716816505798986, 0.0074292041264497465, 0.014858408252899493, 0.9435089240591178, 0.9091759347313161, 0.02764386288034407, 0.02457232256030584, 0.03993002416049699, 0.011181519106658634, 0.011181519106658634, 0.02236303821331727, 0.9616106431726426, 0.04197389982851769, 0.005996271404073955, 0.9294220676314631, 0.017988814212221864, 0.07629142304335763, 0.9154970765202916, 0.0049845211771156655, 0.9669971083604392, 0.029907127062693994, 0.0049845211771156655], \"Term\": [\"accelerated\", \"accelerated\", \"accelerated\", \"accelerated\", \"active_learning\", \"active_learning\", \"active_learning\", \"active_learning\", \"adaptive_allocation\", \"alex_graf\", \"analogy\", \"analogy\", \"analogy\", \"analogy\", \"arm\", \"arm\", \"arm\", \"arm\", \"armed\", \"armed\", \"armed\", \"armed\", \"audibert\", \"auer\", \"auer\", \"autoencoder\", \"autoencoder\", \"bandit\", \"bandit\", \"bandit\", \"bandit\", \"bandit_feedback\", \"bandit_problem\", \"bandit_problem\", \"bandit_problem\", \"bandit_setting\", \"bandit_setting\", \"bandit_setting\", \"bayesian_optimization\", \"bayesian_optimization\", \"bayesian_optimization\", \"bayesian_optimization\", \"bellman\", \"bellman\", \"bellman\", \"bianchi\", \"bianchi\", \"bianchi_lugosi\", \"bianchi_regret\", \"bipartite\", \"bipartite\", \"bipartite\", \"bipartite\", \"bipartite_graph\", \"bipartite_graph\", \"boosting\", \"boosting\", \"boosting\", \"boosting\", \"bubeck\", \"bubeck_cesa\", \"causal\", \"causal\", \"causal\", \"causal\", \"cesa\", \"cesa\", \"chatterjee\", \"chatterjee\", \"closed_form\", \"closed_form\", \"closed_form\", \"closed_form\", \"completion\", \"completion\", \"completion\", \"completion\", \"compressed_sensing\", \"compressed_sensing\", \"compressed_sensing\", \"compressed_sensing\", \"convergence_rate\", \"convergence_rate\", \"convergence_rate\", \"convergence_rate\", \"convex_relaxation\", \"convex_relaxation\", \"convex_relaxation\", \"convex_relaxation\", \"convnet\", \"convnets\", \"convolution\", \"convolution\", \"convolution\", \"convolution\", \"convolutional\", \"convolutional\", \"convolutional\", \"convolutional\", \"convolutional_architecture\", \"convolutional_layer\", \"convolutional_layer\", \"convolutional_network\", \"convolutional_network\", \"convolutional_network\", \"convolutional_network\", \"convolutional_neural\", \"convolutional_neural\", \"convolutional_neural\", \"convolutional_neural\", \"coordinate_descent\", \"coordinate_descent\", \"coordinate_descent\", \"coordinate_descent\", \"covariance_matrix\", \"covariance_matrix\", \"covariance_matrix\", \"covariance_matrix\", \"cover\", \"cover\", \"cover\", \"cover\", \"crowd\", \"crowd\", \"crowd\", \"crowd\", \"crowdsourcing\", \"crowdsourcing\", \"crowdsourcing\", \"crowdsourcing\", \"cumulative_regret\", \"cumulative_regret\", \"cumulative_regret\", \"cut\", \"cut\", \"cut\", \"cut\", \"data_set\", \"data_set\", \"data_set\", \"data_set\", \"decision_making\", \"decision_making\", \"decision_making\", \"decision_making\", \"decision_rule\", \"decision_rule\", \"decision_rule\", \"decision_rule\", \"decision_tree\", \"decision_tree\", \"decision_tree\", \"decision_tree\", \"deep_architecture\", \"deep_architecture\", \"deep_boltzmann\", \"deep_convolutional\", \"deep_convolutional\", \"deep_convolutional\", \"deep_convolutional\", \"deep_learning\", \"deep_learning\", \"deep_learning\", \"deep_learning\", \"deep_network\", \"deep_network\", \"deep_network\", \"deep_network\", \"deep_neural\", \"deep_neural\", \"deep_neural\", \"deep_neural\", \"demonstration\", \"demonstration\", \"differentially\", \"differentially\", \"differentially\", \"differentially\", \"directed_edge\", \"directed_edge\", \"directed_edge\", \"directed_edge\", \"disagreement\", \"disagreement\", \"document\", \"document\", \"document\", \"document\", \"drift\", \"drift\", \"drift\", \"drift\", \"dropout\", \"dropout\", \"dropout\", \"dropout\", \"during_training\", \"during_training\", \"during_training\", \"during_training\", \"each_trial\", \"each_trial\", \"each_trial\", \"each_trial\", \"embedding\", \"embedding\", \"embedding\", \"embedding\", \"empirical_risk\", \"empirical_risk\", \"empirical_risk\", \"empirical_risk\", \"encoder\", \"encoder\", \"encoder\", \"encoder\", \"encoder_decoder\", \"estimation_error\", \"estimation_error\", \"estimation_error\", \"estimation_error\", \"event\", \"event\", \"event\", \"event\", \"exact_recovery\", \"exact_recovery\", \"exact_recovery\", \"exact_recovery\", \"expected_reward\", \"exponential_family\", \"exponential_family\", \"exponential_family\", \"exponential_family\", \"feature_map\", \"feature_map\", \"feature_map\", \"feature_map\", \"feige\", \"filter\", \"filter\", \"filter\", \"filter\", \"fine_tuning\", \"firing\", \"firing\", \"firing\", \"firing\", \"fischer_finite\", \"frame\", \"frame\", \"frame\", \"frame\", \"frank\", \"frank\", \"frank\", \"frank\", \"fully_connected\", \"fully_connected\", \"fully_connected\", \"fully_connected\", \"game\", \"game\", \"game\", \"game\", \"game_cambridge\", \"game_cambridge_university_press\", \"gaussian_process\", \"gaussian_process\", \"gaussian_process\", \"gaussian_process\", \"generative_model\", \"generative_model\", \"generative_model\", \"generative_model\", \"gibbs_sampling\", \"gibbs_sampling\", \"gibbs_sampling\", \"gibbs_sampling\", \"gradient_descent\", \"gradient_descent\", \"gradient_descent\", \"gradient_descent\", \"grammar\", \"graphical_model\", \"graphical_model\", \"graphical_model\", \"graphical_model\", \"greedy\", \"greedy\", \"greedy\", \"greedy\", \"greedy_algorithm\", \"greedy_algorithm\", \"greedy_algorithm\", \"greedy_algorithm\", \"ground_truth\", \"ground_truth\", \"ground_truth\", \"ground_truth\", \"hidden_layer\", \"hidden_layer\", \"hidden_layer\", \"hidden_layer\", \"hidden_unit\", \"hidden_unit\", \"hidden_unit\", \"hidden_unit\", \"hlmann\", \"hypothesis_class\", \"hypothesis_class\", \"hypothesis_class\", \"hypothesis_class\", \"hyva\", \"hyva\", \"hyva_rinen\", \"hyva_rinen\", \"identifiability\", \"identifiability\", \"identifiability\", \"identifiable\", \"identifiable\", \"identifiable\", \"image_caption\", \"infinite_dimensional\", \"infinite_dimensional\", \"infinite_dimensional\", \"infinite_dimensional\", \"initial_state\", \"initial_state\", \"initial_state\", \"initial_state\", \"item\", \"item\", \"item\", \"item\", \"lasso\", \"lasso\", \"lasso\", \"lasso\", \"learner\", \"learner\", \"learner\", \"learner\", \"lifted\", \"lifted\", \"lifted\", \"lifted\", \"line_search\", \"line_search\", \"line_search\", \"line_search\", \"linear_convergence\", \"linear_convergence\", \"linear_convergence\", \"linear_convergence\", \"link_function\", \"link_function\", \"link_function\", \"link_function\", \"lstm\", \"lstm\", \"lstm\", \"lstm\", \"lstm_lstm\", \"lstms\", \"machine_translation\", \"machine_translation\", \"machine_translation\", \"machine_translation\", \"marginal_likelihood\", \"marginal_likelihood\", \"marginal_likelihood\", \"marginal_likelihood\", \"market\", \"market\", \"market\", \"market\", \"markov_chain\", \"markov_chain\", \"markov_chain\", \"markov_chain\", \"martinsson\", \"martinsson\", \"matrix_completion\", \"matrix_completion\", \"matrix_completion\", \"matrix_completion\", \"matrix_factorization\", \"matrix_factorization\", \"matrix_factorization\", \"matrix_factorization\", \"maximizing_submodular\", \"maximizing_submodular\", \"maximum_likelihood\", \"maximum_likelihood\", \"maximum_likelihood\", \"maximum_likelihood\", \"mdps\", \"mdps\", \"mean_field\", \"mean_field\", \"mean_field\", \"mean_field\", \"mechanism\", \"mechanism\", \"mechanism\", \"mechanism\", \"message\", \"message\", \"message\", \"message\", \"mini_batch\", \"mini_batch\", \"mini_batch\", \"mini_batch\", \"mixture_model\", \"mixture_model\", \"mixture_model\", \"mixture_model\", \"model_selection\", \"model_selection\", \"model_selection\", \"model_selection\", \"moment\", \"moment\", \"moment\", \"moment\", \"montanari\", \"montanari\", \"multi_armed\", \"multi_armed\", \"multi_armed\", \"multi_armed\", \"multi_armed_bandit_problem\", \"multi_label\", \"multi_label\", \"multi_label\", \"multi_label\", \"multiarmed\", \"multiarmed_bandit\", \"mutual_information\", \"mutual_information\", \"mutual_information\", \"mutual_information\", \"natural_image\", \"natural_image\", \"natural_image\", \"natural_image\", \"neuron\", \"neuron\", \"neuron\", \"neuron\", \"neurosci\", \"nicolo\", \"nicolo\", \"nonstochastic\", \"nuclear_norm\", \"nuclear_norm\", \"nuclear_norm\", \"nuclear_norm\", \"object_detection\", \"object_detection\", \"object_detection\", \"object_detection\", \"object_recognition\", \"object_recognition\", \"object_recognition\", \"object_recognition\", \"online_learning\", \"online_learning\", \"online_learning\", \"online_learning\", \"optimal_control\", \"optimal_control\", \"optimal_control\", \"optimal_control\", \"parent\", \"parent\", \"parent\", \"parent\", \"parsing\", \"patch\", \"peter_auer\", \"peter_auer\", \"pixel\", \"pixel\", \"pixel\", \"pixel\", \"policy\", \"policy\", \"policy\", \"policy\", \"polynomial_time\", \"polynomial_time\", \"polynomial_time\", \"polynomial_time\", \"pooling_layer\", \"population\", \"population\", \"population\", \"population\", \"posterior_distribution\", \"posterior_distribution\", \"posterior_distribution\", \"posterior_distribution\", \"prateek\", \"prateek\", \"prateek\", \"prateek_jain\", \"prateek_jain\", \"prateek_jain\", \"primal\", \"primal\", \"primal\", \"primal\", \"primal_dual\", \"primal_dual\", \"primal_dual\", \"primal_dual\", \"privacy\", \"privacy\", \"privacy\", \"privacy\", \"private\", \"private\", \"private\", \"private\", \"probability_least\", \"probability_least\", \"probability_least\", \"probability_least\", \"probability_measure\", \"probability_measure\", \"probability_measure\", \"probability_measure\", \"proceeding_forty\", \"proceeding_forty\", \"proposal\", \"proposal\", \"proposal\", \"proposal\", \"proximal\", \"proximal\", \"proximal\", \"proximal\", \"query\", \"query\", \"query\", \"query\", \"random_walk\", \"random_walk\", \"random_walk\", \"random_walk\", \"rank_approximation\", \"rank_approximation\", \"rank_approximation\", \"rank_approximation\", \"rank_matrix\", \"rank_matrix\", \"rank_matrix\", \"rank_matrix\", \"recommendation_system\", \"recommendation_system\", \"recommendation_system\", \"recovery\", \"recovery\", \"recovery\", \"recovery\", \"recurrent\", \"recurrent\", \"recurrent\", \"recurrent\", \"recurrent_convolutional\", \"recurrent_network\", \"recurrent_network\", \"recurrent_network\", \"recurrent_network\", \"recurrent_neural\", \"recurrent_neural\", \"recurrent_neural\", \"recurrent_neural\", \"regret\", \"regret\", \"regret\", \"regret\", \"regret_bound\", \"regret_bound\", \"regret_bound\", \"regret_bound\", \"regret_regret\", \"regularization_parameter\", \"regularization_parameter\", \"regularization_parameter\", \"regularization_parameter\", \"reinforcement_learning\", \"reinforcement_learning\", \"reinforcement_learning\", \"reinforcement_learning\", \"relational\", \"relational\", \"relational\", \"relational\", \"relative_error\", \"relative_error\", \"relative_error\", \"relative_error\", \"relu\", \"reward\", \"reward\", \"reward\", \"reward\", \"reward_function\", \"reward_function\", \"reward_function\", \"reward_function\", \"rinen\", \"rinen\", \"rmsprop\", \"rnns\", \"round\", \"round\", \"round\", \"round\", \"running_time\", \"running_time\", \"running_time\", \"running_time\", \"sample_complexity\", \"sample_complexity\", \"sample_complexity\", \"sample_complexity\", \"sample_size\", \"sample_size\", \"sample_size\", \"sample_size\", \"sampler\", \"sampler\", \"sampler\", \"sampler\", \"segmentation\", \"segmentation\", \"segmentation\", \"segmentation\", \"semantic_segmentation\", \"semantic_segmentation\", \"semi_supervised\", \"semi_supervised\", \"semi_supervised\", \"semi_supervised\", \"sensory\", \"sensory\", \"sentence\", \"sentence\", \"sentence\", \"sentence\", \"side_information\", \"side_information\", \"side_information\", \"side_information\", \"simulated_data\", \"simulated_data\", \"simulated_data\", \"simulated_data\", \"singular\", \"singular\", \"singular\", \"singular\", \"singular_value\", \"singular_value\", \"singular_value\", \"singular_value\", \"singular_vector\", \"singular_vector\", \"singular_vector\", \"singular_vector\", \"softmax_layer\", \"sparse_recovery\", \"sparse_recovery\", \"sparse_recovery\", \"sparse_recovery\", \"spatial\", \"spatial\", \"spatial\", \"spatial\", \"spectral_clustering\", \"spectral_clustering\", \"spectral_clustering\", \"spectral_clustering\", \"speech_recognition\", \"speech_recognition\", \"speech_recognition\", \"speech_recognition\", \"spike\", \"spike\", \"spike\", \"spike\", \"spiking\", \"spiking\", \"spiking\", \"spiking\", \"stack\", \"stack\", \"stack\", \"stack\", \"state_space\", \"state_space\", \"state_space\", \"state_space\", \"stationary_distribution\", \"stationary_distribution\", \"stationary_distribution\", \"stationary_distribution\", \"stein\", \"stein\", \"stein\", \"stein\", \"step_size\", \"step_size\", \"step_size\", \"step_size\", \"stimulus\", \"stimulus\", \"stimulus\", \"stimulus\", \"stochastic_bandit\", \"stochastic_nonstochastic\", \"stochastic_nonstochastic_multi_armed\", \"stochastic_optimization\", \"stochastic_optimization\", \"stochastic_optimization\", \"stochastic_optimization\", \"strong_convexity\", \"strong_convexity\", \"strong_convexity\", \"strong_convexity\", \"strongly_convex\", \"strongly_convex\", \"strongly_convex\", \"strongly_convex\", \"submodular\", \"submodular\", \"submodular\", \"submodular\", \"submodular_function\", \"submodular_function\", \"submodular_function\", \"submodular_function\", \"submodular_maximization\", \"submodular_maximization\", \"submodular_optimization\", \"submodular_optimization\", \"submodularity\", \"submodularity\", \"sujay_sanghavi\", \"sujay_sanghavi\", \"symmetry\", \"symmetry\", \"symmetry\", \"symmetry\", \"tensor\", \"tensor\", \"tensor\", \"tensor\", \"tensor_decomposition\", \"tensor_decomposition\", \"tensor_decomposition\", \"tensor_decomposition\", \"texture\", \"texture\", \"texture\", \"texture\", \"time_horizon\", \"time_horizon\", \"time_series\", \"time_series\", \"time_series\", \"time_series\", \"time_step\", \"time_step\", \"time_step\", \"time_step\", \"topic_model\", \"topic_model\", \"topic_model\", \"topic_model\", \"trajectory\", \"trajectory\", \"trajectory\", \"trajectory\", \"transition_probability\", \"transition_probability\", \"transition_probability\", \"transition_probability\", \"trial\", \"trial\", \"trial\", \"trial\", \"upper_confidence\", \"upper_confidence\", \"utility\", \"utility\", \"utility\", \"utility\", \"variational_inference\", \"variational_inference\", \"variational_inference\", \"variational_inference\", \"vertex\", \"vertex\", \"vertex\", \"vertex\", \"very_deep\", \"visual_recognition\", \"visual_recognition\", \"visual_recognition\", \"voting\", \"voting\", \"voting\", \"voting\", \"walk\", \"walk\", \"walk\", \"walk\", \"weighted_graph\", \"weighted_graph\", \"weighted_graph\", \"weighted_graph\", \"wolfe\", \"wolfe\", \"wolfe\", \"wolfe\", \"wolsey\", \"wolsey\", \"yoshua_bengio\", \"yoshua_bengio\", \"yoshua_bengio\", \"yoshua_bengio\"]}, \"mdsDat\": {\"y\": [0.014104882999577215, 0.010852311745904926, -0.10773777105467061, 0.08278057630918854], \"cluster\": [1, 1, 1, 1], \"Freq\": [27.201453146388953, 25.653686774136354, 24.234877867169207, 22.909982212305486], \"topics\": [1, 2, 3, 4], \"x\": [0.04202229010690358, -0.17261574454049453, 0.0500216444526826, 0.08057180998090839]}, \"R\": 30, \"lambda.step\": 0.01, \"tinfo\": {\"Category\": [\"Default\", \"Default\", \"Default\", \"Default\", \"Default\", \"Default\", \"Default\", \"Default\", \"Default\", \"Default\", \"Default\", \"Default\", \"Default\", \"Default\", \"Default\", \"Default\", \"Default\", \"Default\", \"Default\", \"Default\", \"Default\", \"Default\", \"Default\", \"Default\", \"Default\", \"Default\", \"Default\", \"Default\", \"Default\", \"Default\", \"Topic1\", \"Topic1\", \"Topic1\", \"Topic1\", \"Topic1\", \"Topic1\", \"Topic1\", \"Topic1\", \"Topic1\", \"Topic1\", \"Topic1\", \"Topic1\", \"Topic1\", \"Topic1\", \"Topic1\", \"Topic1\", \"Topic1\", \"Topic1\", \"Topic1\", \"Topic1\", \"Topic1\", \"Topic1\", \"Topic1\", \"Topic1\", \"Topic1\", \"Topic1\", \"Topic1\", \"Topic1\", \"Topic1\", \"Topic1\", \"Topic1\", \"Topic1\", \"Topic1\", \"Topic1\", \"Topic1\", \"Topic1\", \"Topic1\", \"Topic1\", \"Topic1\", \"Topic1\", \"Topic1\", \"Topic1\", \"Topic1\", \"Topic1\", \"Topic1\", \"Topic1\", \"Topic1\", \"Topic1\", \"Topic1\", \"Topic1\", \"Topic1\", \"Topic1\", \"Topic1\", \"Topic1\", \"Topic1\", \"Topic1\", \"Topic1\", \"Topic1\", \"Topic1\", \"Topic1\", \"Topic1\", \"Topic2\", \"Topic2\", \"Topic2\", \"Topic2\", \"Topic2\", \"Topic2\", \"Topic2\", \"Topic2\", \"Topic2\", \"Topic2\", \"Topic2\", \"Topic2\", \"Topic2\", \"Topic2\", \"Topic2\", \"Topic2\", \"Topic2\", \"Topic2\", \"Topic2\", \"Topic2\", \"Topic2\", \"Topic2\", \"Topic2\", \"Topic2\", \"Topic2\", \"Topic2\", \"Topic2\", \"Topic2\", \"Topic2\", \"Topic2\", \"Topic2\", \"Topic2\", \"Topic2\", \"Topic2\", \"Topic2\", \"Topic2\", \"Topic2\", \"Topic2\", \"Topic2\", \"Topic2\", \"Topic2\", \"Topic2\", \"Topic2\", \"Topic2\", \"Topic2\", \"Topic2\", \"Topic2\", \"Topic2\", \"Topic2\", \"Topic2\", \"Topic2\", \"Topic2\", \"Topic2\", \"Topic2\", \"Topic2\", \"Topic2\", \"Topic2\", \"Topic2\", \"Topic2\", \"Topic2\", \"Topic2\", \"Topic2\", \"Topic2\", \"Topic2\", \"Topic2\", \"Topic2\", \"Topic2\", \"Topic2\", \"Topic3\", \"Topic3\", \"Topic3\", \"Topic3\", \"Topic3\", \"Topic3\", \"Topic3\", \"Topic3\", \"Topic3\", \"Topic3\", \"Topic3\", \"Topic3\", \"Topic3\", \"Topic3\", \"Topic3\", \"Topic3\", \"Topic3\", \"Topic3\", \"Topic3\", \"Topic3\", \"Topic3\", \"Topic3\", \"Topic3\", \"Topic3\", \"Topic3\", \"Topic3\", \"Topic3\", \"Topic3\", \"Topic3\", \"Topic3\", \"Topic3\", \"Topic3\", \"Topic3\", \"Topic3\", \"Topic3\", \"Topic3\", \"Topic3\", \"Topic3\", \"Topic3\", \"Topic3\", \"Topic3\", \"Topic3\", \"Topic3\", \"Topic3\", \"Topic3\", \"Topic3\", \"Topic3\", \"Topic3\", \"Topic3\", \"Topic3\", \"Topic3\", \"Topic3\", \"Topic3\", \"Topic3\", \"Topic3\", \"Topic3\", \"Topic3\", \"Topic3\", \"Topic3\", \"Topic3\", \"Topic3\", \"Topic3\", \"Topic3\", \"Topic3\", \"Topic3\", \"Topic3\", \"Topic3\", \"Topic4\", \"Topic4\", \"Topic4\", \"Topic4\", \"Topic4\", \"Topic4\", \"Topic4\", \"Topic4\", \"Topic4\", \"Topic4\", \"Topic4\", \"Topic4\", \"Topic4\", \"Topic4\", \"Topic4\", \"Topic4\", \"Topic4\", \"Topic4\", \"Topic4\", \"Topic4\", \"Topic4\", \"Topic4\", \"Topic4\", \"Topic4\", \"Topic4\", \"Topic4\", \"Topic4\", \"Topic4\", \"Topic4\", \"Topic4\", \"Topic4\", \"Topic4\", \"Topic4\", \"Topic4\", \"Topic4\", \"Topic4\", \"Topic4\", \"Topic4\", \"Topic4\", \"Topic4\", \"Topic4\", \"Topic4\", \"Topic4\", \"Topic4\", \"Topic4\", \"Topic4\", \"Topic4\", \"Topic4\", \"Topic4\", \"Topic4\", \"Topic4\", \"Topic4\", \"Topic4\", \"Topic4\", \"Topic4\", \"Topic4\", \"Topic4\", \"Topic4\", \"Topic4\", \"Topic4\", \"Topic4\", \"Topic4\", \"Topic4\"], \"Term\": [\"regret\", \"matrix_completion\", \"bandit\", \"convolutional\", \"rank_matrix\", \"active_learning\", \"submodular\", \"deep_learning\", \"regret_bound\", \"recurrent\", \"recurrent_neural\", \"hidden_unit\", \"fully_connected\", \"hidden_layer\", \"random_walk\", \"gaussian_process\", \"lstm\", \"singular_value\", \"item\", \"line_search\", \"sample_complexity\", \"submodular_function\", \"strongly_convex\", \"convolutional_neural\", \"during_training\", \"tensor\", \"online_learning\", \"markov_chain\", \"pixel\", \"vertex\", \"privacy\", \"optimal_control\", \"lifted\", \"firing\", \"identifiability\", \"spiking\", \"neurosci\", \"hlmann\", \"simulated_data\", \"sensory\", \"identifiable\", \"mdps\", \"transition_probability\", \"random_walk\", \"stimulus\", \"differentially\", \"tensor_decomposition\", \"stationary_distribution\", \"demonstration\", \"drift\", \"spike\", \"bellman\", \"hyva_rinen\", \"infinite_dimensional\", \"rinen\", \"each_trial\", \"relational\", \"walk\", \"hyva\", \"directed_edge\", \"trajectory\", \"private\", \"causal\", \"decision_rule\", \"mutual_information\", \"tensor\", \"initial_state\", \"lasso\", \"parent\", \"decision_making\", \"markov_chain\", \"symmetry\", \"state_space\", \"probability_measure\", \"covariance_matrix\", \"neuron\", \"reward_function\", \"policy\", \"trial\", \"moment\", \"sample_size\", \"regularization_parameter\", \"mixture_model\", \"sampler\", \"graphical_model\", \"reinforcement_learning\", \"maximum_likelihood\", \"population\", \"closed_form\", \"reward\", \"exponential_family\", \"lstm\", \"convolutional_network\", \"patch\", \"convolutional\", \"hidden_layer\", \"convolutional_layer\", \"pooling_layer\", \"encoder_decoder\", \"very_deep\", \"lstms\", \"rnns\", \"relu\", \"deep_boltzmann\", \"convnets\", \"lstm_lstm\", \"alex_graf\", \"autoencoder\", \"semantic_segmentation\", \"grammar\", \"parsing\", \"rmsprop\", \"deep_convolutional\", \"recurrent_convolutional\", \"softmax_layer\", \"convolutional_neural\", \"deep_architecture\", \"image_caption\", \"convolutional_architecture\", \"fine_tuning\", \"convnet\", \"recurrent_neural\", \"during_training\", \"deep_network\", \"hidden_unit\", \"encoder\", \"deep_learning\", \"visual_recognition\", \"object_recognition\", \"recurrent\", \"analogy\", \"dropout\", \"fully_connected\", \"stack\", \"texture\", \"sentence\", \"pixel\", \"yoshua_bengio\", \"object_detection\", \"feature_map\", \"machine_translation\", \"recurrent_network\", \"deep_neural\", \"topic_model\", \"speech_recognition\", \"natural_image\", \"frame\", \"embedding\", \"segmentation\", \"generative_model\", \"convolution\", \"multi_label\", \"proposal\", \"semi_supervised\", \"document\", \"ground_truth\", \"spatial\", \"filter\", \"mini_batch\", \"regret_bound\", \"bandit_problem\", \"expected_reward\", \"bandit_feedback\", \"bandit\", \"regret_regret\", \"bubeck\", \"upper_confidence\", \"multiarmed_bandit\", \"regret\", \"multi_armed_bandit_problem\", \"fischer_finite\", \"multi_armed\", \"bubeck_cesa\", \"bianchi_regret\", \"stochastic_nonstochastic\", \"audibert\", \"stochastic_bandit\", \"multiarmed\", \"nonstochastic\", \"bianchi_lugosi\", \"game_cambridge\", \"nicolo\", \"arm\", \"peter_auer\", \"stochastic_nonstochastic_multi_armed\", \"game_cambridge_university_press\", \"cumulative_regret\", \"armed\", \"adaptive_allocation\", \"line_search\", \"cesa\", \"bianchi\", \"strongly_convex\", \"strong_convexity\", \"primal_dual\", \"bandit_setting\", \"wolfe\", \"auer\", \"decision_tree\", \"linear_convergence\", \"online_learning\", \"boosting\", \"time_horizon\", \"proximal\", \"primal\", \"accelerated\", \"gaussian_process\", \"step_size\", \"variational_inference\", \"convergence_rate\", \"empirical_risk\", \"bayesian_optimization\", \"marginal_likelihood\", \"learner\", \"frank\", \"round\", \"coordinate_descent\", \"stochastic_optimization\", \"gradient_descent\", \"mean_field\", \"reward\", \"time_series\", \"posterior_distribution\", \"model_selection\", \"time_step\", \"data_set\", \"matrix_completion\", \"bipartite_graph\", \"submodular_function\", \"submodular\", \"submodular_maximization\", \"submodularity\", \"sparse_recovery\", \"weighted_graph\", \"disagreement\", \"montanari\", \"proceeding_forty\", \"market\", \"maximizing_submodular\", \"active_learning\", \"voting\", \"prateek_jain\", \"feige\", \"crowd\", \"prateek\", \"submodular_optimization\", \"rank_matrix\", \"singular_vector\", \"bipartite\", \"wolsey\", \"martinsson\", \"sujay_sanghavi\", \"recommendation_system\", \"crowdsourcing\", \"cut\", \"chatterjee\", \"nuclear_norm\", \"completion\", \"singular_value\", \"rank_approximation\", \"side_information\", \"item\", \"singular\", \"exact_recovery\", \"link_function\", \"spectral_clustering\", \"compressed_sensing\", \"polynomial_time\", \"stein\", \"recovery\", \"convex_relaxation\", \"hypothesis_class\", \"vertex\", \"greedy_algorithm\", \"cover\", \"sample_complexity\", \"relative_error\", \"utility\", \"query\", \"matrix_factorization\", \"message\", \"running_time\", \"greedy\", \"game\", \"event\", \"probability_least\", \"gibbs_sampling\", \"mechanism\", \"estimation_error\"], \"loglift\": [30.0, 29.0, 28.0, 27.0, 26.0, 25.0, 24.0, 23.0, 22.0, 21.0, 20.0, 19.0, 18.0, 17.0, 16.0, 15.0, 14.0, 13.0, 12.0, 11.0, 10.0, 9.0, 8.0, 7.0, 6.0, 5.0, 4.0, 3.0, 2.0, 1.0, 1.2829, 1.278, 1.2777, 1.2759, 1.2759, 1.2668, 1.2655, 1.2628, 1.2596, 1.2531, 1.2525, 1.2512, 1.2504, 1.2413, 1.2354, 1.2264, 1.2258, 1.2228, 1.2215, 1.2189, 1.2185, 1.2174, 1.215, 1.212, 1.2119, 1.2106, 1.2087, 1.2065, 1.2017, 1.1938, 1.1918, 1.1779, 1.1656, 1.175, 1.1701, 1.128, 1.1808, 1.1515, 1.1515, 1.1415, 1.0523, 1.1452, 1.0534, 1.1095, 0.9805, 1.0149, 1.0314, 0.9574, 1.0503, 0.9959, 0.8444, 0.8684, 0.9532, 0.8981, 0.604, 0.8215, 0.7368, 0.8413, 0.6662, 0.5736, 0.6019, 1.3567, 1.3546, 1.3539, 1.3537, 1.3536, 1.3533, 1.3522, 1.352, 1.3517, 1.3514, 1.351, 1.3496, 1.3495, 1.349, 1.3488, 1.3488, 1.3487, 1.3484, 1.3484, 1.348, 1.348, 1.3479, 1.3477, 1.3475, 1.3474, 1.3474, 1.3474, 1.3469, 1.3465, 1.3464, 1.3416, 1.3436, 1.344, 1.3352, 1.341, 1.3304, 1.3446, 1.3415, 1.3244, 1.3337, 1.331, 1.3057, 1.331, 1.3282, 1.3119, 1.3048, 1.3255, 1.303, 1.2873, 1.3167, 1.3098, 1.2705, 1.2278, 1.2855, 1.2642, 1.2203, 1.1003, 1.1575, 0.936, 1.2675, 1.1696, 0.9438, 1.0436, 0.954, 0.7404, 1.0801, 0.9867, 0.9523, 1.4128, 1.4104, 1.4081, 1.4081, 1.4049, 1.4041, 1.4029, 1.4009, 1.4007, 1.4002, 1.3974, 1.3966, 1.3962, 1.3958, 1.3947, 1.3936, 1.3921, 1.3915, 1.3904, 1.3894, 1.3888, 1.3888, 1.3842, 1.381, 1.3794, 1.3737, 1.3713, 1.3709, 1.3699, 1.369, 1.364, 1.3687, 1.3685, 1.3428, 1.3574, 1.3495, 1.365, 1.3441, 1.3663, 1.3188, 1.306, 1.2692, 1.3291, 1.3367, 1.2672, 1.26, 1.284, 1.1093, 1.0992, 1.0917, 1.0336, 1.1594, 1.2299, 1.1539, 1.1041, 1.2644, 0.8895, 1.0163, 0.8806, 0.6639, 0.941, 0.695, 0.7412, 0.647, 0.8141, 0.3064, 0.179, 1.466, 1.4659, 1.4638, 1.4586, 1.45, 1.4471, 1.4429, 1.437, 1.4369, 1.4247, 1.4234, 1.4223, 1.4207, 1.4193, 1.4162, 1.4141, 1.4104, 1.4061, 1.4021, 1.4015, 1.3987, 1.397, 1.3931, 1.3914, 1.3825, 1.3823, 1.3818, 1.381, 1.3795, 1.3795, 1.3777, 1.3785, 1.3716, 1.3749, 1.3785, 1.3451, 1.3572, 1.3648, 1.3631, 1.353, 1.3208, 1.2873, 1.3503, 1.2544, 1.3098, 1.3286, 1.1509, 1.2068, 1.2046, 1.0707, 1.1875, 1.2268, 1.028, 1.2237, 1.1028, 0.7804, 0.864, 0.8322, 0.9659, 0.7089, 0.8259, 0.7465, 0.8687], \"Freq\": [1169.0, 720.0, 672.0, 645.0, 689.0, 645.0, 571.0, 585.0, 475.0, 556.0, 521.0, 525.0, 571.0, 479.0, 621.0, 913.0, 461.0, 560.0, 585.0, 473.0, 895.0, 378.0, 484.0, 410.0, 392.0, 673.0, 557.0, 815.0, 434.0, 653.0, 274.10565950053353, 214.3233112175116, 206.58863489877493, 109.96443129123736, 65.46629573285709, 77.09520105207157, 23.29699424981991, 16.56816587191907, 76.8896871933023, 55.61501795716467, 41.75130410907424, 73.79850688001547, 207.27405509612197, 584.7589223875027, 174.16116246839664, 108.98587747775589, 155.4310076043201, 297.8663854607655, 23.328790783258107, 74.92290809567214, 164.56579064593137, 50.31883248876332, 34.837140374687806, 122.99756664519495, 19.543363506150985, 36.76989667313973, 62.47487795862228, 295.9509627631417, 17.56776343237995, 119.76750798003445, 466.1518472915253, 229.76370624337852, 290.5254009473788, 174.0953416052204, 202.18689546531553, 565.6268422814536, 141.69785907020588, 271.06792556794335, 206.9695270098634, 237.30507152813482, 635.2908704185505, 186.7893216960133, 412.5480914722135, 226.93979646391378, 532.0013568033964, 366.7249459940719, 316.9406913392721, 481.404458560604, 282.89561609069005, 298.6408907845781, 412.0816504065021, 326.99817213360086, 250.36001555570644, 258.5756174146786, 379.85514820620153, 274.0996202952595, 294.7736322058149, 265.4278152812585, 271.45601304486524, 258.60603894699994, 235.4807448699279, 460.0406805277403, 323.1456912928202, 184.66868873756607, 641.3580913628253, 475.73398509114105, 193.83435718989816, 107.60317829814151, 118.60416987838911, 97.50670609324827, 93.83046398602988, 80.97590888373146, 78.21553480814869, 72.70356208343588, 59.85213244342346, 88.29392933939816, 77.29747441648776, 113.85364004264754, 151.28525726515824, 60.772449054359335, 81.85029615149648, 67.19285033238279, 237.08968920842247, 66.28388646202691, 58.02384550453108, 404.9717121701971, 142.95242408893438, 77.28166164725816, 62.59533102004719, 60.76329769322522, 44.238038702851426, 511.7050727645453, 385.69494549521505, 317.6908190029653, 512.0757388941831, 204.07275432935836, 568.4872258593269, 104.55609009737834, 139.77576314877885, 536.5819398271276, 229.71167782225294, 193.02271800018062, 541.0184728207204, 185.85004989531035, 195.62003009401084, 327.85526681907515, 410.69428345183184, 193.7293978442729, 238.14000837555378, 282.29867293082543, 186.28142981357252, 201.93177130921308, 301.71531283618333, 349.2551841112185, 214.06226245022853, 236.1534233063785, 287.02186128907005, 463.7186533303067, 352.82414325350334, 516.8248665481591, 223.29999444244814, 267.6700242237887, 385.23024994730025, 311.9646543765851, 347.9229503115021, 427.50010288774524, 276.00713305978365, 259.15131781113826, 246.94855639061433, 473.48075307051954, 265.0387121277205, 118.97011415349792, 113.3705682697701, 663.9327732132969, 69.02084570634477, 64.30594820960243, 76.41910577393035, 41.687315561018444, 1149.7760425742206, 37.90237623530915, 31.30309270725898, 292.73640391221545, 26.584538802656294, 34.13408543389077, 30.36232350789664, 22.808600004212426, 21.862623661536382, 20.919195273989605, 20.92332172077015, 21.867909854003827, 25.62947963570785, 32.99249112273309, 168.98222969154511, 32.87328794102526, 12.423007029157619, 11.473345360966954, 80.07741385989488, 163.77324589709997, 9.580197845265616, 449.30339520197714, 82.454867145525, 82.45164333684583, 449.34637799765176, 201.4342311807494, 258.3582203934404, 96.71095347053107, 154.98613022714275, 57.83634381222625, 239.46590373821314, 220.9284736771948, 480.8044391157657, 117.44822241884268, 101.04163605904981, 260.0763092763864, 219.85626221731778, 139.68167674757805, 671.0779242392613, 602.7461656746925, 574.083802407662, 651.6882317570938, 297.05273061400055, 179.63713503890978, 244.13318186006666, 226.54078601006475, 128.45113545350128, 295.91722776396915, 211.47596270574417, 269.71321139088593, 366.5931126487556, 210.6431955929913, 260.1522673791776, 244.7216866454179, 225.1155609469102, 210.32805981263087, 224.2145895645484, 227.30230292896078, 714.9910656993682, 166.58925243229984, 374.8082073198693, 563.302150724211, 122.93388008526121, 85.57833402902715, 136.30981940810705, 86.21829981419282, 61.98434494463391, 31.703941091992885, 30.76437320824306, 262.48990762021896, 65.63640601272579, 611.1506465401635, 127.09832512446478, 42.418669653095066, 10.452849259585882, 75.79347803439576, 21.374747181789164, 16.65880088419103, 640.007605210886, 184.4373570160366, 93.28096116125691, 12.07284578132409, 16.46071778605699, 25.344052291430895, 50.614690380934285, 72.5498539091917, 66.27251855485271, 15.592210001729693, 332.83721086015123, 306.6234647098625, 506.0202033151042, 296.82275219529384, 84.4230975269265, 514.7877824113954, 269.0395269568205, 157.32656756621788, 157.8493884255552, 141.1759797221477, 226.61280347962602, 347.0608858139074, 119.96169264166966, 389.421055150199, 192.7190032375313, 136.63453834418218, 473.4412128940949, 310.0180628006909, 296.3926412113201, 598.8319853719249, 253.75336656954175, 200.9290985984386, 421.89055615522085, 190.30955026347618, 220.91215367555407, 349.3262414162558, 306.22012389898214, 283.62548665912686, 237.36282153857954, 281.4121734677191, 246.4831471519671, 224.72014837632003, 215.90456649785486], \"Total\": [1169.0, 720.0, 672.0, 645.0, 689.0, 645.0, 571.0, 585.0, 475.0, 556.0, 521.0, 525.0, 571.0, 479.0, 621.0, 913.0, 461.0, 560.0, 585.0, 473.0, 895.0, 378.0, 484.0, 410.0, 392.0, 673.0, 557.0, 815.0, 434.0, 653.0, 279.3572358047099, 219.5019163921426, 211.63851953275537, 112.85920699476124, 67.1929141188545, 79.84752414706995, 24.16080383592982, 17.229461151978597, 80.21501746063252, 58.3958697641034, 43.86645073976133, 77.6396457092136, 218.21858839263155, 621.268043880418, 186.13026006775326, 117.53151845423093, 167.72266167753813, 322.3690239452763, 25.28157634920715, 81.40455565098446, 178.88533321860794, 54.75298827161145, 38.00164867026872, 134.57082352561176, 21.38435466179411, 40.28420931392669, 68.57646951749274, 325.5695500645596, 19.419855387712445, 133.43970442982786, 520.4033176473497, 260.09615518315087, 332.96435149886366, 197.64913027377972, 230.67486112621083, 673.074683918571, 159.94484778531537, 315.0578634936172, 240.5594460631962, 278.6015398530593, 815.4075632488172, 218.476711975446, 528.939793839018, 275.074871447671, 733.6722112201584, 488.6553856359773, 415.39092124450264, 679.4024764811559, 363.82743823333817, 405.54321878592896, 651.1463613936655, 504.41946229158606, 354.809251725911, 387.2031198690021, 763.3437152868457, 443.13252929747534, 518.7112709087621, 420.69176866891075, 512.5979770792927, 535.7329910230633, 474.19912798915607, 461.7631064962766, 325.06690272339097, 185.8861482651096, 645.6928524654038, 479.0019661789576, 195.22948038616374, 108.49772017444737, 119.62036707181306, 98.3713117028314, 94.68540486613577, 81.7444775929089, 79.07475498108167, 73.50936081133668, 60.54583540949432, 89.33081730713691, 78.20953508450197, 115.20315828590266, 153.12038554896398, 61.513434766969006, 82.87614483268834, 68.03511064114343, 240.080066751432, 67.13744338126583, 58.78185162669407, 410.2973653592442, 144.83421964218275, 78.30298611940216, 63.44994892084107, 61.61898973797254, 44.86645876790713, 521.4496937522822, 392.27004601573714, 322.9547236559887, 525.1997368770615, 208.09313451143257, 585.8433372786844, 106.22702484292331, 142.44966071407802, 556.2698731658041, 235.95290920672278, 198.80353145053428, 571.4615609687337, 191.40600133283095, 202.03786996990016, 344.1907538755929, 434.2209685671132, 200.62107561927508, 252.23783671343304, 303.7255066076054, 194.6138260338827, 212.42145619110119, 330.13185721369643, 398.8128215228364, 230.7228328274145, 260.0225350296323, 330.2174107853839, 601.4987293754116, 432.23372222381073, 790.1495535090528, 245.05238532158694, 323.96637482210923, 584.3687494604712, 428.2607229027041, 522.3936553695454, 794.7690892553692, 365.33997872476357, 376.6034598098744, 371.4348985230126, 475.65606742057804, 266.88448761455203, 120.08175080291325, 114.43126516222704, 672.2665221310165, 69.94421630048404, 65.24251887029088, 77.68626914468409, 42.38967032039173, 1169.6705200568692, 38.668106674614016, 31.959596699803555, 299.01396979822323, 27.164672499852283, 34.91821844432086, 31.091998902777174, 23.391895832225764, 22.434929105755717, 21.491913016660813, 21.515988297713825, 22.501343945295893, 26.372576868018104, 34.10552223456767, 175.23483216843687, 34.146099647812704, 12.977722681072988, 12.014166272741734, 83.88785688033163, 171.73643251793624, 10.055000438277489, 473.9587432689483, 86.57180465343998, 86.58067651204637, 484.13871682513843, 213.87682957122342, 276.49088902175936, 101.91343567436179, 166.77030317883631, 60.86828115956532, 264.28724123762555, 246.95252394502288, 557.6005222853362, 128.29177085350295, 109.53636372347127, 302.2102631310096, 257.32344773666233, 159.61159658039298, 913.191673464148, 828.5685582651007, 795.0657006722145, 956.6059594010392, 384.4784577711404, 216.67591209582116, 317.7331072661456, 309.8898947751364, 149.6850337205708, 501.6622446645995, 315.83567687027227, 461.3507069373511, 778.7858677262097, 339.18711303620427, 535.7329910230633, 481.2067137902003, 486.38301527791674, 384.50131966566846, 681.0116089115703, 784.2014316300049, 720.4361301380864, 167.8793087388101, 378.5162156376107, 571.833620769778, 125.8690518546988, 87.87267482014677, 140.56219468718876, 89.43328634161135, 64.30104599379526, 33.29191549406938, 32.347933503787786, 276.2976564823408, 69.20073637622012, 645.2216202207982, 134.6039202826263, 45.01768386362315, 11.134467808216755, 81.08751206731162, 22.9600528578346, 17.905031370977703, 689.7660426642813, 199.11174923905318, 101.10237274359005, 13.107633336865195, 18.03115995745054, 27.766660137941617, 55.48133894327453, 79.58626620493743, 72.80909623368758, 17.130791246311784, 366.33799450859306, 337.2170950423488, 560.3555613624578, 327.6198746238315, 92.84327663476066, 585.3550014497403, 302.2608639777202, 175.40695818485045, 176.29680053387435, 159.2707944904351, 264.0306491481109, 418.13983836086896, 135.70200272841473, 484.86784820936816, 227.02477371923223, 157.95361338581714, 653.7825374080224, 404.7939990108875, 387.8654278210829, 895.969729205315, 337.81004025609855, 257.1629262373867, 658.7480929439708, 244.33112194906164, 320.065269204238, 698.7174905887548, 563.3275888574692, 538.6178838742811, 394.35937510938436, 604.5914045505433, 471.0517168821968, 464.962867478687, 395.3408928566216], \"logprob\": [30.0, 29.0, 28.0, 27.0, 26.0, 25.0, 24.0, 23.0, 22.0, 21.0, 20.0, 19.0, 18.0, 17.0, 16.0, 15.0, 14.0, 13.0, 12.0, 11.0, 10.0, 9.0, 8.0, 7.0, 6.0, 5.0, 4.0, 3.0, 2.0, 1.0, -6.0841, -6.3302, -6.3669, -6.9975, -7.5161, -7.3526, -8.5493, -8.8902, -7.3553, -7.6792, -7.9659, -7.3963, -6.3636, -5.3264, -6.5377, -7.0064, -6.6514, -6.001, -8.548, -7.3812, -6.5943, -7.7793, -8.147, -6.8855, -8.725, -8.093, -7.5629, -6.0075, -8.8316, -6.9121, -5.5531, -6.2606, -6.026, -6.538, -6.3885, -5.3597, -6.744, -6.0953, -6.3651, -6.2283, -5.2436, -6.4677, -5.6753, -6.273, -5.421, -5.793, -5.9389, -5.5209, -6.0526, -5.9984, -5.6764, -5.9077, -6.1747, -6.1425, -5.7579, -6.0842, -6.0114, -6.1163, -6.0938, -6.1423, -6.236, -5.5078, -5.861, -6.4205, -5.1755, -5.4742, -6.3721, -6.9606, -6.8633, -7.0591, -7.0976, -7.2449, -7.2796, -7.3527, -7.5472, -7.1584, -7.2914, -6.9042, -6.6199, -7.5319, -7.2342, -7.4315, -6.1706, -7.4451, -7.5782, -5.6352, -6.6766, -7.2916, -7.5024, -7.5321, -7.8495, -5.4013, -5.684, -5.878, -5.4006, -6.3206, -5.2961, -6.9893, -6.699, -5.3538, -6.2022, -6.3763, -5.3456, -6.4141, -6.3629, -5.8465, -5.6212, -6.3726, -6.1662, -5.9961, -6.4118, -6.3311, -5.9296, -5.7833, -6.2728, -6.1746, -5.9795, -5.4998, -5.7731, -5.3914, -6.2306, -6.0493, -5.6852, -5.8962, -5.7871, -5.5811, -6.0186, -6.0817, -6.1299, -5.4221, -6.0023, -6.8033, -6.8515, -5.084, -7.3478, -7.4185, -7.2459, -7.852, -4.5348, -7.9472, -8.1385, -5.9029, -8.3018, -8.0519, -8.169, -8.455, -8.4974, -8.5415, -8.5413, -8.4972, -8.3384, -8.0859, -6.4524, -8.0895, -9.0626, -9.1421, -7.1992, -6.4837, -9.3225, -5.4745, -7.1699, -7.17, -5.4744, -6.2767, -6.0278, -7.0104, -6.5388, -7.5246, -6.1038, -6.1843, -5.4067, -6.8162, -6.9666, -6.0212, -6.1892, -6.6428, -5.0733, -5.1807, -5.2294, -5.1026, -5.8883, -6.3912, -6.0845, -6.1592, -6.7266, -5.8921, -6.2281, -5.9848, -5.6779, -6.232, -6.0209, -6.0821, -6.1656, -6.2335, -6.1696, -6.1559, -4.9537, -6.4104, -5.5995, -5.1921, -6.7143, -7.0765, -6.611, -7.0691, -7.3991, -8.0695, -8.0996, -5.9557, -7.3418, -5.1106, -6.681, -7.7784, -9.1791, -7.1979, -8.4637, -8.713, -5.0645, -6.3086, -6.9903, -9.035, -8.725, -8.2934, -7.6017, -7.2417, -7.3322, -8.7792, -5.7183, -5.8003, -5.2994, -5.8328, -7.0901, -5.2822, -5.9311, -6.4676, -6.4643, -6.5759, -6.1027, -5.6765, -6.7388, -5.5613, -6.2647, -6.6086, -5.3659, -5.7893, -5.8343, -5.131, -5.9896, -6.223, -5.4812, -6.2773, -6.1282, -5.6699, -5.8016, -5.8783, -6.0564, -5.8861, -6.0187, -6.1111, -6.1511]}};\n",
       "\n",
       "function LDAvis_load_lib(url, callback){\n",
       "  var s = document.createElement('script');\n",
       "  s.src = url;\n",
       "  s.async = true;\n",
       "  s.onreadystatechange = s.onload = callback;\n",
       "  s.onerror = function(){console.warn(\"failed to load library \" + url);};\n",
       "  document.getElementsByTagName(\"head\")[0].appendChild(s);\n",
       "}\n",
       "\n",
       "if(typeof(LDAvis) !== \"undefined\"){\n",
       "   // already loaded: just create the visualization\n",
       "   !function(LDAvis){\n",
       "       new LDAvis(\"#\" + \"ldavis_el716446866277926541779174\", ldavis_el716446866277926541779174_data);\n",
       "   }(LDAvis);\n",
       "}else if(typeof define === \"function\" && define.amd){\n",
       "   // require.js is available: use it to load d3/LDAvis\n",
       "   require.config({paths: {d3: \"https://cdnjs.cloudflare.com/ajax/libs/d3/3.5.5/d3.min\"}});\n",
       "   require([\"d3\"], function(d3){\n",
       "      window.d3 = d3;\n",
       "      LDAvis_load_lib(\"https://cdn.rawgit.com/bmabey/pyLDAvis/files/ldavis.v1.0.0.js\", function(){\n",
       "        new LDAvis(\"#\" + \"ldavis_el716446866277926541779174\", ldavis_el716446866277926541779174_data);\n",
       "      });\n",
       "    });\n",
       "}else{\n",
       "    // require.js not available: dynamically load d3 & LDAvis\n",
       "    LDAvis_load_lib(\"https://cdnjs.cloudflare.com/ajax/libs/d3/3.5.5/d3.min.js\", function(){\n",
       "         LDAvis_load_lib(\"https://cdn.rawgit.com/bmabey/pyLDAvis/files/ldavis.v1.0.0.js\", function(){\n",
       "                 new LDAvis(\"#\" + \"ldavis_el716446866277926541779174\", ldavis_el716446866277926541779174_data);\n",
       "            })\n",
       "         });\n",
       "}\n",
       "</script>"
      ],
      "text/plain": [
       "PreparedData(topic_coordinates=            Freq  cluster  topics         x         y\n",
       "topic                                                \n",
       "2      27.201453        1       1  0.042022  0.014105\n",
       "1      25.653687        1       2 -0.172616  0.010852\n",
       "3      24.234878        1       3  0.050022 -0.107738\n",
       "0      22.909982        1       4  0.080572  0.082781, topic_info=     Category         Freq                  Term        Total  loglift  \\\n",
       "term                                                                     \n",
       "1936  Default  1169.000000                regret  1169.000000  30.0000   \n",
       "3402  Default   720.000000     matrix_completion   720.000000  29.0000   \n",
       "5563  Default   672.000000                bandit   672.000000  28.0000   \n",
       "4232  Default   645.000000         convolutional   645.000000  27.0000   \n",
       "1739  Default   689.000000           rank_matrix   689.000000  26.0000   \n",
       "1227  Default   645.000000       active_learning   645.000000  25.0000   \n",
       "5037  Default   571.000000            submodular   571.000000  24.0000   \n",
       "5479  Default   585.000000         deep_learning   585.000000  23.0000   \n",
       "316   Default   475.000000          regret_bound   475.000000  22.0000   \n",
       "1796  Default   556.000000             recurrent   556.000000  21.0000   \n",
       "5477  Default   521.000000      recurrent_neural   521.000000  20.0000   \n",
       "2463  Default   525.000000           hidden_unit   525.000000  19.0000   \n",
       "1746  Default   571.000000       fully_connected   571.000000  18.0000   \n",
       "2406  Default   479.000000          hidden_layer   479.000000  17.0000   \n",
       "4213  Default   621.000000           random_walk   621.000000  16.0000   \n",
       "2620  Default   913.000000      gaussian_process   913.000000  15.0000   \n",
       "3242  Default   461.000000                  lstm   461.000000  14.0000   \n",
       "3785  Default   560.000000        singular_value   560.000000  13.0000   \n",
       "3432  Default   585.000000                  item   585.000000  12.0000   \n",
       "3736  Default   473.000000           line_search   473.000000  11.0000   \n",
       "3137  Default   895.000000     sample_complexity   895.000000  10.0000   \n",
       "5223  Default   378.000000   submodular_function   378.000000   9.0000   \n",
       "1162  Default   484.000000       strongly_convex   484.000000   8.0000   \n",
       "4620  Default   410.000000  convolutional_neural   410.000000   7.0000   \n",
       "2247  Default   392.000000       during_training   392.000000   6.0000   \n",
       "4792  Default   673.000000                tensor   673.000000   5.0000   \n",
       "3628  Default   557.000000       online_learning   557.000000   4.0000   \n",
       "247   Default   815.000000          markov_chain   815.000000   3.0000   \n",
       "2762  Default   434.000000                 pixel   434.000000   2.0000   \n",
       "4505  Default   653.000000                vertex   653.000000   1.0000   \n",
       "...       ...          ...                   ...          ...      ...   \n",
       "305    Topic4   296.822752    rank_approximation   327.619875   1.3749   \n",
       "4946   Topic4    84.423098      side_information    92.843277   1.3785   \n",
       "3432   Topic4   514.787782                  item   585.355001   1.3451   \n",
       "1235   Topic4   269.039527              singular   302.260864   1.3572   \n",
       "1834   Topic4   157.326568        exact_recovery   175.406958   1.3648   \n",
       "5705   Topic4   157.849388         link_function   176.296801   1.3631   \n",
       "3718   Topic4   141.175980   spectral_clustering   159.270794   1.3530   \n",
       "623    Topic4   226.612803    compressed_sensing   264.030649   1.3208   \n",
       "3886   Topic4   347.060886       polynomial_time   418.139838   1.2873   \n",
       "2594   Topic4   119.961693                 stein   135.702003   1.3503   \n",
       "1601   Topic4   389.421055              recovery   484.867848   1.2544   \n",
       "911    Topic4   192.719003     convex_relaxation   227.024774   1.3098   \n",
       "2689   Topic4   136.634538      hypothesis_class   157.953613   1.3286   \n",
       "4505   Topic4   473.441213                vertex   653.782537   1.1509   \n",
       "2970   Topic4   310.018063      greedy_algorithm   404.793999   1.2068   \n",
       "944    Topic4   296.392641                 cover   387.865428   1.2046   \n",
       "3137   Topic4   598.831985     sample_complexity   895.969729   1.0707   \n",
       "2153   Topic4   253.753367        relative_error   337.810040   1.1875   \n",
       "2993   Topic4   200.929099               utility   257.162926   1.2268   \n",
       "4165   Topic4   421.890556                 query   658.748093   1.0280   \n",
       "324    Topic4   190.309550  matrix_factorization   244.331122   1.2237   \n",
       "2070   Topic4   220.912154               message   320.065269   1.1028   \n",
       "2417   Topic4   349.326241          running_time   698.717491   0.7804   \n",
       "1287   Topic4   306.220124                greedy   563.327589   0.8640   \n",
       "2596   Topic4   283.625487                  game   538.617884   0.8322   \n",
       "2401   Topic4   237.362822                 event   394.359375   0.9659   \n",
       "5643   Topic4   281.412173     probability_least   604.591405   0.7089   \n",
       "1019   Topic4   246.483147        gibbs_sampling   471.051717   0.8259   \n",
       "1332   Topic4   224.720148             mechanism   464.962867   0.7465   \n",
       "2582   Topic4   215.904566      estimation_error   395.340893   0.8687   \n",
       "\n",
       "      logprob  \n",
       "term           \n",
       "1936  30.0000  \n",
       "3402  29.0000  \n",
       "5563  28.0000  \n",
       "4232  27.0000  \n",
       "1739  26.0000  \n",
       "1227  25.0000  \n",
       "5037  24.0000  \n",
       "5479  23.0000  \n",
       "316   22.0000  \n",
       "1796  21.0000  \n",
       "5477  20.0000  \n",
       "2463  19.0000  \n",
       "1746  18.0000  \n",
       "2406  17.0000  \n",
       "4213  16.0000  \n",
       "2620  15.0000  \n",
       "3242  14.0000  \n",
       "3785  13.0000  \n",
       "3432  12.0000  \n",
       "3736  11.0000  \n",
       "3137  10.0000  \n",
       "5223   9.0000  \n",
       "1162   8.0000  \n",
       "4620   7.0000  \n",
       "2247   6.0000  \n",
       "4792   5.0000  \n",
       "3628   4.0000  \n",
       "247    3.0000  \n",
       "2762   2.0000  \n",
       "4505   1.0000  \n",
       "...       ...  \n",
       "305   -5.8328  \n",
       "4946  -7.0901  \n",
       "3432  -5.2822  \n",
       "1235  -5.9311  \n",
       "1834  -6.4676  \n",
       "5705  -6.4643  \n",
       "3718  -6.5759  \n",
       "623   -6.1027  \n",
       "3886  -5.6765  \n",
       "2594  -6.7388  \n",
       "1601  -5.5613  \n",
       "911   -6.2647  \n",
       "2689  -6.6086  \n",
       "4505  -5.3659  \n",
       "2970  -5.7893  \n",
       "944   -5.8343  \n",
       "3137  -5.1310  \n",
       "2153  -5.9896  \n",
       "2993  -6.2230  \n",
       "4165  -5.4812  \n",
       "324   -6.2773  \n",
       "2070  -6.1282  \n",
       "2417  -5.6699  \n",
       "1287  -5.8016  \n",
       "2596  -5.8783  \n",
       "2401  -6.0564  \n",
       "5643  -5.8861  \n",
       "1019  -6.0187  \n",
       "1332  -6.1111  \n",
       "2582  -6.1511  \n",
       "\n",
       "[289 rows x 6 columns], token_table=      Topic      Freq                 Term\n",
       "term                                      \n",
       "2003      1  0.006265          accelerated\n",
       "2003      2  0.068917          accelerated\n",
       "2003      3  0.877129          accelerated\n",
       "2003      4  0.043856          accelerated\n",
       "1227      1  0.024798      active_learning\n",
       "1227      2  0.004650      active_learning\n",
       "1227      3  0.023248      active_learning\n",
       "1227      4  0.946961      active_learning\n",
       "2995      3  0.994530  adaptive_allocation\n",
       "882       2  0.984535            alex_graf\n",
       "939       1  0.016953              analogy\n",
       "939       2  0.974771              analogy\n",
       "939       3  0.008476              analogy\n",
       "939       4  0.004238              analogy\n",
       "5545      1  0.005707                  arm\n",
       "5545      2  0.022827                  arm\n",
       "5545      3  0.964420                  arm\n",
       "5545      4  0.005707                  arm\n",
       "3851      1  0.023292                armed\n",
       "3851      2  0.005823                armed\n",
       "3851      3  0.954952                armed\n",
       "3851      4  0.017469                armed\n",
       "5622      3  0.983247             audibert\n",
       "4174      2  0.032858                 auer\n",
       "4174      3  0.952877                 auer\n",
       "630       1  0.008680          autoencoder\n",
       "630       2  0.989556          autoencoder\n",
       "5563      1  0.002975               bandit\n",
       "5563      2  0.002975               bandit\n",
       "5563      3  0.987704               bandit\n",
       "...     ...       ...                  ...\n",
       "4505      1  0.211079               vertex\n",
       "4505      2  0.015296               vertex\n",
       "4505      3  0.048946               vertex\n",
       "4505      4  0.723482               vertex\n",
       "2384      2  0.996225            very_deep\n",
       "300       2  0.988449   visual_recognition\n",
       "300       3  0.009414   visual_recognition\n",
       "300       4  0.009414   visual_recognition\n",
       "1717      1  0.029717               voting\n",
       "1717      2  0.007429               voting\n",
       "1717      3  0.014858               voting\n",
       "1717      4  0.943509               voting\n",
       "5938      1  0.909176                 walk\n",
       "5938      2  0.027644                 walk\n",
       "5938      3  0.024572                 walk\n",
       "5938      4  0.039930                 walk\n",
       "955       1  0.011182       weighted_graph\n",
       "955       2  0.011182       weighted_graph\n",
       "955       3  0.022363       weighted_graph\n",
       "955       4  0.961611       weighted_graph\n",
       "1945      1  0.041974                wolfe\n",
       "1945      2  0.005996                wolfe\n",
       "1945      3  0.929422                wolfe\n",
       "1945      4  0.017989                wolfe\n",
       "4824      3  0.076291               wolsey\n",
       "4824      4  0.915497               wolsey\n",
       "5628      1  0.004985        yoshua_bengio\n",
       "5628      2  0.966997        yoshua_bengio\n",
       "5628      3  0.029907        yoshua_bengio\n",
       "5628      4  0.004985        yoshua_bengio\n",
       "\n",
       "[838 rows x 3 columns], R=30, lambda_step=0.01, plot_opts={'xlab': 'PC1', 'ylab': 'PC2'}, topic_order=[3, 2, 4, 1])"
      ]
     },
     "execution_count": 24,
     "metadata": {},
     "output_type": "execute_result"
    }
   ],
   "source": [
    "pyLDAvis.gensim.prepare(model, corpus, dictionary)"
   ]
  },
  {
   "cell_type": "markdown",
   "metadata": {},
   "source": [
    "# To see the interactive maps go to this link:\n",
    "http://nbviewer.jupyter.org/github/ykhorram/nips2015_topic_network_analysis/blob/master/NIP15_topics_citations.ipynb"
   ]
  },
  {
   "cell_type": "markdown",
   "metadata": {
    "_uuid": "132463131ee73972307d5a3560da8db816f519e2"
   },
   "source": [
    "**How to evaluate our model?**  \n",
    "So again since there is no ground through here, we have to be creative in defining ways to evaluate. I do this in two steps:\n",
    "\n",
    "1. divide each document in two parts and see if the topics assign to them are simialr. => the more similar the better\n",
    "2. compare randomly chosen docs with each other. => the less similar the better"
   ]
  },
  {
   "cell_type": "code",
   "execution_count": 25,
   "metadata": {
    "_uuid": "71d492523a3cbcfd89141a9d13b66ac5a1f1f2e0",
    "collapsed": false
   },
   "outputs": [],
   "source": [
    "from sklearn.metrics.pairwise import cosine_similarity\n",
    "\n",
    "p_df['tokenz'] = docs\n",
    "\n",
    "docs1 = p_df['tokenz'].apply(lambda l: l[:int0(len(l)/2)])\n",
    "docs2 = p_df['tokenz'].apply(lambda l: l[int0(len(l)/2):])"
   ]
  },
  {
   "cell_type": "markdown",
   "metadata": {
    "_uuid": "60006b777f680005368652ec6a395d873b80b246"
   },
   "source": [
    "Transform the data "
   ]
  },
  {
   "cell_type": "code",
   "execution_count": 26,
   "metadata": {
    "_uuid": "1e989bc95613b95e5d9c40c0f91f31b93b6c5aab",
    "collapsed": false
   },
   "outputs": [],
   "source": [
    "corpus1 = [dictionary.doc2bow(doc) for doc in docs1]\n",
    "corpus2 = [dictionary.doc2bow(doc) for doc in docs2]\n",
    "\n",
    "# Using the corpus LDA model tranformation\n",
    "lda_corpus1 = model[corpus1]\n",
    "lda_corpus2 = model[corpus2]"
   ]
  },
  {
   "cell_type": "code",
   "execution_count": 27,
   "metadata": {
    "_uuid": "b6b1e78f3e435f12cbe76055a9af803e4cace4f2",
    "collapsed": true
   },
   "outputs": [],
   "source": [
    "from collections import OrderedDict\n",
    "def get_doc_topic_dist(model, corpus, kwords=False):\n",
    "    \n",
    "    '''\n",
    "    LDA transformation, for each doc only returns topics with non-zero weight\n",
    "    This function makes a matrix transformation of docs in the topic space.\n",
    "    '''\n",
    "    top_dist =[]\n",
    "    keys = []\n",
    "\n",
    "    for d in corpus:\n",
    "        tmp = {i:0 for i in range(num_topics)}\n",
    "        tmp.update(dict(model[d]))\n",
    "        vals = list(OrderedDict(tmp).values())\n",
    "        top_dist += [array(vals)]\n",
    "        if kwords:\n",
    "            keys += [array(vals).argmax()]\n",
    "\n",
    "    return array(top_dist), keys"
   ]
  },
  {
   "cell_type": "code",
   "execution_count": 28,
   "metadata": {
    "_uuid": "36f95ae8a010e1dfd3f441be37b179973c742b1a",
    "collapsed": false
   },
   "outputs": [
    {
     "name": "stdout",
     "output_type": "stream",
     "text": [
      "Intra similarity: cosine similarity for corresponding parts of a doc(higher is better):\n",
      "0.871949399721\n",
      "Inter similarity: cosine similarity between random parts (lower is better):\n",
      "0.341482147057\n"
     ]
    }
   ],
   "source": [
    "top_dist1, _ = get_doc_topic_dist(model, lda_corpus1)\n",
    "top_dist2, _ = get_doc_topic_dist(model, lda_corpus2)\n",
    "\n",
    "print(\"Intra similarity: cosine similarity for corresponding parts of a doc(higher is better):\")\n",
    "print(mean([cosine_similarity(c1.reshape(1, -1), c2.reshape(1, -1))[0][0] for c1,c2 in zip(top_dist1, top_dist2)]))\n",
    "\n",
    "random_pairs = np.random.randint(0, len(p_df['PaperText']), size=(400, 2))\n",
    "\n",
    "print(\"Inter similarity: cosine similarity between random parts (lower is better):\")\n",
    "print(np.mean([cosine_similarity(top_dist1[i[0]].reshape(1, -1), top_dist2[i[1]].reshape(1, -1)) for i in random_pairs]))"
   ]
  },
  {
   "cell_type": "markdown",
   "metadata": {
    "_uuid": "d69f784d5b4a966efb9c7169938b312e53f25d6c"
   },
   "source": [
    "## Let's look at the terms that appear more in each topic. "
   ]
  },
  {
   "cell_type": "code",
   "execution_count": 29,
   "metadata": {
    "_uuid": "5d5c2efcf69d5a7a8b4c15d747c3fac732fa1fd7",
    "collapsed": true
   },
   "outputs": [],
   "source": [
    "def explore_topic(lda_model, topic_number, topn, output=True):\n",
    "    \"\"\"\n",
    "    accept a ldamodel, atopic number and topn vocabs of interest\n",
    "    prints a formatted list of the topn terms\n",
    "    \"\"\"\n",
    "    terms = []\n",
    "    for term, frequency in lda_model.show_topic(topic_number, topn=topn):\n",
    "        terms += [term]\n",
    "        if output:\n",
    "            print(u'{:20} {:.3f}'.format(term, round(frequency, 3)))\n",
    "    \n",
    "    return terms"
   ]
  },
  {
   "cell_type": "code",
   "execution_count": 30,
   "metadata": {
    "_uuid": "e61600b519fa785ac652a70782a23b229b28be51",
    "collapsed": false
   },
   "outputs": [
    {
     "name": "stdout",
     "output_type": "stream",
     "text": [
      "term                 frequency\n",
      "\n",
      "Topic 0 |---------------------\n",
      "\n",
      "matrix_completion    0.007\n",
      "rank_matrix          0.006\n",
      "active_learning      0.006\n",
      "sample_complexity    0.006\n",
      "submodular           0.006\n",
      "item                 0.005\n",
      "singular_value       0.005\n",
      "vertex               0.005\n",
      "query                0.004\n",
      "recovery             0.004\n",
      "\n",
      "Topic 1 |---------------------\n",
      "\n",
      "convolutional        0.006\n",
      "deep_learning        0.005\n",
      "fully_connected      0.005\n",
      "recurrent            0.005\n",
      "generative_model     0.005\n",
      "hidden_unit          0.005\n",
      "recurrent_neural     0.005\n",
      "hidden_layer         0.004\n",
      "embedding            0.004\n",
      "lstm                 0.004\n",
      "\n",
      "Topic 2 |---------------------\n",
      "\n",
      "markov_chain         0.005\n",
      "random_walk          0.005\n",
      "tensor               0.005\n",
      "covariance_matrix    0.004\n",
      "policy               0.004\n",
      "trajectory           0.004\n",
      "state_space          0.003\n",
      "sample_size          0.003\n",
      "graphical_model      0.003\n",
      "neuron               0.003\n",
      "\n",
      "Topic 3 |---------------------\n",
      "\n",
      "regret               0.011\n",
      "gaussian_process     0.006\n",
      "bandit               0.006\n",
      "convergence_rate     0.006\n",
      "step_size            0.006\n",
      "variational_inference 0.005\n",
      "online_learning      0.004\n",
      "regret_bound         0.004\n",
      "strongly_convex      0.004\n",
      "line_search          0.004\n",
      "\n"
     ]
    }
   ],
   "source": [
    "topic_summaries = []\n",
    "print(u'{:20} {}'.format(u'term', u'frequency') + u'\\n')\n",
    "for i in range(num_topics):\n",
    "    print('Topic '+str(i)+' |---------------------\\n')\n",
    "    tmp = explore_topic(model,topic_number=i, topn=10, output=True )\n",
    "#     print tmp[:5]\n",
    "    topic_summaries += [tmp[:5]]\n",
    "    print"
   ]
  },
  {
   "cell_type": "markdown",
   "metadata": {
    "_uuid": "33ecddaa5755866ad6e9f8f7c5072859d09c27b4"
   },
   "source": [
    "From above, it's possible to inspect each topic and assign a human-interpretable label to it. Here I labeled them as follows:"
   ]
  },
  {
   "cell_type": "code",
   "execution_count": 31,
   "metadata": {
    "_uuid": "a52935b629c3b73bfb9c76536bbc00826fbb8dbe",
    "collapsed": true
   },
   "outputs": [],
   "source": [
    "top_labels = {2: 'Statistics', 1:'Numerical Analysis', 0:'Online Learning', 3:'Deep Learning'}"
   ]
  },
  {
   "cell_type": "markdown",
   "metadata": {},
   "source": [
    "## What's next?\n",
    "\n",
    "Given this topics, one may ask, which topic has been more studied or refered to since NIPS15? For this I extracted and included the citaiton informatin of NIPS'15 papers. __Citations__ are often thought of as a scientific currency that measure the success and impact of a publication by the scientific community. In the rest of this kernel I will use T-sne visualization to seperate different topics and see the citations of papers of each topic.\n"
   ]
  },
  {
   "cell_type": "code",
   "execution_count": 32,
   "metadata": {
    "_uuid": "8a88e101807551ee914967e17d542204378db86a",
    "collapsed": true
   },
   "outputs": [],
   "source": [
    "import re\n",
    "import nltk\n",
    "\n",
    "from nltk.corpus import stopwords\n",
    "\n",
    "stops = set(stopwords.words('english'))\n",
    "\n",
    "def paper_to_wordlist( paper, remove_stopwords=True ):\n",
    "    '''\n",
    "        Function converts text to a sequence of words,\n",
    "        Returns a list of words.\n",
    "    '''\n",
    "    lemmatizer = WordNetLemmatizer()\n",
    "    # 1. Remove non-letters\n",
    "    paper_text = re.sub(\"[^a-zA-Z]\",\" \", paper)\n",
    "    # 2. Convert words to lower case and split them\n",
    "    words = paper_text.lower().split()\n",
    "    # 3. Remove stop words\n",
    "    words = [w for w in words if not w in stops]\n",
    "    # 4. Remove short words\n",
    "    words = [t for t in words if len(t) > 2]\n",
    "    # 5. lemmatizing\n",
    "    words = [nltk.stem.WordNetLemmatizer().lemmatize(t) for t in words]\n",
    "\n",
    "    return(words)"
   ]
  },
  {
   "cell_type": "code",
   "execution_count": 33,
   "metadata": {
    "_uuid": "3830dfd544633111cfa445aaf44260b2f0a03b32",
    "collapsed": true
   },
   "outputs": [],
   "source": [
    "from sklearn.feature_extraction.text import TfidfVectorizer\n",
    "\n",
    "tvectorizer = TfidfVectorizer(input='content', analyzer = 'word', lowercase=True, stop_words='english',\\\n",
    "                                  tokenizer=paper_to_wordlist, ngram_range=(1, 3), min_df=40, max_df=0.20,\\\n",
    "                                  norm='l2', use_idf=True, smooth_idf=True, sublinear_tf=True)\n",
    "\n",
    "dtm = tvectorizer.fit_transform(p_df['PaperText']).toarray()"
   ]
  },
  {
   "cell_type": "code",
   "execution_count": 34,
   "metadata": {
    "_uuid": "917fb65ed246a61182d9606c6b8cd786abaef53b",
    "collapsed": true
   },
   "outputs": [],
   "source": [
    "top_dist =[]\n",
    "for d in corpus:\n",
    "    tmp = {i:0 for i in range(num_topics)}\n",
    "    tmp.update(dict(model[d]))\n",
    "    vals = list(OrderedDict(tmp).values())\n",
    "    top_dist += [array(vals)]"
   ]
  },
  {
   "cell_type": "code",
   "execution_count": 35,
   "metadata": {
    "_uuid": "7422b187c28d1f2b6da57536a866a25fe9255e24",
    "collapsed": true
   },
   "outputs": [],
   "source": [
    "top_dist, lda_keys= get_doc_topic_dist(model, corpus, True)\n",
    "features = tvectorizer.get_feature_names()"
   ]
  },
  {
   "cell_type": "code",
   "execution_count": 36,
   "metadata": {
    "_uuid": "389811cde90d4989b10b4fd18d641f9e1896b746",
    "collapsed": true
   },
   "outputs": [],
   "source": [
    "top_ws = []\n",
    "for n in range(len(dtm)):\n",
    "    inds = int0(argsort(dtm[n])[::-1][:4])\n",
    "    tmp = [features[i] for i in inds]\n",
    "    \n",
    "    top_ws += [' '.join(tmp)]\n",
    "    \n",
    "p_df['Text_Rep'] = pd.DataFrame(top_ws)\n",
    "p_df['clusters'] = pd.DataFrame(lda_keys)\n",
    "p_df['clusters'].fillna(10, inplace=True)\n",
    "\n",
    "cluster_colors = {0: 'blue', 1: 'green', 2: 'yellow', 3: 'red', 4: 'skyblue', 5:'salmon', 6:'orange', 7:'maroon', 8:'crimson', 9:'black', 10:'gray'}\n",
    "\n",
    "p_df['colors'] = p_df['clusters'].apply(lambda l: cluster_colors[l])\n",
    "p_df['marker_size'] =  p_df['Citations'].apply(lambda l: 4*log(l+1))\n"
   ]
  },
  {
   "cell_type": "code",
   "execution_count": 37,
   "metadata": {
    "_uuid": "d16af6cfc14d9b8d7d3ac9851e2d4d3ceefe0cc1",
    "collapsed": true
   },
   "outputs": [],
   "source": [
    "from sklearn.manifold import TSNE\n",
    "tsne = TSNE(n_components=2)\n",
    "X_tsne = tsne.fit_transform(top_dist)"
   ]
  },
  {
   "cell_type": "code",
   "execution_count": 38,
   "metadata": {
    "_uuid": "6e23799bea222f5acb56add0c481c1b0c82fed8b",
    "collapsed": true
   },
   "outputs": [],
   "source": [
    "p_df['X_tsne'] =X_tsne[:, 0]\n",
    "p_df['Y_tsne'] =X_tsne[:, 1]"
   ]
  },
  {
   "cell_type": "code",
   "execution_count": 39,
   "metadata": {
    "_uuid": "1f1d4ff6071ed132a4a6a68e86987e65f8bd5956",
    "collapsed": false
   },
   "outputs": [
    {
     "data": {
      "text/html": [
       "\n",
       "    <div class=\"bk-root\">\n",
       "        <a href=\"https://bokeh.pydata.org\" target=\"_blank\" class=\"bk-logo bk-logo-small bk-logo-notebook\"></a>\n",
       "        <span id=\"5b3e623e-ba99-43d2-b2f5-5fd103837482\">Loading BokehJS ...</span>\n",
       "    </div>"
      ]
     },
     "metadata": {},
     "output_type": "display_data"
    },
    {
     "data": {
      "application/javascript": [
       "\n",
       "(function(root) {\n",
       "  function now() {\n",
       "    return new Date();\n",
       "  }\n",
       "\n",
       "  var force = true;\n",
       "\n",
       "  if (typeof (root._bokeh_onload_callbacks) === \"undefined\" || force === true) {\n",
       "    root._bokeh_onload_callbacks = [];\n",
       "    root._bokeh_is_loading = undefined;\n",
       "  }\n",
       "\n",
       "  var JS_MIME_TYPE = 'application/javascript';\n",
       "  var HTML_MIME_TYPE = 'text/html';\n",
       "  var EXEC_MIME_TYPE = 'application/vnd.bokehjs_exec.v0+json';\n",
       "  var CLASS_NAME = 'output_bokeh rendered_html';\n",
       "\n",
       "  /**\n",
       "   * Render data to the DOM node\n",
       "   */\n",
       "  function render(props, node) {\n",
       "    var script = document.createElement(\"script\");\n",
       "    node.appendChild(script);\n",
       "  }\n",
       "\n",
       "  /**\n",
       "   * Handle when an output is cleared or removed\n",
       "   */\n",
       "  function handleClearOutput(event, handle) {\n",
       "    var cell = handle.cell;\n",
       "\n",
       "    var id = cell.output_area._bokeh_element_id;\n",
       "    var server_id = cell.output_area._bokeh_server_id;\n",
       "    // Clean up Bokeh references\n",
       "    if (id !== undefined) {\n",
       "      Bokeh.index[id].model.document.clear();\n",
       "      delete Bokeh.index[id];\n",
       "    }\n",
       "\n",
       "    if (server_id !== undefined) {\n",
       "      // Clean up Bokeh references\n",
       "      var cmd = \"from bokeh.io import _state; print(_state.uuid_to_server['\" + server_id + \"'].get_sessions()[0].document.roots[0]._id)\";\n",
       "      cell.notebook.kernel.execute(cmd, {\n",
       "        iopub: {\n",
       "          output: function(msg) {\n",
       "            var element_id = msg.content.text.trim();\n",
       "            Bokeh.index[element_id].model.document.clear();\n",
       "            delete Bokeh.index[element_id];\n",
       "          }\n",
       "        }\n",
       "      });\n",
       "      // Destroy server and session\n",
       "      var cmd = \"from bokeh import io; io._destroy_server('\" + server_id + \"')\";\n",
       "      cell.notebook.kernel.execute(cmd);\n",
       "    }\n",
       "  }\n",
       "\n",
       "  /**\n",
       "   * Handle when a new output is added\n",
       "   */\n",
       "  function handleAddOutput(event, handle) {\n",
       "    var output_area = handle.output_area;\n",
       "    var output = handle.output;\n",
       "\n",
       "    // limit handleAddOutput to display_data with EXEC_MIME_TYPE content only\n",
       "    if ((output.output_type != \"display_data\") || (!output.data.hasOwnProperty(EXEC_MIME_TYPE))) {\n",
       "      return\n",
       "    }\n",
       "\n",
       "    var toinsert = output_area.element.find(`.${CLASS_NAME.split(' ')[0]}`);\n",
       "\n",
       "    if (output.metadata[EXEC_MIME_TYPE][\"id\"] !== undefined) {\n",
       "      toinsert[0].firstChild.textContent = output.data[JS_MIME_TYPE];\n",
       "      // store reference to embed id on output_area\n",
       "      output_area._bokeh_element_id = output.metadata[EXEC_MIME_TYPE][\"id\"];\n",
       "    }\n",
       "    if (output.metadata[EXEC_MIME_TYPE][\"server_id\"] !== undefined) {\n",
       "      var bk_div = document.createElement(\"div\");\n",
       "      bk_div.innerHTML = output.data[HTML_MIME_TYPE];\n",
       "      var script_attrs = bk_div.children[0].attributes;\n",
       "      for (var i = 0; i < script_attrs.length; i++) {\n",
       "        toinsert[0].firstChild.setAttribute(script_attrs[i].name, script_attrs[i].value);\n",
       "      }\n",
       "      // store reference to server id on output_area\n",
       "      output_area._bokeh_server_id = output.metadata[EXEC_MIME_TYPE][\"server_id\"];\n",
       "    }\n",
       "  }\n",
       "\n",
       "  function register_renderer(events, OutputArea) {\n",
       "\n",
       "    function append_mime(data, metadata, element) {\n",
       "      // create a DOM node to render to\n",
       "      var toinsert = this.create_output_subarea(\n",
       "        metadata,\n",
       "        CLASS_NAME,\n",
       "        EXEC_MIME_TYPE\n",
       "      );\n",
       "      this.keyboard_manager.register_events(toinsert);\n",
       "      // Render to node\n",
       "      var props = {data: data, metadata: metadata[EXEC_MIME_TYPE]};\n",
       "      render(props, toinsert[0]);\n",
       "      element.append(toinsert);\n",
       "      return toinsert\n",
       "    }\n",
       "\n",
       "    /* Handle when an output is cleared or removed */\n",
       "    events.on('clear_output.CodeCell', handleClearOutput);\n",
       "    events.on('delete.Cell', handleClearOutput);\n",
       "\n",
       "    /* Handle when a new output is added */\n",
       "    events.on('output_added.OutputArea', handleAddOutput);\n",
       "\n",
       "    /**\n",
       "     * Register the mime type and append_mime function with output_area\n",
       "     */\n",
       "    OutputArea.prototype.register_mime_type(EXEC_MIME_TYPE, append_mime, {\n",
       "      /* Is output safe? */\n",
       "      safe: true,\n",
       "      /* Index of renderer in `output_area.display_order` */\n",
       "      index: 0\n",
       "    });\n",
       "  }\n",
       "\n",
       "  // register the mime type if in Jupyter Notebook environment and previously unregistered\n",
       "  if (root.Jupyter !== undefined) {\n",
       "    var events = require('base/js/events');\n",
       "    var OutputArea = require('notebook/js/outputarea').OutputArea;\n",
       "\n",
       "    if (OutputArea.prototype.mime_types().indexOf(EXEC_MIME_TYPE) == -1) {\n",
       "      register_renderer(events, OutputArea);\n",
       "    }\n",
       "  }\n",
       "\n",
       "  \n",
       "  if (typeof (root._bokeh_timeout) === \"undefined\" || force === true) {\n",
       "    root._bokeh_timeout = Date.now() + 5000;\n",
       "    root._bokeh_failed_load = false;\n",
       "  }\n",
       "\n",
       "  var NB_LOAD_WARNING = {'data': {'text/html':\n",
       "     \"<div style='background-color: #fdd'>\\n\"+\n",
       "     \"<p>\\n\"+\n",
       "     \"BokehJS does not appear to have successfully loaded. If loading BokehJS from CDN, this \\n\"+\n",
       "     \"may be due to a slow or bad network connection. Possible fixes:\\n\"+\n",
       "     \"</p>\\n\"+\n",
       "     \"<ul>\\n\"+\n",
       "     \"<li>re-rerun `output_notebook()` to attempt to load from CDN again, or</li>\\n\"+\n",
       "     \"<li>use INLINE resources instead, as so:</li>\\n\"+\n",
       "     \"</ul>\\n\"+\n",
       "     \"<code>\\n\"+\n",
       "     \"from bokeh.resources import INLINE\\n\"+\n",
       "     \"output_notebook(resources=INLINE)\\n\"+\n",
       "     \"</code>\\n\"+\n",
       "     \"</div>\"}};\n",
       "\n",
       "  function display_loaded() {\n",
       "    var el = document.getElementById(\"5b3e623e-ba99-43d2-b2f5-5fd103837482\");\n",
       "    if (el != null) {\n",
       "      el.textContent = \"BokehJS is loading...\";\n",
       "    }\n",
       "    if (root.Bokeh !== undefined) {\n",
       "      if (el != null) {\n",
       "        el.textContent = \"BokehJS \" + root.Bokeh.version + \" successfully loaded.\";\n",
       "      }\n",
       "    } else if (Date.now() < root._bokeh_timeout) {\n",
       "      setTimeout(display_loaded, 100)\n",
       "    }\n",
       "  }\n",
       "\n",
       "\n",
       "  function run_callbacks() {\n",
       "    try {\n",
       "      root._bokeh_onload_callbacks.forEach(function(callback) { callback() });\n",
       "    }\n",
       "    finally {\n",
       "      delete root._bokeh_onload_callbacks\n",
       "    }\n",
       "    console.info(\"Bokeh: all callbacks have finished\");\n",
       "  }\n",
       "\n",
       "  function load_libs(js_urls, callback) {\n",
       "    root._bokeh_onload_callbacks.push(callback);\n",
       "    if (root._bokeh_is_loading > 0) {\n",
       "      console.log(\"Bokeh: BokehJS is being loaded, scheduling callback at\", now());\n",
       "      return null;\n",
       "    }\n",
       "    if (js_urls == null || js_urls.length === 0) {\n",
       "      run_callbacks();\n",
       "      return null;\n",
       "    }\n",
       "    console.log(\"Bokeh: BokehJS not loaded, scheduling load and callback at\", now());\n",
       "    root._bokeh_is_loading = js_urls.length;\n",
       "    for (var i = 0; i < js_urls.length; i++) {\n",
       "      var url = js_urls[i];\n",
       "      var s = document.createElement('script');\n",
       "      s.src = url;\n",
       "      s.async = false;\n",
       "      s.onreadystatechange = s.onload = function() {\n",
       "        root._bokeh_is_loading--;\n",
       "        if (root._bokeh_is_loading === 0) {\n",
       "          console.log(\"Bokeh: all BokehJS libraries loaded\");\n",
       "          run_callbacks()\n",
       "        }\n",
       "      };\n",
       "      s.onerror = function() {\n",
       "        console.warn(\"failed to load library \" + url);\n",
       "      };\n",
       "      console.log(\"Bokeh: injecting script tag for BokehJS library: \", url);\n",
       "      document.getElementsByTagName(\"head\")[0].appendChild(s);\n",
       "    }\n",
       "  };var element = document.getElementById(\"5b3e623e-ba99-43d2-b2f5-5fd103837482\");\n",
       "  if (element == null) {\n",
       "    console.log(\"Bokeh: ERROR: autoload.js configured with elementid '5b3e623e-ba99-43d2-b2f5-5fd103837482' but no matching script tag was found. \")\n",
       "    return false;\n",
       "  }\n",
       "\n",
       "  var js_urls = [\"https://cdn.pydata.org/bokeh/release/bokeh-0.12.9.min.js\", \"https://cdn.pydata.org/bokeh/release/bokeh-widgets-0.12.9.min.js\", \"https://cdn.pydata.org/bokeh/release/bokeh-tables-0.12.9.min.js\", \"https://cdn.pydata.org/bokeh/release/bokeh-gl-0.12.9.min.js\"];\n",
       "\n",
       "  var inline_js = [\n",
       "    function(Bokeh) {\n",
       "      Bokeh.set_log_level(\"info\");\n",
       "    },\n",
       "    \n",
       "    function(Bokeh) {\n",
       "      \n",
       "    },\n",
       "    function(Bokeh) {\n",
       "      console.log(\"Bokeh: injecting CSS: https://cdn.pydata.org/bokeh/release/bokeh-0.12.9.min.css\");\n",
       "      Bokeh.embed.inject_css(\"https://cdn.pydata.org/bokeh/release/bokeh-0.12.9.min.css\");\n",
       "      console.log(\"Bokeh: injecting CSS: https://cdn.pydata.org/bokeh/release/bokeh-widgets-0.12.9.min.css\");\n",
       "      Bokeh.embed.inject_css(\"https://cdn.pydata.org/bokeh/release/bokeh-widgets-0.12.9.min.css\");\n",
       "      console.log(\"Bokeh: injecting CSS: https://cdn.pydata.org/bokeh/release/bokeh-tables-0.12.9.min.css\");\n",
       "      Bokeh.embed.inject_css(\"https://cdn.pydata.org/bokeh/release/bokeh-tables-0.12.9.min.css\");\n",
       "    }\n",
       "  ];\n",
       "\n",
       "  function run_inline_js() {\n",
       "    \n",
       "    if ((root.Bokeh !== undefined) || (force === true)) {\n",
       "      for (var i = 0; i < inline_js.length; i++) {\n",
       "        inline_js[i].call(root, root.Bokeh);\n",
       "      }if (force === true) {\n",
       "        display_loaded();\n",
       "      }} else if (Date.now() < root._bokeh_timeout) {\n",
       "      setTimeout(run_inline_js, 100);\n",
       "    } else if (!root._bokeh_failed_load) {\n",
       "      console.log(\"Bokeh: BokehJS failed to load within specified timeout.\");\n",
       "      root._bokeh_failed_load = true;\n",
       "    } else if (force !== true) {\n",
       "      var cell = $(document.getElementById(\"5b3e623e-ba99-43d2-b2f5-5fd103837482\")).parents('.cell').data().cell;\n",
       "      cell.output_area.append_execute_result(NB_LOAD_WARNING)\n",
       "    }\n",
       "\n",
       "  }\n",
       "\n",
       "  if (root._bokeh_is_loading === 0) {\n",
       "    console.log(\"Bokeh: BokehJS loaded, going straight to plotting\");\n",
       "    run_inline_js();\n",
       "  } else {\n",
       "    load_libs(js_urls, function() {\n",
       "      console.log(\"Bokeh: BokehJS plotting callback run at\", now());\n",
       "      run_inline_js();\n",
       "    });\n",
       "  }\n",
       "}(window));"
      ],
      "application/vnd.bokehjs_load.v0+json": "\n(function(root) {\n  function now() {\n    return new Date();\n  }\n\n  var force = true;\n\n  if (typeof (root._bokeh_onload_callbacks) === \"undefined\" || force === true) {\n    root._bokeh_onload_callbacks = [];\n    root._bokeh_is_loading = undefined;\n  }\n\n  \n\n  \n  if (typeof (root._bokeh_timeout) === \"undefined\" || force === true) {\n    root._bokeh_timeout = Date.now() + 5000;\n    root._bokeh_failed_load = false;\n  }\n\n  var NB_LOAD_WARNING = {'data': {'text/html':\n     \"<div style='background-color: #fdd'>\\n\"+\n     \"<p>\\n\"+\n     \"BokehJS does not appear to have successfully loaded. If loading BokehJS from CDN, this \\n\"+\n     \"may be due to a slow or bad network connection. Possible fixes:\\n\"+\n     \"</p>\\n\"+\n     \"<ul>\\n\"+\n     \"<li>re-rerun `output_notebook()` to attempt to load from CDN again, or</li>\\n\"+\n     \"<li>use INLINE resources instead, as so:</li>\\n\"+\n     \"</ul>\\n\"+\n     \"<code>\\n\"+\n     \"from bokeh.resources import INLINE\\n\"+\n     \"output_notebook(resources=INLINE)\\n\"+\n     \"</code>\\n\"+\n     \"</div>\"}};\n\n  function display_loaded() {\n    var el = document.getElementById(\"5b3e623e-ba99-43d2-b2f5-5fd103837482\");\n    if (el != null) {\n      el.textContent = \"BokehJS is loading...\";\n    }\n    if (root.Bokeh !== undefined) {\n      if (el != null) {\n        el.textContent = \"BokehJS \" + root.Bokeh.version + \" successfully loaded.\";\n      }\n    } else if (Date.now() < root._bokeh_timeout) {\n      setTimeout(display_loaded, 100)\n    }\n  }\n\n\n  function run_callbacks() {\n    try {\n      root._bokeh_onload_callbacks.forEach(function(callback) { callback() });\n    }\n    finally {\n      delete root._bokeh_onload_callbacks\n    }\n    console.info(\"Bokeh: all callbacks have finished\");\n  }\n\n  function load_libs(js_urls, callback) {\n    root._bokeh_onload_callbacks.push(callback);\n    if (root._bokeh_is_loading > 0) {\n      console.log(\"Bokeh: BokehJS is being loaded, scheduling callback at\", now());\n      return null;\n    }\n    if (js_urls == null || js_urls.length === 0) {\n      run_callbacks();\n      return null;\n    }\n    console.log(\"Bokeh: BokehJS not loaded, scheduling load and callback at\", now());\n    root._bokeh_is_loading = js_urls.length;\n    for (var i = 0; i < js_urls.length; i++) {\n      var url = js_urls[i];\n      var s = document.createElement('script');\n      s.src = url;\n      s.async = false;\n      s.onreadystatechange = s.onload = function() {\n        root._bokeh_is_loading--;\n        if (root._bokeh_is_loading === 0) {\n          console.log(\"Bokeh: all BokehJS libraries loaded\");\n          run_callbacks()\n        }\n      };\n      s.onerror = function() {\n        console.warn(\"failed to load library \" + url);\n      };\n      console.log(\"Bokeh: injecting script tag for BokehJS library: \", url);\n      document.getElementsByTagName(\"head\")[0].appendChild(s);\n    }\n  };var element = document.getElementById(\"5b3e623e-ba99-43d2-b2f5-5fd103837482\");\n  if (element == null) {\n    console.log(\"Bokeh: ERROR: autoload.js configured with elementid '5b3e623e-ba99-43d2-b2f5-5fd103837482' but no matching script tag was found. \")\n    return false;\n  }\n\n  var js_urls = [\"https://cdn.pydata.org/bokeh/release/bokeh-0.12.9.min.js\", \"https://cdn.pydata.org/bokeh/release/bokeh-widgets-0.12.9.min.js\", \"https://cdn.pydata.org/bokeh/release/bokeh-tables-0.12.9.min.js\", \"https://cdn.pydata.org/bokeh/release/bokeh-gl-0.12.9.min.js\"];\n\n  var inline_js = [\n    function(Bokeh) {\n      Bokeh.set_log_level(\"info\");\n    },\n    \n    function(Bokeh) {\n      \n    },\n    function(Bokeh) {\n      console.log(\"Bokeh: injecting CSS: https://cdn.pydata.org/bokeh/release/bokeh-0.12.9.min.css\");\n      Bokeh.embed.inject_css(\"https://cdn.pydata.org/bokeh/release/bokeh-0.12.9.min.css\");\n      console.log(\"Bokeh: injecting CSS: https://cdn.pydata.org/bokeh/release/bokeh-widgets-0.12.9.min.css\");\n      Bokeh.embed.inject_css(\"https://cdn.pydata.org/bokeh/release/bokeh-widgets-0.12.9.min.css\");\n      console.log(\"Bokeh: injecting CSS: https://cdn.pydata.org/bokeh/release/bokeh-tables-0.12.9.min.css\");\n      Bokeh.embed.inject_css(\"https://cdn.pydata.org/bokeh/release/bokeh-tables-0.12.9.min.css\");\n    }\n  ];\n\n  function run_inline_js() {\n    \n    if ((root.Bokeh !== undefined) || (force === true)) {\n      for (var i = 0; i < inline_js.length; i++) {\n        inline_js[i].call(root, root.Bokeh);\n      }if (force === true) {\n        display_loaded();\n      }} else if (Date.now() < root._bokeh_timeout) {\n      setTimeout(run_inline_js, 100);\n    } else if (!root._bokeh_failed_load) {\n      console.log(\"Bokeh: BokehJS failed to load within specified timeout.\");\n      root._bokeh_failed_load = true;\n    } else if (force !== true) {\n      var cell = $(document.getElementById(\"5b3e623e-ba99-43d2-b2f5-5fd103837482\")).parents('.cell').data().cell;\n      cell.output_area.append_execute_result(NB_LOAD_WARNING)\n    }\n\n  }\n\n  if (root._bokeh_is_loading === 0) {\n    console.log(\"Bokeh: BokehJS loaded, going straight to plotting\");\n    run_inline_js();\n  } else {\n    load_libs(js_urls, function() {\n      console.log(\"Bokeh: BokehJS plotting callback run at\", now());\n      run_inline_js();\n    });\n  }\n}(window));"
     },
     "metadata": {},
     "output_type": "display_data"
    }
   ],
   "source": [
    "from bokeh.plotting import figure, show, output_notebook, save#, output_file\n",
    "from bokeh.models import HoverTool, value, LabelSet, Legend, ColumnDataSource\n",
    "from bokeh.io import export_png\n",
    "output_notebook()"
   ]
  },
  {
   "cell_type": "code",
   "execution_count": 40,
   "metadata": {
    "_uuid": "27ddd00b2085860a52118d995cf7c461885cefb4",
    "collapsed": true
   },
   "outputs": [],
   "source": [
    "source = ColumnDataSource(dict(\n",
    "    x=p_df['X_tsne'],\n",
    "    y=p_df['Y_tsne'],\n",
    "    color=p_df['colors'],\n",
    "    label=p_df['clusters'].apply(lambda l: top_labels[l]),\n",
    "    msize= p_df['marker_size'],\n",
    "    title= p_df[u'Title'],\n",
    "    content = p_df['Text_Rep']\n",
    "))"
   ]
  },
  {
   "cell_type": "code",
   "execution_count": 41,
   "metadata": {
    "_uuid": "ecb9b9f46894e857788141b271be186fb8ffcb2e",
    "collapsed": false
   },
   "outputs": [
    {
     "data": {
      "text/html": [
       "\n",
       "<div class=\"bk-root\">\n",
       "    <div class=\"bk-plotdiv\" id=\"b6f779ed-a626-4309-b570-2e23165bd97d\"></div>\n",
       "</div>"
      ]
     },
     "metadata": {},
     "output_type": "display_data"
    },
    {
     "data": {
      "application/javascript": [
       "(function(root) {\n",
       "  function embed_document(root) {\n",
       "    var docs_json = {\"2802fcd9-7bd2-4014-bdd9-1a91e48431bc\":{\"roots\":{\"references\":[{\"attributes\":{\"callback\":null},\"id\":\"1be41abd-c599-4568-8cf7-d1658e94ee9e\",\"type\":\"DataRange1d\"},{\"attributes\":{\"label\":{\"field\":\"label\"},\"renderers\":[{\"id\":\"a40bde52-93f4-479b-8f53-2e038b7d28da\",\"type\":\"GlyphRenderer\"}]},\"id\":\"6affcf7f-61ea-4c9d-9fc5-a0217334673d\",\"type\":\"LegendItem\"},{\"attributes\":{\"min_border\":1,\"plot_width\":1000,\"renderers\":[{\"id\":\"7d13e247-5523-429d-8ad6-13301783b5cb\",\"type\":\"BoxAnnotation\"},{\"id\":\"6a217ccd-2414-498d-a63f-fa93d4a5b8c1\",\"type\":\"Legend\"},{\"id\":\"a40bde52-93f4-479b-8f53-2e038b7d28da\",\"type\":\"GlyphRenderer\"}],\"title\":{\"id\":\"121926bd-97ef-4177-be6d-3c320bdcc48e\",\"type\":\"Title\"},\"toolbar\":{\"id\":\"6c541cf5-dd04-4bbc-97fd-bb14b359a1a7\",\"type\":\"Toolbar\"},\"x_range\":{\"id\":\"1be41abd-c599-4568-8cf7-d1658e94ee9e\",\"type\":\"DataRange1d\"},\"x_scale\":{\"id\":\"b2c4a9f3-379a-4f8e-a5e0-abcd0432fef3\",\"type\":\"LinearScale\"},\"y_range\":{\"id\":\"4b49d884-5d85-4c37-9f98-7fd258bddfde\",\"type\":\"DataRange1d\"},\"y_scale\":{\"id\":\"83d993e0-c5ef-4495-bfd2-fc06a9d3d94d\",\"type\":\"LinearScale\"}},\"id\":\"ff63e445-aa58-4fa8-bd0e-246419c0f1b1\",\"subtype\":\"Figure\",\"type\":\"Plot\"},{\"attributes\":{},\"id\":\"f0101eaf-c84a-4465-a5d5-33f5ca4e2d08\",\"type\":\"SaveTool\"},{\"attributes\":{\"fill_alpha\":{\"value\":0.8},\"fill_color\":{\"field\":\"color\"},\"line_alpha\":{\"value\":0.8},\"line_color\":{\"field\":\"color\"},\"size\":{\"field\":\"msize\",\"units\":\"screen\"},\"x\":{\"field\":\"x\"},\"y\":{\"field\":\"y\"}},\"id\":\"87b4365a-3a18-47b1-8003-127bbb2ae841\",\"type\":\"Circle\"},{\"attributes\":{\"source\":{\"id\":\"004d044c-5b59-4a65-b851-38ae5db1b649\",\"type\":\"ColumnDataSource\"}},\"id\":\"c1f26fc5-516b-47bc-b209-7a682cd35ad1\",\"type\":\"CDSView\"},{\"attributes\":{},\"id\":\"83d993e0-c5ef-4495-bfd2-fc06a9d3d94d\",\"type\":\"LinearScale\"},{\"attributes\":{},\"id\":\"ce011115-57e6-4b21-a284-4ed104f4cdc9\",\"type\":\"WheelZoomTool\"},{\"attributes\":{\"overlay\":{\"id\":\"7d13e247-5523-429d-8ad6-13301783b5cb\",\"type\":\"BoxAnnotation\"}},\"id\":\"41234b11-2410-4b43-a705-b720244df7e2\",\"type\":\"BoxZoomTool\"},{\"attributes\":{\"plot\":null,\"text\":\"T-SNE visualization of topics\"},\"id\":\"121926bd-97ef-4177-be6d-3c320bdcc48e\",\"type\":\"Title\"},{\"attributes\":{\"callback\":null,\"column_names\":[\"content\",\"y\",\"title\",\"color\",\"x\",\"label\",\"msize\"],\"data\":{\"color\":[\"blue\",\"red\",\"red\",\"red\",\"yellow\",\"yellow\",\"red\",\"blue\",\"green\",\"blue\",\"green\",\"yellow\",\"blue\",\"blue\",\"green\",\"blue\",\"yellow\",\"yellow\",\"green\",\"yellow\",\"red\",\"green\",\"green\",\"red\",\"blue\",\"yellow\",\"green\",\"yellow\",\"green\",\"green\",\"blue\",\"red\",\"green\",\"red\",\"red\",\"yellow\",\"red\",\"yellow\",\"blue\",\"red\",\"green\",\"yellow\",\"red\",\"blue\",\"yellow\",\"blue\",\"red\",\"green\",\"red\",\"green\",\"yellow\",\"yellow\",\"yellow\",\"yellow\",\"yellow\",\"red\",\"green\",\"yellow\",\"blue\",\"red\",\"red\",\"blue\",\"blue\",\"red\",\"green\",\"yellow\",\"red\",\"blue\",\"blue\",\"blue\",\"yellow\",\"green\",\"green\",\"green\",\"red\",\"blue\",\"green\",\"blue\",\"blue\",\"green\",\"blue\",\"green\",\"blue\",\"yellow\",\"yellow\",\"blue\",\"blue\",\"red\",\"yellow\",\"green\",\"yellow\",\"yellow\",\"red\",\"blue\",\"blue\",\"green\",\"red\",\"red\",\"green\",\"red\",\"green\",\"yellow\",\"green\",\"red\",\"green\",\"yellow\",\"yellow\",\"red\",\"green\",\"yellow\",\"yellow\",\"blue\",\"blue\",\"blue\",\"red\",\"red\",\"yellow\",\"yellow\",\"blue\",\"yellow\",\"yellow\",\"blue\",\"green\",\"green\",\"green\",\"yellow\",\"green\",\"yellow\",\"red\",\"red\",\"green\",\"blue\",\"red\",\"yellow\",\"red\",\"red\",\"yellow\",\"green\",\"yellow\",\"green\",\"blue\",\"red\",\"yellow\",\"blue\",\"red\",\"red\",\"yellow\",\"blue\",\"green\",\"red\",\"blue\",\"red\",\"yellow\",\"blue\",\"green\",\"blue\",\"green\",\"red\",\"yellow\",\"red\",\"yellow\",\"red\",\"yellow\",\"yellow\",\"red\",\"green\",\"green\",\"green\",\"yellow\",\"yellow\",\"red\",\"red\",\"blue\",\"green\",\"blue\",\"blue\",\"red\",\"yellow\",\"blue\",\"blue\",\"red\",\"yellow\",\"red\",\"red\",\"yellow\",\"yellow\",\"yellow\",\"green\",\"yellow\",\"red\",\"yellow\",\"red\",\"yellow\",\"yellow\",\"red\",\"green\",\"blue\",\"yellow\",\"red\",\"blue\",\"red\",\"blue\",\"green\",\"green\",\"green\",\"green\",\"yellow\",\"blue\",\"green\",\"yellow\",\"blue\",\"blue\",\"yellow\",\"green\",\"blue\",\"blue\",\"blue\",\"yellow\",\"red\",\"yellow\",\"green\",\"yellow\",\"yellow\",\"green\",\"blue\",\"red\",\"yellow\",\"green\",\"blue\",\"green\",\"yellow\",\"red\",\"blue\",\"blue\",\"red\",\"yellow\",\"yellow\",\"yellow\",\"red\",\"yellow\",\"blue\",\"red\",\"green\",\"red\",\"blue\",\"blue\",\"green\",\"blue\",\"blue\",\"red\",\"yellow\",\"yellow\",\"red\",\"yellow\",\"green\",\"red\",\"yellow\",\"red\",\"blue\",\"green\",\"yellow\",\"blue\",\"red\",\"green\",\"red\",\"yellow\",\"yellow\",\"yellow\",\"green\",\"yellow\",\"green\",\"green\",\"red\",\"green\",\"yellow\",\"yellow\",\"yellow\",\"green\",\"yellow\",\"yellow\",\"red\",\"green\",\"yellow\",\"red\",\"yellow\",\"blue\",\"green\",\"yellow\",\"yellow\",\"green\",\"red\",\"red\",\"red\",\"blue\",\"yellow\",\"red\",\"green\",\"green\",\"blue\",\"blue\",\"blue\",\"red\",\"red\",\"green\",\"blue\",\"yellow\",\"green\",\"blue\",\"green\",\"green\",\"red\",\"yellow\",\"yellow\",\"blue\",\"red\",\"red\",\"green\",\"yellow\",\"blue\",\"blue\",\"yellow\",\"blue\",\"yellow\",\"red\",\"blue\",\"yellow\",\"green\",\"green\",\"green\",\"green\",\"red\",\"green\",\"yellow\",\"blue\",\"yellow\",\"blue\",\"green\",\"red\",\"blue\",\"yellow\",\"green\",\"green\",\"blue\",\"blue\",\"yellow\",\"green\",\"yellow\",\"blue\",\"red\",\"yellow\",\"red\",\"blue\",\"blue\",\"yellow\",\"blue\",\"green\",\"green\",\"red\",\"yellow\",\"green\",\"yellow\",\"red\",\"yellow\",\"blue\",\"green\",\"yellow\",\"yellow\",\"blue\",\"red\",\"red\",\"green\",\"red\",\"red\",\"red\",\"red\",\"yellow\",\"red\",\"red\",\"blue\",\"yellow\",\"green\",\"blue\",\"yellow\",\"blue\",\"red\",\"green\",\"blue\",\"red\",\"blue\",\"yellow\",\"green\",\"yellow\",\"green\",\"green\",\"red\",\"green\",\"red\",\"yellow\",\"yellow\",\"red\",\"yellow\",\"yellow\",\"green\"],\"content\":[\"mechanism answer confidence multiplicative\",\"robustness learner svm equivalence\",\"stability vol training example parametric\",\"dirichlet mixture model concentration hyperparameters\",\"covariance matrix article maintaining letter\",\"covariance matrix rate convergence tail oracle\",\"leaf logarithmic pure left right\",\"segmentation closest plane vertex\",\"retrieval post recurrent query\",\"vertex round item permutation\",\"proposal box shared convolutional\",\"manifold embeddings embedding euclidean\",\"svd descent algorithm retrieval jain\",\"real valued utility cover feedback\",\"physical video physic mass\",\"item sample complexity pseudo price\",\"neuron trial population stationary\",\"manifold digit locally low dimensional\",\"color pixel fold end end\",\"ranking item stationary pairwise\",\"sgd step size gaussian process mnist\",\"recurrent list hidden unit hidden layer\",\"grid ground truth convolutional social\",\"regret learner expert reward\",\"law eigenvalue polynomial time orthogonal\",\"sampler boundary step size biased\",\"video resolution convolution recurrent\",\"moment concave hybrid mode\",\"embedding embeddings parametric auxiliary\",\"convolutional convolutional neural network convolutional neural spatial\",\"averaging auxiliary communication propagation\",\"identification dirichlet mixture model central\",\"svm white category ball\",\"soft subgradient accelerated relaxation\",\"regret retrieval confidence existence\",\"smoothing manifold principal green\",\"svm biased ranking conjugate\",\"trajectory policy reinforcement learning reinforcement\",\"orthogonal factorization svd pca\",\"regret greedy reward maximal\",\"segmentation extra semantic feature vector\",\"neuron posterior distribution stationary inherent\",\"accelerated gradient method critical convergence rate\",\"pca principal component sketch principal\",\"functional nonparametric expansion theoretic\",\"round singular value singular reconstruction\",\"non convex kdd supplement cpu\",\"proposal box overlap plane\",\"regret budget reward boundary\",\"fully connected hidden unit number parameter convolutional\",\"mcmc partitioning sampler smoothing\",\"shared segment brain functional\",\"cell biological root mark\",\"backward greedy reward trajectory\",\"moment mixture model gaussians kakade\",\"width away strongly convex oracle\",\"recurrent neural network recurrent neural interaction recurrent\",\"moment document dirichlet component analysis\",\"sensing retrieval low rank rank matrix\",\"marginals solver vertex iterates\",\"mixing stationary sup exp exp\",\"svd embedding embeddings pairwise\",\"alternating oracle completion rank matrix\",\"variational inference automatic mixture model dirichlet\",\"speech mechanism content recurrent\",\"regression model closed form thresholding exponential family\",\"learner pas online learning regret\",\"item ranking pairwise marginals\",\"diverse energy segmentation ordered\",\"vertex width cover polynomial time\",\"ordering undirected directed vol\",\"boltzmann hidden unit expansion epoch\",\"article convolutional corpus language processing\",\"discriminative brain proposed method labeled\",\"partitioning regret smoothness cell\",\"vertex community recovery regime\",\"momentum communication imagenet moving\",\"greedy item vertex disjoint\",\"oracle query weak false\",\"globally margin classification problem time complexity\",\"recovery thresholding solver dense\",\"embeddings embedding learner ensemble\",\"truncated retrieval kxk flow\",\"trajectory population gaussian process cause\",\"subspace inner product counterpart segmentation\",\"pca vol disjoint extracted\",\"leverage bach running time low rank\",\"regret policy round strongly convex\",\"neuron diag filter moment\",\"flow cell convolutional digit\",\"logistic regression solver regularization parameter radius\",\"boltzmann calculation probabilistic model normalization\",\"stat digit gaussian process modelling\",\"precision false segment figure left\",\"budget greedy cover allocation\",\"missing mcmc recurrent neural network recurrent neural\",\"mini accelerated strongly convex maxi\",\"mixing strongly convex markov chain mcmc\",\"hessian recurrent neural network recurrent neural recurrent\",\"predictor fold minimax proper\",\"resolution translation convolutional convolutional neural network\",\"manifold mixture model euclidean convexity\",\"embeddings embedding convolution error rate\",\"grid cpu depth recursive\",\"labeling recurrent convolutional pixel\",\"leaf assignment store conditioning\",\"mcmc markov chain flow exponential family\",\"resource regret allocation confidence\",\"shape learner unsupervised solver\",\"neuron recurrent balance feedback\",\"sketch gibbs moment latent variable model\",\"subspace gibbs utility sampler\",\"margin ranking document learner\",\"characterization embedding embeddings geometric\",\"sgd ranking computational cost estimation error\",\"vertex sample complexity reward round\",\"brain dot trial neuron\",\"bayes discriminative naive logistic regression\",\"round closest counterpart assigned\",\"walk list semantic item\",\"rate convergence precision frobenius estimation error\",\"fisher linear model query convergence rate\",\"pose recurrent face manifold\",\"softmax cpu hidden layer backpropagation\",\"neuron backpropagation vol ensemble\",\"zhu formed flow fold\",\"fully connected neuron bit imagenet\",\"compact characteristic vol rate convergence\",\"population dirichlet held variational inference\",\"integration integral posterior distribution model selection\",\"recurrent neural network recurrent neural recurrent model trained\",\"completion width estimation error sample complexity\",\"sun regularizer definite unconstrained\",\"proposal segmentation sampler dirichlet\",\"mcmc concave moment bayes\",\"hessian convergence rate second order step size\",\"nearest neighbor query sensitive\",\"video manifold temporal locally\",\"walk mixing ball box\",\"manifold pose query embedding\",\"hessian completion vol retrieval\",\"round regret feedback online learning\",\"leaf solver depth iii\",\"vertex perfect auxiliary vol\",\"item regret factorization cumulative\",\"journal optimization unconstrained stanford hessian\",\"permutation proc formula ordering\",\"greedy event strength confidence\",\"robustness transform transformed face\",\"regret reward treatment outcome\",\"ensemble game predictor leaf\",\"regret feedback minimax learner\",\"differential vertex nonparametric maximal\",\"proposal box greedy bounding\",\"hessian backpropagation variational inference auto\",\"singular singular value frobenius svd\",\"proposed method embeddings document embedding\",\"gaussian process error rate variational inference gaussians\",\"markov chain walk max max trajectory\",\"proposal wainwright pairwise confidence\",\"exponential family mcmc gibbs formula\",\"item regret reward combinatorial\",\"mixing markov chain confidence stationary\",\"policy formula trajectory sensitive\",\"concave stability strongly convex minimizer\",\"resolution model trained conditioning boltzmann\",\"segmentation semantic activation pixel\",\"hessian sgd non convex mnist\",\"environment shift strength covariance matrix\",\"perturbation policy budget robustness\",\"epoch linear regression fraction kxk\",\"environment hyper learner posterior distribution\",\"bit link compressed sensing\",\"invariant integration vol sample complexity\",\"estimation error mixed regularizer linear regression\",\"history stochastic optimization policy recursive\",\"locally convex function sgd lipschitz\",\"filtering coding population neuron\",\"pca relaxation moment principal component\",\"majority margin discriminative error rate\",\"stopping epoch inf iterates\",\"walk vertex geometric kxk\",\"gaussian process mcmc sampler gibbs\",\"leverage model selection statistical learning regularization parameter\",\"inference algorithm markov chain state space trajectory\",\"regularization parameter option grid support vector\",\"environment neuron spatial reward\",\"query document reader corpus\",\"projected relaxation population subgradient\",\"policy filter belief claim\",\"vertex directed mixed undirected\",\"leaf depth greedy augmented\",\"manifold video gaussian process missing\",\"reward expert trajectory segment\",\"round communication strongly convex convex function\",\"discriminative gibbs document dirichlet\",\"greedy decay bit zhou\",\"self normalization linear model characterization\",\"regret game learner round\",\"ranking proc social dot\",\"non linear proc closer link\",\"rank matrix pca low rank completion\",\"recurrent translation strength scalar\",\"margin discriminative missing subgradient\",\"positive definite transform compact definite\",\"projected coding reconstruction hidden unit\",\"identification ordering list independence\",\"completion rank matrix low rank lipschitz\",\"retrieval style embedding margin\",\"sampler gibbs mcmc mixture model\",\"item greedy partitioning vertex\",\"item rank matrix ranking low rank\",\"spatial frequency stationary width\",\"pixel neighborhood recurrent ensemble\",\"compressed low rank missing pca\",\"mixing gibbs sampler state space\",\"event link evolution social\",\"linear regression filtering moment history\",\"regret game history calculate\",\"characteristic analytic embeddings frequency\",\"proposal segmentation box pixel\",\"spectrum gaussian process frequency brain\",\"bit differential communication symposium\",\"spatial digit grid transformed\",\"critical radius inf tight\",\"svm margin vol structural\",\"neuron vol population trial\",\"digit semantic segmentation ground truth\",\"bit kxk sensing compressed\",\"fisher sgd conditioning normalization\",\"population ball mcmc manifold\",\"iterates scaled adapt hybrid\",\"document proportion variational inference dirichlet\",\"completion multiplication factorization rank matrix\",\"regret reward combinatorial feedback\",\"environment reward internal reinforcement learning\",\"smoothing walk compressed event\",\"regret min max oracle competitive\",\"policy budget leaf reward\",\"sampler hybrid mass biased\",\"query ensemble runtime coding\",\"smoothness svm locally ball\",\"pixel segmentation spatial theoretic\",\"regret perturbation penalty learner\",\"width sample complexity estimation error recovery\",\"embeddings vertex embedding mnist\",\"feature vector convolutional depth convolutional neural\",\"partitioning round segmentation greedy\",\"query answer supplement compact\",\"mixed support vector convergence rate grow\",\"formula vol dirichlet distinguish\",\"neuron principal thresholding eigenvalue\",\"step size mcmc invariant backward\",\"exponential family random field neighborhood undirected\",\"answer embedding translation content\",\"sgd epoch step size neighborhood\",\"integral policy trial trajectory\",\"approximating propagation gaussians moment\",\"concave relaxation cover tight\",\"pca subspace mini component analysis\",\"differential query data analysis overfitting\",\"price utility belief budget\",\"augmented iterates solver projected\",\"depth transform deep network mnist\",\"model selection gaussian process hyperparameters frequency\",\"sampler gibbs mixing state space\",\"manifold trajectory shift mcmc\",\"reward confidence trial dot\",\"sgd regularizer geometry invariant\",\"article sign predictor non zero\",\"softmax embedding answer recurrent\",\"frequency filter spatial conjugate\",\"regret learner base online learning\",\"hidden layer temporal recurrent belief\",\"cell electrical identification completion\",\"vol trial internal recovers\",\"spectrum physical resolution energy\",\"configuration software detect researcher\",\"cause independence identified directed\",\"latent variable model variable model rate convergence low dimensional\",\"price regret round game\",\"face neuron pose light\",\"low rank mode recovery rank matrix\",\"minimax regret round game\",\"differential running time sample size synthetic data\",\"sample complexity uci lipschitz nearest\",\"recurrent resolution proposal reinforcement learning\",\"error bound regularization parameter random field frobenius\",\"mixing markov chain sample size vol\",\"missing frobenius alternating ground truth\",\"proposal recurrent recurrent neural network recurrent neural\",\"variational inference gibbs mnist integration\",\"epoch iterate step size sgd\",\"query web embedding answer\",\"frequency recovery resolution minimal\",\"sgd precision non convex bit\",\"dot discriminative run time page ieee\",\"softmax mechanism input output combinatorial\",\"recovery store kxk subspace\",\"gibbs factorization corpus non negative\",\"vertex solver hessian minimizer\",\"game item precision ranking\",\"shared agarwal convergence rate mainly\",\"trajectory locally non linear reconstruction\",\"query epoch hyper parameter regret\",\"soft state space plan reinforcement learning\",\"corpus web ensemble google\",\"oracle recovery low rank covariance matrix\",\"convolutional filter hidden unit mnist\",\"dirichlet corpus document mcmc\",\"regret depth optimization method iii\",\"reward policy reinforcement learning reinforcement\",\"relaxation semantic relaxed translation\",\"vertex assignment singular running time\",\"accelerated trajectory interpretation differential\",\"gaussian process learner ranking covariance matrix\",\"game recurrent encoding video\",\"recovery gaussian noise recovering fourth\",\"round utility cover greedy\",\"community overlapping walk vertex\",\"state space reward base reinforcement learning\",\"width sign ball sup\",\"sampler mcmc stationary supplement\",\"regret self averaging perturbation\",\"vertex game flow labeled\",\"policy trajectory environment reward\",\"answer color vol embeddings\",\"auto ensemble hyperparameters configuration\",\"boltzmann euclidean sgd mnist\",\"modelling speech recurrent recurrent neural network\",\"regret game utility item\",\"segmentation pixel brain fully connected\",\"momentum boundary trajectory tuned\",\"neighbor link dense regime\",\"differential width vertex mechanism\",\"price outcome subspace belief\",\"hidden unit width hidden layer dirichlet\",\"hessian convergence rate eigenvalue sgd\",\"game regret price correlated\",\"universal hilbert space hilbert treatment\",\"recurrent document labeled error rate\",\"diag multiplication false sharing\",\"width gibbs mixing polynomial time\",\"subspace mode singular gaussian noise\",\"policy robustness environment trajectory\",\"regularizer backward propagation mnist\",\"trajectory policy feedback physical\",\"unconstrained diverse cardinality document\",\"universal vol accelerated gradient method\",\"ordering correctly examine greedy\",\"regret learner exploration game\",\"singular low rank pas singular value\",\"time step polynomial time sample complexity social\",\"directed undirected vol vertex\",\"oracle query concave convex function\",\"library gibbs document boundary\",\"gibbs embeddings dirichlet scalability\",\"overfitting feedback self policy\",\"formula equivalence assignment cell\",\"policy trajectory primary directed\",\"bayes strictly characterization link\",\"exp exp uai supplement log exp\",\"marginals twice feature vector stanford\",\"eigenvalue recovery grow community\",\"thought semantic translation corpus\",\"loop directed stopping compressed\",\"principal pca principal component color\",\"utility population averaging bayes\",\"regret gaussian process mcmc greedy\",\"mixing regret reward stationary\",\"brain logistic regression hidden layer reconstruction\",\"gaussian process random field spatial event\",\"tail detect post random field\",\"expert regret sup oracle\",\"strongly convex accelerated convergence rate rate convergence\",\"realization variational inference pseudo gaussian process\",\"conjugate variational inference diag geometry\",\"oracle smoothing enjoys sec\",\"regularizer precise non linear sign\",\"walk vertex neighborhood neighbor\",\"sgd mcmc hyper parameter precision\",\"completion sample complexity item recovery\",\"gibbs correlated auxiliary dirichlet\",\"query game utility stanford\",\"event confidence marginals margin\",\"segmentation pixel labeling neuron\",\"item event temporal history\",\"white gaussian process filter convolution\",\"price mechanism query exponential family\",\"formula proc canonical equality\",\"reinforcement learning reinforcement backpropagation surrogate\",\"surrogate policy reward considerably\",\"supervised learning mnist cost function unsupervised\",\"margin assignment embedding arg max\",\"variational inference factorization gaussians augmented\",\"recursive boundary segmentation dense\",\"augmented strongly convex solver regularizer\",\"sample complexity vol concave independence\",\"vol soft structural functional\",\"proposal belief exponential family propagation\",\"energy population modelling summary\",\"logistic regression radius ball confidence\",\"variational inference epoch activation trick\"],\"label\":[\"Online Learning\",\"Deep Learning\",\"Deep Learning\",\"Deep Learning\",\"Statistics\",\"Statistics\",\"Deep Learning\",\"Online Learning\",\"Numerical Analysis\",\"Online Learning\",\"Numerical Analysis\",\"Statistics\",\"Online Learning\",\"Online Learning\",\"Numerical Analysis\",\"Online Learning\",\"Statistics\",\"Statistics\",\"Numerical Analysis\",\"Statistics\",\"Deep Learning\",\"Numerical Analysis\",\"Numerical Analysis\",\"Deep Learning\",\"Online Learning\",\"Statistics\",\"Numerical Analysis\",\"Statistics\",\"Numerical Analysis\",\"Numerical Analysis\",\"Online Learning\",\"Deep Learning\",\"Numerical Analysis\",\"Deep Learning\",\"Deep Learning\",\"Statistics\",\"Deep Learning\",\"Statistics\",\"Online Learning\",\"Deep Learning\",\"Numerical Analysis\",\"Statistics\",\"Deep Learning\",\"Online Learning\",\"Statistics\",\"Online Learning\",\"Deep Learning\",\"Numerical Analysis\",\"Deep Learning\",\"Numerical Analysis\",\"Statistics\",\"Statistics\",\"Statistics\",\"Statistics\",\"Statistics\",\"Deep Learning\",\"Numerical Analysis\",\"Statistics\",\"Online Learning\",\"Deep Learning\",\"Deep Learning\",\"Online Learning\",\"Online Learning\",\"Deep Learning\",\"Numerical Analysis\",\"Statistics\",\"Deep Learning\",\"Online Learning\",\"Online Learning\",\"Online Learning\",\"Statistics\",\"Numerical Analysis\",\"Numerical Analysis\",\"Numerical Analysis\",\"Deep Learning\",\"Online Learning\",\"Numerical Analysis\",\"Online Learning\",\"Online Learning\",\"Numerical Analysis\",\"Online Learning\",\"Numerical Analysis\",\"Online Learning\",\"Statistics\",\"Statistics\",\"Online Learning\",\"Online Learning\",\"Deep Learning\",\"Statistics\",\"Numerical Analysis\",\"Statistics\",\"Statistics\",\"Deep Learning\",\"Online Learning\",\"Online Learning\",\"Numerical Analysis\",\"Deep Learning\",\"Deep Learning\",\"Numerical Analysis\",\"Deep Learning\",\"Numerical Analysis\",\"Statistics\",\"Numerical Analysis\",\"Deep Learning\",\"Numerical Analysis\",\"Statistics\",\"Statistics\",\"Deep Learning\",\"Numerical Analysis\",\"Statistics\",\"Statistics\",\"Online Learning\",\"Online Learning\",\"Online Learning\",\"Deep Learning\",\"Deep Learning\",\"Statistics\",\"Statistics\",\"Online Learning\",\"Statistics\",\"Statistics\",\"Online Learning\",\"Numerical Analysis\",\"Numerical Analysis\",\"Numerical Analysis\",\"Statistics\",\"Numerical Analysis\",\"Statistics\",\"Deep Learning\",\"Deep Learning\",\"Numerical Analysis\",\"Online Learning\",\"Deep Learning\",\"Statistics\",\"Deep Learning\",\"Deep Learning\",\"Statistics\",\"Numerical Analysis\",\"Statistics\",\"Numerical Analysis\",\"Online Learning\",\"Deep Learning\",\"Statistics\",\"Online Learning\",\"Deep Learning\",\"Deep Learning\",\"Statistics\",\"Online Learning\",\"Numerical Analysis\",\"Deep Learning\",\"Online Learning\",\"Deep Learning\",\"Statistics\",\"Online Learning\",\"Numerical Analysis\",\"Online Learning\",\"Numerical Analysis\",\"Deep Learning\",\"Statistics\",\"Deep Learning\",\"Statistics\",\"Deep Learning\",\"Statistics\",\"Statistics\",\"Deep Learning\",\"Numerical Analysis\",\"Numerical Analysis\",\"Numerical Analysis\",\"Statistics\",\"Statistics\",\"Deep Learning\",\"Deep Learning\",\"Online Learning\",\"Numerical Analysis\",\"Online Learning\",\"Online Learning\",\"Deep Learning\",\"Statistics\",\"Online Learning\",\"Online Learning\",\"Deep Learning\",\"Statistics\",\"Deep Learning\",\"Deep Learning\",\"Statistics\",\"Statistics\",\"Statistics\",\"Numerical Analysis\",\"Statistics\",\"Deep Learning\",\"Statistics\",\"Deep Learning\",\"Statistics\",\"Statistics\",\"Deep Learning\",\"Numerical Analysis\",\"Online Learning\",\"Statistics\",\"Deep Learning\",\"Online Learning\",\"Deep Learning\",\"Online Learning\",\"Numerical Analysis\",\"Numerical Analysis\",\"Numerical Analysis\",\"Numerical Analysis\",\"Statistics\",\"Online Learning\",\"Numerical Analysis\",\"Statistics\",\"Online Learning\",\"Online Learning\",\"Statistics\",\"Numerical Analysis\",\"Online Learning\",\"Online Learning\",\"Online Learning\",\"Statistics\",\"Deep Learning\",\"Statistics\",\"Numerical Analysis\",\"Statistics\",\"Statistics\",\"Numerical Analysis\",\"Online Learning\",\"Deep Learning\",\"Statistics\",\"Numerical Analysis\",\"Online Learning\",\"Numerical Analysis\",\"Statistics\",\"Deep Learning\",\"Online Learning\",\"Online Learning\",\"Deep Learning\",\"Statistics\",\"Statistics\",\"Statistics\",\"Deep Learning\",\"Statistics\",\"Online Learning\",\"Deep Learning\",\"Numerical Analysis\",\"Deep Learning\",\"Online Learning\",\"Online Learning\",\"Numerical Analysis\",\"Online Learning\",\"Online Learning\",\"Deep Learning\",\"Statistics\",\"Statistics\",\"Deep Learning\",\"Statistics\",\"Numerical Analysis\",\"Deep Learning\",\"Statistics\",\"Deep Learning\",\"Online Learning\",\"Numerical Analysis\",\"Statistics\",\"Online Learning\",\"Deep Learning\",\"Numerical Analysis\",\"Deep Learning\",\"Statistics\",\"Statistics\",\"Statistics\",\"Numerical Analysis\",\"Statistics\",\"Numerical Analysis\",\"Numerical Analysis\",\"Deep Learning\",\"Numerical Analysis\",\"Statistics\",\"Statistics\",\"Statistics\",\"Numerical Analysis\",\"Statistics\",\"Statistics\",\"Deep Learning\",\"Numerical Analysis\",\"Statistics\",\"Deep Learning\",\"Statistics\",\"Online Learning\",\"Numerical Analysis\",\"Statistics\",\"Statistics\",\"Numerical Analysis\",\"Deep Learning\",\"Deep Learning\",\"Deep Learning\",\"Online Learning\",\"Statistics\",\"Deep Learning\",\"Numerical Analysis\",\"Numerical Analysis\",\"Online Learning\",\"Online Learning\",\"Online Learning\",\"Deep Learning\",\"Deep Learning\",\"Numerical Analysis\",\"Online Learning\",\"Statistics\",\"Numerical Analysis\",\"Online Learning\",\"Numerical Analysis\",\"Numerical Analysis\",\"Deep Learning\",\"Statistics\",\"Statistics\",\"Online Learning\",\"Deep Learning\",\"Deep Learning\",\"Numerical Analysis\",\"Statistics\",\"Online Learning\",\"Online Learning\",\"Statistics\",\"Online Learning\",\"Statistics\",\"Deep Learning\",\"Online Learning\",\"Statistics\",\"Numerical Analysis\",\"Numerical Analysis\",\"Numerical Analysis\",\"Numerical Analysis\",\"Deep Learning\",\"Numerical Analysis\",\"Statistics\",\"Online Learning\",\"Statistics\",\"Online Learning\",\"Numerical Analysis\",\"Deep Learning\",\"Online Learning\",\"Statistics\",\"Numerical Analysis\",\"Numerical Analysis\",\"Online Learning\",\"Online Learning\",\"Statistics\",\"Numerical Analysis\",\"Statistics\",\"Online Learning\",\"Deep Learning\",\"Statistics\",\"Deep Learning\",\"Online Learning\",\"Online Learning\",\"Statistics\",\"Online Learning\",\"Numerical Analysis\",\"Numerical Analysis\",\"Deep Learning\",\"Statistics\",\"Numerical Analysis\",\"Statistics\",\"Deep Learning\",\"Statistics\",\"Online Learning\",\"Numerical Analysis\",\"Statistics\",\"Statistics\",\"Online Learning\",\"Deep Learning\",\"Deep Learning\",\"Numerical Analysis\",\"Deep Learning\",\"Deep Learning\",\"Deep Learning\",\"Deep Learning\",\"Statistics\",\"Deep Learning\",\"Deep Learning\",\"Online Learning\",\"Statistics\",\"Numerical Analysis\",\"Online Learning\",\"Statistics\",\"Online Learning\",\"Deep Learning\",\"Numerical Analysis\",\"Online Learning\",\"Deep Learning\",\"Online Learning\",\"Statistics\",\"Numerical Analysis\",\"Statistics\",\"Numerical Analysis\",\"Numerical Analysis\",\"Deep Learning\",\"Numerical Analysis\",\"Deep Learning\",\"Statistics\",\"Statistics\",\"Deep Learning\",\"Statistics\",\"Statistics\",\"Numerical Analysis\"],\"msize\":{\"__ndarray__\":\"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\",\"dtype\":\"float64\",\"shape\":[403]},\"title\":[\"Double or Nothing: Multiplicative Incentive Mechanisms for Crowdsourcing\",\"Learning with Symmetric Label Noise: The Importance of Being Unhinged\",\"Algorithmic Stability and Uniform Generalization\",\"Adaptive Low-Complexity Sequential Inference for Dirichlet Process Mixture Models\",\"Covariance-Controlled Adaptive Langevin Thermostat for Large-Scale Bayesian Sampling\",\"Robust Portfolio Optimization\",\"Logarithmic Time Online Multiclass prediction\",\"Planar Ultrametrics for Image Segmentation\",\"Expressing an Image Stream with a Sequence of Natural Sentences\",\"Parallel Correlation Clustering on Big Graphs\",\"Faster R-CNN: Towards Real-Time Object Detection with Region Proposal Networks\",\"Space-Time Local Embeddings\",\"A Convergent Gradient Descent Algorithm for Rank Minimization and Semidefinite Programming from Random Linear Measurements\",\"Smooth Interactive Submodular Set Cover\",\"Galileo: Perceiving Physical Object Properties by Integrating a Physics Engine with Deep Learning\",\"On the Pseudo-Dimension of Nearly Optimal Auctions\",\"Unlocking neural population non-stationarities using hierarchical dynamics models\",\"Bayesian Manifold Learning: The Locally Linear Latent Variable Model (LL-LVM)\",\"Color Constancy by Learning to Predict Chromaticity from Luminance\",\"Fast and Accurate Inference of Plackett\\u2013Luce Models\",\"Probabilistic Line Searches for Stochastic Optimization\",\"Inferring Algorithmic Patterns with Stack-Augmented Recurrent Nets\",\"Where are they looking?\",\"The Pareto Regret Frontier for Bandits\",\"On the Limitation of Spectral Methods: From the Gaussian Hidden Clique Problem to Rank-One Perturbations of Gaussian Tensors\",\"Measuring Sample Quality with Stein's Method\",\"Bidirectional Recurrent Convolutional Networks for Multi-Frame Super-Resolution\",\"Bounding errors of Expectation-Propagation\",\"A fast, universal algorithm to learn parametric nonlinear embeddings\",\"Texture Synthesis Using Convolutional Neural Networks\",\"Extending Gossip Algorithms to Distributed Estimation of U-statistics\",\"Streaming, Distributed Variational Inference for Bayesian Nonparametrics\",\"Learning visual biases from human imagination\",\"Smooth and Strong: MAP Inference with Linear Convergence\",\"Copeland Dueling Bandits\",\"Optimal Ridge Detection using Coverage Risk\",\"Top-k Multiclass SVM\",\"Policy Evaluation Using the \\u03a9-Return\",\"Orthogonal NMF through Subspace Exploration\",\"Stochastic Online Greedy Learning with Semi-bandit Feedbacks\",\"Deeply Learning the Messages in Message Passing Inference\",\"Synaptic Sampling: A Bayesian Approach to Neural Network Plasticity and Rewiring\",\"Accelerated Proximal Gradient Methods for Nonconvex Programming\",\"Approximating Sparse PCA from Incomplete Data\",\"Nonparametric von Mises Estimators for Entropies, Divergences and Mutual Informations\",\"Column Selection via Adaptive Sampling\",\"HONOR: Hybrid Optimization for NOn-convex Regularized problems\",\"3D Object Proposals for Accurate Object Class Detection\",\"Algorithms with Logarithmic or Sublinear Regret for  Constrained Contextual Bandits\",\"Tensorizing Neural Networks\",\"Parallelizing MCMC with Random Partition Trees\",\"A Reduced-Dimension fMRI Shared Response Model\",\"Spectral Learning of Large Structured HMMs for Comparative Epigenomics\",\"Individual Planning in Infinite-Horizon Multiagent Settings: Inference, Structure and Scalability\",\"Estimating Mixture Models via Mixtures of Polynomials\",\"On the Global Linear Convergence of Frank-Wolfe Optimization Variants\",\"Deep Knowledge Tracing\",\"Rethinking LDA: Moment Matching for Discrete ICA\",\"Efficient Compressive Phase Retrieval with Constrained Sensing Vectors\",\"Barrier Frank-Wolfe for Marginal Inference\",\"Learning Theory and Algorithms for Forecasting Non-stationary Time Series\",\"Compressive spectral embedding: sidestepping the SVD\",\"A Nonconvex Optimization Framework for Low Rank Matrix Estimation\",\"Automatic Variational Inference in Stan\",\"Attention-Based Models for Speech Recognition\",\"Closed-form Estimators for High-dimensional Generalized Linear Models\",\"Online F-Measure Optimization\",\"Online Rank Elicitation for Plackett-Luce: A Dueling Bandits Approach\",\"M-Best-Diverse Labelings for Submodular Energies and Beyond\",\"Tractable Bayesian Network Structure Learning with Bounded Vertex Cover Number\",\"Learning Large-Scale Poisson DAG Models based on OverDispersion Scoring\",\"Training Restricted Boltzmann Machine via the \\ufffcThouless-Anderson-Palmer free energy\",\"Character-level Convolutional Networks for Text Classification\",\"Robust Feature-Sample Linear Discriminant Analysis for Brain Disorders Diagnosis\",\"Black-box optimization of noisy functions with unknown smoothness\",\"Recovering Communities in the General Stochastic Block Model Without Knowing the Parameters\",\"Deep learning with Elastic Averaging SGD\",\"Monotone k-Submodular Function Maximization with Size Constraints\",\"Active Learning from Weak and Strong Labelers\",\"On the Optimality of Classifier Chain for Multi-label Classification\",\"Robust Regression via Hard Thresholding\",\"Sparse Local Embeddings for Extreme Multi-label Classification\",\"Solving Random Quadratic Systems of Equations Is Nearly as Easy as Solving Linear Systems\",\"A Framework for Individualizing Predictions of Disease Trajectories by Exploiting Multi-Resolution Structure\",\"Subspace Clustering with Irrelevant Features via Robust Dantzig Selector\",\"Sparse PCA via Bipartite Matchings\",\"Fast Randomized Kernel Ridge Regression with Statistical Guarantees\",\"Online Learning for Adversaries with Memory: Price of Past Mistakes\",\"Convolutional spike-triggered covariance analysis for neural subunit models\",\"Convolutional LSTM Network: A Machine Learning Approach for Precipitation Nowcasting\",\"GAP Safe screening rules for sparse multi-task and multi-class models\",\"Empirical Localization of Homogeneous Divergences on Discrete Sample Spaces\",\"Statistical Model Criticism using Kernel Two Sample Tests\",\"Precision-Recall-Gain Curves: PR Analysis Done Right\",\"A Generalization of Submodular Cover via the Diminishing Return Property on the Integer Lattice\",\"Bidirectional Recurrent Neural Networks as Generative Models\",\"Quartz: Randomized Dual Coordinate Ascent with Arbitrary Sampling\",\"Maximum Likelihood Learning With Arbitrary Treewidth via Fast-Mixing Parameter Sets\",\"Hessian-free Optimization for Learning Deep Multidimensional Recurrent Neural Networks\",\"Large-scale probabilistic predictors with and without guarantees of validity\",\"Shepard Convolutional Neural Networks\",\"Matrix Manifold Optimization for Gaussian Mixtures\",\"Semi-supervised Convolutional Neural Networks for Text Categorization via Region Embedding\",\"Parallel Recursive Best-First AND/OR Search for Exact MAP Inference in Graphical Models\",\"Convolutional Neural Networks with Intra-Layer Recurrent Connections for Scene Labeling\",\"Bounding the Cost of Search-Based Lifted Inference\",\"Gradient-free Hamiltonian Monte Carlo with Efficient Kernel Exponential Families\",\"Linear Multi-Resource Allocation with Semi-Bandit Feedback\",\"Unsupervised Learning by Program Synthesis\",\"Enforcing balance allows local supervised learning in spiking recurrent networks\",\"Fast and Guaranteed Tensor Decomposition via Sketching\",\"Differentially private subspace clustering\",\"Predtron: A Family of Online Algorithms for General Prediction Problems\",\"Weighted Theta Functions and Embeddings with Applications to Max-Cut, Clustering and Summarization\",\"SGD Algorithms based on Incomplete U-statistics: Large-Scale Minimization of Empirical Risk\",\"On Top-k Selection in Multi-Armed Bandits and Hidden Bipartite Graphs\",\"The Brain Uses Reliability of Stimulus Information when Making Perceptual Decisions\",\"Fast Classification Rates for High-dimensional Gaussian Generative Models\",\"Fast Distributed k-Center Clustering with Outliers on Massive Data\",\"Human Memory Search as Initial-Visit Emitting Random Walk\",\"Non-convex Statistical Optimization for Sparse Tensor Graphical Model\",\"Convergence Rates of Active Learning for Maximum Likelihood Estimation\",\"Weakly-supervised Disentangling with Recurrent Transformations for 3D View Synthesis\",\"Efficient Exact Gradient Update for training Deep Networks with Very Large Sparse Targets\",\"Backpropagation for Energy-Efficient Neuromorphic Computing\",\"Alternating Minimization for Regression Problems with Vector-valued Outputs\",\"Learning both Weights and Connections for Efficient Neural Network\",\"Optimal Rates for Random Fourier Features\",\"The Population Posterior and Bayesian Modeling on Streams\",\"Frank-Wolfe Bayesian Quadrature: Probabilistic Integration with Theoretical Guarantees\",\"Scheduled Sampling for Sequence Prediction with Recurrent Neural Networks\",\"Unified View of Matrix Completion under General Structural Constraints\",\"Efficient Output Kernel Learning for Multiple Tasks\",\"Scalable Adaptation of State Complexity for Nonparametric Hidden Markov Models\",\"Variational Consensus Monte Carlo\",\"Newton-Stein Method: A Second Order Method for GLMs via Stein's Lemma\",\"Practical and Optimal LSH for Angular Distance\",\"Learning to Linearize Under Uncertainty\",\"Finite-Time Analysis of Projected Langevin Monte Carlo\",\"Deep Visual Analogy-Making\",\"Matrix Completion from Fewer Entries: Spectral Detectability and Rank Estimation\",\"Online Learning with Adversarial Delays\",\"Multi-Layer Feature Reduction for Tree Structured Group Lasso via Hierarchical Projection\",\"Minimum Weight Perfect Matching via Blossom Belief Propagation\",\"Efficient Thompson Sampling for Online \\ufffcMatrix-Factorization Recommendation\",\"Improved Iteration Complexity Bounds of Cyclic Block Coordinate Descent for Convex Problems\",\"Lifted Symmetry Detection and Breaking for MAP Inference\",\"Evaluating the statistical significance of biclusters\",\"Discriminative Robust Transformation Learning\",\"Bandits with Unobserved Confounders: A Causal Approach\",\"Scalable Semi-Supervised Aggregation of Classifiers\",\"Online Learning with Gaussian Payoffs and Side Observations\",\"Private Graphon Estimation for Sparse Graphs\",\"SubmodBoxes: Near-Optimal Search for a Set of Diverse Object Proposals\",\"Fast Second Order Stochastic Backpropagation for Variational Inference\",\"Randomized Block Krylov Methods for Stronger and Faster Approximate Singular Value Decomposition\",\"Cross-Domain Matching for Bag-of-Words Data via Kernel Embeddings of Latent Distributions\",\"Scalable Inference for Gaussian Process Models with Black-Box Likelihoods\",\"Fast Bidirectional Probability Estimation in Markov Models\",\"Probabilistic Variational Bounds for Graphical Models\",\"Linear Response Methods for Accurate Covariance Estimates from Mean Field Variational Bayes\",\"Combinatorial Cascading Bandits\",\"Mixing Time Estimation in Reversible Markov Chains from a Single Sample Path\",\"Policy Gradient for Coherent Risk Measures\",\"Fast Rates for Exp-concave Empirical Risk Minimization\",\"Deep Generative Image Models using a \\ufffcLaplacian Pyramid of Adversarial Networks\",\"Decoupled Deep Neural Network for Semi-supervised Semantic Segmentation\",\"Equilibrated adaptive learning rates for non-convex optimization\",\"BACKSHIFT: Learning causal cyclic graphs from unknown shift interventions\",\"Risk-Sensitive and Robust Decision-Making: a CVaR Optimization Approach\",\"Asynchronous stochastic convex optimization: the noise is in the noise and SGD don't care\",\"Lifelong Learning with Non-i.i.d. Tasks\",\"Optimal Linear Estimation under Unknown Nonlinear Transform\",\"Learning with Group Invariant Features: A Kernel Perspective.\",\"Regularized EM Algorithms: A Unified Framework and Statistical Guarantees\",\"Adaptive Stochastic Optimization: From Sets to Paths\",\"Beyond Convexity: Stochastic Quasi-Convex Optimization\",\"A Tractable Approximation to Optimal Point Process Filtering: Application to Neural Encoding\",\"Sum-of-Squares Lower Bounds for Sparse PCA\",\"Max-Margin Majority Voting for Learning from Crowds\",\"Learning with Incremental Iterative Regularization\",\"Halting in Random Walk Kernels\",\"MCMC for Variationally Sparse Gaussian Processes\",\"Less is More: Nystr\\u00f6m Computational Regularization\",\"Infinite Factorial Dynamical Model\",\"Regularization Path of Cross-Validation Error Lower Bounds\",\"Attractor Network Dynamics Enable Preplay and Rapid Path Planning in Maze\\u2013like Environments\",\"Teaching Machines to Read and Comprehend\",\"Principal Differences Analysis: Interpretable Characterization of Differences between Distributions\",\"When are Kalman-Filter Restless Bandits Indexable?\",\"Segregated Graphs and Marginals of Chain Graph Models\",\"Efficient Non-greedy Optimization of Decision Trees\",\"Probabilistic Curve Learning: Coulomb Repulsion and the Electrostatic Gaussian Process\",\"Inverse Reinforcement Learning with Locally Consistent Reward Functions\",\"Communication Complexity of Distributed Convex Learning and Optimization\",\"End-to-end Learning of LDA by Mirror-Descent Back Propagation over a Deep Architecture\",\"Subset Selection by Pareto Optimization\",\"On the Accuracy of Self-Normalized Log-Linear Models\",\"Regret Lower Bound and Optimal Algorithm in Finite Stochastic Partial Monitoring\",\"Is Approval Voting Optimal Given Approval Votes?\",\"Regressive Virtual Metric Learning\",\"Analysis of Robust PCA via Local Incoherence\",\"Learning to Transduce with Unbounded Memory\",\"Max-Margin Deep Generative Models\",\"Spherical Random Features for Polynomial Kernels\",\"Rectified Factor Networks\",\"Learning Bayesian Networks with Thousands of Variables\",\"Matrix Completion Under Monotonic Single Index Models\",\"Visalogy: Answering Visual Analogy Questions\",\"Tree-Guided MCMC Inference for Normalized Random Measure Mixture Models\",\"Streaming Min-max Hypergraph Partitioning\",\"Collaboratively Learning Preferences from Ordinal Data\",\"Biologically Inspired Dynamic Textures for Probing Motion Perception\",\"Generative Image Modeling Using Spatial LSTMs\",\"Robust PCA with compressed data\",\"Sampling from Probabilistic Submodular Models\",\"COEVOLVE: A Joint Point Process Model for Information Diffusion and Network Co-evolution\",\"Supervised Learning for Dynamical System Learning\",\"Regret-Based Pruning in Extensive-Form Games\",\"Fast Two-Sample Testing with Analytic Representations of Probability Measures\",\"Learning to Segment Object Candidates\",\"GP Kernels for Cross-Spectrum Analysis\",\"Secure Multi-party Differential Privacy\",\"Spatial Transformer Networks\",\"Anytime Influence Bounds and the Explosive Behavior of Continuous-Time Diffusion Networks\",\"Multi-class SVMs: From Tighter Data-Dependent Generalization Bounds to Novel Algorithms\",\"High-dimensional neural spike train analysis with generalized count linear dynamical systems\",\"Learning with a Wasserstein Loss\",\"b-bit Marginal Regression\",\"Natural Neural Networks\",\"Optimization Monte Carlo: Efficient and Embarrassingly Parallel Likelihood-Free Inference\",\"Adaptive Primal-Dual Splitting Methods for Statistical Learning and Image Processing\",\"On some provably correct cases of variational inference for topic models\",\"Collaborative Filtering with Graph Information: Consistency and Scalable Methods\",\"Combinatorial Bandits Revisited\",\"Variational Information Maximisation for Intrinsically Motivated Reinforcement Learning\",\"A Structural Smoothing Framework For Robust Graph Comparison\",\"Competitive Distribution Estimation: Why is Good-Turing Good\",\"Efficient Learning by Directed Acyclic Graph For Resource Constrained Prediction\",\"A hybrid sampler for Poisson-Kingman mixture models\",\"An Active Learning Framework using Sparse-Graph Codes for Sparse Polynomials and Graph Sketching\",\"Local Smoothness in Variance Reduced Optimization\",\"Saliency, Scale and Information: Towards a Unifying Theory\",\"Fighting Bandits with a New Kind of Smoothness\",\"Beyond Sub-Gaussian Measurements: High-Dimensional Structured Estimation with Sub-Exponential Designs\",\"Spectral Norm Regularization of Orthonormal Representations for Graph Transduction\",\"Convolutional Networks on Graphs for Learning Molecular Fingerprints\",\"Mixed Robust/Average Submodular Partitioning: Fast Algorithms, Guarantees, and Applications\",\"Tractable Learning for Complex Probability Queries\",\"StopWasting My Gradients: Practical SVRG\",\"Mind the Gap: A Generative Approach to Interpretable Feature Selection and Extraction\",\"A Normative Theory of Adaptive Dimensionality Reduction in Neural Networks\",\"On the Convergence of Stochastic Gradient MCMC Algorithms with High-Order Integrators\",\"Learning structured densities via infinite dimensional exponential families\",\"Are You Talking to a Machine? Dataset and Methods for Multilingual Image Question\",\"Variance Reduced Stochastic Gradient Descent with Neighbors\",\"Sample Efficient Path Integral Control under Uncertainty\",\"Stochastic Expectation Propagation\",\"Exactness of Approximate MAP Inference in Continuous MRFs\",\"Scale Up Nonlinear Component Analysis with Doubly Stochastic Gradients\",\"Generalization in Adaptive Data Analysis and Holdout Reuse\",\"Market Scoring Rules Act As Opinion Pools For Risk-Averse Agents\",\"Sparse Linear Programming via Primal and Dual Augmented Coordinate Descent\",\"Training Very Deep Networks\",\"Bayesian Active Model Selection with an Application to Automated Audiometry\",\"Particle Gibbs for Infinite Hidden Markov Models\",\"Learning spatiotemporal trajectories from manifold-valued longitudinal data\",\"A Bayesian Framework for Modeling Confidence in Perceptual Decision Making\",\"Path-SGD: Path-Normalized Optimization in Deep Neural Networks\",\"On the consistency theory of high dimensional variable screening\",\"End-To-End Memory Networks\",\"Spectral Representations for Convolutional Neural Networks\",\"Online Gradient Boosting\",\"Deep Temporal Sigmoid Belief Networks for Sequence Modeling\",\"Recognizing retinal ganglion cells in the dark\",\"A Theory of Decision Making Under Dynamic Context\",\"A Gaussian Process Model of Quasar Spectral Energy Distributions\",\"Hidden Technical Debt in Machine Learning Systems\",\"Local Causal Discovery of Direct Causes and Effects\",\"High Dimensional EM Algorithm: Statistical Optimization and Asymptotic Normality\",\"Revenue Optimization against Strategic Buyers\",\"Deep Convolutional Inverse Graphics Network\",\"Sparse and Low-Rank Tensor Decomposition\",\"Minimax Time Series Prediction\",\"Differentially Private Learning of Structured Discrete Distributions\",\"Sample Complexity of Learning Mahalanobis Distance Metrics\",\"Learning Wake-Sleep Recurrent Attention Models\",\"Robust Gaussian Graphical Modeling with the Trimmed Graphical Lasso\",\"Testing Closeness With Unequal Sized Samples\",\"Estimating Jaccard Index with Missing Observations: A Matrix Calibration Approach\",\"Neural Adaptive Sequential Monte Carlo\",\"Local Expectation Gradients for Black Box Variational Inference\",\"On Variance Reduction in Stochastic Gradient Descent and its Asynchronous Variants\",\"NEXT: A System for Real-World Development, Evaluation, and Application of Active Learning\",\"Super-Resolution Off the Grid\",\"Taming the Wild: A Unified Analysis of Hogwild-Style Algorithms\",\"The Return of the Gating Network: Combining Generative Models and Discriminative Training in Natural Image Priors\",\"Pointer Networks\",\"Associative Memory via a Sparse Recovery Model\",\"Robust Spectral Inference for Joint Stochastic Matrix Factorization\",\"Fast, Provable Algorithms for Isotonic Regression in all L_p-norms\",\"Adversarial Prediction Games for Multivariate Losses\",\"Asynchronous Parallel Stochastic Gradient for Nonconvex Optimization\",\"Embed to Control: A Locally Linear Latent Dynamics Model for Control from Raw Images\",\"Efficient and Parsimonious Agnostic Active Learning\",\"Softstar: Heuristic-Guided Probabilistic Inference\",\"Grammar as a Foreign Language\",\"Regularization-Free Estimation in Trace Regression with Symmetric Positive Semidefinite Matrices\",\"Winner-Take-All Autoencoders\",\"Deep Poisson Factor Modeling\",\"Bayesian Optimization with Exponential Convergence\",\"Sample Complexity of Episodic Fixed-Horizon Reinforcement Learning\",\"Learning with Relaxed Supervision\",\"Subsampled Power Iteration: a Unified Algorithm for Block Models and Planted CSP's\",\"Accelerated Mirror Descent in Continuous and Discrete Time\",\"The Human Kernel\",\"Action-Conditional Video Prediction using Deep Networks in Atari Games\",\"A Pseudo-Euclidean Iteration for Optimal Recovery in Noisy ICA\",\"Distributed Submodular Cover: Succinctly Summarizing Massive Data\",\"Community Detection via Measure Space Embedding\",\"Basis refinement strategies for linear value function approximation in MDPs\",\"Structured Estimation with Atomic Norms: General Bounds and Applications\",\"A Complete Recipe for Stochastic Gradient MCMC\",\"Bandit Smooth Convex Optimization: Improving the Bias-Variance Tradeoff\",\"Online Prediction at the Limit of Zero Temperature\",\"Learning Continuous Control Policies by Stochastic Value Gradients\",\"Exploring Models and Data for Image Question Answering\",\"Efficient and Robust Automated Machine Learning\",\"Preconditioned Spectral Descent for Deep Learning\",\"A Recurrent Latent Variable Model for Sequential Data\",\"Fast Convergence of Regularized Learning in Games\",\"Parallel Multi-Dimensional LSTM, With Application to Fast Biomedical Volumetric Image Segmentation\",\"Reflection, Refraction, and Hamiltonian Monte Carlo\",\"The Consistency of Common Neighbors for Link Prediction in Stochastic Blockmodels\",\"Nearly Optimal Private LASSO\",\"Convergence Analysis of Prediction Markets via Randomized Subspace Descent\",\"The Poisson Gamma Belief Network\",\"Convergence rates of sub-sampled Newton methods\",\"No-Regret Learning in Bayesian Games\",\"Statistical Topological Data Analysis - A Kernel Perspective\",\"Semi-supervised Sequence Learning\",\"Structured Transforms for Small-Footprint Deep Learning\",\"Rapidly Mixing Gibbs Sampling for a Class of Factor Graphs Using Hierarchy Width\",\"Interpolating Convex and Non-Convex Tensor Decompositions via the Subspace Norm\",\"Sample Complexity Bounds for Iterative Stochastic Policy Optimization\",\"BinaryConnect: Training Deep Neural Networks with binary weights during propagations\",\"Interactive Control of Diverse Complex Characters with Neural Networks\",\"Submodular Hamming Metrics\",\"A Universal Primal-Dual Convex Optimization Framework\",\"Learning From Small Samples: An Analysis of Simple Decision Heuristics\",\"Explore no more: Improved high-probability regret bounds for non-stochastic bandits\",\"Fast and Memory Optimal Low-Rank Matrix Approximation\",\"Learnability of Influence in Networks\",\"Learning Causal Graphs with Small Interventions\",\"Information-theoretic lower bounds for convex optimization with erroneous oracles\",\"Fixed-Length Poisson MRF: Adding Dependencies to the Multinomial\",\"Large-Scale Bayesian Multi-Label Learning via Topic-Based Label Embeddings\",\"The Self-Normalized Estimator for Counterfactual Learning\",\"Fast Lifted MAP Inference via Partitioning\",\"Data Generation as Sequential Decision Making\",\"On Elicitation Complexity\",\"Decomposition Bounds for Marginal MAP\",\"Discrete R\\u00e9nyi Classifiers\",\"A class of network models recoverable by spectral clustering\",\"Skip-Thought Vectors\",\"Rate-Agnostic (Causal) Structure Learning\",\"Principal Geodesic Analysis for Probability Measures under the Optimal Transport Metric\",\"Consistent Multilabel Classification\",\"Parallel Predictive Entropy Search for Batch Global Optimization of Expensive Objective Functions\",\"Cornering Stationary and Restless Mixing Bandits with Remix-UCB\",\"Semi-Supervised Factored Logistic Regression for High-Dimensional Neuroimaging Data\",\"Gaussian Process Random Fields\",\"M-Statistic for Kernel Change-Point Detection\",\"Adaptive Online Learning\",\"A Universal Catalyst for First-Order Optimization\",\"Inference for determinantal point processes without spectral knowledge\",\"Kullback-Leibler Proximal Variational Inference\",\"Semi-Proximal Mirror-Prox for Nonsmooth Composite Minimization\",\"LASSO with Non-linear Measurements is Equivalent to One With Linear Measurements\",\"From random walks to distances on unweighted graphs\",\"Bayesian dark knowledge\",\"Matrix Completion with Noisy Side Information\",\"Dependent Multinomial Models Made Easy: Stick-Breaking with the Polya-gamma Augmentation\",\"On-the-Job Learning with Bayesian Decision Theory\",\"Calibrated Structured Prediction\",\"Learning Structured Output Representation using Deep Conditional Generative Models\",\"Time-Sensitive Recommendation From Recurrent User Activities\",\"Learning Stationary Time Series using Gaussian Processes with Nonparametric Kernels\",\"A Market Framework for Eliciting Private Data\",\"Lifted Inference Rules With Constraints\",\"Gradient Estimation Using Stochastic Computation Graphs\",\"Model-Based Relative Entropy Stochastic Search\",\"Semi-supervised Learning with Ladder Networks\",\"Embedding Inference for Structured Multilabel Prediction\",\"Copula variational inference\",\"Recursive Training of 2D-3D Convolutional Networks for Neuronal Boundary Prediction\",\"A Dual Augmented Block Minimization Framework for Learning with Limited Memory\",\"Optimal Testing for Properties of Distributions\",\"Efficient Learning of Continuous-Time Hidden Markov Models for Disease Progression\",\"Expectation Particle Belief Propagation\",\"Latent Bayesian melding for integrating individual and population models\",\"Distributionally Robust Logistic Regression\",\"Variational Dropout and the Local Reparameterization Trick\"],\"x\":{\"__ndarray__\":\"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\",\"dtype\":\"float64\",\"shape\":[403]},\"y\":{\"__ndarray__\":\"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\",\"dtype\":\"float64\",\"shape\":[403]}}},\"id\":\"004d044c-5b59-4a65-b851-38ae5db1b649\",\"type\":\"ColumnDataSource\"},{\"attributes\":{\"bottom_units\":\"screen\",\"fill_alpha\":{\"value\":0.5},\"fill_color\":{\"value\":\"lightgrey\"},\"left_units\":\"screen\",\"level\":\"overlay\",\"line_alpha\":{\"value\":1.0},\"line_color\":{\"value\":\"black\"},\"line_dash\":[4,4],\"line_width\":{\"value\":2},\"plot\":null,\"render_mode\":\"css\",\"right_units\":\"screen\",\"top_units\":\"screen\"},\"id\":\"7d13e247-5523-429d-8ad6-13301783b5cb\",\"type\":\"BoxAnnotation\"},{\"attributes\":{\"callback\":null,\"tooltips\":[[\"content\",\"Title: @title, KeyWords: @content - Topic: @label \"]]},\"id\":\"0a418998-f4ea-4839-9cfe-519c97c8b7db\",\"type\":\"HoverTool\"},{\"attributes\":{\"fill_alpha\":{\"value\":0.1},\"fill_color\":{\"value\":\"#1f77b4\"},\"line_alpha\":{\"value\":0.1},\"line_color\":{\"value\":\"#1f77b4\"},\"size\":{\"field\":\"msize\",\"units\":\"screen\"},\"x\":{\"field\":\"x\"},\"y\":{\"field\":\"y\"}},\"id\":\"9e47f341-2028-4c21-8f71-0a4cab39b8fd\",\"type\":\"Circle\"},{\"attributes\":{},\"id\":\"c331e8fc-1b3b-4ea2-a003-042a79fe4e19\",\"type\":\"PanTool\"},{\"attributes\":{\"callback\":null},\"id\":\"4b49d884-5d85-4c37-9f98-7fd258bddfde\",\"type\":\"DataRange1d\"},{\"attributes\":{\"items\":[{\"id\":\"6affcf7f-61ea-4c9d-9fc5-a0217334673d\",\"type\":\"LegendItem\"}],\"location\":\"top_left\",\"plot\":{\"id\":\"ff63e445-aa58-4fa8-bd0e-246419c0f1b1\",\"subtype\":\"Figure\",\"type\":\"Plot\"}},\"id\":\"6a217ccd-2414-498d-a63f-fa93d4a5b8c1\",\"type\":\"Legend\"},{\"attributes\":{},\"id\":\"b2c4a9f3-379a-4f8e-a5e0-abcd0432fef3\",\"type\":\"LinearScale\"},{\"attributes\":{},\"id\":\"205b0018-55db-4c8d-9f16-405e79cb3693\",\"type\":\"ResetTool\"},{\"attributes\":{\"active_drag\":\"auto\",\"active_inspect\":\"auto\",\"active_scroll\":\"auto\",\"active_tap\":\"auto\",\"tools\":[{\"id\":\"c331e8fc-1b3b-4ea2-a003-042a79fe4e19\",\"type\":\"PanTool\"},{\"id\":\"ce011115-57e6-4b21-a284-4ed104f4cdc9\",\"type\":\"WheelZoomTool\"},{\"id\":\"41234b11-2410-4b43-a705-b720244df7e2\",\"type\":\"BoxZoomTool\"},{\"id\":\"205b0018-55db-4c8d-9f16-405e79cb3693\",\"type\":\"ResetTool\"},{\"id\":\"0a418998-f4ea-4839-9cfe-519c97c8b7db\",\"type\":\"HoverTool\"},{\"id\":\"f0101eaf-c84a-4465-a5d5-33f5ca4e2d08\",\"type\":\"SaveTool\"}]},\"id\":\"6c541cf5-dd04-4bbc-97fd-bb14b359a1a7\",\"type\":\"Toolbar\"},{\"attributes\":{\"data_source\":{\"id\":\"004d044c-5b59-4a65-b851-38ae5db1b649\",\"type\":\"ColumnDataSource\"},\"glyph\":{\"id\":\"87b4365a-3a18-47b1-8003-127bbb2ae841\",\"type\":\"Circle\"},\"hover_glyph\":null,\"muted_glyph\":null,\"nonselection_glyph\":{\"id\":\"9e47f341-2028-4c21-8f71-0a4cab39b8fd\",\"type\":\"Circle\"},\"selection_glyph\":null,\"view\":{\"id\":\"c1f26fc5-516b-47bc-b209-7a682cd35ad1\",\"type\":\"CDSView\"}},\"id\":\"a40bde52-93f4-479b-8f53-2e038b7d28da\",\"type\":\"GlyphRenderer\"}],\"root_ids\":[\"ff63e445-aa58-4fa8-bd0e-246419c0f1b1\"]},\"title\":\"Bokeh Application\",\"version\":\"0.12.9\"}};\n",
       "    var render_items = [{\"docid\":\"2802fcd9-7bd2-4014-bdd9-1a91e48431bc\",\"elementid\":\"b6f779ed-a626-4309-b570-2e23165bd97d\",\"modelid\":\"ff63e445-aa58-4fa8-bd0e-246419c0f1b1\"}];\n",
       "\n",
       "    root.Bokeh.embed.embed_items(docs_json, render_items);\n",
       "  }\n",
       "\n",
       "  if (root.Bokeh !== undefined) {\n",
       "    embed_document(root);\n",
       "  } else {\n",
       "    var attempts = 0;\n",
       "    var timer = setInterval(function(root) {\n",
       "      if (root.Bokeh !== undefined) {\n",
       "        embed_document(root);\n",
       "        clearInterval(timer);\n",
       "      }\n",
       "      attempts++;\n",
       "      if (attempts > 100) {\n",
       "        console.log(\"Bokeh: ERROR: Unable to embed document because BokehJS library is missing\")\n",
       "        clearInterval(timer);\n",
       "      }\n",
       "    }, 10, root)\n",
       "  }\n",
       "})(window);"
      ],
      "application/vnd.bokehjs_exec.v0+json": ""
     },
     "metadata": {
      "application/vnd.bokehjs_exec.v0+json": {
       "id": "ff63e445-aa58-4fa8-bd0e-246419c0f1b1"
      }
     },
     "output_type": "display_data"
    }
   ],
   "source": [
    "title = 'T-SNE visualization of topics'\n",
    "\n",
    "plot_lda = figure(plot_width=1000, plot_height=600,\n",
    "                     title=title, tools=\"pan,wheel_zoom,box_zoom,reset,hover,previewsave\",\n",
    "                     x_axis_type=None, y_axis_type=None, min_border=1)\n",
    "\n",
    "plot_lda.scatter(x='x', y='y', legend='label', source=source,\n",
    "                 color='color', alpha=0.8, size='msize')\n",
    "\n",
    "# hover tools\n",
    "hover = plot_lda.select(dict(type=HoverTool))\n",
    "hover.tooltips = {\"content\": \"Title: @title, KeyWords: @content - Topic: @label \"}\n",
    "plot_lda.legend.location = \"top_left\"\n",
    "\n",
    "show(plot_lda)\n",
    "\n",
    "#save the plot\n",
    "# save(plot_lda, '{}.html'.format('-'.join(title.split())))\n",
    "\n",
    "# save to png\n",
    "# export_png(plot_lda1,filename= '{}.png'.format('-'.join(title.split())))"
   ]
  },
  {
   "cell_type": "markdown",
   "metadata": {},
   "source": [
    "# To see the interactive maps go to this link:  \n",
    "!http://nbviewer.jupyter.org/github/ykhorram/nips2015_topic_network_analysis/blob/master/NIP15_topics_citations.ipynb"
   ]
  },
  {
   "cell_type": "markdown",
   "metadata": {},
   "source": [
    "Looking at the figure above, it's obious that Deep learning paper have recieved more citation than other. Next I plot the distribution of citation per topic."
   ]
  },
  {
   "cell_type": "code",
   "execution_count": 147,
   "metadata": {
    "collapsed": false
   },
   "outputs": [
    {
     "name": "stdout",
     "output_type": "stream",
     "text": [
      "Populating the interactive namespace from numpy and matplotlib\n"
     ]
    }
   ],
   "source": [
    "%pylab inline"
   ]
  },
  {
   "cell_type": "markdown",
   "metadata": {},
   "source": [
    "### There are 3 kinds of publications: "
   ]
  },
  {
   "cell_type": "code",
   "execution_count": 168,
   "metadata": {
    "collapsed": false
   },
   "outputs": [
    {
     "data": {
      "text/plain": [
       "['Poster', 'Spotlight', 'Oral']"
      ]
     },
     "execution_count": 168,
     "metadata": {},
     "output_type": "execute_result"
    }
   ],
   "source": [
    "p_df['EventType'].unique().tolist()"
   ]
  },
  {
   "cell_type": "markdown",
   "metadata": {},
   "source": [
    "### Poster don't recieve citations so we divide the papers into posters and non-posters "
   ]
  },
  {
   "cell_type": "code",
   "execution_count": null,
   "metadata": {
    "collapsed": true
   },
   "outputs": [],
   "source": [
    "filter = p_df['EventType']=='Poster'"
   ]
  },
  {
   "cell_type": "markdown",
   "metadata": {},
   "source": [
    "What's less obvious from the visualization is the number of papers per topic. Next we'll look at that.\n"
   ]
  },
  {
   "cell_type": "code",
   "execution_count": 238,
   "metadata": {
    "collapsed": false
   },
   "outputs": [
    {
     "data": {
      "image/png": "[encoded data removed]",
      "text/plain": [
       "<matplotlib.figure.Figure at 0x13d1a5210>"
      ]
     },
     "metadata": {},
     "output_type": "display_data"
    }
   ],
   "source": [
    "pap_cnts = {i:len(p_df[(p_df['clusters']==i) & (~filter)]) for i in range(4)}\n",
    "pos_cnts = {i:len(p_df[(p_df['clusters']==i) & (filter)]) for i in range(4)}\n",
    "\n",
    "fig = figure(figsize=(6,5))\n",
    "\n",
    "npap_ls = [pap_cnts[k] for k in range(4)]\n",
    "npos_ls = [pos_cnts[k] for k in range(4)]\n",
    "cols = [cluster_colors[i] for i in range(4)]\n",
    "\n",
    "bar(range(4), npap_ls, align='center', width=0.5, color=cols , alpha=1.0, label='# Papers')\n",
    "bar(range(4), npos_ls, align='center', width=0.5, color=cols, alpha=0.5, label='# Posters')\n",
    "\n",
    "xticks(range(4), [top_labels[k] for k in range(4)], rotation=30, ha= 'right', fontsize=12)\n",
    "\n",
    "title('Paper/Poster counts per topic', fontsize=15)\n",
    "xlabel('Topics', fontsize=15); ylabel('Paper/Poster Counts', fontsize=15);\n",
    "\n",
    "legend(loc='upper right', fontsize=15); show();"
   ]
  },
  {
   "cell_type": "code",
   "execution_count": 163,
   "metadata": {
    "collapsed": false
   },
   "outputs": [
    {
     "data": {
      "image/png": "[encoded data removed]",
      "text/plain": [
       "<matplotlib.figure.Figure at 0x13c2c1290>"
      ]
     },
     "metadata": {},
     "output_type": "display_data"
    }
   ],
   "source": [
    "fig = figure(figsize=(6,4))\n",
    "bins = np.linspace(1, p_df['Citations'].max(), 5)\n",
    "\n",
    "vals = {i:p_df[(p_df['clusters']==i) & (~filter)]['Citations'].tolist() for i in range(4)}\n",
    "    \n",
    "hist([vals[i] for i in range(4)], bins,\\\n",
    "     color=[cluster_colors[i] for i in range(4)], alpha = 0.7,\\\n",
    "     label=[top_labels[i] for i in range(4)])\n",
    "title('Citation distribution per topic ', fontsize=15)\n",
    "xlabel('Citations', fontsize=15); ylabel('Paper Count', fontsize=15);\n",
    "legend(loc='best');"
   ]
  },
  {
   "cell_type": "markdown",
   "metadata": {},
   "source": [
    "The most cited papers belong to the __Deep learning__, which confirms our observation from the t-sne visualization."
   ]
  },
  {
   "cell_type": "markdown",
   "metadata": {},
   "source": [
    "Please let me know if you have any questions or comment."
   ]
  },
  {
   "cell_type": "code",
   "execution_count": null,
   "metadata": {
    "collapsed": true
   },
   "outputs": [],
   "source": []
  }
 ],
 "metadata": {
  "kernelspec": {
   "display_name": "Python 2",
   "language": "python",
   "name": "python2"
  },
  "language_info": {
   "codemirror_mode": {
    "name": "ipython",
    "version": 2
   },
   "file_extension": ".py",
   "mimetype": "text/x-python",
   "name": "python",
   "nbconvert_exporter": "python",
   "pygments_lexer": "ipython2",
   "version": "2.7.11"
  }
 },
 "nbformat": 4,
 "nbformat_minor": 1
}
