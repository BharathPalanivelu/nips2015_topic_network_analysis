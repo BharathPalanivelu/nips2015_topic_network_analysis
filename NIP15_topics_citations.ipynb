{
 "cells": [
  {
   "cell_type": "markdown",
   "metadata": {
    "_uuid": "a9f0d9e1da1d1c9ce96322ecedc81d7a7847f043"
   },
   "source": [
    "# NIPS: Neural Information Processing Systems\n",
    "\n",
    "Some main topics at NIPS according to [wikipedia](https://en.wikipedia.org/wiki/Conference_on_Neural_Information_Processing_Systems) :\n",
    "\n",
    "1. Machine learning, \n",
    "2. Statistics, \n",
    "3. Artificial intelligence, \n",
    "4. Computational neuroscience\n",
    "\n",
    "However, the topics are within the same domain which makes it more challenging to distinguish between them. Here in this Kernel I will try to extract some topics using Latent Dirichlet allocation __LDA__. This tutorial features an end-to-end natural language processing pipeline, starting with raw data and running through preparing, modeling, visualizing the paper. We'll touch on the following points\n",
    "\n",
    "    1. Topic modeling with LDA\n",
    "    2. Visualizing topic models with pyLDAvis\n",
    "    3. Visualizing LDA results with t-SNE and bokeh\n",
    "\n",
    "Note: Two major visualizations of this notebook are __interactive graphs__, which do not get loaded on the Github. To see them, go to this link: \n",
    "http://nbviewer.jupyter.org/github/ykhorram/nips2015_topic_network_analysis/blob/master/NIP15_topics_citations.ipynb"
   ]
  },
  {
   "cell_type": "code",
   "execution_count": 4,
   "metadata": {
    "_uuid": "49cf47103ed18adfb84e28e636784cf89dbb3144",
    "collapsed": false
   },
   "outputs": [
    {
     "name": "stdout",
     "output_type": "stream",
     "text": [
      "Populating the interactive namespace from numpy and matplotlib\n"
     ]
    }
   ],
   "source": [
    "%pylab inline\n",
    "\n",
    "import pandas as pd\n",
    "import pickle as pk\n",
    "from scipy import sparse as sp"
   ]
  },
  {
   "cell_type": "code",
   "execution_count": 13,
   "metadata": {
    "_uuid": "eda4ba077f4beb7a55182bc37b147050f444827f",
    "collapsed": true
   },
   "outputs": [],
   "source": [
    "p_cit = pk.load(open('./nips_data/paper_citations_dict.pkl', 'rb'))\n",
    "p_df = pd.read_csv('./nips_data/Papers.csv')\n",
    "\n",
    "p_df['Citations'] = p_df['Title'].apply(lambda l: p_cit.get(l))\n",
    "p_df['Citations'].fillna(0, inplace=True)\n",
    "p_df['Citations'] = p_df['Citations'].astype(int0)\n",
    "\n",
    "\n",
    "docs = array(p_df['PaperText'])"
   ]
  },
  {
   "cell_type": "markdown",
   "metadata": {
    "_uuid": "365398b9b4072a8c5bf3c8de0067122e70fff748"
   },
   "source": [
    "## Pre-process and vectorize the documents"
   ]
  },
  {
   "cell_type": "code",
   "execution_count": 12,
   "metadata": {
    "_uuid": "f10f622826eaa4e9bd97c1414aac5538ddabafd2",
    "collapsed": true
   },
   "outputs": [],
   "source": [
    "from nltk.stem.wordnet import WordNetLemmatizer\n",
    "from nltk.tokenize import RegexpTokenizer\n",
    "\n",
    "def docs_preprocessor(docs):\n",
    "    tokenizer = RegexpTokenizer(r'\\w+')\n",
    "    for idx in range(len(docs)):\n",
    "        docs[idx] = docs[idx].lower()  # Convert to lowercase.\n",
    "        docs[idx] = tokenizer.tokenize(docs[idx])  # Split into words.\n",
    "\n",
    "    # Remove numbers, but not words that contain numbers.\n",
    "    docs = [[token for token in doc if not token.isdigit()] for doc in docs]\n",
    "    \n",
    "    # Remove words that are only one character.\n",
    "    docs = [[token for token in doc if len(token) > 3] for doc in docs]\n",
    "    \n",
    "    # Lemmatize all words in documents.\n",
    "    lemmatizer = WordNetLemmatizer()\n",
    "    #docs = [[lemmatizer.lemmatize(token) for token in doc] for doc in docs] python3\n",
    "    docs = [[lemmatizer.lemmatize(token.decode('utf-8', errors='ignore')) for token in doc] for doc in docs]\n",
    "\n",
    "    return docs"
   ]
  },
  {
   "cell_type": "code",
   "execution_count": 14,
   "metadata": {
    "_uuid": "790063fc1a341eb17e0244c220de736d51196cfe",
    "collapsed": true
   },
   "outputs": [],
   "source": [
    "docs = docs_preprocessor(docs)"
   ]
  },
  {
   "cell_type": "markdown",
   "metadata": {
    "_uuid": "f649c357b776963b7e626064fa6ced1a03a3219d"
   },
   "source": [
    "### **Compute bigrams/trigrams:**\n",
    "Sine topics are very similar what would make distinguish them are phrases rather than single/individual words."
   ]
  },
  {
   "cell_type": "code",
   "execution_count": 15,
   "metadata": {
    "collapsed": true
   },
   "outputs": [],
   "source": [
    "import warnings\n",
    "warnings.filterwarnings(\"ignore\") "
   ]
  },
  {
   "cell_type": "code",
   "execution_count": 16,
   "metadata": {
    "_uuid": "d6ce91b0d51d55e3504cbb352f0548cffcdb0169",
    "collapsed": true
   },
   "outputs": [],
   "source": [
    "from gensim.models import Phrases\n",
    "# Add bigrams and trigrams to docs (only ones that appear 10 times or more).\n",
    "bigram = Phrases(docs, min_count=10)\n",
    "trigram = Phrases(bigram[docs])\n",
    "\n",
    "for idx in range(len(docs)):\n",
    "    for token in bigram[docs[idx]]:\n",
    "        if '_' in token:\n",
    "            # Token is a bigram, add to document.\n",
    "            docs[idx].append(token)\n",
    "    for token in trigram[docs[idx]]:\n",
    "        if '_' in token:\n",
    "            # Token is a bigram, add to document.\n",
    "            docs[idx].append(token)"
   ]
  },
  {
   "cell_type": "markdown",
   "metadata": {
    "_uuid": "c75a2e62b9a0e570a0a34b84af5912c22aa9ba28"
   },
   "source": [
    "### **Remove rare and common tokens:**"
   ]
  },
  {
   "cell_type": "code",
   "execution_count": 18,
   "metadata": {
    "_uuid": "73f7ba9fedcde10c4e70cf2456c7ef20c8e32d35",
    "collapsed": false
   },
   "outputs": [
    {
     "name": "stdout",
     "output_type": "stream",
     "text": [
      "('Number of unique words in initital documents:', 41506)\n",
      "('Number of unique words after removing rare and common words:', 6068)\n"
     ]
    }
   ],
   "source": [
    "from gensim.corpora import Dictionary\n",
    "\n",
    "# Create a dictionary representation of the documents.\n",
    "dictionary = Dictionary(docs)\n",
    "print('Number of unique words in initital documents:', len(dictionary))\n",
    "\n",
    "# Filter out words that occur less than 10 documents, or more than 20% of the documents.\n",
    "dictionary.filter_extremes(no_below=10, no_above=0.2)\n",
    "print('Number of unique words after removing rare and common words:', len(dictionary))"
   ]
  },
  {
   "cell_type": "markdown",
   "metadata": {
    "_uuid": "f5e4e52fe4ff798ac96f8f23538770c5cc4d217a"
   },
   "source": [
    "Pruning the common and rare words, we end up with only about 6% of the words."
   ]
  },
  {
   "cell_type": "markdown",
   "metadata": {
    "_uuid": "78cd228789c6fa5d094886b58dce875f63625c33"
   },
   "source": [
    "** Vectorize data:**  \n",
    "The first step is to get a back-of-words representation of each doc."
   ]
  },
  {
   "cell_type": "code",
   "execution_count": 19,
   "metadata": {
    "_uuid": "27e71950ec4bca8f6b62ec6d6cd9f613a50019ea",
    "collapsed": true
   },
   "outputs": [],
   "source": [
    "corpus = [dictionary.doc2bow(doc) for doc in docs]"
   ]
  },
  {
   "cell_type": "code",
   "execution_count": 9,
   "metadata": {
    "_uuid": "80752c24b3b1bab16b48054a6ca6e7fb84d49372",
    "collapsed": false
   },
   "outputs": [
    {
     "name": "stdout",
     "output_type": "stream",
     "text": [
      "Number of unique tokens: 6068\n",
      "Number of documents: 403\n"
     ]
    }
   ],
   "source": [
    "print('Number of unique tokens: %d' % len(dictionary))\n",
    "print('Number of documents: %d' % len(corpus))"
   ]
  },
  {
   "cell_type": "markdown",
   "metadata": {
    "_uuid": "bb7f095fc6b213d727b36798294d56a6ab950f5b"
   },
   "source": [
    "With the bag-of-words corpus, we can move on to learn our topic model from the documents."
   ]
  },
  {
   "cell_type": "markdown",
   "metadata": {
    "_uuid": "49a8f93233d2640b476e093390182e21102ae555"
   },
   "source": [
    "# Train LDA model..."
   ]
  },
  {
   "cell_type": "code",
   "execution_count": 22,
   "metadata": {
    "_uuid": "b11f495c4fcf6991c523d5a3b6669506f39533ee",
    "collapsed": true
   },
   "outputs": [],
   "source": [
    "from gensim.models import LdaModel"
   ]
  },
  {
   "cell_type": "code",
   "execution_count": 34,
   "metadata": {
    "_uuid": "084c1198f0e528c52edc746436d797c855de8c51",
    "collapsed": false
   },
   "outputs": [
    {
     "name": "stdout",
     "output_type": "stream",
     "text": [
      "CPU times: user 2min 58s, sys: 1.28 s, total: 2min 59s\n",
      "Wall time: 3min 2s\n"
     ]
    }
   ],
   "source": [
    "# Set training parameters.\n",
    "num_topics = 4\n",
    "chunksize = 500 # size of the doc looked at every pass\n",
    "passes = 20 # number of passes through documents\n",
    "iterations = 400\n",
    "eval_every = 1  # Don't evaluate model perplexity, takes too much time.\n",
    "\n",
    "# Make a index to word dictionary.\n",
    "temp = dictionary[0]  # This is only to \"load\" the dictionary.\n",
    "id2word = dictionary.id2token\n",
    "\n",
    "%time model = LdaModel(corpus=corpus, id2word=id2word, chunksize=chunksize, \\\n",
    "                       alpha='auto', eta='auto', \\\n",
    "                       iterations=iterations, num_topics=num_topics, \\\n",
    "                       passes=passes, eval_every=eval_every)"
   ]
  },
  {
   "cell_type": "code",
   "execution_count": 35,
   "metadata": {
    "collapsed": true
   },
   "outputs": [],
   "source": [
    "model.save('lda.model')\n",
    "# later on, load trained model from file\n",
    "# model =  LdaModel.load('lda.model')"
   ]
  },
  {
   "cell_type": "markdown",
   "metadata": {
    "_uuid": "f5f7c3e213b2fdffa3c767ebd5a1eb7631e76b13"
   },
   "source": [
    " # How to choose the number of topics? \n",
    "So __LDA__ is an unsupervised technique, meaning that we don't know prior to running the model how many topics exits in our corpus. Topic coherence, is one of the main methods used to determine this. You can read about it [here.](http://svn.aksw.org/papers/2015/WSDM_Topic_Evaluation/public.pdf)\n",
    "\n",
    "However, I used the LDA visualization tool **pyLDAvis**, tried a few number of topics and compared the resuls. Four seemed to be the optimal number of topics that would seperate  topics the most. "
   ]
  },
  {
   "cell_type": "code",
   "execution_count": 36,
   "metadata": {
    "_uuid": "7e100266faefe67e6ce1131fa464c78630293984",
    "collapsed": true
   },
   "outputs": [],
   "source": [
    "import pyLDAvis.gensim\n",
    "pyLDAvis.enable_notebook()"
   ]
  },
  {
   "cell_type": "code",
   "execution_count": 37,
   "metadata": {
    "_uuid": "f195b367d556a559c4db98446e9c9148758a95f6",
    "collapsed": false
   },
   "outputs": [
    {
     "name": "stderr",
     "output_type": "stream",
     "text": [
      "/Users/admin/anaconda/lib/python2.7/site-packages/pyLDAvis/_prepare.py:387: DeprecationWarning: \n",
      ".ix is deprecated. Please use\n",
      ".loc for label based indexing or\n",
      ".iloc for positional indexing\n",
      "\n",
      "See the documentation here:\n",
      "http://pandas.pydata.org/pandas-docs/stable/indexing.html#deprecate_ix\n",
      "  topic_term_dists = topic_term_dists.ix[topic_order]\n"
     ]
    },
    {
     "data": {
      "text/html": [
       "\n",
       "<link rel=\"stylesheet\" type=\"text/css\" href=\"https://cdn.rawgit.com/bmabey/pyLDAvis/files/ldavis.v1.0.0.css\">\n",
       "\n",
       "\n",
       "<div id=\"ldavis_el3960546872684327987045445\"></div>\n",
       "<script type=\"text/javascript\">\n",
       "\n",
       "var ldavis_el3960546872684327987045445_data = {\"plot.opts\": {\"xlab\": \"PC1\", \"ylab\": \"PC2\"}, \"topic.order\": [3, 2, 4, 1], \"token.table\": {\"Topic\": [1, 2, 3, 4, 1, 2, 3, 4, 3, 2, 1, 2, 3, 4, 1, 2, 3, 4, 1, 2, 3, 4, 3, 2, 3, 1, 2, 1, 2, 3, 4, 3, 1, 3, 4, 1, 3, 4, 1, 2, 3, 4, 1, 2, 3, 3, 4, 3, 3, 1, 2, 3, 4, 3, 4, 1, 2, 3, 4, 3, 3, 1, 2, 3, 4, 3, 4, 1, 4, 1, 2, 3, 4, 1, 2, 3, 4, 1, 2, 3, 4, 1, 2, 3, 4, 1, 2, 3, 4, 2, 2, 1, 2, 3, 4, 1, 2, 3, 4, 2, 2, 4, 1, 2, 3, 4, 1, 2, 3, 4, 1, 2, 3, 4, 1, 2, 3, 4, 1, 2, 3, 4, 1, 2, 3, 4, 1, 2, 3, 4, 1, 3, 4, 1, 2, 3, 4, 1, 2, 3, 4, 1, 2, 3, 4, 1, 2, 3, 4, 1, 2, 3, 4, 2, 3, 2, 1, 2, 3, 4, 1, 2, 3, 4, 1, 2, 3, 4, 1, 2, 3, 4, 1, 3, 1, 2, 3, 4, 1, 2, 3, 4, 3, 4, 1, 2, 3, 4, 1, 2, 3, 4, 1, 2, 3, 4, 1, 2, 3, 4, 1, 2, 3, 4, 1, 2, 3, 4, 1, 2, 3, 4, 1, 2, 3, 4, 2, 1, 2, 3, 4, 1, 2, 3, 4, 1, 2, 3, 4, 3, 1, 2, 3, 4, 1, 2, 3, 4, 4, 1, 2, 3, 4, 2, 1, 2, 3, 4, 3, 1, 2, 3, 4, 1, 2, 3, 4, 1, 2, 3, 4, 1, 2, 3, 4, 3, 3, 1, 2, 3, 4, 1, 2, 3, 4, 1, 2, 3, 4, 1, 2, 3, 4, 2, 1, 2, 3, 4, 1, 2, 3, 4, 1, 2, 3, 4, 1, 2, 3, 4, 1, 2, 3, 4, 1, 2, 3, 4, 1, 1, 2, 3, 4, 1, 2, 1, 2, 1, 2, 4, 1, 2, 4, 2, 1, 2, 3, 4, 1, 2, 3, 4, 1, 2, 3, 4, 1, 2, 3, 4, 1, 2, 3, 4, 1, 2, 3, 4, 1, 2, 3, 4, 1, 2, 3, 4, 1, 2, 3, 4, 1, 2, 3, 4, 2, 2, 1, 2, 3, 4, 1, 2, 3, 4, 1, 2, 3, 4, 1, 2, 3, 4, 2, 4, 1, 2, 3, 4, 1, 2, 3, 4, 3, 4, 1, 2, 3, 4, 1, 3, 1, 2, 3, 4, 1, 2, 3, 4, 1, 2, 3, 4, 1, 2, 3, 4, 1, 2, 3, 4, 1, 2, 3, 4, 1, 2, 3, 4, 1, 4, 1, 2, 3, 4, 3, 1, 2, 3, 4, 3, 3, 1, 2, 3, 4, 1, 2, 3, 4, 1, 2, 3, 4, 1, 3, 4, 3, 1, 2, 3, 4, 1, 2, 3, 4, 1, 2, 3, 4, 1, 2, 3, 4, 1, 2, 3, 4, 1, 2, 3, 4, 2, 2, 1, 3, 1, 2, 3, 4, 1, 2, 3, 4, 1, 2, 3, 4, 2, 1, 2, 3, 4, 1, 2, 3, 4, 2, 3, 4, 2, 3, 4, 1, 2, 3, 4, 1, 2, 3, 4, 1, 2, 3, 4, 1, 2, 3, 4, 1, 2, 3, 4, 1, 2, 3, 4, 1, 4, 1, 2, 3, 4, 1, 2, 3, 4, 1, 2, 3, 4, 1, 2, 3, 4, 1, 2, 3, 4, 1, 2, 3, 4, 1, 3, 4, 1, 2, 3, 4, 1, 2, 3, 4, 2, 1, 2, 3, 4, 1, 2, 3, 4, 1, 2, 3, 4, 1, 2, 3, 4, 3, 1, 2, 3, 4, 1, 2, 3, 4, 1, 2, 3, 4, 1, 2, 3, 4, 2, 1, 2, 3, 4, 1, 2, 3, 4, 1, 2, 2, 2, 1, 2, 3, 4, 1, 2, 3, 4, 1, 2, 3, 4, 1, 2, 3, 4, 1, 2, 3, 4, 1, 2, 3, 4, 2, 4, 1, 2, 3, 4, 1, 2, 1, 2, 3, 4, 1, 2, 3, 4, 1, 2, 3, 4, 1, 2, 3, 4, 1, 2, 3, 4, 1, 2, 3, 4, 2, 1, 2, 3, 4, 1, 2, 3, 4, 1, 2, 3, 4, 1, 2, 3, 4, 1, 2, 3, 4, 1, 2, 3, 4, 1, 2, 3, 4, 1, 2, 3, 4, 1, 2, 3, 4, 1, 2, 3, 4, 1, 2, 3, 4, 1, 2, 3, 4, 3, 3, 3, 1, 2, 3, 4, 1, 2, 3, 4, 1, 2, 3, 4, 1, 2, 3, 4, 1, 2, 3, 4, 3, 4, 3, 4, 3, 4, 1, 4, 1, 2, 3, 4, 1, 2, 3, 4, 1, 2, 3, 4, 1, 2, 3, 4, 1, 3, 1, 2, 3, 4, 1, 2, 3, 4, 1, 2, 3, 4, 1, 2, 3, 4, 1, 2, 3, 4, 1, 2, 3, 4, 1, 3, 1, 2, 3, 4, 1, 2, 3, 4, 1, 2, 3, 4, 2, 2, 3, 4, 1, 2, 3, 4, 1, 2, 3, 4, 1, 2, 3, 4, 1, 2, 3, 4, 3, 4, 1, 2, 3, 4], \"Freq\": [0.006265208890862462, 0.06891729779948709, 0.8771292447207447, 0.04385646223603724, 0.024797696318525943, 0.004649568059723615, 0.02324784029861807, 0.9469620281637094, 0.9945300137175354, 0.9845346354252447, 0.016952534260548144, 0.9747707199815183, 0.008476267130274072, 0.004238133565137036, 0.005706627834724754, 0.022826511338899017, 0.9644201040684834, 0.005706627834724754, 0.02329150450058718, 0.005822876125146795, 0.9549516845240744, 0.017468628375440387, 0.9832464841947297, 0.03285783500716836, 0.9528772152078825, 0.008680317129371439, 0.9895561527483441, 0.0029750104739728416, 0.0029750104739728416, 0.9877034773589833, 0.005950020947945683, 0.9874923293052855, 0.003746939281183124, 0.9929389095135279, 0.003746939281183124, 0.009812248877251744, 0.9517881410934191, 0.03924899550900698, 0.04615187520746998, 0.09691893793568696, 0.8307337537344597, 0.027691125124481988, 0.9131917665418472, 0.018263835330836944, 0.05479150599251083, 0.9470935396773714, 0.0346497636467331, 0.9777193496183277, 0.9737037148043017, 0.009890970648587282, 0.04945485324293641, 0.009890970648587282, 0.9198602703186172, 0.005956664112247546, 0.9947629067453401, 0.007794732303510518, 0.007794732303510518, 0.9119836795107307, 0.07015259073159466, 0.9809553530629354, 0.9939379616446018, 0.8739670679302237, 0.0270299093174296, 0.09610634423974969, 0.0060066465149843555, 0.947190597586479, 0.034653314545846796, 0.058374453243219764, 0.9339912518915162, 0.5286793065037578, 0.07218130753003336, 0.3121353839136578, 0.08583723057625589, 0.04448175632410484, 0.03261995463767688, 0.011861801686427956, 0.9103932794333457, 0.10983578964419205, 0.015149764088854075, 0.015149764088854075, 0.8597491120424687, 0.08990117883321792, 0.065857840308055, 0.6815763790611405, 0.16307655695327902, 0.03964327193572717, 0.017619231971434297, 0.09250096785003005, 0.8501279426217048, 0.980688001562011, 0.9909847072484865, 0.03264607945346571, 0.9100094647653566, 0.02448455959009928, 0.028565319521782494, 0.0015487238961200231, 0.9927320174129348, 0.0015487238961200231, 0.0030974477922400463, 0.9929085508194101, 0.9937023332396222, 0.00512217697546197, 0.00307628965204779, 0.9936415576114362, 0.00307628965204779, 0.00307628965204779, 0.0024372565813517624, 0.9870889154474637, 0.0024372565813517624, 0.00974902632540705, 0.044326849915689005, 0.13931295687787973, 0.6680689523007415, 0.14564536400869244, 0.725119275250056, 0.04089018469455203, 0.0926844186409846, 0.14175264027444703, 0.05156430047688952, 0.04640787042920057, 0.13664539626375724, 0.7631516470579649, 0.024664725306411017, 0.03699708795961652, 0.012332362653205508, 0.9372595616436187, 0.012564989420783625, 0.03769496826235087, 0.03769496826235087, 0.9172442277172046, 0.01192067632064214, 0.9536541056513712, 0.03576202896192642, 0.013734555742181895, 0.05493822296872758, 0.013734555742181895, 0.9064806789840051, 0.28564089362519485, 0.20402920973228206, 0.2894664413076751, 0.22188176558385672, 0.8506769460344593, 0.007178708405354087, 0.11126998028298835, 0.03230418782409339, 0.8803475455804538, 0.020237874611044916, 0.09107043574970211, 0.010118937305522458, 0.007567524011881003, 0.0037837620059405015, 0.9043191194197798, 0.07945900212475053, 0.9873356800847974, 0.006904445315278304, 0.9930707530931104, 0.004165276875694692, 0.987170619539642, 0.004165276875694692, 0.004165276875694692, 0.010241645383316417, 0.9695424296206209, 0.008534704486097014, 0.010241645383316417, 0.00309640911222108, 0.9846580976863034, 0.01238563644888432, 0.00309640911222108, 0.006058185223558021, 0.9147859687572611, 0.05149457440024317, 0.030290926117790103, 0.9097530012834356, 0.03955447831667112, 0.9274104030168567, 0.017016704642511135, 0.03403340928502227, 0.0255250569637667, 0.8992822258911901, 0.007494018549093251, 0.014988037098186502, 0.07494018549093251, 0.03110371276576685, 0.9642150957387724, 0.09188473592557306, 0.6661643354604047, 0.02679971464495881, 0.21631198249145325, 0.9213239756942434, 0.012284319675923245, 0.02456863935184649, 0.036852959027769736, 0.005030091479705283, 0.9708076555831195, 0.02012036591882113, 0.005030091479705283, 0.0025492641090138317, 0.9840159460793391, 0.012746320545069158, 0.0025492641090138317, 0.9184736449125996, 0.024823612024664855, 0.04964722404932971, 0.024823612024664855, 0.05652547510078777, 0.7714064837283978, 0.006650055894210326, 0.16625139735525815, 0.05201852087751565, 0.046816668789764086, 0.7724750350311074, 0.12744537614991333, 0.009611080663348407, 0.9803302276615374, 0.004805540331674203, 0.009611080663348407, 0.9948138169509171, 0.32377127697889857, 0.030353557216771743, 0.1011785240559058, 0.5463640299018914, 0.152145537152634, 0.05832245590850969, 0.18764616248824859, 0.6009748717529042, 0.0969175308809852, 0.005701031228293248, 0.005701031228293248, 0.8950619028420399, 0.9909915167298728, 0.49557232581950905, 0.04850282337807961, 0.3015610323071906, 0.1518349253574666, 0.06255647994838263, 0.9284698602865212, 0.00329244631307277, 0.00329244631307277, 0.8981126202173582, 0.13011031933901923, 0.6877259736491016, 0.13807625725773467, 0.04248500223314913, 0.9899545121874146, 0.974665268944636, 0.008860593354042146, 0.008860593354042146, 0.008860593354042146, 0.969974664431185, 0.06662277105280509, 0.8691243314615937, 0.02119815442589253, 0.045424616626912565, 0.10689110717977718, 0.013361388397472147, 0.8551288574382174, 0.02004208259620822, 0.03149817960204449, 0.9466952869281151, 0.017498988667802497, 0.0034997977335604995, 0.016709439440987853, 0.09654342788126315, 0.3601812501724048, 0.5272756445822834, 0.9858725373513386, 0.9155857721999201, 0.21572686758045706, 0.017520963864402606, 0.7347854220633843, 0.032851807245754885, 0.2062900418950531, 0.6543064519002604, 0.07973173398397758, 0.060747987797316244, 0.18469314102794546, 0.2101680570318, 0.0806705673455394, 0.5222357780790182, 0.044941753812978054, 0.28762722440305954, 0.47124638998179846, 0.19645966666816123, 0.9916532405471462, 0.49780977071869587, 0.05502107992154007, 0.23056452538550123, 0.21746426826132503, 0.08698316201806795, 0.030177831720554188, 0.3390568152132853, 0.5432009709699754, 0.004940787156004176, 0.004940787156004176, 0.2223354220201879, 0.7658220091806472, 0.13337207242262084, 0.5385211980837898, 0.1736353395690724, 0.15476193309417324, 0.002087673995367593, 0.9937328217949744, 0.004175347990735186, 0.002087673995367593, 0.0038080748275595424, 0.9748671558552429, 0.01713633672401794, 0.0019040374137797712, 0.9866815998826537, 0.006330976184094875, 0.006330976184094875, 0.1266195236818975, 0.8673437372209979, 0.9268860115945969, 0.05149366731081094, 0.9210122705959216, 0.05262927260548124, 0.9673634622608432, 0.014882514804012974, 0.014882514804012974, 0.9574510900266502, 0.02279645452444405, 0.02279645452444405, 0.9833596384674614, 0.9140164664319685, 0.007431028182373727, 0.044586169094242366, 0.03715514091186864, 0.8878056512146, 0.0812779821534493, 0.025008609893369012, 0.006252152473342253, 0.08370993033355871, 0.010250195551048004, 0.025625488877620013, 0.8798084514649538, 0.8601591386728076, 0.009522056885676837, 0.05713234131406102, 0.07300243612352242, 0.05808514737060859, 0.10648943684611575, 0.7325182473960083, 0.10326248421441528, 0.9780823711347875, 0.004725035609346799, 0.004725035609346799, 0.014175106828040398, 0.021098882107897836, 0.023208770318687618, 0.9473398066446127, 0.008439552843159134, 0.024296167609163363, 0.044542973950132826, 0.8949088402708505, 0.040493612681938934, 0.062394814437767766, 0.03403353514787333, 0.005672255857978888, 0.8962164255606643, 0.0021656124852899297, 0.9961817432333677, 0.0021656124852899297, 0.0021656124852899297, 0.9851023216855187, 0.9927611901304295, 0.015415142509852696, 0.9557388356108671, 0.010276761673235131, 0.020553523346470263, 0.0535040253703825, 0.07553509464054001, 0.76794012884549, 0.10071345952072, 0.02171572416230844, 0.01085786208115422, 0.018096436801923698, 0.9482532884208018, 0.7787513887990108, 0.028206743216342124, 0.15942941817932504, 0.03311226377570597, 0.05545958178043384, 0.8873533084869415, 0.0027760980096154363, 0.0027760980096154363, 0.0027760980096154363, 0.9924550384375186, 0.04502089322166211, 0.02864965932287589, 0.15143391356377256, 0.7776336101923456, 0.04335216678882156, 0.9537476693540744, 0.56871708230288, 0.06554705355355227, 0.14458908872107118, 0.22170326937230916, 0.9531208663025156, 0.03864003512037225, 0.03243047616816711, 0.3243047616816711, 0.6220754974075692, 0.020637575743379072, 0.1892624655039636, 0.2709894392443115, 0.05591845571708016, 0.4839097129362706, 0.10622837519436155, 0.04998982362087603, 0.15309383483893282, 0.6904844387633501, 0.018845831886583453, 0.6649886394265875, 0.3096100952795853, 0.005384523396166701, 0.7046037139297228, 0.0648235416815345, 0.20856269932319793, 0.02254731884575113, 0.29388712737713746, 0.07282158908460043, 0.5461619181345032, 0.0884262153170148, 0.7372825163643217, 0.022192450325347477, 0.08137231785960741, 0.16027880790528734, 0.030037340917328563, 0.961194909354514, 0.0033443252787439463, 0.0033443252787439463, 0.9798873066719762, 0.013377301114975785, 0.9827219940558508, 0.006173480462598611, 0.8272463819882139, 0.03395414254429236, 0.13581657017716944, 0.977111687378068, 0.9908073934480214, 0.8756910743456774, 0.013005312985331842, 0.0910371908973229, 0.021675521642219735, 0.04230402378615252, 0.9076136012301813, 0.015383281376782734, 0.03461238309776115, 0.7510402568996046, 0.23124672760124065, 0.006139293653130283, 0.012278587306260566, 0.9519546478059543, 0.9675852191654267, 0.029320764217134143, 0.9760183500590738, 0.05459442303632185, 0.008189163455448277, 0.030026932669977018, 0.9089971435547588, 0.003964512167582727, 0.9435538958846892, 0.01585804867033091, 0.035680609508244546, 0.007020023419062268, 0.9828032786687175, 0.007020023419062268, 0.007020023419062268, 0.04483496396280309, 0.055595355313875834, 0.8626247066443314, 0.03586797117024247, 0.9749340936068853, 0.004555766792555539, 0.004555766792555539, 0.013667300377666617, 0.8604938252361446, 0.041569750011407954, 0.06651160001825272, 0.03325580000912636, 0.9894282122585806, 0.9952327931628417, 0.029285920675698282, 0.9664353822980433, 0.011514874256785927, 0.9465226639078032, 0.006908924554071556, 0.03684759762171497, 0.7079748088186836, 0.03679702748537857, 0.23550097590642283, 0.019134454292396852, 0.12196882524530972, 0.011957727965226444, 0.03587318389567933, 0.8298663207867152, 0.9954125704315563, 0.6299147560335454, 0.026147404967430187, 0.14737628254369742, 0.19729405566333688, 0.34951872411396473, 0.15831142209867813, 0.4625983113273063, 0.02878389492703239, 0.04355393303144922, 0.04355393303144922, 0.9146325936604336, 0.022213506532806626, 0.022213506532806626, 0.9329672743778782, 0.023316957559071278, 0.08160935145674947, 0.8549551104992802, 0.03886159593178546, 0.0036167556512499, 0.0325508008612491, 0.9331229580224742, 0.0289340452099992, 0.9808225370616693, 0.0035796442958455086, 0.007159288591691017, 0.010738932887536527, 0.8842880318988396, 0.003844730573473216, 0.015378922293892865, 0.0961182643368304, 0.25802554604876426, 0.011578069373983011, 0.26629559560160926, 0.46477678486988944, 0.825229561064051, 0.058165960251210645, 0.07270745031401331, 0.04362447018840798, 0.030913894814977052, 0.9583307392642886, 0.09754114446991274, 0.6588305372090597, 0.20192728153420533, 0.04106995556627905, 0.016544772528832404, 0.04963431758649721, 0.860328171499285, 0.07279699912686258, 0.11840645689513658, 0.1685014963507713, 0.07286551193546867, 0.6406092924326621, 0.941622134610583, 0.008048052432569085, 0.03219220973027634, 0.017705715351651986, 0.02747087687324101, 0.04883711444131735, 0.018313917915494006, 0.9065389368169533, 0.03334465926951733, 0.03189489147519049, 0.005799071177307362, 0.9278513883691779, 0.07209635436950033, 0.018024088592375084, 0.9192285182111293, 0.17324315837076182, 0.014436929864230152, 0.008249674208131516, 0.8022808167407899, 0.026965327155542788, 0.9653587121684318, 0.003595376954072372, 0.0053930654311085575, 0.98305793857605, 0.042368598520132056, 0.950939655674075, 0.00470762205779245, 0.00470762205779245, 0.009588652161446271, 0.981877981332098, 0.005753191296867762, 0.003835460864578508, 0.003419766363784182, 0.002564824772838136, 0.9831828295879522, 0.01111424068229859, 0.0021023593267564997, 0.0021023593267564997, 0.9944159615558245, 0.0021023593267564997, 0.9865004079110824, 0.6482698637620582, 0.04559696289457901, 0.12093107550301391, 0.18437032822590646, 0.6183249884982744, 0.17827618281519594, 0.19632946715091198, 0.009026642167858022, 0.9040998229220175, 0.04374676562525891, 0.014582255208419636, 0.029164510416839273, 0.13025077293874812, 0.07104587614840806, 0.05032416227178904, 0.7519021892373187, 0.9864083179412677, 0.4834496729834048, 0.01306620737792986, 0.4853162740373948, 0.0186660105398998, 0.7631362799233173, 0.0024073699682123574, 0.23110751694838633, 0.0024073699682123574, 0.9352627971250638, 0.04676313985625319, 0.9847855906512454, 0.990892574935511, 0.011960241027408124, 0.015946988036544166, 0.5900385573521341, 0.38073433937249196, 0.30341309613537426, 0.1345322218713452, 0.06154133553689195, 0.49948665354361144, 0.24219576039885451, 0.008928875959404774, 0.08035988363464297, 0.6685495874604325, 0.6327301068953913, 0.03685806447934318, 0.20118360194974821, 0.12900322567770114, 0.6688994508451364, 0.04906984388439224, 0.05940033733373798, 0.22468823252326975, 0.01850850592485601, 0.8166878239342713, 0.011567816203035005, 0.15500873712066907, 0.9861521190767308, 0.006530808735607489, 0.016345185109089732, 0.7285282505765709, 0.016345185109089732, 0.24050772374803464, 0.9589714960837752, 0.03424898200299197, 0.0174321932477066, 0.9529598975412943, 0.0087160966238533, 0.020337558788991034, 0.010770845539154235, 0.010770845539154235, 0.07539591877407964, 0.9047510252889557, 0.9599195725457178, 0.012466487955139192, 0.012466487955139192, 0.012466487955139192, 0.05955124256250735, 0.04300923073958864, 0.009925207093751226, 0.8899602360730265, 0.035691644544256246, 0.05532204904359718, 0.007138328908851249, 0.9029986069696829, 0.04017846638474329, 0.025111541490464555, 0.010044616596185822, 0.9241047268490956, 0.986699048740544, 0.02134287883106246, 0.007114292943687486, 0.007114292943687486, 0.9675438403414982, 0.18339080348443454, 0.7554606233090139, 0.04105764257114206, 0.019160233199866296, 0.09417927581861725, 0.006278618387907817, 0.012557236775815633, 0.8852851926950022, 0.05201045354117611, 0.9275197548176407, 0.008668408923529353, 0.008668408923529353, 0.9223781906913119, 0.04472136682139694, 0.005590170852674618, 0.027950854263373088, 0.9643375431710238, 0.012523864197026283, 0.012523864197026283, 0.025047728394052567, 0.020897985095893287, 0.9717563069590379, 0.005224496273973322, 0.005224496273973322, 0.7808069514835485, 0.054826638239764906, 0.07373237556382177, 0.09074753915547296, 0.9244060402159785, 0.012408134767999712, 0.03412237061199921, 0.02791830322799935, 0.051583644776381894, 0.014738184221823398, 0.051583644776381894, 0.8842910533094039, 0.07603474436755862, 0.13275907746716586, 0.7277611246609184, 0.063965737325089, 0.9348287744940968, 0.03760805414631424, 0.016117737491277533, 0.010745158327518356, 0.9806137231886612, 0.9648784314556568, 0.9246614344506175, 0.0520211647372785, 0.21241975601055388, 0.5852381032943831, 0.15172839715039563, 0.018702352741494288, 0.014026764556120716, 0.939793225260088, 0.02337794092686786, 0.014458665881765443, 0.014458665881765443, 0.9274201401303834, 0.04337599764529633, 0.0034975230965099426, 0.0017487615482549713, 0.008743807741274857, 0.9845527516675489, 0.0026418964659342533, 0.0026418964659342533, 0.005283792931868507, 0.990711174725345, 0.01588953960323782, 0.9772066855991258, 0.05585025709000467, 0.9494543705300794, 0.022760218510632178, 0.9786893959571836, 0.07202886972479233, 0.9003608715599042, 0.8559261262270871, 0.08238861108068218, 0.03204001542026529, 0.027462870360227393, 0.8409167637105098, 0.10994318112116207, 0.00594287465519795, 0.04457155991398462, 0.9241442639416868, 0.02384888423075321, 0.005962221057688302, 0.04769776846150642, 0.02474783421661934, 0.9701151012914782, 0.004949566843323868, 0.004949566843323868, 0.07303510231796172, 0.9220681667642666, 0.2306700710552625, 0.2327481798035081, 0.5091366433201739, 0.02909352247543851, 0.2922123078462599, 0.3230487825436039, 0.3289223967716694, 0.05433093160960611, 0.037611627812122767, 0.8750972070953897, 0.04764139522868884, 0.04011906966626429, 0.8954589325771362, 0.06149074215121965, 0.036510128152286665, 0.0057647570766768425, 0.9485897098823298, 0.004582558984938792, 0.027495353909632748, 0.013747676954816374, 0.7778410329527758, 0.04122832330138387, 0.08795375637628561, 0.09345086614980345, 0.012872287215024314, 0.9782938283418479, 0.09721468007991695, 0.01944293601598339, 0.10110326728311363, 0.7816060278425322, 0.09558957961061393, 0.14589988466883178, 0.7219528775854263, 0.036474971167207944, 0.21107943960611927, 0.015295611565660817, 0.048945957010114616, 0.7234824270557566, 0.9962253560826703, 0.9884489853477109, 0.009413799860454389, 0.009413799860454389, 0.029716834538754257, 0.007429208634688564, 0.014858417269377129, 0.9435094966054476, 0.9091755607083816, 0.027643851508025116, 0.02457231245157788, 0.039930007733814055, 0.011181526153129312, 0.011181526153129312, 0.022363052306258624, 0.9616112491691208, 0.04197389833827336, 0.00599627119118191, 0.929422034633196, 0.017988813573545728, 0.07629146861247957, 0.9154976233497548, 0.004984520927452902, 0.966997059925863, 0.02990712556471741, 0.004984520927452902], \"Term\": [\"accelerated\", \"accelerated\", \"accelerated\", \"accelerated\", \"active_learning\", \"active_learning\", \"active_learning\", \"active_learning\", \"adaptive_allocation\", \"alex_graf\", \"analogy\", \"analogy\", \"analogy\", \"analogy\", \"arm\", \"arm\", \"arm\", \"arm\", \"armed\", \"armed\", \"armed\", \"armed\", \"audibert\", \"auer\", \"auer\", \"autoencoder\", \"autoencoder\", \"bandit\", \"bandit\", \"bandit\", \"bandit\", \"bandit_feedback\", \"bandit_problem\", \"bandit_problem\", \"bandit_problem\", \"bandit_setting\", \"bandit_setting\", \"bandit_setting\", \"bayesian_optimization\", \"bayesian_optimization\", \"bayesian_optimization\", \"bayesian_optimization\", \"bellman\", \"bellman\", \"bellman\", \"bianchi\", \"bianchi\", \"bianchi_lugosi\", \"bianchi_regret\", \"bipartite\", \"bipartite\", \"bipartite\", \"bipartite\", \"bipartite_graph\", \"bipartite_graph\", \"boosting\", \"boosting\", \"boosting\", \"boosting\", \"bubeck\", \"bubeck_cesa\", \"causal\", \"causal\", \"causal\", \"causal\", \"cesa\", \"cesa\", \"chatterjee\", \"chatterjee\", \"closed_form\", \"closed_form\", \"closed_form\", \"closed_form\", \"completion\", \"completion\", \"completion\", \"completion\", \"compressed_sensing\", \"compressed_sensing\", \"compressed_sensing\", \"compressed_sensing\", \"convergence_rate\", \"convergence_rate\", \"convergence_rate\", \"convergence_rate\", \"convex_relaxation\", \"convex_relaxation\", \"convex_relaxation\", \"convex_relaxation\", \"convnet\", \"convnets\", \"convolution\", \"convolution\", \"convolution\", \"convolution\", \"convolutional\", \"convolutional\", \"convolutional\", \"convolutional\", \"convolutional_architecture\", \"convolutional_layer\", \"convolutional_layer\", \"convolutional_network\", \"convolutional_network\", \"convolutional_network\", \"convolutional_network\", \"convolutional_neural\", \"convolutional_neural\", \"convolutional_neural\", \"convolutional_neural\", \"coordinate_descent\", \"coordinate_descent\", \"coordinate_descent\", \"coordinate_descent\", \"covariance_matrix\", \"covariance_matrix\", \"covariance_matrix\", \"covariance_matrix\", \"cover\", \"cover\", \"cover\", \"cover\", \"crowd\", \"crowd\", \"crowd\", \"crowd\", \"crowdsourcing\", \"crowdsourcing\", \"crowdsourcing\", \"crowdsourcing\", \"cumulative_regret\", \"cumulative_regret\", \"cumulative_regret\", \"cut\", \"cut\", \"cut\", \"cut\", \"data_set\", \"data_set\", \"data_set\", \"data_set\", \"decision_making\", \"decision_making\", \"decision_making\", \"decision_making\", \"decision_rule\", \"decision_rule\", \"decision_rule\", \"decision_rule\", \"decision_tree\", \"decision_tree\", \"decision_tree\", \"decision_tree\", \"deep_architecture\", \"deep_architecture\", \"deep_boltzmann\", \"deep_convolutional\", \"deep_convolutional\", \"deep_convolutional\", \"deep_convolutional\", \"deep_learning\", \"deep_learning\", \"deep_learning\", \"deep_learning\", \"deep_network\", \"deep_network\", \"deep_network\", \"deep_network\", \"deep_neural\", \"deep_neural\", \"deep_neural\", \"deep_neural\", \"demonstration\", \"demonstration\", \"differentially\", \"differentially\", \"differentially\", \"differentially\", \"directed_edge\", \"directed_edge\", \"directed_edge\", \"directed_edge\", \"disagreement\", \"disagreement\", \"document\", \"document\", \"document\", \"document\", \"drift\", \"drift\", \"drift\", \"drift\", \"dropout\", \"dropout\", \"dropout\", \"dropout\", \"during_training\", \"during_training\", \"during_training\", \"during_training\", \"each_trial\", \"each_trial\", \"each_trial\", \"each_trial\", \"embedding\", \"embedding\", \"embedding\", \"embedding\", \"empirical_risk\", \"empirical_risk\", \"empirical_risk\", \"empirical_risk\", \"encoder\", \"encoder\", \"encoder\", \"encoder\", \"encoder_decoder\", \"estimation_error\", \"estimation_error\", \"estimation_error\", \"estimation_error\", \"event\", \"event\", \"event\", \"event\", \"exact_recovery\", \"exact_recovery\", \"exact_recovery\", \"exact_recovery\", \"expected_reward\", \"exponential_family\", \"exponential_family\", \"exponential_family\", \"exponential_family\", \"feature_map\", \"feature_map\", \"feature_map\", \"feature_map\", \"feige\", \"filter\", \"filter\", \"filter\", \"filter\", \"fine_tuning\", \"firing\", \"firing\", \"firing\", \"firing\", \"fischer_finite\", \"frame\", \"frame\", \"frame\", \"frame\", \"frank\", \"frank\", \"frank\", \"frank\", \"fully_connected\", \"fully_connected\", \"fully_connected\", \"fully_connected\", \"game\", \"game\", \"game\", \"game\", \"game_cambridge\", \"game_cambridge_university_press\", \"gaussian_process\", \"gaussian_process\", \"gaussian_process\", \"gaussian_process\", \"generative_model\", \"generative_model\", \"generative_model\", \"generative_model\", \"gibbs_sampling\", \"gibbs_sampling\", \"gibbs_sampling\", \"gibbs_sampling\", \"gradient_descent\", \"gradient_descent\", \"gradient_descent\", \"gradient_descent\", \"grammar\", \"graphical_model\", \"graphical_model\", \"graphical_model\", \"graphical_model\", \"greedy\", \"greedy\", \"greedy\", \"greedy\", \"greedy_algorithm\", \"greedy_algorithm\", \"greedy_algorithm\", \"greedy_algorithm\", \"ground_truth\", \"ground_truth\", \"ground_truth\", \"ground_truth\", \"hidden_layer\", \"hidden_layer\", \"hidden_layer\", \"hidden_layer\", \"hidden_unit\", \"hidden_unit\", \"hidden_unit\", \"hidden_unit\", \"hlmann\", \"hypothesis_class\", \"hypothesis_class\", \"hypothesis_class\", \"hypothesis_class\", \"hyva\", \"hyva\", \"hyva_rinen\", \"hyva_rinen\", \"identifiability\", \"identifiability\", \"identifiability\", \"identifiable\", \"identifiable\", \"identifiable\", \"image_caption\", \"infinite_dimensional\", \"infinite_dimensional\", \"infinite_dimensional\", \"infinite_dimensional\", \"initial_state\", \"initial_state\", \"initial_state\", \"initial_state\", \"item\", \"item\", \"item\", \"item\", \"lasso\", \"lasso\", \"lasso\", \"lasso\", \"learner\", \"learner\", \"learner\", \"learner\", \"lifted\", \"lifted\", \"lifted\", \"lifted\", \"line_search\", \"line_search\", \"line_search\", \"line_search\", \"linear_convergence\", \"linear_convergence\", \"linear_convergence\", \"linear_convergence\", \"link_function\", \"link_function\", \"link_function\", \"link_function\", \"lstm\", \"lstm\", \"lstm\", \"lstm\", \"lstm_lstm\", \"lstms\", \"machine_translation\", \"machine_translation\", \"machine_translation\", \"machine_translation\", \"marginal_likelihood\", \"marginal_likelihood\", \"marginal_likelihood\", \"marginal_likelihood\", \"market\", \"market\", \"market\", \"market\", \"markov_chain\", \"markov_chain\", \"markov_chain\", \"markov_chain\", \"martinsson\", \"martinsson\", \"matrix_completion\", \"matrix_completion\", \"matrix_completion\", \"matrix_completion\", \"matrix_factorization\", \"matrix_factorization\", \"matrix_factorization\", \"matrix_factorization\", \"maximizing_submodular\", \"maximizing_submodular\", \"maximum_likelihood\", \"maximum_likelihood\", \"maximum_likelihood\", \"maximum_likelihood\", \"mdps\", \"mdps\", \"mean_field\", \"mean_field\", \"mean_field\", \"mean_field\", \"mechanism\", \"mechanism\", \"mechanism\", \"mechanism\", \"message\", \"message\", \"message\", \"message\", \"mini_batch\", \"mini_batch\", \"mini_batch\", \"mini_batch\", \"mixture_model\", \"mixture_model\", \"mixture_model\", \"mixture_model\", \"model_selection\", \"model_selection\", \"model_selection\", \"model_selection\", \"moment\", \"moment\", \"moment\", \"moment\", \"montanari\", \"montanari\", \"multi_armed\", \"multi_armed\", \"multi_armed\", \"multi_armed\", \"multi_armed_bandit_problem\", \"multi_label\", \"multi_label\", \"multi_label\", \"multi_label\", \"multiarmed\", \"multiarmed_bandit\", \"mutual_information\", \"mutual_information\", \"mutual_information\", \"mutual_information\", \"natural_image\", \"natural_image\", \"natural_image\", \"natural_image\", \"neuron\", \"neuron\", \"neuron\", \"neuron\", \"neurosci\", \"nicolo\", \"nicolo\", \"nonstochastic\", \"nuclear_norm\", \"nuclear_norm\", \"nuclear_norm\", \"nuclear_norm\", \"object_detection\", \"object_detection\", \"object_detection\", \"object_detection\", \"object_recognition\", \"object_recognition\", \"object_recognition\", \"object_recognition\", \"online_learning\", \"online_learning\", \"online_learning\", \"online_learning\", \"optimal_control\", \"optimal_control\", \"optimal_control\", \"optimal_control\", \"parent\", \"parent\", \"parent\", \"parent\", \"parsing\", \"patch\", \"peter_auer\", \"peter_auer\", \"pixel\", \"pixel\", \"pixel\", \"pixel\", \"policy\", \"policy\", \"policy\", \"policy\", \"polynomial_time\", \"polynomial_time\", \"polynomial_time\", \"polynomial_time\", \"pooling_layer\", \"population\", \"population\", \"population\", \"population\", \"posterior_distribution\", \"posterior_distribution\", \"posterior_distribution\", \"posterior_distribution\", \"prateek\", \"prateek\", \"prateek\", \"prateek_jain\", \"prateek_jain\", \"prateek_jain\", \"primal\", \"primal\", \"primal\", \"primal\", \"primal_dual\", \"primal_dual\", \"primal_dual\", \"primal_dual\", \"privacy\", \"privacy\", \"privacy\", \"privacy\", \"private\", \"private\", \"private\", \"private\", \"probability_least\", \"probability_least\", \"probability_least\", \"probability_least\", \"probability_measure\", \"probability_measure\", \"probability_measure\", \"probability_measure\", \"proceeding_forty\", \"proceeding_forty\", \"proposal\", \"proposal\", \"proposal\", \"proposal\", \"proximal\", \"proximal\", \"proximal\", \"proximal\", \"query\", \"query\", \"query\", \"query\", \"random_walk\", \"random_walk\", \"random_walk\", \"random_walk\", \"rank_approximation\", \"rank_approximation\", \"rank_approximation\", \"rank_approximation\", \"rank_matrix\", \"rank_matrix\", \"rank_matrix\", \"rank_matrix\", \"recommendation_system\", \"recommendation_system\", \"recommendation_system\", \"recovery\", \"recovery\", \"recovery\", \"recovery\", \"recurrent\", \"recurrent\", \"recurrent\", \"recurrent\", \"recurrent_convolutional\", \"recurrent_network\", \"recurrent_network\", \"recurrent_network\", \"recurrent_network\", \"recurrent_neural\", \"recurrent_neural\", \"recurrent_neural\", \"recurrent_neural\", \"regret\", \"regret\", \"regret\", \"regret\", \"regret_bound\", \"regret_bound\", \"regret_bound\", \"regret_bound\", \"regret_regret\", \"regularization_parameter\", \"regularization_parameter\", \"regularization_parameter\", \"regularization_parameter\", \"reinforcement_learning\", \"reinforcement_learning\", \"reinforcement_learning\", \"reinforcement_learning\", \"relational\", \"relational\", \"relational\", \"relational\", \"relative_error\", \"relative_error\", \"relative_error\", \"relative_error\", \"relu\", \"reward\", \"reward\", \"reward\", \"reward\", \"reward_function\", \"reward_function\", \"reward_function\", \"reward_function\", \"rinen\", \"rinen\", \"rmsprop\", \"rnns\", \"round\", \"round\", \"round\", \"round\", \"running_time\", \"running_time\", \"running_time\", \"running_time\", \"sample_complexity\", \"sample_complexity\", \"sample_complexity\", \"sample_complexity\", \"sample_size\", \"sample_size\", \"sample_size\", \"sample_size\", \"sampler\", \"sampler\", \"sampler\", \"sampler\", \"segmentation\", \"segmentation\", \"segmentation\", \"segmentation\", \"semantic_segmentation\", \"semantic_segmentation\", \"semi_supervised\", \"semi_supervised\", \"semi_supervised\", \"semi_supervised\", \"sensory\", \"sensory\", \"sentence\", \"sentence\", \"sentence\", \"sentence\", \"side_information\", \"side_information\", \"side_information\", \"side_information\", \"simulated_data\", \"simulated_data\", \"simulated_data\", \"simulated_data\", \"singular\", \"singular\", \"singular\", \"singular\", \"singular_value\", \"singular_value\", \"singular_value\", \"singular_value\", \"singular_vector\", \"singular_vector\", \"singular_vector\", \"singular_vector\", \"softmax_layer\", \"sparse_recovery\", \"sparse_recovery\", \"sparse_recovery\", \"sparse_recovery\", \"spatial\", \"spatial\", \"spatial\", \"spatial\", \"spectral_clustering\", \"spectral_clustering\", \"spectral_clustering\", \"spectral_clustering\", \"speech_recognition\", \"speech_recognition\", \"speech_recognition\", \"speech_recognition\", \"spike\", \"spike\", \"spike\", \"spike\", \"spiking\", \"spiking\", \"spiking\", \"spiking\", \"stack\", \"stack\", \"stack\", \"stack\", \"state_space\", \"state_space\", \"state_space\", \"state_space\", \"stationary_distribution\", \"stationary_distribution\", \"stationary_distribution\", \"stationary_distribution\", \"stein\", \"stein\", \"stein\", \"stein\", \"step_size\", \"step_size\", \"step_size\", \"step_size\", \"stimulus\", \"stimulus\", \"stimulus\", \"stimulus\", \"stochastic_bandit\", \"stochastic_nonstochastic\", \"stochastic_nonstochastic_multi_armed\", \"stochastic_optimization\", \"stochastic_optimization\", \"stochastic_optimization\", \"stochastic_optimization\", \"strong_convexity\", \"strong_convexity\", \"strong_convexity\", \"strong_convexity\", \"strongly_convex\", \"strongly_convex\", \"strongly_convex\", \"strongly_convex\", \"submodular\", \"submodular\", \"submodular\", \"submodular\", \"submodular_function\", \"submodular_function\", \"submodular_function\", \"submodular_function\", \"submodular_maximization\", \"submodular_maximization\", \"submodular_optimization\", \"submodular_optimization\", \"submodularity\", \"submodularity\", \"sujay_sanghavi\", \"sujay_sanghavi\", \"symmetry\", \"symmetry\", \"symmetry\", \"symmetry\", \"tensor\", \"tensor\", \"tensor\", \"tensor\", \"tensor_decomposition\", \"tensor_decomposition\", \"tensor_decomposition\", \"tensor_decomposition\", \"texture\", \"texture\", \"texture\", \"texture\", \"time_horizon\", \"time_horizon\", \"time_series\", \"time_series\", \"time_series\", \"time_series\", \"time_step\", \"time_step\", \"time_step\", \"time_step\", \"topic_model\", \"topic_model\", \"topic_model\", \"topic_model\", \"trajectory\", \"trajectory\", \"trajectory\", \"trajectory\", \"transition_probability\", \"transition_probability\", \"transition_probability\", \"transition_probability\", \"trial\", \"trial\", \"trial\", \"trial\", \"upper_confidence\", \"upper_confidence\", \"utility\", \"utility\", \"utility\", \"utility\", \"variational_inference\", \"variational_inference\", \"variational_inference\", \"variational_inference\", \"vertex\", \"vertex\", \"vertex\", \"vertex\", \"very_deep\", \"visual_recognition\", \"visual_recognition\", \"visual_recognition\", \"voting\", \"voting\", \"voting\", \"voting\", \"walk\", \"walk\", \"walk\", \"walk\", \"weighted_graph\", \"weighted_graph\", \"weighted_graph\", \"weighted_graph\", \"wolfe\", \"wolfe\", \"wolfe\", \"wolfe\", \"wolsey\", \"wolsey\", \"yoshua_bengio\", \"yoshua_bengio\", \"yoshua_bengio\", \"yoshua_bengio\"]}, \"mdsDat\": {\"y\": [0.014104882999577238, 0.010852311745905022, -0.10773777105467067, 0.08278057630918839], \"cluster\": [1, 1, 1, 1], \"Freq\": [27.20146619824953, 25.653688099021288, 24.23487860961023, 22.909967093118958], \"topics\": [1, 2, 3, 4], \"x\": [0.04202229010690363, -0.17261574454049464, 0.0500216444526824, 0.0805718099809085]}, \"R\": 30, \"lambda.step\": 0.01, \"tinfo\": {\"Category\": [\"Default\", \"Default\", \"Default\", \"Default\", \"Default\", \"Default\", \"Default\", \"Default\", \"Default\", \"Default\", \"Default\", \"Default\", \"Default\", \"Default\", \"Default\", \"Default\", \"Default\", \"Default\", \"Default\", \"Default\", \"Default\", \"Default\", \"Default\", \"Default\", \"Default\", \"Default\", \"Default\", \"Default\", \"Default\", \"Default\", \"Topic1\", \"Topic1\", \"Topic1\", \"Topic1\", \"Topic1\", \"Topic1\", \"Topic1\", \"Topic1\", \"Topic1\", \"Topic1\", \"Topic1\", \"Topic1\", \"Topic1\", \"Topic1\", \"Topic1\", \"Topic1\", \"Topic1\", \"Topic1\", \"Topic1\", \"Topic1\", \"Topic1\", \"Topic1\", \"Topic1\", \"Topic1\", \"Topic1\", \"Topic1\", \"Topic1\", \"Topic1\", \"Topic1\", \"Topic1\", \"Topic1\", \"Topic1\", \"Topic1\", \"Topic1\", \"Topic1\", \"Topic1\", \"Topic1\", \"Topic1\", \"Topic1\", \"Topic1\", \"Topic1\", \"Topic1\", \"Topic1\", \"Topic1\", \"Topic1\", \"Topic1\", \"Topic1\", \"Topic1\", \"Topic1\", \"Topic1\", \"Topic1\", \"Topic1\", \"Topic1\", \"Topic1\", \"Topic1\", \"Topic1\", \"Topic1\", \"Topic1\", \"Topic1\", \"Topic1\", \"Topic1\", \"Topic2\", \"Topic2\", \"Topic2\", \"Topic2\", \"Topic2\", \"Topic2\", \"Topic2\", \"Topic2\", \"Topic2\", \"Topic2\", \"Topic2\", \"Topic2\", \"Topic2\", \"Topic2\", \"Topic2\", \"Topic2\", \"Topic2\", \"Topic2\", \"Topic2\", \"Topic2\", \"Topic2\", \"Topic2\", \"Topic2\", \"Topic2\", \"Topic2\", \"Topic2\", \"Topic2\", \"Topic2\", \"Topic2\", \"Topic2\", \"Topic2\", \"Topic2\", \"Topic2\", \"Topic2\", \"Topic2\", \"Topic2\", \"Topic2\", \"Topic2\", \"Topic2\", \"Topic2\", \"Topic2\", \"Topic2\", \"Topic2\", \"Topic2\", \"Topic2\", \"Topic2\", \"Topic2\", \"Topic2\", \"Topic2\", \"Topic2\", \"Topic2\", \"Topic2\", \"Topic2\", \"Topic2\", \"Topic2\", \"Topic2\", \"Topic2\", \"Topic2\", \"Topic2\", \"Topic2\", \"Topic2\", \"Topic2\", \"Topic2\", \"Topic2\", \"Topic2\", \"Topic2\", \"Topic2\", \"Topic2\", \"Topic3\", \"Topic3\", \"Topic3\", \"Topic3\", \"Topic3\", \"Topic3\", \"Topic3\", \"Topic3\", \"Topic3\", \"Topic3\", \"Topic3\", \"Topic3\", \"Topic3\", \"Topic3\", \"Topic3\", \"Topic3\", \"Topic3\", \"Topic3\", \"Topic3\", \"Topic3\", \"Topic3\", \"Topic3\", \"Topic3\", \"Topic3\", \"Topic3\", \"Topic3\", \"Topic3\", \"Topic3\", \"Topic3\", \"Topic3\", \"Topic3\", \"Topic3\", \"Topic3\", \"Topic3\", \"Topic3\", \"Topic3\", \"Topic3\", \"Topic3\", \"Topic3\", \"Topic3\", \"Topic3\", \"Topic3\", \"Topic3\", \"Topic3\", \"Topic3\", \"Topic3\", \"Topic3\", \"Topic3\", \"Topic3\", \"Topic3\", \"Topic3\", \"Topic3\", \"Topic3\", \"Topic3\", \"Topic3\", \"Topic3\", \"Topic3\", \"Topic3\", \"Topic3\", \"Topic3\", \"Topic3\", \"Topic3\", \"Topic3\", \"Topic3\", \"Topic3\", \"Topic3\", \"Topic3\", \"Topic4\", \"Topic4\", \"Topic4\", \"Topic4\", \"Topic4\", \"Topic4\", \"Topic4\", \"Topic4\", \"Topic4\", \"Topic4\", \"Topic4\", \"Topic4\", \"Topic4\", \"Topic4\", \"Topic4\", \"Topic4\", \"Topic4\", \"Topic4\", \"Topic4\", \"Topic4\", \"Topic4\", \"Topic4\", \"Topic4\", \"Topic4\", \"Topic4\", \"Topic4\", \"Topic4\", \"Topic4\", \"Topic4\", \"Topic4\", \"Topic4\", \"Topic4\", \"Topic4\", \"Topic4\", \"Topic4\", \"Topic4\", \"Topic4\", \"Topic4\", \"Topic4\", \"Topic4\", \"Topic4\", \"Topic4\", \"Topic4\", \"Topic4\", \"Topic4\", \"Topic4\", \"Topic4\", \"Topic4\", \"Topic4\", \"Topic4\", \"Topic4\", \"Topic4\", \"Topic4\", \"Topic4\", \"Topic4\", \"Topic4\", \"Topic4\", \"Topic4\", \"Topic4\", \"Topic4\", \"Topic4\", \"Topic4\", \"Topic4\"], \"Term\": [\"regret\", \"matrix_completion\", \"bandit\", \"convolutional\", \"rank_matrix\", \"active_learning\", \"submodular\", \"deep_learning\", \"regret_bound\", \"recurrent\", \"recurrent_neural\", \"hidden_unit\", \"fully_connected\", \"hidden_layer\", \"random_walk\", \"gaussian_process\", \"lstm\", \"singular_value\", \"item\", \"line_search\", \"sample_complexity\", \"submodular_function\", \"strongly_convex\", \"convolutional_neural\", \"during_training\", \"tensor\", \"online_learning\", \"markov_chain\", \"pixel\", \"vertex\", \"privacy\", \"optimal_control\", \"lifted\", \"firing\", \"identifiability\", \"spiking\", \"neurosci\", \"hlmann\", \"simulated_data\", \"sensory\", \"identifiable\", \"mdps\", \"transition_probability\", \"random_walk\", \"stimulus\", \"differentially\", \"tensor_decomposition\", \"stationary_distribution\", \"demonstration\", \"drift\", \"spike\", \"bellman\", \"hyva_rinen\", \"infinite_dimensional\", \"rinen\", \"each_trial\", \"relational\", \"walk\", \"hyva\", \"directed_edge\", \"trajectory\", \"private\", \"causal\", \"decision_rule\", \"mutual_information\", \"tensor\", \"initial_state\", \"lasso\", \"parent\", \"decision_making\", \"markov_chain\", \"symmetry\", \"state_space\", \"probability_measure\", \"covariance_matrix\", \"neuron\", \"reward_function\", \"policy\", \"trial\", \"moment\", \"sample_size\", \"regularization_parameter\", \"mixture_model\", \"sampler\", \"graphical_model\", \"reinforcement_learning\", \"maximum_likelihood\", \"population\", \"closed_form\", \"reward\", \"exponential_family\", \"lstm\", \"convolutional_network\", \"patch\", \"convolutional\", \"hidden_layer\", \"convolutional_layer\", \"pooling_layer\", \"encoder_decoder\", \"very_deep\", \"lstms\", \"rnns\", \"relu\", \"deep_boltzmann\", \"convnets\", \"lstm_lstm\", \"alex_graf\", \"autoencoder\", \"semantic_segmentation\", \"grammar\", \"parsing\", \"rmsprop\", \"deep_convolutional\", \"recurrent_convolutional\", \"softmax_layer\", \"convolutional_neural\", \"deep_architecture\", \"image_caption\", \"convolutional_architecture\", \"fine_tuning\", \"convnet\", \"recurrent_neural\", \"during_training\", \"deep_network\", \"hidden_unit\", \"encoder\", \"deep_learning\", \"visual_recognition\", \"object_recognition\", \"recurrent\", \"analogy\", \"dropout\", \"fully_connected\", \"stack\", \"texture\", \"sentence\", \"pixel\", \"yoshua_bengio\", \"object_detection\", \"feature_map\", \"machine_translation\", \"recurrent_network\", \"deep_neural\", \"topic_model\", \"speech_recognition\", \"natural_image\", \"frame\", \"embedding\", \"segmentation\", \"generative_model\", \"convolution\", \"multi_label\", \"proposal\", \"semi_supervised\", \"document\", \"ground_truth\", \"spatial\", \"filter\", \"mini_batch\", \"regret_bound\", \"bandit_problem\", \"expected_reward\", \"bandit_feedback\", \"bandit\", \"regret_regret\", \"bubeck\", \"upper_confidence\", \"multiarmed_bandit\", \"regret\", \"multi_armed_bandit_problem\", \"fischer_finite\", \"multi_armed\", \"bubeck_cesa\", \"bianchi_regret\", \"stochastic_nonstochastic\", \"audibert\", \"stochastic_bandit\", \"multiarmed\", \"nonstochastic\", \"bianchi_lugosi\", \"game_cambridge\", \"nicolo\", \"arm\", \"peter_auer\", \"stochastic_nonstochastic_multi_armed\", \"game_cambridge_university_press\", \"cumulative_regret\", \"armed\", \"adaptive_allocation\", \"line_search\", \"cesa\", \"bianchi\", \"strongly_convex\", \"strong_convexity\", \"primal_dual\", \"bandit_setting\", \"wolfe\", \"auer\", \"decision_tree\", \"linear_convergence\", \"online_learning\", \"boosting\", \"time_horizon\", \"proximal\", \"primal\", \"accelerated\", \"gaussian_process\", \"step_size\", \"variational_inference\", \"convergence_rate\", \"empirical_risk\", \"bayesian_optimization\", \"marginal_likelihood\", \"learner\", \"frank\", \"round\", \"coordinate_descent\", \"stochastic_optimization\", \"gradient_descent\", \"mean_field\", \"reward\", \"time_series\", \"posterior_distribution\", \"model_selection\", \"time_step\", \"data_set\", \"matrix_completion\", \"bipartite_graph\", \"submodular_function\", \"submodular\", \"submodular_maximization\", \"submodularity\", \"sparse_recovery\", \"weighted_graph\", \"disagreement\", \"montanari\", \"proceeding_forty\", \"market\", \"maximizing_submodular\", \"active_learning\", \"voting\", \"prateek_jain\", \"feige\", \"crowd\", \"prateek\", \"submodular_optimization\", \"rank_matrix\", \"singular_vector\", \"bipartite\", \"wolsey\", \"martinsson\", \"sujay_sanghavi\", \"recommendation_system\", \"crowdsourcing\", \"cut\", \"chatterjee\", \"nuclear_norm\", \"completion\", \"singular_value\", \"rank_approximation\", \"side_information\", \"item\", \"singular\", \"exact_recovery\", \"link_function\", \"spectral_clustering\", \"compressed_sensing\", \"polynomial_time\", \"stein\", \"recovery\", \"convex_relaxation\", \"hypothesis_class\", \"vertex\", \"greedy_algorithm\", \"cover\", \"sample_complexity\", \"relative_error\", \"utility\", \"query\", \"matrix_factorization\", \"message\", \"running_time\", \"greedy\", \"game\", \"event\", \"probability_least\", \"gibbs_sampling\", \"mechanism\", \"estimation_error\"], \"loglift\": [30.0, 29.0, 28.0, 27.0, 26.0, 25.0, 24.0, 23.0, 22.0, 21.0, 20.0, 19.0, 18.0, 17.0, 16.0, 15.0, 14.0, 13.0, 12.0, 11.0, 10.0, 9.0, 8.0, 7.0, 6.0, 5.0, 4.0, 3.0, 2.0, 1.0, 1.2829, 1.278, 1.2777, 1.2759, 1.2759, 1.2668, 1.2655, 1.2628, 1.2596, 1.2531, 1.2525, 1.2512, 1.2504, 1.2413, 1.2354, 1.2264, 1.2258, 1.2228, 1.2215, 1.2189, 1.2185, 1.2174, 1.215, 1.212, 1.2119, 1.2106, 1.2087, 1.2065, 1.2017, 1.1938, 1.1918, 1.1779, 1.1656, 1.175, 1.1701, 1.128, 1.1808, 1.1515, 1.1515, 1.1415, 1.0523, 1.1452, 1.0534, 1.1095, 0.9805, 1.0149, 1.0314, 0.9574, 1.0503, 0.9959, 0.8444, 0.8684, 0.9532, 0.8981, 0.604, 0.8215, 0.7368, 0.8413, 0.6662, 0.5736, 0.6019, 1.3567, 1.3546, 1.3539, 1.3537, 1.3536, 1.3533, 1.3522, 1.352, 1.3517, 1.3514, 1.351, 1.3496, 1.3495, 1.349, 1.3488, 1.3488, 1.3487, 1.3484, 1.3484, 1.348, 1.348, 1.3479, 1.3477, 1.3475, 1.3474, 1.3474, 1.3474, 1.3469, 1.3465, 1.3464, 1.3416, 1.3436, 1.344, 1.3352, 1.341, 1.3304, 1.3446, 1.3415, 1.3244, 1.3337, 1.331, 1.3057, 1.331, 1.3282, 1.3119, 1.3048, 1.3255, 1.303, 1.2873, 1.3167, 1.3098, 1.2705, 1.2278, 1.2855, 1.2642, 1.2203, 1.1003, 1.1575, 0.936, 1.2675, 1.1696, 0.9438, 1.0436, 0.954, 0.7404, 1.0801, 0.9867, 0.9523, 1.4128, 1.4104, 1.4081, 1.4081, 1.4049, 1.4041, 1.4029, 1.4009, 1.4007, 1.4002, 1.3974, 1.3966, 1.3962, 1.3958, 1.3947, 1.3936, 1.3921, 1.3915, 1.3904, 1.3894, 1.3888, 1.3888, 1.3842, 1.381, 1.3794, 1.3737, 1.3713, 1.3709, 1.3699, 1.369, 1.364, 1.3687, 1.3685, 1.3428, 1.3574, 1.3495, 1.365, 1.3441, 1.3663, 1.3188, 1.306, 1.2692, 1.3291, 1.3367, 1.2672, 1.26, 1.284, 1.1093, 1.0992, 1.0917, 1.0336, 1.1594, 1.2299, 1.1539, 1.1041, 1.2644, 0.8895, 1.0163, 0.8806, 0.6639, 0.941, 0.695, 0.7412, 0.647, 0.8141, 0.3064, 0.179, 1.466, 1.4659, 1.4638, 1.4586, 1.45, 1.4471, 1.4429, 1.437, 1.4369, 1.4247, 1.4234, 1.4223, 1.4207, 1.4193, 1.4162, 1.4141, 1.4104, 1.4061, 1.4021, 1.4015, 1.3987, 1.397, 1.3931, 1.3914, 1.3825, 1.3823, 1.3818, 1.381, 1.3795, 1.3795, 1.3777, 1.3785, 1.3716, 1.3749, 1.3785, 1.3451, 1.3572, 1.3648, 1.3631, 1.353, 1.3208, 1.2873, 1.3503, 1.2544, 1.3098, 1.3286, 1.1509, 1.2069, 1.2046, 1.0707, 1.1875, 1.2268, 1.028, 1.2237, 1.1028, 0.7804, 0.864, 0.8322, 0.9659, 0.7089, 0.8259, 0.7465, 0.8687], \"Freq\": [1169.0, 720.0, 672.0, 645.0, 689.0, 645.0, 571.0, 585.0, 475.0, 556.0, 521.0, 525.0, 571.0, 479.0, 621.0, 913.0, 461.0, 560.0, 585.0, 473.0, 895.0, 378.0, 484.0, 410.0, 392.0, 673.0, 557.0, 815.0, 434.0, 653.0, 274.1057910225088, 214.32341405459016, 206.58873402458426, 109.96448405461058, 65.46632714503787, 77.09523804405907, 23.297005428234495, 16.56817382169255, 76.88972408667968, 55.615044642483866, 41.751324142276026, 73.79854229017597, 207.2741545508111, 584.7592029678041, 174.16124603478542, 108.9859297715973, 155.4310821835651, 297.86652838366416, 23.328801976929373, 74.92294404534529, 164.5658696082479, 50.31885663285526, 34.83715709032047, 122.9976256621556, 19.54337288349028, 36.76991431615174, 62.47490793545446, 295.95110476697806, 17.56777186178251, 119.76756544714131, 466.15207096152125, 229.76381648910112, 290.52554034791024, 174.09542514002686, 202.18699247907264, 565.6271136817586, 141.69792705998162, 271.06805563234656, 206.9696263184332, 237.30518539237175, 635.2911752452013, 186.78941132167296, 412.5482894219384, 226.93990535466182, 532.0016120694476, 366.7251219568352, 316.9408434144458, 481.4046895491411, 282.8957518302815, 298.6410340791016, 412.08184813241826, 326.9983290345769, 250.36013568399508, 258.57574148499526, 379.85533046912707, 274.099751814337, 294.773773644742, 265.4279426394117, 271.4561432954814, 258.6061630319135, 235.4808578588124, 460.0407042865462, 323.1457079816829, 184.6686982747825, 641.358124485771, 475.7340096604279, 193.83436720047564, 107.60318385530883, 118.60417600370275, 97.50671112898316, 93.83046883190522, 80.97591306573315, 78.21553884759084, 72.70356583821214, 59.85213553448749, 88.2939338993391, 77.29747840851667, 113.85364592262002, 151.28526507828698, 60.772452192953125, 81.85030037865592, 67.19285380255828, 237.08970145292204, 66.28388988525894, 58.02384850117321, 404.97173308496565, 142.95243147171388, 77.28166563847041, 62.595334252783736, 60.763300831346385, 44.238040987525416, 511.7050991915594, 385.6949654144347, 317.6908354101111, 512.0757653403402, 204.072764868698, 568.4872552188559, 104.55609549717876, 139.77577036749966, 536.5819675389077, 229.71168968571502, 193.022727968841, 541.0185007616253, 185.8500594935382, 195.6200401968094, 327.85528375116394, 410.6943046621426, 193.72940784942978, 238.14002067429712, 282.29868751014345, 186.28143943407898, 201.9317817379816, 301.71532841827394, 349.25520214850627, 214.06227350547638, 236.1534355025246, 287.02187611231716, 463.7186772790616, 352.8241614751101, 516.824893239585, 223.30000597477877, 267.67003804761, 385.23026984252067, 311.96467048800304, 347.92296827998666, 427.5001249659927, 276.00714731417503, 259.15133119501087, 246.9485691442752, 473.48076757571056, 265.038720247242, 118.97011779817454, 113.37057174290335, 663.932793553029, 69.02084782081415, 64.30595017962985, 76.41910811504712, 41.68731683811888, 1149.7760777978722, 37.902377396457105, 31.303093666236375, 292.73641288026204, 26.584539617079713, 34.13408647959627, 30.362324438053356, 22.808600702959097, 21.86262433130285, 20.91919591485393, 20.92332236176089, 21.86791052393224, 25.62948042087281, 32.99249213346559, 168.9822348683543, 32.873288948105944, 12.423007409739277, 11.47334571245551, 80.07741631308474, 163.77325091433076, 9.580198138757165, 449.3034089664893, 82.45486967154869, 82.45164586277075, 449.34639176348065, 201.4342373517331, 258.35822830830347, 96.71095643329322, 154.98613497517826, 57.83634558405585, 239.4659110743058, 220.92848044538906, 480.80445384531953, 117.44822601689579, 101.0416391544834, 260.0763172438835, 219.85626895266458, 139.68168102675813, 671.0779447978869, 602.746184139959, 574.0838199948504, 651.6882517217116, 297.0527397142788, 179.63714054213446, 244.13318933914246, 226.54079295019346, 128.45113938863116, 295.917236829461, 211.47596918435858, 269.71321965361176, 366.59312387941935, 210.6432020460937, 260.15227534900174, 244.72169414252267, 225.11556784337682, 210.32806625607904, 224.21459643341356, 227.30230989241875, 714.9905938490108, 166.58914249358583, 374.80795996938474, 563.3017789792566, 122.93379895642194, 85.57827755256271, 136.3097294519662, 86.21824291539012, 61.9843040387587, 31.70392016933154, 30.76435290563903, 262.48973439294014, 65.63636269671372, 611.1502432181294, 127.09824124734659, 42.41864165936844, 10.452842361344917, 75.79342801533761, 21.374733075763817, 16.6587898904017, 640.0071828450249, 184.43723529866557, 93.28089960152985, 12.07283781398454, 16.460706922990383, 25.34403556590703, 50.61465697833544, 72.54980603072701, 66.27247481904529, 15.592199711825085, 332.8369912079564, 306.62326235713624, 506.01986937273034, 296.82255631043824, 84.42304181284747, 514.7874426829558, 269.03934940719364, 157.32646374030915, 157.8492842546167, 141.1758865546388, 226.6126539290408, 347.06065677495735, 119.96161347429226, 389.4207981561289, 192.71887605478048, 136.63444817374673, 473.4409004518614, 310.0178582077376, 296.39244561031137, 598.8315901794535, 253.75319910784546, 200.92896599752717, 421.8902777332667, 190.30942467081692, 220.91200788704896, 349.3260108823096, 306.2199218124361, 283.62529948365903, 237.36266489364013, 281.41198775290246, 246.4829844881708, 224.72000007477138, 215.90442401405087], \"Total\": [1169.0, 720.0, 672.0, 645.0, 689.0, 645.0, 571.0, 585.0, 475.0, 556.0, 521.0, 525.0, 571.0, 479.0, 621.0, 913.0, 461.0, 560.0, 585.0, 473.0, 895.0, 378.0, 484.0, 410.0, 392.0, 673.0, 557.0, 815.0, 434.0, 653.0, 279.35736552388397, 219.5020170115104, 211.63861665335523, 112.85925897319353, 67.19294508817532, 79.84756016736783, 24.16081485920567, 17.229468961437828, 80.21505363808252, 58.3958962583262, 43.86647050433767, 77.63968098513205, 218.21868595399147, 621.2683182537255, 186.13034252627057, 117.53156924423544, 167.72273123125768, 322.3691614243187, 25.281587384216056, 81.40458945886587, 178.88540911438332, 54.75301227183014, 38.00166525181471, 134.5708797568529, 21.384363904432725, 40.28422612335366, 68.57649833357812, 325.56968399961437, 19.419863688559875, 133.43975511256193, 520.4035417446216, 260.09624885018394, 332.9644910867889, 197.64921351064115, 230.6749559494321, 673.0749396676894, 159.9449156532524, 315.05797917597266, 240.55954142749735, 278.6016490805425, 815.4078556178192, 218.47679872127975, 528.9399629643306, 275.0749739348966, 733.6724014356683, 488.6555635712864, 415.39107540772835, 679.4027047411328, 363.82755345999016, 405.543320726531, 651.1465086141627, 504.4195608636568, 354.80937022840476, 387.203188271063, 763.3437958668187, 443.13266501724866, 518.7113402774364, 420.6918435577777, 512.5980848241763, 535.7331165448747, 474.19919910053386, 461.7631301964539, 325.06691927866126, 185.88615776221712, 645.6928846421712, 479.0019908371384, 195.2294902715285, 108.4977256748698, 119.62037315156361, 98.3713166921919, 94.68540967808202, 81.74448174189985, 79.07475898296738, 73.50936453684434, 60.54583845859003, 89.33082184745157, 78.2095390343904, 115.20316425033796, 153.1203929687555, 61.5134378690107, 82.87614905665318, 68.03511407563595, 240.08007867021283, 67.13744674662856, 58.781854582745524, 410.29738421934036, 144.83422698521179, 78.3029900637394, 63.44995211090535, 61.61899284161422, 44.866461025237484, 521.4497215890083, 392.27006588456004, 322.95474007395995, 525.1997638086665, 208.09314478307786, 585.8433655371398, 106.22702997976543, 142.44966723110727, 556.2699059231222, 235.95292234912515, 198.8035414534033, 571.4615964292632, 191.4060126679892, 202.037881627729, 344.1907690410308, 434.2209813583859, 200.62108566790621, 252.23784358057037, 303.72552956428353, 194.61383494071035, 212.42147048417283, 330.1318672500713, 398.81283721427457, 230.72284863849015, 260.02254668740653, 330.21742644962694, 601.4987037150291, 432.2337001419653, 790.1496286617837, 245.05239630392188, 323.9663609720306, 584.3687841655585, 428.2606745216501, 522.3936219273695, 794.7690852708206, 365.34002102066523, 376.6034873246616, 371.434916862618, 475.6560818472409, 266.8844955726751, 120.08175447624679, 114.43126862514168, 672.266540738995, 69.94421841761597, 65.24252077341377, 77.68627154565173, 42.389671572634825, 1169.6705489476053, 38.66810779635441, 31.959597643902484, 299.01397640829293, 27.164673291404355, 34.91821945737717, 31.0919998022349, 23.391896507859673, 22.434929758542037, 21.49191363819456, 21.515988914274992, 22.501344591971243, 26.37257760506447, 34.10552305507887, 175.23483727377723, 34.14610082003701, 12.977723037762177, 12.01416659585021, 83.88785779447556, 171.73643720177714, 10.055000715986619, 473.9587599409711, 86.57180530396191, 86.58067716092056, 484.13872049066816, 213.87683439021728, 276.49089306169026, 101.91343620710161, 166.7703090998612, 60.86828300049818, 264.28723541015563, 246.95252751454862, 557.6005374006995, 128.29176950049066, 109.53637013023722, 302.2102595418917, 257.3234516038199, 159.61159754121798, 913.1917698036721, 828.5685777472003, 795.065741575468, 956.6059212587714, 384.4784446503697, 216.67591956006666, 317.73310292669044, 309.88989121697745, 149.68504323834952, 501.6621309094342, 315.83566228208, 461.3506852683277, 778.7858067499999, 339.187125805982, 535.7331165448747, 481.2067707449022, 486.38309844759414, 384.5013594453565, 681.0116981954737, 784.2014396367305, 720.4356593580978, 167.87919902078949, 378.51596869689223, 571.8332502209151, 125.86897103000135, 87.87261858078044, 140.56210615944627, 89.43322998177092, 64.30100531925005, 33.2918950033656, 32.34791364805717, 276.2974863354584, 69.20069334973945, 645.221225168673, 134.6038386014341, 45.017656195932986, 11.134461063001023, 81.08746297207482, 22.960038976914547, 17.905020533539613, 689.7656327538455, 199.1116316733729, 101.10231194982154, 13.107625507636676, 18.03114931445084, 27.766644230870114, 55.48130741118529, 79.58621901789347, 72.80905322105004, 17.13078143676062, 366.3377848446889, 337.21690058068685, 560.3552387506488, 327.61968398492485, 92.84322167324699, 585.3546861734307, 302.2606955867711, 175.40686236503498, 176.29670188331656, 159.2707086523893, 264.0305140423186, 418.13963443057094, 135.70192704190268, 484.8676322341665, 227.02465161280122, 157.95352421515508, 653.7822928538765, 404.79379840711147, 387.86524426844016, 895.9694407641098, 337.8098955366007, 257.162806887276, 658.7478592411438, 244.3310030709758, 320.0651420846044, 698.7173681699344, 563.3274172054337, 538.6177095757753, 394.3592505103017, 604.5912987643385, 471.0516022186024, 464.96276884946883, 395.3408134111361], \"logprob\": [30.0, 29.0, 28.0, 27.0, 26.0, 25.0, 24.0, 23.0, 22.0, 21.0, 20.0, 19.0, 18.0, 17.0, 16.0, 15.0, 14.0, 13.0, 12.0, 11.0, 10.0, 9.0, 8.0, 7.0, 6.0, 5.0, 4.0, 3.0, 2.0, 1.0, -6.0841, -6.3302, -6.3669, -6.9975, -7.5161, -7.3526, -8.5493, -8.8902, -7.3553, -7.6792, -7.9659, -7.3963, -6.3636, -5.3264, -6.5377, -7.0064, -6.6514, -6.001, -8.548, -7.3812, -6.5943, -7.7793, -8.147, -6.8855, -8.725, -8.093, -7.5629, -6.0075, -8.8316, -6.9121, -5.5531, -6.2606, -6.026, -6.538, -6.3885, -5.3597, -6.744, -6.0953, -6.3651, -6.2283, -5.2436, -6.4677, -5.6753, -6.273, -5.421, -5.793, -5.9389, -5.5209, -6.0526, -5.9984, -5.6764, -5.9077, -6.1747, -6.1425, -5.7579, -6.0842, -6.0114, -6.1163, -6.0938, -6.1423, -6.236, -5.5078, -5.861, -6.4205, -5.1755, -5.4742, -6.3721, -6.9606, -6.8633, -7.0591, -7.0976, -7.2449, -7.2796, -7.3527, -7.5472, -7.1584, -7.2914, -6.9042, -6.6199, -7.5319, -7.2342, -7.4315, -6.1706, -7.4451, -7.5782, -5.6352, -6.6766, -7.2916, -7.5024, -7.5321, -7.8495, -5.4013, -5.684, -5.878, -5.4006, -6.3206, -5.2961, -6.9893, -6.699, -5.3538, -6.2022, -6.3763, -5.3456, -6.4141, -6.3629, -5.8465, -5.6212, -6.3726, -6.1662, -5.9961, -6.4118, -6.3311, -5.9296, -5.7833, -6.2728, -6.1746, -5.9795, -5.4998, -5.7731, -5.3914, -6.2306, -6.0493, -5.6852, -5.8962, -5.7871, -5.5811, -6.0186, -6.0817, -6.1299, -5.4221, -6.0023, -6.8033, -6.8515, -5.084, -7.3478, -7.4185, -7.2459, -7.852, -4.5348, -7.9472, -8.1385, -5.9029, -8.3018, -8.0519, -8.169, -8.455, -8.4974, -8.5415, -8.5413, -8.4972, -8.3384, -8.0859, -6.4524, -8.0895, -9.0626, -9.1421, -7.1992, -6.4837, -9.3225, -5.4745, -7.1699, -7.17, -5.4744, -6.2767, -6.0278, -7.0104, -6.5388, -7.5246, -6.1038, -6.1843, -5.4067, -6.8162, -6.9666, -6.0212, -6.1892, -6.6428, -5.0733, -5.1807, -5.2294, -5.1026, -5.8883, -6.3912, -6.0845, -6.1592, -6.7266, -5.8921, -6.2281, -5.9848, -5.6779, -6.232, -6.0209, -6.0821, -6.1656, -6.2335, -6.1696, -6.1559, -4.9537, -6.4104, -5.5995, -5.1921, -6.7143, -7.0765, -6.611, -7.0691, -7.3991, -8.0695, -8.0996, -5.9557, -7.3418, -5.1106, -6.681, -7.7784, -9.1791, -7.1979, -8.4637, -8.713, -5.0645, -6.3086, -6.9903, -9.035, -8.725, -8.2934, -7.6017, -7.2417, -7.3322, -8.7792, -5.7183, -5.8003, -5.2994, -5.8328, -7.0901, -5.2822, -5.9311, -6.4676, -6.4643, -6.5759, -6.1027, -5.6765, -6.7388, -5.5613, -6.2647, -6.6086, -5.3659, -5.7893, -5.8343, -5.131, -5.9896, -6.223, -5.4812, -6.2773, -6.1282, -5.6699, -5.8016, -5.8783, -6.0564, -5.8861, -6.0187, -6.1111, -6.1511]}};\n",
       "\n",
       "function LDAvis_load_lib(url, callback){\n",
       "  var s = document.createElement('script');\n",
       "  s.src = url;\n",
       "  s.async = true;\n",
       "  s.onreadystatechange = s.onload = callback;\n",
       "  s.onerror = function(){console.warn(\"failed to load library \" + url);};\n",
       "  document.getElementsByTagName(\"head\")[0].appendChild(s);\n",
       "}\n",
       "\n",
       "if(typeof(LDAvis) !== \"undefined\"){\n",
       "   // already loaded: just create the visualization\n",
       "   !function(LDAvis){\n",
       "       new LDAvis(\"#\" + \"ldavis_el3960546872684327987045445\", ldavis_el3960546872684327987045445_data);\n",
       "   }(LDAvis);\n",
       "}else if(typeof define === \"function\" && define.amd){\n",
       "   // require.js is available: use it to load d3/LDAvis\n",
       "   require.config({paths: {d3: \"https://cdnjs.cloudflare.com/ajax/libs/d3/3.5.5/d3.min\"}});\n",
       "   require([\"d3\"], function(d3){\n",
       "      window.d3 = d3;\n",
       "      LDAvis_load_lib(\"https://cdn.rawgit.com/bmabey/pyLDAvis/files/ldavis.v1.0.0.js\", function(){\n",
       "        new LDAvis(\"#\" + \"ldavis_el3960546872684327987045445\", ldavis_el3960546872684327987045445_data);\n",
       "      });\n",
       "    });\n",
       "}else{\n",
       "    // require.js not available: dynamically load d3 & LDAvis\n",
       "    LDAvis_load_lib(\"https://cdnjs.cloudflare.com/ajax/libs/d3/3.5.5/d3.min.js\", function(){\n",
       "         LDAvis_load_lib(\"https://cdn.rawgit.com/bmabey/pyLDAvis/files/ldavis.v1.0.0.js\", function(){\n",
       "                 new LDAvis(\"#\" + \"ldavis_el3960546872684327987045445\", ldavis_el3960546872684327987045445_data);\n",
       "            })\n",
       "         });\n",
       "}\n",
       "</script>"
      ],
      "text/plain": [
       "PreparedData(topic_coordinates=            Freq  cluster  topics         x         y\n",
       "topic                                                \n",
       "2      27.201466        1       1  0.042022  0.014105\n",
       "1      25.653688        1       2 -0.172616  0.010852\n",
       "3      24.234879        1       3  0.050022 -0.107738\n",
       "0      22.909967        1       4  0.080572  0.082781, topic_info=     Category         Freq                  Term        Total  loglift  \\\n",
       "term                                                                     \n",
       "1936  Default  1169.000000                regret  1169.000000  30.0000   \n",
       "3402  Default   720.000000     matrix_completion   720.000000  29.0000   \n",
       "5563  Default   672.000000                bandit   672.000000  28.0000   \n",
       "4232  Default   645.000000         convolutional   645.000000  27.0000   \n",
       "1739  Default   689.000000           rank_matrix   689.000000  26.0000   \n",
       "1227  Default   645.000000       active_learning   645.000000  25.0000   \n",
       "5037  Default   571.000000            submodular   571.000000  24.0000   \n",
       "5479  Default   585.000000         deep_learning   585.000000  23.0000   \n",
       "316   Default   475.000000          regret_bound   475.000000  22.0000   \n",
       "1796  Default   556.000000             recurrent   556.000000  21.0000   \n",
       "5477  Default   521.000000      recurrent_neural   521.000000  20.0000   \n",
       "2463  Default   525.000000           hidden_unit   525.000000  19.0000   \n",
       "1746  Default   571.000000       fully_connected   571.000000  18.0000   \n",
       "2406  Default   479.000000          hidden_layer   479.000000  17.0000   \n",
       "4213  Default   621.000000           random_walk   621.000000  16.0000   \n",
       "2620  Default   913.000000      gaussian_process   913.000000  15.0000   \n",
       "3242  Default   461.000000                  lstm   461.000000  14.0000   \n",
       "3785  Default   560.000000        singular_value   560.000000  13.0000   \n",
       "3432  Default   585.000000                  item   585.000000  12.0000   \n",
       "3736  Default   473.000000           line_search   473.000000  11.0000   \n",
       "3137  Default   895.000000     sample_complexity   895.000000  10.0000   \n",
       "5223  Default   378.000000   submodular_function   378.000000   9.0000   \n",
       "1162  Default   484.000000       strongly_convex   484.000000   8.0000   \n",
       "4620  Default   410.000000  convolutional_neural   410.000000   7.0000   \n",
       "2247  Default   392.000000       during_training   392.000000   6.0000   \n",
       "4792  Default   673.000000                tensor   673.000000   5.0000   \n",
       "3628  Default   557.000000       online_learning   557.000000   4.0000   \n",
       "247   Default   815.000000          markov_chain   815.000000   3.0000   \n",
       "2762  Default   434.000000                 pixel   434.000000   2.0000   \n",
       "4505  Default   653.000000                vertex   653.000000   1.0000   \n",
       "...       ...          ...                   ...          ...      ...   \n",
       "305    Topic4   296.822556    rank_approximation   327.619684   1.3749   \n",
       "4946   Topic4    84.423042      side_information    92.843222   1.3785   \n",
       "3432   Topic4   514.787443                  item   585.354686   1.3451   \n",
       "1235   Topic4   269.039349              singular   302.260696   1.3572   \n",
       "1834   Topic4   157.326464        exact_recovery   175.406862   1.3648   \n",
       "5705   Topic4   157.849284         link_function   176.296702   1.3631   \n",
       "3718   Topic4   141.175887   spectral_clustering   159.270709   1.3530   \n",
       "623    Topic4   226.612654    compressed_sensing   264.030514   1.3208   \n",
       "3886   Topic4   347.060657       polynomial_time   418.139634   1.2873   \n",
       "2594   Topic4   119.961613                 stein   135.701927   1.3503   \n",
       "1601   Topic4   389.420798              recovery   484.867632   1.2544   \n",
       "911    Topic4   192.718876     convex_relaxation   227.024652   1.3098   \n",
       "2689   Topic4   136.634448      hypothesis_class   157.953524   1.3286   \n",
       "4505   Topic4   473.440900                vertex   653.782293   1.1509   \n",
       "2970   Topic4   310.017858      greedy_algorithm   404.793798   1.2069   \n",
       "944    Topic4   296.392446                 cover   387.865244   1.2046   \n",
       "3137   Topic4   598.831590     sample_complexity   895.969441   1.0707   \n",
       "2153   Topic4   253.753199        relative_error   337.809896   1.1875   \n",
       "2993   Topic4   200.928966               utility   257.162807   1.2268   \n",
       "4165   Topic4   421.890278                 query   658.747859   1.0280   \n",
       "324    Topic4   190.309425  matrix_factorization   244.331003   1.2237   \n",
       "2070   Topic4   220.912008               message   320.065142   1.1028   \n",
       "2417   Topic4   349.326011          running_time   698.717368   0.7804   \n",
       "1287   Topic4   306.219922                greedy   563.327417   0.8640   \n",
       "2596   Topic4   283.625299                  game   538.617710   0.8322   \n",
       "2401   Topic4   237.362665                 event   394.359251   0.9659   \n",
       "5643   Topic4   281.411988     probability_least   604.591299   0.7089   \n",
       "1019   Topic4   246.482984        gibbs_sampling   471.051602   0.8259   \n",
       "1332   Topic4   224.720000             mechanism   464.962769   0.7465   \n",
       "2582   Topic4   215.904424      estimation_error   395.340813   0.8687   \n",
       "\n",
       "      logprob  \n",
       "term           \n",
       "1936  30.0000  \n",
       "3402  29.0000  \n",
       "5563  28.0000  \n",
       "4232  27.0000  \n",
       "1739  26.0000  \n",
       "1227  25.0000  \n",
       "5037  24.0000  \n",
       "5479  23.0000  \n",
       "316   22.0000  \n",
       "1796  21.0000  \n",
       "5477  20.0000  \n",
       "2463  19.0000  \n",
       "1746  18.0000  \n",
       "2406  17.0000  \n",
       "4213  16.0000  \n",
       "2620  15.0000  \n",
       "3242  14.0000  \n",
       "3785  13.0000  \n",
       "3432  12.0000  \n",
       "3736  11.0000  \n",
       "3137  10.0000  \n",
       "5223   9.0000  \n",
       "1162   8.0000  \n",
       "4620   7.0000  \n",
       "2247   6.0000  \n",
       "4792   5.0000  \n",
       "3628   4.0000  \n",
       "247    3.0000  \n",
       "2762   2.0000  \n",
       "4505   1.0000  \n",
       "...       ...  \n",
       "305   -5.8328  \n",
       "4946  -7.0901  \n",
       "3432  -5.2822  \n",
       "1235  -5.9311  \n",
       "1834  -6.4676  \n",
       "5705  -6.4643  \n",
       "3718  -6.5759  \n",
       "623   -6.1027  \n",
       "3886  -5.6765  \n",
       "2594  -6.7388  \n",
       "1601  -5.5613  \n",
       "911   -6.2647  \n",
       "2689  -6.6086  \n",
       "4505  -5.3659  \n",
       "2970  -5.7893  \n",
       "944   -5.8343  \n",
       "3137  -5.1310  \n",
       "2153  -5.9896  \n",
       "2993  -6.2230  \n",
       "4165  -5.4812  \n",
       "324   -6.2773  \n",
       "2070  -6.1282  \n",
       "2417  -5.6699  \n",
       "1287  -5.8016  \n",
       "2596  -5.8783  \n",
       "2401  -6.0564  \n",
       "5643  -5.8861  \n",
       "1019  -6.0187  \n",
       "1332  -6.1111  \n",
       "2582  -6.1511  \n",
       "\n",
       "[289 rows x 6 columns], token_table=      Topic      Freq                 Term\n",
       "term                                      \n",
       "2003      1  0.006265          accelerated\n",
       "2003      2  0.068917          accelerated\n",
       "2003      3  0.877129          accelerated\n",
       "2003      4  0.043856          accelerated\n",
       "1227      1  0.024798      active_learning\n",
       "1227      2  0.004650      active_learning\n",
       "1227      3  0.023248      active_learning\n",
       "1227      4  0.946962      active_learning\n",
       "2995      3  0.994530  adaptive_allocation\n",
       "882       2  0.984535            alex_graf\n",
       "939       1  0.016953              analogy\n",
       "939       2  0.974771              analogy\n",
       "939       3  0.008476              analogy\n",
       "939       4  0.004238              analogy\n",
       "5545      1  0.005707                  arm\n",
       "5545      2  0.022827                  arm\n",
       "5545      3  0.964420                  arm\n",
       "5545      4  0.005707                  arm\n",
       "3851      1  0.023292                armed\n",
       "3851      2  0.005823                armed\n",
       "3851      3  0.954952                armed\n",
       "3851      4  0.017469                armed\n",
       "5622      3  0.983246             audibert\n",
       "4174      2  0.032858                 auer\n",
       "4174      3  0.952877                 auer\n",
       "630       1  0.008680          autoencoder\n",
       "630       2  0.989556          autoencoder\n",
       "5563      1  0.002975               bandit\n",
       "5563      2  0.002975               bandit\n",
       "5563      3  0.987703               bandit\n",
       "...     ...       ...                  ...\n",
       "4505      1  0.211079               vertex\n",
       "4505      2  0.015296               vertex\n",
       "4505      3  0.048946               vertex\n",
       "4505      4  0.723482               vertex\n",
       "2384      2  0.996225            very_deep\n",
       "300       2  0.988449   visual_recognition\n",
       "300       3  0.009414   visual_recognition\n",
       "300       4  0.009414   visual_recognition\n",
       "1717      1  0.029717               voting\n",
       "1717      2  0.007429               voting\n",
       "1717      3  0.014858               voting\n",
       "1717      4  0.943509               voting\n",
       "5938      1  0.909176                 walk\n",
       "5938      2  0.027644                 walk\n",
       "5938      3  0.024572                 walk\n",
       "5938      4  0.039930                 walk\n",
       "955       1  0.011182       weighted_graph\n",
       "955       2  0.011182       weighted_graph\n",
       "955       3  0.022363       weighted_graph\n",
       "955       4  0.961611       weighted_graph\n",
       "1945      1  0.041974                wolfe\n",
       "1945      2  0.005996                wolfe\n",
       "1945      3  0.929422                wolfe\n",
       "1945      4  0.017989                wolfe\n",
       "4824      3  0.076291               wolsey\n",
       "4824      4  0.915498               wolsey\n",
       "5628      1  0.004985        yoshua_bengio\n",
       "5628      2  0.966997        yoshua_bengio\n",
       "5628      3  0.029907        yoshua_bengio\n",
       "5628      4  0.004985        yoshua_bengio\n",
       "\n",
       "[838 rows x 3 columns], R=30, lambda_step=0.01, plot_opts={'xlab': 'PC1', 'ylab': 'PC2'}, topic_order=[3, 2, 4, 1])"
      ]
     },
     "execution_count": 37,
     "metadata": {},
     "output_type": "execute_result"
    }
   ],
   "source": [
    "pyLDAvis.gensim.prepare(model, corpus, dictionary)"
   ]
  },
  {
   "cell_type": "markdown",
   "metadata": {},
   "source": [
    "# To see the interactive maps go to this link:\n",
    "http://nbviewer.jupyter.org/github/ykhorram/nips2015_topic_network_analysis/blob/master/NIP15_topics_citations.ipynb"
   ]
  },
  {
   "cell_type": "markdown",
   "metadata": {
    "_uuid": "132463131ee73972307d5a3560da8db816f519e2"
   },
   "source": [
    "**How to evaluate our model?**  \n",
    "So again since there is no ground through here, we have to be creative in defining ways to evaluate. I do this in two steps:\n",
    "\n",
    "1. divide each document in two parts and see if the topics assign to them are simialr. => the more similar the better\n",
    "2. compare randomly chosen docs with each other. => the less similar the better"
   ]
  },
  {
   "cell_type": "code",
   "execution_count": 18,
   "metadata": {
    "_uuid": "71d492523a3cbcfd89141a9d13b66ac5a1f1f2e0",
    "collapsed": true
   },
   "outputs": [],
   "source": [
    "from sklearn.metrics.pairwise import cosine_similarity\n",
    "\n",
    "p_df['tokenz'] = docs\n",
    "\n",
    "docs1 = p_df['tokenz'].apply(lambda l: l[:int0(len(l)/2)])\n",
    "docs2 = p_df['tokenz'].apply(lambda l: l[int0(len(l)/2):])"
   ]
  },
  {
   "cell_type": "markdown",
   "metadata": {
    "_uuid": "60006b777f680005368652ec6a395d873b80b246"
   },
   "source": [
    "Transform the data "
   ]
  },
  {
   "cell_type": "code",
   "execution_count": 15,
   "metadata": {
    "_uuid": "1e989bc95613b95e5d9c40c0f91f31b93b6c5aab",
    "collapsed": true
   },
   "outputs": [],
   "source": [
    "corpus1 = [dictionary.doc2bow(doc) for doc in docs1]\n",
    "corpus2 = [dictionary.doc2bow(doc) for doc in docs2]\n",
    "\n",
    "# Using the corpus LDA model tranformation\n",
    "lda_corpus1 = model[corpus1]\n",
    "lda_corpus2 = model[corpus2]"
   ]
  },
  {
   "cell_type": "code",
   "execution_count": 24,
   "metadata": {
    "_uuid": "b6b1e78f3e435f12cbe76055a9af803e4cace4f2",
    "collapsed": true
   },
   "outputs": [],
   "source": [
    "from collections import OrderedDict\n",
    "def get_doc_topic_dist(model, corpus, kwords=False):\n",
    "    \n",
    "    '''\n",
    "    LDA transformation, for each doc only returns topics with non-zero weight\n",
    "    This function makes a matrix transformation of docs in the topic space.\n",
    "    '''\n",
    "    top_dist =[]\n",
    "    keys = []\n",
    "\n",
    "    for d in corpus:\n",
    "        tmp = {i:0 for i in range(num_topics)}\n",
    "        tmp.update(dict(model[d]))\n",
    "        vals = list(OrderedDict(tmp).values())\n",
    "        top_dist += [array(vals)]\n",
    "        if kwords:\n",
    "            keys += [array(vals).argmax()]\n",
    "\n",
    "    return array(top_dist), keys"
   ]
  },
  {
   "cell_type": "code",
   "execution_count": 20,
   "metadata": {
    "_uuid": "36f95ae8a010e1dfd3f441be37b179973c742b1a",
    "collapsed": false
   },
   "outputs": [
    {
     "name": "stdout",
     "output_type": "stream",
     "text": [
      "Intra similarity: cosine similarity for corresponding parts of a doc(higher is better):\n",
      "0.920623968514\n",
      "Inter similarity: cosine similarity between random parts (lower is better):\n",
      "0.527282404847\n"
     ]
    }
   ],
   "source": [
    "top_dist1, _ = get_doc_topic_dist(model, lda_corpus1)\n",
    "top_dist2, _ = get_doc_topic_dist(model, lda_corpus2)\n",
    "\n",
    "print(\"Intra similarity: cosine similarity for corresponding parts of a doc(higher is better):\")\n",
    "print(mean([cosine_similarity(c1.reshape(1, -1), c2.reshape(1, -1))[0][0] for c1,c2 in zip(top_dist1, top_dist2)]))\n",
    "\n",
    "random_pairs = np.random.randint(0, len(p_df['PaperText']), size=(400, 2))\n",
    "\n",
    "print(\"Inter similarity: cosine similarity between random parts (lower is better):\")\n",
    "print(np.mean([cosine_similarity(top_dist1[i[0]].reshape(1, -1), top_dist2[i[1]].reshape(1, -1)) for i in random_pairs]))"
   ]
  },
  {
   "cell_type": "markdown",
   "metadata": {
    "_uuid": "d69f784d5b4a966efb9c7169938b312e53f25d6c"
   },
   "source": [
    "## Let's look at the terms that appear more in each topic. "
   ]
  },
  {
   "cell_type": "code",
   "execution_count": 25,
   "metadata": {
    "_uuid": "5d5c2efcf69d5a7a8b4c15d747c3fac732fa1fd7",
    "collapsed": true
   },
   "outputs": [],
   "source": [
    "def explore_topic(lda_model, topic_number, topn, output=True):\n",
    "    \"\"\"\n",
    "    accept a ldamodel, atopic number and topn vocabs of interest\n",
    "    prints a formatted list of the topn terms\n",
    "    \"\"\"\n",
    "    terms = []\n",
    "    for term, frequency in lda_model.show_topic(topic_number, topn=topn):\n",
    "        terms += [term]\n",
    "        if output:\n",
    "            print(u'{:20} {:.3f}'.format(term, round(frequency, 3)))\n",
    "    \n",
    "    return terms"
   ]
  },
  {
   "cell_type": "code",
   "execution_count": 26,
   "metadata": {
    "_uuid": "e61600b519fa785ac652a70782a23b229b28be51",
    "collapsed": false
   },
   "outputs": [
    {
     "name": "stdout",
     "output_type": "stream",
     "text": [
      "term                 frequency\n",
      "\n",
      "Topic 0 |---------------------\n",
      "\n",
      "convergence_rate     0.006\n",
      "active_learning      0.006\n",
      "embedding            0.005\n",
      "strongly_convex      0.004\n",
      "agent                0.004\n",
      "query                0.004\n",
      "empirical_risk       0.003\n",
      "data_set             0.003\n",
      "sentence             0.003\n",
      "online_learning      0.003\n",
      "\n",
      "Topic 1 |---------------------\n",
      "\n",
      "convolutional        0.006\n",
      "fully_connected      0.005\n",
      "random_walk          0.005\n",
      "recurrent            0.005\n",
      "neuron               0.005\n",
      "deep_learning        0.004\n",
      "generative_model     0.004\n",
      "pixel                0.004\n",
      "convolutional_neural 0.004\n",
      "segmentation         0.004\n",
      "\n",
      "Topic 2 |---------------------\n",
      "\n",
      "regret               0.008\n",
      "sample_complexity    0.006\n",
      "matrix_completion    0.005\n",
      "rank_matrix          0.005\n",
      "bandit               0.005\n",
      "vertex               0.005\n",
      "submodular           0.004\n",
      "item                 0.004\n",
      "probability_least    0.004\n",
      "singular_value       0.004\n",
      "\n",
      "Topic 3 |---------------------\n",
      "\n",
      "gaussian_process     0.007\n",
      "variational_inference 0.007\n",
      "covariance_matrix    0.005\n",
      "step_size            0.004\n",
      "tensor               0.004\n",
      "graphical_model      0.004\n",
      "gibbs_sampling       0.004\n",
      "topic_model          0.004\n",
      "posterior_distribution 0.003\n",
      "gibbs                0.003\n",
      "\n"
     ]
    }
   ],
   "source": [
    "topic_summaries = []\n",
    "print(u'{:20} {}'.format(u'term', u'frequency') + u'\\n')\n",
    "for i in range(num_topics):\n",
    "    print('Topic '+str(i)+' |---------------------\\n')\n",
    "    tmp = explore_topic(model,topic_number=i, topn=10, output=True )\n",
    "#     print tmp[:5]\n",
    "    topic_summaries += [tmp[:5]]\n",
    "    print"
   ]
  },
  {
   "cell_type": "markdown",
   "metadata": {
    "_uuid": "33ecddaa5755866ad6e9f8f7c5072859d09c27b4"
   },
   "source": [
    "From above, it's possible to inspect each topic and assign a human-interpretable label to it. Here I labeled them as follows:"
   ]
  },
  {
   "cell_type": "code",
   "execution_count": 23,
   "metadata": {
    "_uuid": "a52935b629c3b73bfb9c76536bbc00826fbb8dbe",
    "collapsed": true
   },
   "outputs": [],
   "source": [
    "top_labels = {2: 'Statistics', 1:'Numerical Analysis', 0:'Online Learning', 3:'Deep Learning'}"
   ]
  },
  {
   "cell_type": "code",
   "execution_count": 24,
   "metadata": {
    "_uuid": "8a88e101807551ee914967e17d542204378db86a",
    "collapsed": true
   },
   "outputs": [],
   "source": [
    "import re\n",
    "import nltk\n",
    "\n",
    "from nltk.corpus import stopwords\n",
    "\n",
    "stops = set(stopwords.words('english'))\n",
    "\n",
    "def paper_to_wordlist( paper, remove_stopwords=True ):\n",
    "    '''\n",
    "        Function converts text to a sequence of words,\n",
    "        Returns a list of words.\n",
    "    '''\n",
    "    lemmatizer = WordNetLemmatizer()\n",
    "    # 1. Remove non-letters\n",
    "    paper_text = re.sub(\"[^a-zA-Z]\",\" \", paper)\n",
    "    # 2. Convert words to lower case and split them\n",
    "    words = paper_text.lower().split()\n",
    "    # 3. Remove stop words\n",
    "    words = [w for w in words if not w in stops]\n",
    "    # 4. Remove short words\n",
    "    words = [t for t in words if len(t) > 2]\n",
    "    # 5. lemmatizing\n",
    "    words = [nltk.stem.WordNetLemmatizer().lemmatize(t) for t in words]\n",
    "\n",
    "    return(words)"
   ]
  },
  {
   "cell_type": "code",
   "execution_count": 25,
   "metadata": {
    "_uuid": "3830dfd544633111cfa445aaf44260b2f0a03b32",
    "collapsed": true
   },
   "outputs": [],
   "source": [
    "from sklearn.feature_extraction.text import TfidfVectorizer\n",
    "\n",
    "tvectorizer = TfidfVectorizer(input='content', analyzer = 'word', lowercase=True, stop_words='english',\\\n",
    "                                  tokenizer=paper_to_wordlist, ngram_range=(1, 3), min_df=40, max_df=0.20,\\\n",
    "                                  norm='l2', use_idf=True, smooth_idf=True, sublinear_tf=True)\n",
    "\n",
    "dtm = tvectorizer.fit_transform(p_df['PaperText']).toarray()"
   ]
  },
  {
   "cell_type": "code",
   "execution_count": 26,
   "metadata": {
    "_uuid": "917fb65ed246a61182d9606c6b8cd786abaef53b",
    "collapsed": true
   },
   "outputs": [],
   "source": [
    "top_dist =[]\n",
    "for d in corpus:\n",
    "    tmp = {i:0 for i in range(num_topics)}\n",
    "    tmp.update(dict(model[d]))\n",
    "    vals = list(OrderedDict(tmp).values())\n",
    "    top_dist += [array(vals)]"
   ]
  },
  {
   "cell_type": "code",
   "execution_count": 27,
   "metadata": {
    "_uuid": "7422b187c28d1f2b6da57536a866a25fe9255e24",
    "collapsed": true
   },
   "outputs": [],
   "source": [
    "top_dist, lda_keys= get_doc_topic_dist(model, corpus, True)\n",
    "features = tvectorizer.get_feature_names()"
   ]
  },
  {
   "cell_type": "code",
   "execution_count": 39,
   "metadata": {
    "_uuid": "389811cde90d4989b10b4fd18d641f9e1896b746",
    "collapsed": true
   },
   "outputs": [],
   "source": [
    "top_ws = []\n",
    "for n in range(len(dtm)):\n",
    "    inds = int0(argsort(dtm[n])[::-1][:4])\n",
    "    tmp = [features[i] for i in inds]\n",
    "    \n",
    "    top_ws += [' '.join(tmp)]\n",
    "    \n",
    "p_df['Text_Rep'] = pd.DataFrame(top_ws)\n",
    "p_df['clusters'] = pd.DataFrame(lda_keys)\n",
    "p_df['clusters'].fillna(10, inplace=True)\n",
    "\n",
    "cluster_colors = {0: 'blue', 1: 'green', 2: 'yellow', 3: 'red', 4: 'skyblue', 5:'salmon', 6:'orange', 7:'maroon', 8:'crimson', 9:'black', 10:'gray'}\n",
    "\n",
    "p_df['colors'] = p_df['clusters'].apply(lambda l: cluster_colors[l])\n",
    "p_df['marker_size'] =  p_df['Citations'].apply(lambda l: 4*log(l+1))\n"
   ]
  },
  {
   "cell_type": "code",
   "execution_count": 29,
   "metadata": {
    "_uuid": "d16af6cfc14d9b8d7d3ac9851e2d4d3ceefe0cc1",
    "collapsed": true
   },
   "outputs": [],
   "source": [
    "from sklearn.manifold import TSNE\n",
    "tsne = TSNE(n_components=2)\n",
    "X_tsne = tsne.fit_transform(top_dist)"
   ]
  },
  {
   "cell_type": "code",
   "execution_count": 41,
   "metadata": {
    "_uuid": "6e23799bea222f5acb56add0c481c1b0c82fed8b",
    "collapsed": true
   },
   "outputs": [],
   "source": [
    "p_df['X_tsne'] =X_tsne[:, 0]\n",
    "p_df['Y_tsne'] =X_tsne[:, 1]"
   ]
  },
  {
   "cell_type": "code",
   "execution_count": 1,
   "metadata": {
    "_uuid": "1f1d4ff6071ed132a4a6a68e86987e65f8bd5956",
    "collapsed": false
   },
   "outputs": [
    {
     "data": {
      "text/html": [
       "\n",
       "    <div class=\"bk-root\">\n",
       "        <a href=\"https://bokeh.pydata.org\" target=\"_blank\" class=\"bk-logo bk-logo-small bk-logo-notebook\"></a>\n",
       "        <span id=\"19c6e981-2c15-4eb5-a6a5-aa195aae2f40\">Loading BokehJS ...</span>\n",
       "    </div>"
      ]
     },
     "metadata": {},
     "output_type": "display_data"
    },
    {
     "data": {
      "application/javascript": [
       "\n",
       "(function(root) {\n",
       "  function now() {\n",
       "    return new Date();\n",
       "  }\n",
       "\n",
       "  var force = true;\n",
       "\n",
       "  if (typeof (root._bokeh_onload_callbacks) === \"undefined\" || force === true) {\n",
       "    root._bokeh_onload_callbacks = [];\n",
       "    root._bokeh_is_loading = undefined;\n",
       "  }\n",
       "\n",
       "\n",
       "  \n",
       "  if (typeof (root._bokeh_timeout) === \"undefined\" || force === true) {\n",
       "    root._bokeh_timeout = Date.now() + 5000;\n",
       "    root._bokeh_failed_load = false;\n",
       "  }\n",
       "\n",
       "  var NB_LOAD_WARNING = {'data': {'text/html':\n",
       "     \"<div style='background-color: #fdd'>\\n\"+\n",
       "     \"<p>\\n\"+\n",
       "     \"BokehJS does not appear to have successfully loaded. If loading BokehJS from CDN, this \\n\"+\n",
       "     \"may be due to a slow or bad network connection. Possible fixes:\\n\"+\n",
       "     \"</p>\\n\"+\n",
       "     \"<ul>\\n\"+\n",
       "     \"<li>re-rerun `output_notebook()` to attempt to load from CDN again, or</li>\\n\"+\n",
       "     \"<li>use INLINE resources instead, as so:</li>\\n\"+\n",
       "     \"</ul>\\n\"+\n",
       "     \"<code>\\n\"+\n",
       "     \"from bokeh.resources import INLINE\\n\"+\n",
       "     \"output_notebook(resources=INLINE)\\n\"+\n",
       "     \"</code>\\n\"+\n",
       "     \"</div>\"}};\n",
       "\n",
       "  function display_loaded() {\n",
       "    if (root.Bokeh !== undefined) {\n",
       "      var el = document.getElementById(\"19c6e981-2c15-4eb5-a6a5-aa195aae2f40\");\n",
       "      if (el != null) {\n",
       "        el.textContent = \"BokehJS \" + Bokeh.version + \" successfully loaded.\";\n",
       "      }\n",
       "    } else if (Date.now() < root._bokeh_timeout) {\n",
       "      setTimeout(display_loaded, 100)\n",
       "    }\n",
       "  }\n",
       "\n",
       "\n",
       "  function run_callbacks() {\n",
       "    try {\n",
       "      root._bokeh_onload_callbacks.forEach(function(callback) { callback() });\n",
       "    }\n",
       "    finally {\n",
       "      delete root._bokeh_onload_callbacks\n",
       "    }\n",
       "    console.info(\"Bokeh: all callbacks have finished\");\n",
       "  }\n",
       "\n",
       "  function load_libs(js_urls, callback) {\n",
       "    root._bokeh_onload_callbacks.push(callback);\n",
       "    if (root._bokeh_is_loading > 0) {\n",
       "      console.log(\"Bokeh: BokehJS is being loaded, scheduling callback at\", now());\n",
       "      return null;\n",
       "    }\n",
       "    if (js_urls == null || js_urls.length === 0) {\n",
       "      run_callbacks();\n",
       "      return null;\n",
       "    }\n",
       "    console.log(\"Bokeh: BokehJS not loaded, scheduling load and callback at\", now());\n",
       "    root._bokeh_is_loading = js_urls.length;\n",
       "    for (var i = 0; i < js_urls.length; i++) {\n",
       "      var url = js_urls[i];\n",
       "      var s = document.createElement('script');\n",
       "      s.src = url;\n",
       "      s.async = false;\n",
       "      s.onreadystatechange = s.onload = function() {\n",
       "        root._bokeh_is_loading--;\n",
       "        if (root._bokeh_is_loading === 0) {\n",
       "          console.log(\"Bokeh: all BokehJS libraries loaded\");\n",
       "          run_callbacks()\n",
       "        }\n",
       "      };\n",
       "      s.onerror = function() {\n",
       "        console.warn(\"failed to load library \" + url);\n",
       "      };\n",
       "      console.log(\"Bokeh: injecting script tag for BokehJS library: \", url);\n",
       "      document.getElementsByTagName(\"head\")[0].appendChild(s);\n",
       "    }\n",
       "  };var element = document.getElementById(\"19c6e981-2c15-4eb5-a6a5-aa195aae2f40\");\n",
       "  if (element == null) {\n",
       "    console.log(\"Bokeh: ERROR: autoload.js configured with elementid '19c6e981-2c15-4eb5-a6a5-aa195aae2f40' but no matching script tag was found. \")\n",
       "    return false;\n",
       "  }\n",
       "\n",
       "  var js_urls = [\"https://cdn.pydata.org/bokeh/release/bokeh-0.12.7.min.js\", \"https://cdn.pydata.org/bokeh/release/bokeh-widgets-0.12.7.min.js\", \"https://cdn.pydata.org/bokeh/release/bokeh-tables-0.12.7.min.js\", \"https://cdn.pydata.org/bokeh/release/bokeh-gl-0.12.7.min.js\"];\n",
       "\n",
       "  var inline_js = [\n",
       "    function(Bokeh) {\n",
       "      Bokeh.set_log_level(\"info\");\n",
       "    },\n",
       "    \n",
       "    function(Bokeh) {\n",
       "      \n",
       "    },\n",
       "    \n",
       "    function(Bokeh) {\n",
       "      \n",
       "      document.getElementById(\"19c6e981-2c15-4eb5-a6a5-aa195aae2f40\").textContent = \"BokehJS is loading...\";\n",
       "    },\n",
       "    function(Bokeh) {\n",
       "      console.log(\"Bokeh: injecting CSS: https://cdn.pydata.org/bokeh/release/bokeh-0.12.7.min.css\");\n",
       "      Bokeh.embed.inject_css(\"https://cdn.pydata.org/bokeh/release/bokeh-0.12.7.min.css\");\n",
       "      console.log(\"Bokeh: injecting CSS: https://cdn.pydata.org/bokeh/release/bokeh-widgets-0.12.7.min.css\");\n",
       "      Bokeh.embed.inject_css(\"https://cdn.pydata.org/bokeh/release/bokeh-widgets-0.12.7.min.css\");\n",
       "      console.log(\"Bokeh: injecting CSS: https://cdn.pydata.org/bokeh/release/bokeh-tables-0.12.7.min.css\");\n",
       "      Bokeh.embed.inject_css(\"https://cdn.pydata.org/bokeh/release/bokeh-tables-0.12.7.min.css\");\n",
       "    }\n",
       "  ];\n",
       "\n",
       "  function run_inline_js() {\n",
       "    \n",
       "    if ((root.Bokeh !== undefined) || (force === true)) {\n",
       "      for (var i = 0; i < inline_js.length; i++) {\n",
       "        inline_js[i].call(root, root.Bokeh);\n",
       "      }if (force === true) {\n",
       "        display_loaded();\n",
       "      }} else if (Date.now() < root._bokeh_timeout) {\n",
       "      setTimeout(run_inline_js, 100);\n",
       "    } else if (!root._bokeh_failed_load) {\n",
       "      console.log(\"Bokeh: BokehJS failed to load within specified timeout.\");\n",
       "      root._bokeh_failed_load = true;\n",
       "    } else if (force !== true) {\n",
       "      var cell = $(document.getElementById(\"19c6e981-2c15-4eb5-a6a5-aa195aae2f40\")).parents('.cell').data().cell;\n",
       "      cell.output_area.append_execute_result(NB_LOAD_WARNING)\n",
       "    }\n",
       "\n",
       "  }\n",
       "\n",
       "  if (root._bokeh_is_loading === 0) {\n",
       "    console.log(\"Bokeh: BokehJS loaded, going straight to plotting\");\n",
       "    run_inline_js();\n",
       "  } else {\n",
       "    load_libs(js_urls, function() {\n",
       "      console.log(\"Bokeh: BokehJS plotting callback run at\", now());\n",
       "      run_inline_js();\n",
       "    });\n",
       "  }\n",
       "}(window));"
      ]
     },
     "metadata": {},
     "output_type": "display_data"
    }
   ],
   "source": [
    "from bokeh.plotting import figure, show, output_notebook, save#, output_file\n",
    "from bokeh.models import HoverTool, value, LabelSet, Legend, ColumnDataSource\n",
    "from bokeh.io import export_png\n",
    "output_notebook()"
   ]
  },
  {
   "cell_type": "code",
   "execution_count": 240,
   "metadata": {
    "_uuid": "27ddd00b2085860a52118d995cf7c461885cefb4",
    "collapsed": true
   },
   "outputs": [],
   "source": [
    "source = ColumnDataSource(dict(\n",
    "    x=p_df['X_tsne'],\n",
    "    y=p_df['Y_tsne'],\n",
    "    color=p_df['colors'],\n",
    "    label=p_df['clusters'].apply(lambda l: top_labels[l]),\n",
    "    msize= p_df['marker_size'],\n",
    "    title= p_df[u'Title'],\n",
    "    content = p_df['Text_Rep']\n",
    "))"
   ]
  },
  {
   "cell_type": "code",
   "execution_count": 244,
   "metadata": {
    "_uuid": "ecb9b9f46894e857788141b271be186fb8ffcb2e",
    "collapsed": false
   },
   "outputs": [
    {
     "data": {
      "text/html": [
       "\n",
       "\n",
       "    <div class=\"bk-root\">\n",
       "        <div class=\"bk-plotdiv\" id=\"ddef4fc6-fa11-4892-92ff-4358bf86e834\"></div>\n",
       "    </div>\n",
       "<script type=\"text/javascript\">\n",
       "  \n",
       "  (function(global) {\n",
       "    function now() {\n",
       "      return new Date();\n",
       "    }\n",
       "  \n",
       "    var force = false;\n",
       "  \n",
       "    if (typeof (window._bokeh_onload_callbacks) === \"undefined\" || force === true) {\n",
       "      window._bokeh_onload_callbacks = [];\n",
       "      window._bokeh_is_loading = undefined;\n",
       "    }\n",
       "  \n",
       "  \n",
       "    \n",
       "    if (typeof (window._bokeh_timeout) === \"undefined\" || force === true) {\n",
       "      window._bokeh_timeout = Date.now() + 0;\n",
       "      window._bokeh_failed_load = false;\n",
       "    }\n",
       "  \n",
       "    var NB_LOAD_WARNING = {'data': {'text/html':\n",
       "       \"<div style='background-color: #fdd'>\\n\"+\n",
       "       \"<p>\\n\"+\n",
       "       \"BokehJS does not appear to have successfully loaded. If loading BokehJS from CDN, this \\n\"+\n",
       "       \"may be due to a slow or bad network connection. Possible fixes:\\n\"+\n",
       "       \"</p>\\n\"+\n",
       "       \"<ul>\\n\"+\n",
       "       \"<li>re-rerun `output_notebook()` to attempt to load from CDN again, or</li>\\n\"+\n",
       "       \"<li>use INLINE resources instead, as so:</li>\\n\"+\n",
       "       \"</ul>\\n\"+\n",
       "       \"<code>\\n\"+\n",
       "       \"from bokeh.resources import INLINE\\n\"+\n",
       "       \"output_notebook(resources=INLINE)\\n\"+\n",
       "       \"</code>\\n\"+\n",
       "       \"</div>\"}};\n",
       "  \n",
       "    function display_loaded() {\n",
       "      if (window.Bokeh !== undefined) {\n",
       "        var el = document.getElementById(\"ddef4fc6-fa11-4892-92ff-4358bf86e834\");\n",
       "        el.textContent = \"BokehJS \" + Bokeh.version + \" successfully loaded.\";\n",
       "      } else if (Date.now() < window._bokeh_timeout) {\n",
       "        setTimeout(display_loaded, 100)\n",
       "      }\n",
       "    }\n",
       "  \n",
       "    function run_callbacks() {\n",
       "      window._bokeh_onload_callbacks.forEach(function(callback) { callback() });\n",
       "      delete window._bokeh_onload_callbacks\n",
       "      console.info(\"Bokeh: all callbacks have finished\");\n",
       "    }\n",
       "  \n",
       "    function load_libs(js_urls, callback) {\n",
       "      window._bokeh_onload_callbacks.push(callback);\n",
       "      if (window._bokeh_is_loading > 0) {\n",
       "        console.log(\"Bokeh: BokehJS is being loaded, scheduling callback at\", now());\n",
       "        return null;\n",
       "      }\n",
       "      if (js_urls == null || js_urls.length === 0) {\n",
       "        run_callbacks();\n",
       "        return null;\n",
       "      }\n",
       "      console.log(\"Bokeh: BokehJS not loaded, scheduling load and callback at\", now());\n",
       "      window._bokeh_is_loading = js_urls.length;\n",
       "      for (var i = 0; i < js_urls.length; i++) {\n",
       "        var url = js_urls[i];\n",
       "        var s = document.createElement('script');\n",
       "        s.src = url;\n",
       "        s.async = false;\n",
       "        s.onreadystatechange = s.onload = function() {\n",
       "          window._bokeh_is_loading--;\n",
       "          if (window._bokeh_is_loading === 0) {\n",
       "            console.log(\"Bokeh: all BokehJS libraries loaded\");\n",
       "            run_callbacks()\n",
       "          }\n",
       "        };\n",
       "        s.onerror = function() {\n",
       "          console.warn(\"failed to load library \" + url);\n",
       "        };\n",
       "        console.log(\"Bokeh: injecting script tag for BokehJS library: \", url);\n",
       "        document.getElementsByTagName(\"head\")[0].appendChild(s);\n",
       "      }\n",
       "    };var element = document.getElementById(\"ddef4fc6-fa11-4892-92ff-4358bf86e834\");\n",
       "    if (element == null) {\n",
       "      console.log(\"Bokeh: ERROR: autoload.js configured with elementid 'ddef4fc6-fa11-4892-92ff-4358bf86e834' but no matching script tag was found. \")\n",
       "      return false;\n",
       "    }\n",
       "  \n",
       "    var js_urls = [];\n",
       "  \n",
       "    var inline_js = [\n",
       "      function(Bokeh) {\n",
       "        (function() {\n",
       "          var fn = function() {\n",
       "            var docs_json = {\"2a45d7e2-805e-45b3-8aa9-2635e1f2146e\":{\"roots\":{\"references\":[{\"attributes\":{\"fill_alpha\":{\"value\":0.8},\"fill_color\":{\"field\":\"color\"},\"line_alpha\":{\"value\":0.8},\"line_color\":{\"field\":\"color\"},\"size\":{\"field\":\"msize\",\"units\":\"screen\"},\"x\":{\"field\":\"x\"},\"y\":{\"field\":\"y\"}},\"id\":\"f68f98a2-ac07-4d37-ad9e-760b71c459b0\",\"type\":\"Circle\"},{\"attributes\":{\"plot\":{\"id\":\"34a786d5-f52b-4c7a-bd10-91c33ae9d2b9\",\"subtype\":\"Figure\",\"type\":\"Plot\"}},\"id\":\"5836fc51-2add-46d3-80b6-5cf7417fd680\",\"type\":\"ResetTool\"},{\"attributes\":{},\"id\":\"ee643cd0-3444-4dde-b13e-69aebd53bb4a\",\"type\":\"ToolEvents\"},{\"attributes\":{\"plot\":{\"id\":\"34a786d5-f52b-4c7a-bd10-91c33ae9d2b9\",\"subtype\":\"Figure\",\"type\":\"Plot\"}},\"id\":\"77fee727-2e99-4321-b9e9-37d1e879b3c4\",\"type\":\"PanTool\"},{\"attributes\":{\"data_source\":{\"id\":\"fa23c55a-baba-4066-a49e-afbe0895a3d1\",\"type\":\"ColumnDataSource\"},\"glyph\":{\"id\":\"f68f98a2-ac07-4d37-ad9e-760b71c459b0\",\"type\":\"Circle\"},\"hover_glyph\":null,\"muted_glyph\":null,\"nonselection_glyph\":{\"id\":\"d3b1789a-8b20-4b01-8237-ed9ce3b759d6\",\"type\":\"Circle\"},\"selection_glyph\":null},\"id\":\"3f161068-f390-4bb9-bf10-612b2df5e49a\",\"type\":\"GlyphRenderer\"},{\"attributes\":{\"label\":{\"field\":\"label\"},\"renderers\":[{\"id\":\"3f161068-f390-4bb9-bf10-612b2df5e49a\",\"type\":\"GlyphRenderer\"}]},\"id\":\"5d0a2eba-68f7-4909-9730-57aa95ad9014\",\"type\":\"LegendItem\"},{\"attributes\":{\"fill_alpha\":{\"value\":0.1},\"fill_color\":{\"value\":\"#1f77b4\"},\"line_alpha\":{\"value\":0.1},\"line_color\":{\"value\":\"#1f77b4\"},\"size\":{\"field\":\"msize\",\"units\":\"screen\"},\"x\":{\"field\":\"x\"},\"y\":{\"field\":\"y\"}},\"id\":\"d3b1789a-8b20-4b01-8237-ed9ce3b759d6\",\"type\":\"Circle\"},{\"attributes\":{\"active_drag\":\"auto\",\"active_scroll\":\"auto\",\"active_tap\":\"auto\",\"tools\":[{\"id\":\"77fee727-2e99-4321-b9e9-37d1e879b3c4\",\"type\":\"PanTool\"},{\"id\":\"1c8b258a-7536-4ebb-acb4-7e695c88ed78\",\"type\":\"WheelZoomTool\"},{\"id\":\"9fa8a644-4a46-4602-b790-1595f59d5b48\",\"type\":\"BoxZoomTool\"},{\"id\":\"5836fc51-2add-46d3-80b6-5cf7417fd680\",\"type\":\"ResetTool\"},{\"id\":\"58bee35b-73bf-480f-8d2f-9fd7c9f94aec\",\"type\":\"HoverTool\"},{\"id\":\"bf9c4765-3759-4262-b6f3-ba9bc311e2f2\",\"type\":\"SaveTool\"}]},\"id\":\"29e84f3c-af6a-4188-bbc8-1bf1bfa9e619\",\"type\":\"Toolbar\"},{\"attributes\":{\"overlay\":{\"id\":\"808adbda-8ce3-4f17-977d-9f7bd0a8d075\",\"type\":\"BoxAnnotation\"},\"plot\":{\"id\":\"34a786d5-f52b-4c7a-bd10-91c33ae9d2b9\",\"subtype\":\"Figure\",\"type\":\"Plot\"}},\"id\":\"9fa8a644-4a46-4602-b790-1595f59d5b48\",\"type\":\"BoxZoomTool\"},{\"attributes\":{\"callback\":null},\"id\":\"be3ddb35-7049-41b8-8ab3-76bd4aef11a6\",\"type\":\"DataRange1d\"},{\"attributes\":{\"items\":[{\"id\":\"5d0a2eba-68f7-4909-9730-57aa95ad9014\",\"type\":\"LegendItem\"}],\"location\":\"top_left\",\"plot\":{\"id\":\"34a786d5-f52b-4c7a-bd10-91c33ae9d2b9\",\"subtype\":\"Figure\",\"type\":\"Plot\"}},\"id\":\"672a3b46-7e77-4e74-bd12-2a1b4d20af71\",\"type\":\"Legend\"},{\"attributes\":{\"callback\":null,\"column_names\":[\"content\",\"y\",\"title\",\"color\",\"x\",\"label\",\"msize\"],\"data\":{\"color\":[\"blue\",\"blue\",\"green\",\"yellow\",\"yellow\",\"green\",\"blue\",\"red\",\"red\",\"green\",\"red\",\"blue\",\"green\",\"green\",\"yellow\",\"green\",\"yellow\",\"yellow\",\"red\",\"green\",\"green\",\"red\",\"red\",\"blue\",\"green\",\"blue\",\"red\",\"yellow\",\"blue\",\"red\",\"green\",\"yellow\",\"red\",\"red\",\"blue\",\"yellow\",\"blue\",\"yellow\",\"green\",\"blue\",\"red\",\"yellow\",\"blue\",\"green\",\"yellow\",\"green\",\"green\",\"red\",\"blue\",\"red\",\"yellow\",\"yellow\",\"yellow\",\"yellow\",\"yellow\",\"red\",\"red\",\"yellow\",\"green\",\"red\",\"blue\",\"green\",\"green\",\"yellow\",\"red\",\"green\",\"blue\",\"green\",\"red\",\"green\",\"yellow\",\"yellow\",\"red\",\"green\",\"blue\",\"green\",\"blue\",\"green\",\"red\",\"blue\",\"green\",\"blue\",\"green\",\"yellow\",\"green\",\"green\",\"green\",\"blue\",\"yellow\",\"red\",\"green\",\"yellow\",\"yellow\",\"red\",\"green\",\"red\",\"blue\",\"green\",\"red\",\"blue\",\"red\",\"yellow\",\"red\",\"red\",\"red\",\"green\",\"yellow\",\"blue\",\"red\",\"yellow\",\"green\",\"green\",\"blue\",\"green\",\"blue\",\"blue\",\"yellow\",\"green\",\"green\",\"green\",\"green\",\"green\",\"red\",\"red\",\"red\",\"green\",\"red\",\"blue\",\"yellow\",\"yellow\",\"red\",\"green\",\"green\",\"yellow\",\"yellow\",\"green\",\"red\",\"red\",\"green\",\"red\",\"green\",\"blue\",\"green\",\"green\",\"blue\",\"blue\",\"green\",\"green\",\"blue\",\"blue\",\"blue\",\"blue\",\"green\",\"red\",\"yellow\",\"green\",\"yellow\",\"yellow\",\"green\",\"red\",\"yellow\",\"blue\",\"green\",\"green\",\"blue\",\"red\",\"red\",\"yellow\",\"yellow\",\"green\",\"blue\",\"blue\",\"green\",\"blue\",\"green\",\"green\",\"blue\",\"yellow\",\"green\",\"blue\",\"blue\",\"green\",\"yellow\",\"blue\",\"yellow\",\"red\",\"yellow\",\"red\",\"green\",\"blue\",\"yellow\",\"blue\",\"yellow\",\"yellow\",\"blue\",\"yellow\",\"green\",\"yellow\",\"blue\",\"blue\",\"blue\",\"green\",\"red\",\"yellow\",\"green\",\"yellow\",\"yellow\",\"green\",\"red\",\"yellow\",\"green\",\"green\",\"yellow\",\"red\",\"green\",\"green\",\"yellow\",\"yellow\",\"blue\",\"blue\",\"red\",\"yellow\",\"green\",\"red\",\"green\",\"blue\",\"yellow\",\"blue\",\"green\",\"yellow\",\"yellow\",\"green\",\"yellow\",\"green\",\"blue\",\"yellow\",\"yellow\",\"green\",\"green\",\"yellow\",\"green\",\"blue\",\"red\",\"blue\",\"green\",\"blue\",\"red\",\"green\",\"red\",\"blue\",\"yellow\",\"yellow\",\"yellow\",\"green\",\"red\",\"blue\",\"yellow\",\"yellow\",\"green\",\"blue\",\"green\",\"blue\",\"blue\",\"red\",\"yellow\",\"yellow\",\"yellow\",\"yellow\",\"blue\",\"green\",\"red\",\"red\",\"blue\",\"yellow\",\"yellow\",\"yellow\",\"yellow\",\"red\",\"yellow\",\"green\",\"blue\",\"red\",\"green\",\"blue\",\"green\",\"blue\",\"red\",\"green\",\"green\",\"green\",\"yellow\",\"yellow\",\"blue\",\"red\",\"green\",\"blue\",\"yellow\",\"red\",\"green\",\"yellow\",\"green\",\"blue\",\"blue\",\"yellow\",\"blue\",\"yellow\",\"red\",\"green\",\"red\",\"yellow\",\"blue\",\"green\",\"red\",\"green\",\"blue\",\"yellow\",\"red\",\"green\",\"green\",\"green\",\"green\",\"green\",\"yellow\",\"blue\",\"blue\",\"yellow\",\"red\",\"green\",\"red\",\"yellow\",\"blue\",\"red\",\"yellow\",\"green\",\"green\",\"blue\",\"yellow\",\"green\",\"blue\",\"blue\",\"red\",\"red\",\"yellow\",\"green\",\"yellow\",\"red\",\"yellow\",\"green\",\"green\",\"yellow\",\"blue\",\"green\",\"green\",\"yellow\",\"green\",\"yellow\",\"yellow\",\"blue\",\"green\",\"yellow\",\"green\",\"red\",\"green\",\"green\",\"red\",\"yellow\",\"yellow\",\"blue\",\"yellow\",\"blue\",\"yellow\",\"yellow\",\"green\",\"blue\",\"blue\",\"yellow\",\"yellow\",\"blue\",\"green\",\"green\",\"yellow\",\"green\",\"yellow\",\"red\",\"blue\",\"red\",\"yellow\",\"yellow\",\"blue\",\"green\",\"yellow\",\"yellow\",\"red\",\"blue\",\"yellow\",\"red\",\"blue\",\"green\",\"yellow\",\"yellow\",\"yellow\",\"green\",\"yellow\"],\"content\":[\"mechanism answer confidence multiplicative\",\"robustness learner svm equivalence\",\"stability vol training example parametric\",\"dirichlet mixture model concentration hyperparameters\",\"covariance matrix article maintaining letter\",\"covariance matrix rate convergence tail oracle\",\"leaf logarithmic pure left right\",\"segmentation closest plane vertex\",\"retrieval post recurrent query\",\"vertex round item permutation\",\"proposal box shared convolutional\",\"manifold embeddings embedding euclidean\",\"svd descent algorithm retrieval jain\",\"real valued utility cover feedback\",\"physical video physic mass\",\"item sample complexity pseudo price\",\"neuron trial population stationary\",\"manifold digit locally low dimensional\",\"color pixel fold end end\",\"ranking item stationary pairwise\",\"sgd step size gaussian process mnist\",\"recurrent list hidden unit hidden layer\",\"grid ground truth convolutional social\",\"regret learner expert reward\",\"law eigenvalue polynomial time orthogonal\",\"sampler boundary step size biased\",\"video resolution convolution recurrent\",\"moment concave hybrid mode\",\"embedding embeddings parametric auxiliary\",\"convolutional convolutional neural network convolutional neural spatial\",\"averaging auxiliary communication propagation\",\"identification dirichlet mixture model central\",\"svm white category ball\",\"soft subgradient accelerated relaxation\",\"regret retrieval confidence existence\",\"smoothing manifold principal green\",\"svm biased ranking conjugate\",\"trajectory policy reinforcement learning reinforcement\",\"orthogonal factorization svd pca\",\"regret greedy reward maximal\",\"segmentation extra semantic feature vector\",\"neuron posterior distribution stationary inherent\",\"accelerated gradient method critical convergence rate\",\"pca principal component sketch principal\",\"functional nonparametric expansion theoretic\",\"round singular value singular reconstruction\",\"non convex kdd supplement cpu\",\"proposal box overlap plane\",\"regret budget reward boundary\",\"fully connected hidden unit number parameter convolutional\",\"mcmc partitioning sampler smoothing\",\"shared segment brain functional\",\"cell biological root mark\",\"backward greedy reward trajectory\",\"moment mixture model gaussians kakade\",\"width away strongly convex oracle\",\"recurrent neural network recurrent neural interaction recurrent\",\"moment document dirichlet component analysis\",\"sensing retrieval low rank rank matrix\",\"marginals solver vertex iterates\",\"mixing stationary sup exp exp\",\"svd embedding embeddings pairwise\",\"alternating oracle completion rank matrix\",\"variational inference automatic mixture model dirichlet\",\"speech mechanism content recurrent\",\"regression model closed form thresholding exponential family\",\"learner pas online learning regret\",\"item ranking pairwise marginals\",\"diverse energy segmentation ordered\",\"vertex width cover polynomial time\",\"ordering undirected directed vol\",\"boltzmann hidden unit expansion epoch\",\"article convolutional corpus language processing\",\"discriminative brain proposed method labeled\",\"partitioning regret smoothness cell\",\"vertex community recovery regime\",\"momentum communication imagenet moving\",\"greedy item vertex disjoint\",\"oracle query weak false\",\"globally margin classification problem time complexity\",\"recovery thresholding solver dense\",\"embeddings embedding learner ensemble\",\"truncated retrieval kxk flow\",\"trajectory population gaussian process cause\",\"subspace inner product counterpart segmentation\",\"pca vol disjoint extracted\",\"leverage bach running time low rank\",\"regret policy round strongly convex\",\"neuron diag filter moment\",\"flow cell convolutional digit\",\"logistic regression solver regularization parameter radius\",\"boltzmann calculation probabilistic model normalization\",\"stat digit gaussian process modelling\",\"precision false segment figure left\",\"budget greedy cover allocation\",\"missing mcmc recurrent neural network recurrent neural\",\"mini accelerated strongly convex maxi\",\"mixing strongly convex markov chain mcmc\",\"hessian recurrent neural network recurrent neural recurrent\",\"predictor fold minimax proper\",\"resolution translation convolutional convolutional neural network\",\"manifold mixture model euclidean convexity\",\"embeddings embedding convolution error rate\",\"grid cpu depth recursive\",\"labeling recurrent convolutional pixel\",\"leaf assignment store conditioning\",\"mcmc markov chain flow exponential family\",\"resource regret allocation confidence\",\"shape learner unsupervised solver\",\"neuron recurrent balance feedback\",\"sketch gibbs moment latent variable model\",\"subspace gibbs utility sampler\",\"margin ranking document learner\",\"characterization embedding embeddings geometric\",\"sgd ranking computational cost estimation error\",\"vertex sample complexity reward round\",\"brain dot trial neuron\",\"bayes discriminative naive logistic regression\",\"round closest counterpart assigned\",\"walk list semantic item\",\"rate convergence precision frobenius estimation error\",\"fisher linear model query convergence rate\",\"pose recurrent face manifold\",\"softmax cpu hidden layer backpropagation\",\"neuron backpropagation vol ensemble\",\"zhu formed flow fold\",\"fully connected neuron bit imagenet\",\"compact characteristic vol rate convergence\",\"population dirichlet held variational inference\",\"integration integral posterior distribution model selection\",\"recurrent neural network recurrent neural recurrent model trained\",\"completion width estimation error sample complexity\",\"sun regularizer definite unconstrained\",\"proposal segmentation sampler dirichlet\",\"mcmc concave moment bayes\",\"hessian convergence rate second order step size\",\"nearest neighbor query sensitive\",\"video manifold temporal locally\",\"walk mixing ball box\",\"manifold pose query embedding\",\"hessian completion vol retrieval\",\"round regret feedback online learning\",\"leaf solver depth iii\",\"vertex perfect auxiliary vol\",\"item regret factorization cumulative\",\"journal optimization unconstrained stanford hessian\",\"permutation proc formula ordering\",\"greedy event strength confidence\",\"robustness transform transformed face\",\"regret reward treatment outcome\",\"ensemble game predictor leaf\",\"regret feedback minimax learner\",\"differential vertex nonparametric maximal\",\"proposal box greedy bounding\",\"hessian backpropagation variational inference auto\",\"singular singular value frobenius svd\",\"proposed method embeddings document embedding\",\"gaussian process error rate variational inference gaussians\",\"markov chain walk max max trajectory\",\"proposal wainwright pairwise confidence\",\"exponential family mcmc gibbs formula\",\"item regret reward combinatorial\",\"mixing markov chain confidence stationary\",\"policy formula trajectory sensitive\",\"concave stability strongly convex minimizer\",\"resolution model trained conditioning boltzmann\",\"segmentation semantic activation pixel\",\"hessian sgd non convex mnist\",\"environment shift strength covariance matrix\",\"perturbation policy budget robustness\",\"epoch linear regression fraction kxk\",\"environment hyper learner posterior distribution\",\"bit link compressed sensing\",\"invariant integration vol sample complexity\",\"estimation error mixed regularizer linear regression\",\"history stochastic optimization policy recursive\",\"locally convex function sgd lipschitz\",\"filtering coding population neuron\",\"pca relaxation moment principal component\",\"majority margin discriminative error rate\",\"stopping epoch inf iterates\",\"walk vertex geometric kxk\",\"gaussian process mcmc sampler gibbs\",\"leverage model selection statistical learning regularization parameter\",\"inference algorithm markov chain state space trajectory\",\"regularization parameter option grid support vector\",\"environment neuron spatial reward\",\"query document reader corpus\",\"projected relaxation population subgradient\",\"policy filter belief claim\",\"vertex directed mixed undirected\",\"leaf depth greedy augmented\",\"manifold video gaussian process missing\",\"reward expert trajectory segment\",\"round communication strongly convex convex function\",\"discriminative gibbs document dirichlet\",\"greedy decay bit zhou\",\"self normalization linear model characterization\",\"regret game learner round\",\"ranking proc social dot\",\"non linear proc closer link\",\"rank matrix pca low rank completion\",\"recurrent translation strength scalar\",\"margin discriminative missing subgradient\",\"positive definite transform compact definite\",\"projected coding reconstruction hidden unit\",\"identification ordering list independence\",\"completion rank matrix low rank lipschitz\",\"retrieval style embedding margin\",\"sampler gibbs mcmc mixture model\",\"item greedy partitioning vertex\",\"item rank matrix ranking low rank\",\"spatial frequency stationary width\",\"pixel neighborhood recurrent ensemble\",\"compressed low rank missing pca\",\"mixing gibbs sampler state space\",\"event link evolution social\",\"linear regression filtering moment history\",\"regret game history calculate\",\"characteristic analytic embeddings frequency\",\"proposal segmentation box pixel\",\"spectrum gaussian process frequency brain\",\"bit differential communication symposium\",\"spatial digit grid transformed\",\"critical radius inf tight\",\"svm margin vol structural\",\"neuron vol population trial\",\"digit semantic segmentation ground truth\",\"bit kxk sensing compressed\",\"fisher sgd conditioning normalization\",\"population ball mcmc manifold\",\"iterates scaled adapt hybrid\",\"document proportion variational inference dirichlet\",\"completion multiplication factorization rank matrix\",\"regret reward combinatorial feedback\",\"environment reward internal reinforcement learning\",\"smoothing walk compressed event\",\"regret min max oracle competitive\",\"policy budget leaf reward\",\"sampler hybrid mass biased\",\"query ensemble runtime coding\",\"smoothness svm locally ball\",\"pixel segmentation spatial theoretic\",\"regret perturbation penalty learner\",\"width sample complexity estimation error recovery\",\"embeddings vertex embedding mnist\",\"feature vector convolutional depth convolutional neural\",\"partitioning round segmentation greedy\",\"query answer supplement compact\",\"mixed support vector convergence rate grow\",\"formula vol dirichlet distinguish\",\"neuron principal thresholding eigenvalue\",\"step size mcmc invariant backward\",\"exponential family random field neighborhood undirected\",\"answer embedding translation content\",\"sgd epoch step size neighborhood\",\"integral policy trial trajectory\",\"approximating propagation gaussians moment\",\"concave relaxation cover tight\",\"pca subspace mini component analysis\",\"differential query data analysis overfitting\",\"price utility belief budget\",\"augmented iterates solver projected\",\"depth transform deep network mnist\",\"model selection gaussian process hyperparameters frequency\",\"sampler gibbs mixing state space\",\"manifold trajectory shift mcmc\",\"reward confidence trial dot\",\"sgd regularizer geometry invariant\",\"article sign predictor non zero\",\"softmax embedding answer recurrent\",\"frequency filter spatial conjugate\",\"regret learner base online learning\",\"hidden layer temporal recurrent belief\",\"cell electrical identification completion\",\"vol trial internal recovers\",\"spectrum physical resolution energy\",\"configuration software detect researcher\",\"cause independence identified directed\",\"latent variable model variable model rate convergence low dimensional\",\"price regret round game\",\"face neuron pose light\",\"low rank mode recovery rank matrix\",\"minimax regret round game\",\"differential running time sample size synthetic data\",\"sample complexity uci lipschitz nearest\",\"recurrent resolution proposal reinforcement learning\",\"error bound regularization parameter random field frobenius\",\"mixing markov chain sample size vol\",\"missing frobenius alternating ground truth\",\"proposal recurrent recurrent neural network recurrent neural\",\"variational inference gibbs mnist integration\",\"epoch iterate step size sgd\",\"query web embedding answer\",\"frequency recovery resolution minimal\",\"sgd precision non convex bit\",\"dot discriminative run time page ieee\",\"softmax mechanism input output combinatorial\",\"recovery store kxk subspace\",\"gibbs factorization corpus non negative\",\"vertex solver hessian minimizer\",\"game item precision ranking\",\"shared agarwal convergence rate mainly\",\"trajectory locally non linear reconstruction\",\"query epoch hyper parameter regret\",\"soft state space plan reinforcement learning\",\"corpus web ensemble google\",\"oracle recovery low rank covariance matrix\",\"convolutional filter hidden unit mnist\",\"dirichlet corpus document mcmc\",\"regret depth optimization method iii\",\"reward policy reinforcement learning reinforcement\",\"relaxation semantic relaxed translation\",\"vertex assignment singular running time\",\"accelerated trajectory interpretation differential\",\"gaussian process learner ranking covariance matrix\",\"game recurrent encoding video\",\"recovery gaussian noise recovering fourth\",\"round utility cover greedy\",\"community overlapping walk vertex\",\"state space reward base reinforcement learning\",\"width sign ball sup\",\"sampler mcmc stationary supplement\",\"regret self averaging perturbation\",\"vertex game flow labeled\",\"policy trajectory environment reward\",\"answer color vol embeddings\",\"auto ensemble hyperparameters configuration\",\"boltzmann euclidean sgd mnist\",\"modelling speech recurrent recurrent neural network\",\"regret game utility item\",\"segmentation pixel brain fully connected\",\"momentum boundary trajectory tuned\",\"neighbor link dense regime\",\"differential width vertex mechanism\",\"price outcome subspace belief\",\"hidden unit width hidden layer dirichlet\",\"hessian convergence rate eigenvalue sgd\",\"game regret price correlated\",\"universal hilbert space hilbert treatment\",\"recurrent document labeled error rate\",\"diag multiplication false sharing\",\"width gibbs mixing polynomial time\",\"subspace mode singular gaussian noise\",\"policy robustness environment trajectory\",\"regularizer backward propagation mnist\",\"trajectory policy feedback physical\",\"unconstrained diverse cardinality document\",\"universal vol accelerated gradient method\",\"ordering correctly examine greedy\",\"regret learner exploration game\",\"singular low rank pas singular value\",\"time step polynomial time sample complexity social\",\"directed undirected vol vertex\",\"oracle query concave convex function\",\"library gibbs document boundary\",\"gibbs embeddings dirichlet scalability\",\"overfitting feedback self policy\",\"formula equivalence assignment cell\",\"policy trajectory primary directed\",\"bayes strictly characterization link\",\"exp exp uai supplement log exp\",\"marginals twice feature vector stanford\",\"eigenvalue recovery grow community\",\"thought semantic translation corpus\",\"loop directed stopping compressed\",\"principal pca principal component color\",\"utility population averaging bayes\",\"regret gaussian process mcmc greedy\",\"mixing regret reward stationary\",\"brain logistic regression hidden layer reconstruction\",\"gaussian process random field spatial event\",\"tail detect post random field\",\"expert regret sup oracle\",\"strongly convex accelerated convergence rate rate convergence\",\"realization variational inference pseudo gaussian process\",\"conjugate variational inference diag geometry\",\"oracle smoothing enjoys sec\",\"regularizer precise non linear sign\",\"walk vertex neighborhood neighbor\",\"sgd mcmc hyper parameter precision\",\"completion sample complexity item recovery\",\"gibbs correlated auxiliary dirichlet\",\"query game utility stanford\",\"event confidence marginals margin\",\"segmentation pixel labeling neuron\",\"item event temporal history\",\"white gaussian process filter convolution\",\"price mechanism query exponential family\",\"formula proc canonical equality\",\"reinforcement learning reinforcement backpropagation surrogate\",\"surrogate policy reward considerably\",\"supervised learning mnist cost function unsupervised\",\"margin assignment embedding arg max\",\"variational inference factorization gaussians augmented\",\"recursive boundary segmentation dense\",\"augmented strongly convex solver regularizer\",\"sample complexity vol concave independence\",\"vol soft structural functional\",\"proposal belief exponential family propagation\",\"energy population modelling summary\",\"logistic regression radius ball confidence\",\"variational inference epoch activation trick\"],\"label\":[\"Online Learning\",\"Online Learning\",\"Numerical Analysis\",\"Statistics\",\"Statistics\",\"Numerical Analysis\",\"Online Learning\",\"Deep Learning\",\"Deep Learning\",\"Numerical Analysis\",\"Deep Learning\",\"Online Learning\",\"Numerical Analysis\",\"Numerical Analysis\",\"Statistics\",\"Numerical Analysis\",\"Statistics\",\"Statistics\",\"Deep Learning\",\"Numerical Analysis\",\"Numerical Analysis\",\"Deep Learning\",\"Deep Learning\",\"Online Learning\",\"Numerical Analysis\",\"Online Learning\",\"Deep Learning\",\"Statistics\",\"Online Learning\",\"Deep Learning\",\"Numerical Analysis\",\"Statistics\",\"Deep Learning\",\"Deep Learning\",\"Online Learning\",\"Statistics\",\"Online Learning\",\"Statistics\",\"Numerical Analysis\",\"Online Learning\",\"Deep Learning\",\"Statistics\",\"Online Learning\",\"Numerical Analysis\",\"Statistics\",\"Numerical Analysis\",\"Numerical Analysis\",\"Deep Learning\",\"Online Learning\",\"Deep Learning\",\"Statistics\",\"Statistics\",\"Statistics\",\"Statistics\",\"Statistics\",\"Deep Learning\",\"Deep Learning\",\"Statistics\",\"Numerical Analysis\",\"Deep Learning\",\"Online Learning\",\"Numerical Analysis\",\"Numerical Analysis\",\"Statistics\",\"Deep Learning\",\"Numerical Analysis\",\"Online Learning\",\"Numerical Analysis\",\"Deep Learning\",\"Numerical Analysis\",\"Statistics\",\"Statistics\",\"Deep Learning\",\"Numerical Analysis\",\"Online Learning\",\"Numerical Analysis\",\"Online Learning\",\"Numerical Analysis\",\"Deep Learning\",\"Online Learning\",\"Numerical Analysis\",\"Online Learning\",\"Numerical Analysis\",\"Statistics\",\"Numerical Analysis\",\"Numerical Analysis\",\"Numerical Analysis\",\"Online Learning\",\"Statistics\",\"Deep Learning\",\"Numerical Analysis\",\"Statistics\",\"Statistics\",\"Deep Learning\",\"Numerical Analysis\",\"Deep Learning\",\"Online Learning\",\"Numerical Analysis\",\"Deep Learning\",\"Online Learning\",\"Deep Learning\",\"Statistics\",\"Deep Learning\",\"Deep Learning\",\"Deep Learning\",\"Numerical Analysis\",\"Statistics\",\"Online Learning\",\"Deep Learning\",\"Statistics\",\"Numerical Analysis\",\"Numerical Analysis\",\"Online Learning\",\"Numerical Analysis\",\"Online Learning\",\"Online Learning\",\"Statistics\",\"Numerical Analysis\",\"Numerical Analysis\",\"Numerical Analysis\",\"Numerical Analysis\",\"Numerical Analysis\",\"Deep Learning\",\"Deep Learning\",\"Deep Learning\",\"Numerical Analysis\",\"Deep Learning\",\"Online Learning\",\"Statistics\",\"Statistics\",\"Deep Learning\",\"Numerical Analysis\",\"Numerical Analysis\",\"Statistics\",\"Statistics\",\"Numerical Analysis\",\"Deep Learning\",\"Deep Learning\",\"Numerical Analysis\",\"Deep Learning\",\"Numerical Analysis\",\"Online Learning\",\"Numerical Analysis\",\"Numerical Analysis\",\"Online Learning\",\"Online Learning\",\"Numerical Analysis\",\"Numerical Analysis\",\"Online Learning\",\"Online Learning\",\"Online Learning\",\"Online Learning\",\"Numerical Analysis\",\"Deep Learning\",\"Statistics\",\"Numerical Analysis\",\"Statistics\",\"Statistics\",\"Numerical Analysis\",\"Deep Learning\",\"Statistics\",\"Online Learning\",\"Numerical Analysis\",\"Numerical Analysis\",\"Online Learning\",\"Deep Learning\",\"Deep Learning\",\"Statistics\",\"Statistics\",\"Numerical Analysis\",\"Online Learning\",\"Online Learning\",\"Numerical Analysis\",\"Online Learning\",\"Numerical Analysis\",\"Numerical Analysis\",\"Online Learning\",\"Statistics\",\"Numerical Analysis\",\"Online Learning\",\"Online Learning\",\"Numerical Analysis\",\"Statistics\",\"Online Learning\",\"Statistics\",\"Deep Learning\",\"Statistics\",\"Deep Learning\",\"Numerical Analysis\",\"Online Learning\",\"Statistics\",\"Online Learning\",\"Statistics\",\"Statistics\",\"Online Learning\",\"Statistics\",\"Numerical Analysis\",\"Statistics\",\"Online Learning\",\"Online Learning\",\"Online Learning\",\"Numerical Analysis\",\"Deep Learning\",\"Statistics\",\"Numerical Analysis\",\"Statistics\",\"Statistics\",\"Numerical Analysis\",\"Deep Learning\",\"Statistics\",\"Numerical Analysis\",\"Numerical Analysis\",\"Statistics\",\"Deep Learning\",\"Numerical Analysis\",\"Numerical Analysis\",\"Statistics\",\"Statistics\",\"Online Learning\",\"Online Learning\",\"Deep Learning\",\"Statistics\",\"Numerical Analysis\",\"Deep Learning\",\"Numerical Analysis\",\"Online Learning\",\"Statistics\",\"Online Learning\",\"Numerical Analysis\",\"Statistics\",\"Statistics\",\"Numerical Analysis\",\"Statistics\",\"Numerical Analysis\",\"Online Learning\",\"Statistics\",\"Statistics\",\"Numerical Analysis\",\"Numerical Analysis\",\"Statistics\",\"Numerical Analysis\",\"Online Learning\",\"Deep Learning\",\"Online Learning\",\"Numerical Analysis\",\"Online Learning\",\"Deep Learning\",\"Numerical Analysis\",\"Deep Learning\",\"Online Learning\",\"Statistics\",\"Statistics\",\"Statistics\",\"Numerical Analysis\",\"Deep Learning\",\"Online Learning\",\"Statistics\",\"Statistics\",\"Numerical Analysis\",\"Online Learning\",\"Numerical Analysis\",\"Online Learning\",\"Online Learning\",\"Deep Learning\",\"Statistics\",\"Statistics\",\"Statistics\",\"Statistics\",\"Online Learning\",\"Numerical Analysis\",\"Deep Learning\",\"Deep Learning\",\"Online Learning\",\"Statistics\",\"Statistics\",\"Statistics\",\"Statistics\",\"Deep Learning\",\"Statistics\",\"Numerical Analysis\",\"Online Learning\",\"Deep Learning\",\"Numerical Analysis\",\"Online Learning\",\"Numerical Analysis\",\"Online Learning\",\"Deep Learning\",\"Numerical Analysis\",\"Numerical Analysis\",\"Numerical Analysis\",\"Statistics\",\"Statistics\",\"Online Learning\",\"Deep Learning\",\"Numerical Analysis\",\"Online Learning\",\"Statistics\",\"Deep Learning\",\"Numerical Analysis\",\"Statistics\",\"Numerical Analysis\",\"Online Learning\",\"Online Learning\",\"Statistics\",\"Online Learning\",\"Statistics\",\"Deep Learning\",\"Numerical Analysis\",\"Deep Learning\",\"Statistics\",\"Online Learning\",\"Numerical Analysis\",\"Deep Learning\",\"Numerical Analysis\",\"Online Learning\",\"Statistics\",\"Deep Learning\",\"Numerical Analysis\",\"Numerical Analysis\",\"Numerical Analysis\",\"Numerical Analysis\",\"Numerical Analysis\",\"Statistics\",\"Online Learning\",\"Online Learning\",\"Statistics\",\"Deep Learning\",\"Numerical Analysis\",\"Deep Learning\",\"Statistics\",\"Online Learning\",\"Deep Learning\",\"Statistics\",\"Numerical Analysis\",\"Numerical Analysis\",\"Online Learning\",\"Statistics\",\"Numerical Analysis\",\"Online Learning\",\"Online Learning\",\"Deep Learning\",\"Deep Learning\",\"Statistics\",\"Numerical Analysis\",\"Statistics\",\"Deep Learning\",\"Statistics\",\"Numerical Analysis\",\"Numerical Analysis\",\"Statistics\",\"Online Learning\",\"Numerical Analysis\",\"Numerical Analysis\",\"Statistics\",\"Numerical Analysis\",\"Statistics\",\"Statistics\",\"Online Learning\",\"Numerical Analysis\",\"Statistics\",\"Numerical Analysis\",\"Deep Learning\",\"Numerical Analysis\",\"Numerical Analysis\",\"Deep Learning\",\"Statistics\",\"Statistics\",\"Online Learning\",\"Statistics\",\"Online Learning\",\"Statistics\",\"Statistics\",\"Numerical Analysis\",\"Online Learning\",\"Online Learning\",\"Statistics\",\"Statistics\",\"Online Learning\",\"Numerical Analysis\",\"Numerical Analysis\",\"Statistics\",\"Numerical Analysis\",\"Statistics\",\"Deep Learning\",\"Online Learning\",\"Deep Learning\",\"Statistics\",\"Statistics\",\"Online Learning\",\"Numerical Analysis\",\"Statistics\",\"Statistics\",\"Deep Learning\",\"Online Learning\",\"Statistics\",\"Deep Learning\",\"Online Learning\",\"Numerical Analysis\",\"Statistics\",\"Statistics\",\"Statistics\",\"Numerical Analysis\",\"Statistics\"],\"msize\":{\"__ndarray__\":\"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\",\"dtype\":\"float64\",\"shape\":[403]},\"title\":[\"Double or Nothing: Multiplicative Incentive Mechanisms for Crowdsourcing\",\"Learning with Symmetric Label Noise: The Importance of Being Unhinged\",\"Algorithmic Stability and Uniform Generalization\",\"Adaptive Low-Complexity Sequential Inference for Dirichlet Process Mixture Models\",\"Covariance-Controlled Adaptive Langevin Thermostat for Large-Scale Bayesian Sampling\",\"Robust Portfolio Optimization\",\"Logarithmic Time Online Multiclass prediction\",\"Planar Ultrametrics for Image Segmentation\",\"Expressing an Image Stream with a Sequence of Natural Sentences\",\"Parallel Correlation Clustering on Big Graphs\",\"Faster R-CNN: Towards Real-Time Object Detection with Region Proposal Networks\",\"Space-Time Local Embeddings\",\"A Convergent Gradient Descent Algorithm for Rank Minimization and Semidefinite Programming from Random Linear Measurements\",\"Smooth Interactive Submodular Set Cover\",\"Galileo: Perceiving Physical Object Properties by Integrating a Physics Engine with Deep Learning\",\"On the Pseudo-Dimension of Nearly Optimal Auctions\",\"Unlocking neural population non-stationarities using hierarchical dynamics models\",\"Bayesian Manifold Learning: The Locally Linear Latent Variable Model (LL-LVM)\",\"Color Constancy by Learning to Predict Chromaticity from Luminance\",\"Fast and Accurate Inference of Plackett\\u2013Luce Models\",\"Probabilistic Line Searches for Stochastic Optimization\",\"Inferring Algorithmic Patterns with Stack-Augmented Recurrent Nets\",\"Where are they looking?\",\"The Pareto Regret Frontier for Bandits\",\"On the Limitation of Spectral Methods: From the Gaussian Hidden Clique Problem to Rank-One Perturbations of Gaussian Tensors\",\"Measuring Sample Quality with Stein's Method\",\"Bidirectional Recurrent Convolutional Networks for Multi-Frame Super-Resolution\",\"Bounding errors of Expectation-Propagation\",\"A fast, universal algorithm to learn parametric nonlinear embeddings\",\"Texture Synthesis Using Convolutional Neural Networks\",\"Extending Gossip Algorithms to Distributed Estimation of U-statistics\",\"Streaming, Distributed Variational Inference for Bayesian Nonparametrics\",\"Learning visual biases from human imagination\",\"Smooth and Strong: MAP Inference with Linear Convergence\",\"Copeland Dueling Bandits\",\"Optimal Ridge Detection using Coverage Risk\",\"Top-k Multiclass SVM\",\"Policy Evaluation Using the \\u03a9-Return\",\"Orthogonal NMF through Subspace Exploration\",\"Stochastic Online Greedy Learning with Semi-bandit Feedbacks\",\"Deeply Learning the Messages in Message Passing Inference\",\"Synaptic Sampling: A Bayesian Approach to Neural Network Plasticity and Rewiring\",\"Accelerated Proximal Gradient Methods for Nonconvex Programming\",\"Approximating Sparse PCA from Incomplete Data\",\"Nonparametric von Mises Estimators for Entropies, Divergences and Mutual Informations\",\"Column Selection via Adaptive Sampling\",\"HONOR: Hybrid Optimization for NOn-convex Regularized problems\",\"3D Object Proposals for Accurate Object Class Detection\",\"Algorithms with Logarithmic or Sublinear Regret for  Constrained Contextual Bandits\",\"Tensorizing Neural Networks\",\"Parallelizing MCMC with Random Partition Trees\",\"A Reduced-Dimension fMRI Shared Response Model\",\"Spectral Learning of Large Structured HMMs for Comparative Epigenomics\",\"Individual Planning in Infinite-Horizon Multiagent Settings: Inference, Structure and Scalability\",\"Estimating Mixture Models via Mixtures of Polynomials\",\"On the Global Linear Convergence of Frank-Wolfe Optimization Variants\",\"Deep Knowledge Tracing\",\"Rethinking LDA: Moment Matching for Discrete ICA\",\"Efficient Compressive Phase Retrieval with Constrained Sensing Vectors\",\"Barrier Frank-Wolfe for Marginal Inference\",\"Learning Theory and Algorithms for Forecasting Non-stationary Time Series\",\"Compressive spectral embedding: sidestepping the SVD\",\"A Nonconvex Optimization Framework for Low Rank Matrix Estimation\",\"Automatic Variational Inference in Stan\",\"Attention-Based Models for Speech Recognition\",\"Closed-form Estimators for High-dimensional Generalized Linear Models\",\"Online F-Measure Optimization\",\"Online Rank Elicitation for Plackett-Luce: A Dueling Bandits Approach\",\"M-Best-Diverse Labelings for Submodular Energies and Beyond\",\"Tractable Bayesian Network Structure Learning with Bounded Vertex Cover Number\",\"Learning Large-Scale Poisson DAG Models based on OverDispersion Scoring\",\"Training Restricted Boltzmann Machine via the \\ufffcThouless-Anderson-Palmer free energy\",\"Character-level Convolutional Networks for Text Classification\",\"Robust Feature-Sample Linear Discriminant Analysis for Brain Disorders Diagnosis\",\"Black-box optimization of noisy functions with unknown smoothness\",\"Recovering Communities in the General Stochastic Block Model Without Knowing the Parameters\",\"Deep learning with Elastic Averaging SGD\",\"Monotone k-Submodular Function Maximization with Size Constraints\",\"Active Learning from Weak and Strong Labelers\",\"On the Optimality of Classifier Chain for Multi-label Classification\",\"Robust Regression via Hard Thresholding\",\"Sparse Local Embeddings for Extreme Multi-label Classification\",\"Solving Random Quadratic Systems of Equations Is Nearly as Easy as Solving Linear Systems\",\"A Framework for Individualizing Predictions of Disease Trajectories by Exploiting Multi-Resolution Structure\",\"Subspace Clustering with Irrelevant Features via Robust Dantzig Selector\",\"Sparse PCA via Bipartite Matchings\",\"Fast Randomized Kernel Ridge Regression with Statistical Guarantees\",\"Online Learning for Adversaries with Memory: Price of Past Mistakes\",\"Convolutional spike-triggered covariance analysis for neural subunit models\",\"Convolutional LSTM Network: A Machine Learning Approach for Precipitation Nowcasting\",\"GAP Safe screening rules for sparse multi-task and multi-class models\",\"Empirical Localization of Homogeneous Divergences on Discrete Sample Spaces\",\"Statistical Model Criticism using Kernel Two Sample Tests\",\"Precision-Recall-Gain Curves: PR Analysis Done Right\",\"A Generalization of Submodular Cover via the Diminishing Return Property on the Integer Lattice\",\"Bidirectional Recurrent Neural Networks as Generative Models\",\"Quartz: Randomized Dual Coordinate Ascent with Arbitrary Sampling\",\"Maximum Likelihood Learning With Arbitrary Treewidth via Fast-Mixing Parameter Sets\",\"Hessian-free Optimization for Learning Deep Multidimensional Recurrent Neural Networks\",\"Large-scale probabilistic predictors with and without guarantees of validity\",\"Shepard Convolutional Neural Networks\",\"Matrix Manifold Optimization for Gaussian Mixtures\",\"Semi-supervised Convolutional Neural Networks for Text Categorization via Region Embedding\",\"Parallel Recursive Best-First AND/OR Search for Exact MAP Inference in Graphical Models\",\"Convolutional Neural Networks with Intra-Layer Recurrent Connections for Scene Labeling\",\"Bounding the Cost of Search-Based Lifted Inference\",\"Gradient-free Hamiltonian Monte Carlo with Efficient Kernel Exponential Families\",\"Linear Multi-Resource Allocation with Semi-Bandit Feedback\",\"Unsupervised Learning by Program Synthesis\",\"Enforcing balance allows local supervised learning in spiking recurrent networks\",\"Fast and Guaranteed Tensor Decomposition via Sketching\",\"Differentially private subspace clustering\",\"Predtron: A Family of Online Algorithms for General Prediction Problems\",\"Weighted Theta Functions and Embeddings with Applications to Max-Cut, Clustering and Summarization\",\"SGD Algorithms based on Incomplete U-statistics: Large-Scale Minimization of Empirical Risk\",\"On Top-k Selection in Multi-Armed Bandits and Hidden Bipartite Graphs\",\"The Brain Uses Reliability of Stimulus Information when Making Perceptual Decisions\",\"Fast Classification Rates for High-dimensional Gaussian Generative Models\",\"Fast Distributed k-Center Clustering with Outliers on Massive Data\",\"Human Memory Search as Initial-Visit Emitting Random Walk\",\"Non-convex Statistical Optimization for Sparse Tensor Graphical Model\",\"Convergence Rates of Active Learning for Maximum Likelihood Estimation\",\"Weakly-supervised Disentangling with Recurrent Transformations for 3D View Synthesis\",\"Efficient Exact Gradient Update for training Deep Networks with Very Large Sparse Targets\",\"Backpropagation for Energy-Efficient Neuromorphic Computing\",\"Alternating Minimization for Regression Problems with Vector-valued Outputs\",\"Learning both Weights and Connections for Efficient Neural Network\",\"Optimal Rates for Random Fourier Features\",\"The Population Posterior and Bayesian Modeling on Streams\",\"Frank-Wolfe Bayesian Quadrature: Probabilistic Integration with Theoretical Guarantees\",\"Scheduled Sampling for Sequence Prediction with Recurrent Neural Networks\",\"Unified View of Matrix Completion under General Structural Constraints\",\"Efficient Output Kernel Learning for Multiple Tasks\",\"Scalable Adaptation of State Complexity for Nonparametric Hidden Markov Models\",\"Variational Consensus Monte Carlo\",\"Newton-Stein Method: A Second Order Method for GLMs via Stein's Lemma\",\"Practical and Optimal LSH for Angular Distance\",\"Learning to Linearize Under Uncertainty\",\"Finite-Time Analysis of Projected Langevin Monte Carlo\",\"Deep Visual Analogy-Making\",\"Matrix Completion from Fewer Entries: Spectral Detectability and Rank Estimation\",\"Online Learning with Adversarial Delays\",\"Multi-Layer Feature Reduction for Tree Structured Group Lasso via Hierarchical Projection\",\"Minimum Weight Perfect Matching via Blossom Belief Propagation\",\"Efficient Thompson Sampling for Online \\ufffcMatrix-Factorization Recommendation\",\"Improved Iteration Complexity Bounds of Cyclic Block Coordinate Descent for Convex Problems\",\"Lifted Symmetry Detection and Breaking for MAP Inference\",\"Evaluating the statistical significance of biclusters\",\"Discriminative Robust Transformation Learning\",\"Bandits with Unobserved Confounders: A Causal Approach\",\"Scalable Semi-Supervised Aggregation of Classifiers\",\"Online Learning with Gaussian Payoffs and Side Observations\",\"Private Graphon Estimation for Sparse Graphs\",\"SubmodBoxes: Near-Optimal Search for a Set of Diverse Object Proposals\",\"Fast Second Order Stochastic Backpropagation for Variational Inference\",\"Randomized Block Krylov Methods for Stronger and Faster Approximate Singular Value Decomposition\",\"Cross-Domain Matching for Bag-of-Words Data via Kernel Embeddings of Latent Distributions\",\"Scalable Inference for Gaussian Process Models with Black-Box Likelihoods\",\"Fast Bidirectional Probability Estimation in Markov Models\",\"Probabilistic Variational Bounds for Graphical Models\",\"Linear Response Methods for Accurate Covariance Estimates from Mean Field Variational Bayes\",\"Combinatorial Cascading Bandits\",\"Mixing Time Estimation in Reversible Markov Chains from a Single Sample Path\",\"Policy Gradient for Coherent Risk Measures\",\"Fast Rates for Exp-concave Empirical Risk Minimization\",\"Deep Generative Image Models using a \\ufffcLaplacian Pyramid of Adversarial Networks\",\"Decoupled Deep Neural Network for Semi-supervised Semantic Segmentation\",\"Equilibrated adaptive learning rates for non-convex optimization\",\"BACKSHIFT: Learning causal cyclic graphs from unknown shift interventions\",\"Risk-Sensitive and Robust Decision-Making: a CVaR Optimization Approach\",\"Asynchronous stochastic convex optimization: the noise is in the noise and SGD don't care\",\"Lifelong Learning with Non-i.i.d. Tasks\",\"Optimal Linear Estimation under Unknown Nonlinear Transform\",\"Learning with Group Invariant Features: A Kernel Perspective.\",\"Regularized EM Algorithms: A Unified Framework and Statistical Guarantees\",\"Adaptive Stochastic Optimization: From Sets to Paths\",\"Beyond Convexity: Stochastic Quasi-Convex Optimization\",\"A Tractable Approximation to Optimal Point Process Filtering: Application to Neural Encoding\",\"Sum-of-Squares Lower Bounds for Sparse PCA\",\"Max-Margin Majority Voting for Learning from Crowds\",\"Learning with Incremental Iterative Regularization\",\"Halting in Random Walk Kernels\",\"MCMC for Variationally Sparse Gaussian Processes\",\"Less is More: Nystr\\u00f6m Computational Regularization\",\"Infinite Factorial Dynamical Model\",\"Regularization Path of Cross-Validation Error Lower Bounds\",\"Attractor Network Dynamics Enable Preplay and Rapid Path Planning in Maze\\u2013like Environments\",\"Teaching Machines to Read and Comprehend\",\"Principal Differences Analysis: Interpretable Characterization of Differences between Distributions\",\"When are Kalman-Filter Restless Bandits Indexable?\",\"Segregated Graphs and Marginals of Chain Graph Models\",\"Efficient Non-greedy Optimization of Decision Trees\",\"Probabilistic Curve Learning: Coulomb Repulsion and the Electrostatic Gaussian Process\",\"Inverse Reinforcement Learning with Locally Consistent Reward Functions\",\"Communication Complexity of Distributed Convex Learning and Optimization\",\"End-to-end Learning of LDA by Mirror-Descent Back Propagation over a Deep Architecture\",\"Subset Selection by Pareto Optimization\",\"On the Accuracy of Self-Normalized Log-Linear Models\",\"Regret Lower Bound and Optimal Algorithm in Finite Stochastic Partial Monitoring\",\"Is Approval Voting Optimal Given Approval Votes?\",\"Regressive Virtual Metric Learning\",\"Analysis of Robust PCA via Local Incoherence\",\"Learning to Transduce with Unbounded Memory\",\"Max-Margin Deep Generative Models\",\"Spherical Random Features for Polynomial Kernels\",\"Rectified Factor Networks\",\"Learning Bayesian Networks with Thousands of Variables\",\"Matrix Completion Under Monotonic Single Index Models\",\"Visalogy: Answering Visual Analogy Questions\",\"Tree-Guided MCMC Inference for Normalized Random Measure Mixture Models\",\"Streaming Min-max Hypergraph Partitioning\",\"Collaboratively Learning Preferences from Ordinal Data\",\"Biologically Inspired Dynamic Textures for Probing Motion Perception\",\"Generative Image Modeling Using Spatial LSTMs\",\"Robust PCA with compressed data\",\"Sampling from Probabilistic Submodular Models\",\"COEVOLVE: A Joint Point Process Model for Information Diffusion and Network Co-evolution\",\"Supervised Learning for Dynamical System Learning\",\"Regret-Based Pruning in Extensive-Form Games\",\"Fast Two-Sample Testing with Analytic Representations of Probability Measures\",\"Learning to Segment Object Candidates\",\"GP Kernels for Cross-Spectrum Analysis\",\"Secure Multi-party Differential Privacy\",\"Spatial Transformer Networks\",\"Anytime Influence Bounds and the Explosive Behavior of Continuous-Time Diffusion Networks\",\"Multi-class SVMs: From Tighter Data-Dependent Generalization Bounds to Novel Algorithms\",\"High-dimensional neural spike train analysis with generalized count linear dynamical systems\",\"Learning with a Wasserstein Loss\",\"b-bit Marginal Regression\",\"Natural Neural Networks\",\"Optimization Monte Carlo: Efficient and Embarrassingly Parallel Likelihood-Free Inference\",\"Adaptive Primal-Dual Splitting Methods for Statistical Learning and Image Processing\",\"On some provably correct cases of variational inference for topic models\",\"Collaborative Filtering with Graph Information: Consistency and Scalable Methods\",\"Combinatorial Bandits Revisited\",\"Variational Information Maximisation for Intrinsically Motivated Reinforcement Learning\",\"A Structural Smoothing Framework For Robust Graph Comparison\",\"Competitive Distribution Estimation: Why is Good-Turing Good\",\"Efficient Learning by Directed Acyclic Graph For Resource Constrained Prediction\",\"A hybrid sampler for Poisson-Kingman mixture models\",\"An Active Learning Framework using Sparse-Graph Codes for Sparse Polynomials and Graph Sketching\",\"Local Smoothness in Variance Reduced Optimization\",\"Saliency, Scale and Information: Towards a Unifying Theory\",\"Fighting Bandits with a New Kind of Smoothness\",\"Beyond Sub-Gaussian Measurements: High-Dimensional Structured Estimation with Sub-Exponential Designs\",\"Spectral Norm Regularization of Orthonormal Representations for Graph Transduction\",\"Convolutional Networks on Graphs for Learning Molecular Fingerprints\",\"Mixed Robust/Average Submodular Partitioning: Fast Algorithms, Guarantees, and Applications\",\"Tractable Learning for Complex Probability Queries\",\"StopWasting My Gradients: Practical SVRG\",\"Mind the Gap: A Generative Approach to Interpretable Feature Selection and Extraction\",\"A Normative Theory of Adaptive Dimensionality Reduction in Neural Networks\",\"On the Convergence of Stochastic Gradient MCMC Algorithms with High-Order Integrators\",\"Learning structured densities via infinite dimensional exponential families\",\"Are You Talking to a Machine? Dataset and Methods for Multilingual Image Question\",\"Variance Reduced Stochastic Gradient Descent with Neighbors\",\"Sample Efficient Path Integral Control under Uncertainty\",\"Stochastic Expectation Propagation\",\"Exactness of Approximate MAP Inference in Continuous MRFs\",\"Scale Up Nonlinear Component Analysis with Doubly Stochastic Gradients\",\"Generalization in Adaptive Data Analysis and Holdout Reuse\",\"Market Scoring Rules Act As Opinion Pools For Risk-Averse Agents\",\"Sparse Linear Programming via Primal and Dual Augmented Coordinate Descent\",\"Training Very Deep Networks\",\"Bayesian Active Model Selection with an Application to Automated Audiometry\",\"Particle Gibbs for Infinite Hidden Markov Models\",\"Learning spatiotemporal trajectories from manifold-valued longitudinal data\",\"A Bayesian Framework for Modeling Confidence in Perceptual Decision Making\",\"Path-SGD: Path-Normalized Optimization in Deep Neural Networks\",\"On the consistency theory of high dimensional variable screening\",\"End-To-End Memory Networks\",\"Spectral Representations for Convolutional Neural Networks\",\"Online Gradient Boosting\",\"Deep Temporal Sigmoid Belief Networks for Sequence Modeling\",\"Recognizing retinal ganglion cells in the dark\",\"A Theory of Decision Making Under Dynamic Context\",\"A Gaussian Process Model of Quasar Spectral Energy Distributions\",\"Hidden Technical Debt in Machine Learning Systems\",\"Local Causal Discovery of Direct Causes and Effects\",\"High Dimensional EM Algorithm: Statistical Optimization and Asymptotic Normality\",\"Revenue Optimization against Strategic Buyers\",\"Deep Convolutional Inverse Graphics Network\",\"Sparse and Low-Rank Tensor Decomposition\",\"Minimax Time Series Prediction\",\"Differentially Private Learning of Structured Discrete Distributions\",\"Sample Complexity of Learning Mahalanobis Distance Metrics\",\"Learning Wake-Sleep Recurrent Attention Models\",\"Robust Gaussian Graphical Modeling with the Trimmed Graphical Lasso\",\"Testing Closeness With Unequal Sized Samples\",\"Estimating Jaccard Index with Missing Observations: A Matrix Calibration Approach\",\"Neural Adaptive Sequential Monte Carlo\",\"Local Expectation Gradients for Black Box Variational Inference\",\"On Variance Reduction in Stochastic Gradient Descent and its Asynchronous Variants\",\"NEXT: A System for Real-World Development, Evaluation, and Application of Active Learning\",\"Super-Resolution Off the Grid\",\"Taming the Wild: A Unified Analysis of Hogwild-Style Algorithms\",\"The Return of the Gating Network: Combining Generative Models and Discriminative Training in Natural Image Priors\",\"Pointer Networks\",\"Associative Memory via a Sparse Recovery Model\",\"Robust Spectral Inference for Joint Stochastic Matrix Factorization\",\"Fast, Provable Algorithms for Isotonic Regression in all L_p-norms\",\"Adversarial Prediction Games for Multivariate Losses\",\"Asynchronous Parallel Stochastic Gradient for Nonconvex Optimization\",\"Embed to Control: A Locally Linear Latent Dynamics Model for Control from Raw Images\",\"Efficient and Parsimonious Agnostic Active Learning\",\"Softstar: Heuristic-Guided Probabilistic Inference\",\"Grammar as a Foreign Language\",\"Regularization-Free Estimation in Trace Regression with Symmetric Positive Semidefinite Matrices\",\"Winner-Take-All Autoencoders\",\"Deep Poisson Factor Modeling\",\"Bayesian Optimization with Exponential Convergence\",\"Sample Complexity of Episodic Fixed-Horizon Reinforcement Learning\",\"Learning with Relaxed Supervision\",\"Subsampled Power Iteration: a Unified Algorithm for Block Models and Planted CSP's\",\"Accelerated Mirror Descent in Continuous and Discrete Time\",\"The Human Kernel\",\"Action-Conditional Video Prediction using Deep Networks in Atari Games\",\"A Pseudo-Euclidean Iteration for Optimal Recovery in Noisy ICA\",\"Distributed Submodular Cover: Succinctly Summarizing Massive Data\",\"Community Detection via Measure Space Embedding\",\"Basis refinement strategies for linear value function approximation in MDPs\",\"Structured Estimation with Atomic Norms: General Bounds and Applications\",\"A Complete Recipe for Stochastic Gradient MCMC\",\"Bandit Smooth Convex Optimization: Improving the Bias-Variance Tradeoff\",\"Online Prediction at the Limit of Zero Temperature\",\"Learning Continuous Control Policies by Stochastic Value Gradients\",\"Exploring Models and Data for Image Question Answering\",\"Efficient and Robust Automated Machine Learning\",\"Preconditioned Spectral Descent for Deep Learning\",\"A Recurrent Latent Variable Model for Sequential Data\",\"Fast Convergence of Regularized Learning in Games\",\"Parallel Multi-Dimensional LSTM, With Application to Fast Biomedical Volumetric Image Segmentation\",\"Reflection, Refraction, and Hamiltonian Monte Carlo\",\"The Consistency of Common Neighbors for Link Prediction in Stochastic Blockmodels\",\"Nearly Optimal Private LASSO\",\"Convergence Analysis of Prediction Markets via Randomized Subspace Descent\",\"The Poisson Gamma Belief Network\",\"Convergence rates of sub-sampled Newton methods\",\"No-Regret Learning in Bayesian Games\",\"Statistical Topological Data Analysis - A Kernel Perspective\",\"Semi-supervised Sequence Learning\",\"Structured Transforms for Small-Footprint Deep Learning\",\"Rapidly Mixing Gibbs Sampling for a Class of Factor Graphs Using Hierarchy Width\",\"Interpolating Convex and Non-Convex Tensor Decompositions via the Subspace Norm\",\"Sample Complexity Bounds for Iterative Stochastic Policy Optimization\",\"BinaryConnect: Training Deep Neural Networks with binary weights during propagations\",\"Interactive Control of Diverse Complex Characters with Neural Networks\",\"Submodular Hamming Metrics\",\"A Universal Primal-Dual Convex Optimization Framework\",\"Learning From Small Samples: An Analysis of Simple Decision Heuristics\",\"Explore no more: Improved high-probability regret bounds for non-stochastic bandits\",\"Fast and Memory Optimal Low-Rank Matrix Approximation\",\"Learnability of Influence in Networks\",\"Learning Causal Graphs with Small Interventions\",\"Information-theoretic lower bounds for convex optimization with erroneous oracles\",\"Fixed-Length Poisson MRF: Adding Dependencies to the Multinomial\",\"Large-Scale Bayesian Multi-Label Learning via Topic-Based Label Embeddings\",\"The Self-Normalized Estimator for Counterfactual Learning\",\"Fast Lifted MAP Inference via Partitioning\",\"Data Generation as Sequential Decision Making\",\"On Elicitation Complexity\",\"Decomposition Bounds for Marginal MAP\",\"Discrete R\\u00e9nyi Classifiers\",\"A class of network models recoverable by spectral clustering\",\"Skip-Thought Vectors\",\"Rate-Agnostic (Causal) Structure Learning\",\"Principal Geodesic Analysis for Probability Measures under the Optimal Transport Metric\",\"Consistent Multilabel Classification\",\"Parallel Predictive Entropy Search for Batch Global Optimization of Expensive Objective Functions\",\"Cornering Stationary and Restless Mixing Bandits with Remix-UCB\",\"Semi-Supervised Factored Logistic Regression for High-Dimensional Neuroimaging Data\",\"Gaussian Process Random Fields\",\"M-Statistic for Kernel Change-Point Detection\",\"Adaptive Online Learning\",\"A Universal Catalyst for First-Order Optimization\",\"Inference for determinantal point processes without spectral knowledge\",\"Kullback-Leibler Proximal Variational Inference\",\"Semi-Proximal Mirror-Prox for Nonsmooth Composite Minimization\",\"LASSO with Non-linear Measurements is Equivalent to One With Linear Measurements\",\"From random walks to distances on unweighted graphs\",\"Bayesian dark knowledge\",\"Matrix Completion with Noisy Side Information\",\"Dependent Multinomial Models Made Easy: Stick-Breaking with the Polya-gamma Augmentation\",\"On-the-Job Learning with Bayesian Decision Theory\",\"Calibrated Structured Prediction\",\"Learning Structured Output Representation using Deep Conditional Generative Models\",\"Time-Sensitive Recommendation From Recurrent User Activities\",\"Learning Stationary Time Series using Gaussian Processes with Nonparametric Kernels\",\"A Market Framework for Eliciting Private Data\",\"Lifted Inference Rules With Constraints\",\"Gradient Estimation Using Stochastic Computation Graphs\",\"Model-Based Relative Entropy Stochastic Search\",\"Semi-supervised Learning with Ladder Networks\",\"Embedding Inference for Structured Multilabel Prediction\",\"Copula variational inference\",\"Recursive Training of 2D-3D Convolutional Networks for Neuronal Boundary Prediction\",\"A Dual Augmented Block Minimization Framework for Learning with Limited Memory\",\"Optimal Testing for Properties of Distributions\",\"Efficient Learning of Continuous-Time Hidden Markov Models for Disease Progression\",\"Expectation Particle Belief Propagation\",\"Latent Bayesian melding for integrating individual and population models\",\"Distributionally Robust Logistic Regression\",\"Variational Dropout and the Local Reparameterization Trick\"],\"x\":{\"__ndarray__\":\"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\",\"dtype\":\"float64\",\"shape\":[403]},\"y\":{\"__ndarray__\":\"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\",\"dtype\":\"float64\",\"shape\":[403]}}},\"id\":\"fa23c55a-baba-4066-a49e-afbe0895a3d1\",\"type\":\"ColumnDataSource\"},{\"attributes\":{\"plot\":{\"id\":\"34a786d5-f52b-4c7a-bd10-91c33ae9d2b9\",\"subtype\":\"Figure\",\"type\":\"Plot\"}},\"id\":\"1c8b258a-7536-4ebb-acb4-7e695c88ed78\",\"type\":\"WheelZoomTool\"},{\"attributes\":{\"callback\":null,\"plot\":{\"id\":\"34a786d5-f52b-4c7a-bd10-91c33ae9d2b9\",\"subtype\":\"Figure\",\"type\":\"Plot\"},\"tooltips\":[[\"content\",\"Title: @title, KeyWords: @content - Topic: @label \"]]},\"id\":\"58bee35b-73bf-480f-8d2f-9fd7c9f94aec\",\"type\":\"HoverTool\"},{\"attributes\":{\"plot\":{\"id\":\"34a786d5-f52b-4c7a-bd10-91c33ae9d2b9\",\"subtype\":\"Figure\",\"type\":\"Plot\"}},\"id\":\"bf9c4765-3759-4262-b6f3-ba9bc311e2f2\",\"type\":\"SaveTool\"},{\"attributes\":{\"bottom_units\":\"screen\",\"fill_alpha\":{\"value\":0.5},\"fill_color\":{\"value\":\"lightgrey\"},\"left_units\":\"screen\",\"level\":\"overlay\",\"line_alpha\":{\"value\":1.0},\"line_color\":{\"value\":\"black\"},\"line_dash\":[4,4],\"line_width\":{\"value\":2},\"plot\":null,\"render_mode\":\"css\",\"right_units\":\"screen\",\"top_units\":\"screen\"},\"id\":\"808adbda-8ce3-4f17-977d-9f7bd0a8d075\",\"type\":\"BoxAnnotation\"},{\"attributes\":{\"min_border\":1,\"plot_width\":1000,\"renderers\":[{\"id\":\"808adbda-8ce3-4f17-977d-9f7bd0a8d075\",\"type\":\"BoxAnnotation\"},{\"id\":\"672a3b46-7e77-4e74-bd12-2a1b4d20af71\",\"type\":\"Legend\"},{\"id\":\"3f161068-f390-4bb9-bf10-612b2df5e49a\",\"type\":\"GlyphRenderer\"}],\"title\":{\"id\":\"67a3d0e0-a4d6-4e2a-96c3-cc28d49e0038\",\"type\":\"Title\"},\"tool_events\":{\"id\":\"ee643cd0-3444-4dde-b13e-69aebd53bb4a\",\"type\":\"ToolEvents\"},\"toolbar\":{\"id\":\"29e84f3c-af6a-4188-bbc8-1bf1bfa9e619\",\"type\":\"Toolbar\"},\"x_range\":{\"id\":\"6c983a40-4d34-4b32-85a9-f0ae65b761c2\",\"type\":\"DataRange1d\"},\"y_range\":{\"id\":\"be3ddb35-7049-41b8-8ab3-76bd4aef11a6\",\"type\":\"DataRange1d\"}},\"id\":\"34a786d5-f52b-4c7a-bd10-91c33ae9d2b9\",\"subtype\":\"Figure\",\"type\":\"Plot\"},{\"attributes\":{\"plot\":null,\"text\":\"T-SNE visualization of topics\"},\"id\":\"67a3d0e0-a4d6-4e2a-96c3-cc28d49e0038\",\"type\":\"Title\"},{\"attributes\":{\"callback\":null},\"id\":\"6c983a40-4d34-4b32-85a9-f0ae65b761c2\",\"type\":\"DataRange1d\"}],\"root_ids\":[\"34a786d5-f52b-4c7a-bd10-91c33ae9d2b9\"]},\"title\":\"Bokeh Application\",\"version\":\"0.12.5\"}};\n",
       "            var render_items = [{\"docid\":\"2a45d7e2-805e-45b3-8aa9-2635e1f2146e\",\"elementid\":\"ddef4fc6-fa11-4892-92ff-4358bf86e834\",\"modelid\":\"34a786d5-f52b-4c7a-bd10-91c33ae9d2b9\"}];\n",
       "            \n",
       "            Bokeh.embed.embed_items(docs_json, render_items);\n",
       "          };\n",
       "          if (document.readyState != \"loading\") fn();\n",
       "          else document.addEventListener(\"DOMContentLoaded\", fn);\n",
       "        })();\n",
       "      },\n",
       "      function(Bokeh) {\n",
       "      }\n",
       "    ];\n",
       "  \n",
       "    function run_inline_js() {\n",
       "      \n",
       "      if ((window.Bokeh !== undefined) || (force === true)) {\n",
       "        for (var i = 0; i < inline_js.length; i++) {\n",
       "          inline_js[i](window.Bokeh);\n",
       "        }if (force === true) {\n",
       "          display_loaded();\n",
       "        }} else if (Date.now() < window._bokeh_timeout) {\n",
       "        setTimeout(run_inline_js, 100);\n",
       "      } else if (!window._bokeh_failed_load) {\n",
       "        console.log(\"Bokeh: BokehJS failed to load within specified timeout.\");\n",
       "        window._bokeh_failed_load = true;\n",
       "      } else if (force !== true) {\n",
       "        var cell = $(document.getElementById(\"ddef4fc6-fa11-4892-92ff-4358bf86e834\")).parents('.cell').data().cell;\n",
       "        cell.output_area.append_execute_result(NB_LOAD_WARNING)\n",
       "      }\n",
       "  \n",
       "    }\n",
       "  \n",
       "    if (window._bokeh_is_loading === 0) {\n",
       "      console.log(\"Bokeh: BokehJS loaded, going straight to plotting\");\n",
       "      run_inline_js();\n",
       "    } else {\n",
       "      load_libs(js_urls, function() {\n",
       "        console.log(\"Bokeh: BokehJS plotting callback run at\", now());\n",
       "        run_inline_js();\n",
       "      });\n",
       "    }\n",
       "  }(this));\n",
       "</script>"
      ]
     },
     "metadata": {},
     "output_type": "display_data"
    },
    {
     "data": {
      "text/plain": [
       "'/Users/admin/Desktop/Learning_ML/test_codes/Kaggles/NIPS2015/T-SNE-visualization-of-topics.html'"
      ]
     },
     "execution_count": 244,
     "metadata": {},
     "output_type": "execute_result"
    }
   ],
   "source": [
    "title = 'T-SNE visualization of topics'\n",
    "\n",
    "plot_lda = figure(plot_width=1000, plot_height=600,\n",
    "                     title=title, tools=\"pan,wheel_zoom,box_zoom,reset,hover,previewsave\",\n",
    "                     x_axis_type=None, y_axis_type=None, min_border=1)\n",
    "\n",
    "plot_lda.scatter(x='x', y='y', legend='label', source=source,\n",
    "                 color='color', alpha=0.8, size='msize')\n",
    "\n",
    "# hover tools\n",
    "hover = plot_lda.select(dict(type=HoverTool))\n",
    "hover.tooltips = {\"content\": \"Title: @title, KeyWords: @content - Topic: @label \"}\n",
    "plot_lda.legend.location = \"top_left\"\n",
    "\n",
    "show(plot_lda)\n",
    "\n",
    "#save the plot\n",
    "save(plot_lda, '{}.html'.format('-'.join(title.split())))\n",
    "\n",
    "# save to png\n",
    "export_png(plot_lda1,filename= '{}.png'.format('-'.join(title.split())))"
   ]
  },
  {
   "cell_type": "markdown",
   "metadata": {},
   "source": [
    "# To see the interactive maps go to this link:  \n",
    "http://nbviewer.jupyter.org/github/ykhorram/nips2015_topic_network_analysis/blob/master/NIP15_topics_citations.ipynb"
   ]
  },
  {
   "cell_type": "markdown",
   "metadata": {},
   "source": [
    "Looking at the figure above, it's obious that Deep learning paper have recieved more citation than other. Next I plot the distribution of citation per topic."
   ]
  },
  {
   "cell_type": "code",
   "execution_count": 147,
   "metadata": {
    "collapsed": false
   },
   "outputs": [
    {
     "name": "stdout",
     "output_type": "stream",
     "text": [
      "Populating the interactive namespace from numpy and matplotlib\n"
     ]
    }
   ],
   "source": [
    "%pylab inline"
   ]
  },
  {
   "cell_type": "markdown",
   "metadata": {},
   "source": [
    "### There are 3 kinds of publications: "
   ]
  },
  {
   "cell_type": "code",
   "execution_count": 168,
   "metadata": {
    "collapsed": false
   },
   "outputs": [
    {
     "data": {
      "text/plain": [
       "['Poster', 'Spotlight', 'Oral']"
      ]
     },
     "execution_count": 168,
     "metadata": {},
     "output_type": "execute_result"
    }
   ],
   "source": [
    "p_df['EventType'].unique().tolist()"
   ]
  },
  {
   "cell_type": "markdown",
   "metadata": {},
   "source": [
    "### Poster don't recieve citations so we divide the papers into posters and non-posters "
   ]
  },
  {
   "cell_type": "code",
   "execution_count": null,
   "metadata": {
    "collapsed": true
   },
   "outputs": [],
   "source": [
    "filter = p_df['EventType']=='Poster'"
   ]
  },
  {
   "cell_type": "markdown",
   "metadata": {},
   "source": [
    "What's less obvious from the visualization is the number of papers per topic. Next we'll look at that.\n"
   ]
  },
  {
   "cell_type": "code",
   "execution_count": 238,
   "metadata": {
    "collapsed": false
   },
   "outputs": [
    {
     "data": {
      "image/png": "[encoded data removed]",
      "text/plain": [
       "<matplotlib.figure.Figure at 0x13d1a5210>"
      ]
     },
     "metadata": {},
     "output_type": "display_data"
    }
   ],
   "source": [
    "pap_cnts = {i:len(p_df[(p_df['clusters']==i) & (~filter)]) for i in range(4)}\n",
    "pos_cnts = {i:len(p_df[(p_df['clusters']==i) & (filter)]) for i in range(4)}\n",
    "\n",
    "fig = figure(figsize=(6,5))\n",
    "\n",
    "npap_ls = [pap_cnts[k] for k in range(4)]\n",
    "npos_ls = [pos_cnts[k] for k in range(4)]\n",
    "cols = [cluster_colors[i] for i in range(4)]\n",
    "\n",
    "bar(range(4), npap_ls, align='center', width=0.5, color=cols , alpha=1.0, label='# Papers')\n",
    "bar(range(4), npos_ls, align='center', width=0.5, color=cols, alpha=0.5, label='# Posters')\n",
    "\n",
    "xticks(range(4), [top_labels[k] for k in range(4)], rotation=30, ha= 'right', fontsize=12)\n",
    "\n",
    "title('Paper/Poster counts per topic', fontsize=15)\n",
    "xlabel('Topics', fontsize=15); ylabel('Paper/Poster Counts', fontsize=15);\n",
    "\n",
    "legend(loc='upper right', fontsize=15); show();"
   ]
  },
  {
   "cell_type": "code",
   "execution_count": 163,
   "metadata": {
    "collapsed": false
   },
   "outputs": [
    {
     "data": {
      "image/png": "[encoded data removed]",
      "text/plain": [
       "<matplotlib.figure.Figure at 0x13c2c1290>"
      ]
     },
     "metadata": {},
     "output_type": "display_data"
    }
   ],
   "source": [
    "fig = figure(figsize=(6,4))\n",
    "bins = np.linspace(1, p_df['Citations'].max(), 5)\n",
    "\n",
    "vals = {i:p_df[(p_df['clusters']==i) & (~filter)]['Citations'].tolist() for i in range(4)}\n",
    "    \n",
    "hist([vals[i] for i in range(4)], bins,\\\n",
    "     color=[cluster_colors[i] for i in range(4)], alpha = 0.7,\\\n",
    "     label=[top_labels[i] for i in range(4)])\n",
    "title('Citation distribution per topic ', fontsize=15)\n",
    "xlabel('Citations', fontsize=15); ylabel('Paper Count', fontsize=15);\n",
    "legend(loc='best');"
   ]
  },
  {
   "cell_type": "markdown",
   "metadata": {},
   "source": [
    "The most cited papers belong to the __Deep learning__, which confirms our observation from the t-sne visualization."
   ]
  }
 ],
 "metadata": {
  "kernelspec": {
   "display_name": "Python 2",
   "language": "python",
   "name": "python2"
  },
  "language_info": {
   "codemirror_mode": {
    "name": "ipython",
    "version": 2
   },
   "file_extension": ".py",
   "mimetype": "text/x-python",
   "name": "python",
   "nbconvert_exporter": "python",
   "pygments_lexer": "ipython2",
   "version": "2.7.11"
  }
 },
 "nbformat": 4,
 "nbformat_minor": 1
}
